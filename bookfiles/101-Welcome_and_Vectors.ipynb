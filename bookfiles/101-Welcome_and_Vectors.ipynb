{
 "cells": [
  {
   "cell_type": "markdown",
   "id": "4a26b7a9",
   "metadata": {},
   "source": []
  },
  {
   "cell_type": "markdown",
   "id": "54f2751e",
   "metadata": {},
   "source": [
    "In order to successfully complete this assignment you need to participate both individually and in groups during class.   If you attend class in-person then have one of the instructors check your notebook and sign you out before leaving class. If you are attending asynchronously, turn in your assignment using D2L no later than **_11:59pm on the day of class_**. See links at the end of this document for access to the class timeline for your section."
   ]
  },
  {
   "cell_type": "markdown",
   "id": "eb346d52",
   "metadata": {},
   "source": [
    "# 101 - Welcome and Introduction to Vectors\n",
    "\n",
    "1. [Textbooks & Syllabus](#books)\n",
    "1. [Making sure Jupyter works](#jupyter)\n",
    "1. [Scalars, Vectors, Matrices](#vectors)\n",
    "    1. [Definitions](#math_def)\n",
    "    1. [Basic Python](#basic_python)\n",
    "1. [Vector Examples](#examples)\n",
    "1. [Vector Addition and Scalar Multiplication](#add)\n",
    "1. [Linear combinations](#linear_combs)"
   ]
  },
  {
   "cell_type": "markdown",
   "id": "a26a5b63",
   "metadata": {},
   "source": [
    "----\n",
    "<a name=\"books\"></a>\n",
    "## 1. Text Books & Syllabus"
   ]
  },
  {
   "cell_type": "markdown",
   "id": "c6733fde",
   "metadata": {},
   "source": [
    "The textbooks for this course are all online and available for download. "
   ]
  },
  {
   "cell_type": "markdown",
   "id": "f3d63f32",
   "metadata": {},
   "source": [
    "Student self guided learning through assigned readings are required for students to be successful.  The course strives to use Open Educational Resources (OER) to help reduce financial burden on the students.  To this end we have selected the following textbooks for reading assignments and supplemental examples:  \n",
    "\n",
    "\n",
    "* [Introduction to Applied Linear Algebra](http://vmls-book.stanford.edu/) by Boyd and Vandenberghe\n",
    "* [Linear Algebra](http://joshua.smcvt.edu/linearalgebra/) by Jim Heffron\n",
    "* [A First Course in Linear Algebra](http://linear.ups.edu/) by Robert A. Beezer\n",
    "\n",
    "\n",
    "**_DO NOT WORRY_** You will not be expected to read all three textbooks in this course!  In fact, we try to keep the reading at a reasonable level and focus on problem solving.  However, most students benefit from seeing material in multiple ways (Reading, Lecture, Practice, etc).  Different students (and instructors) also prefer different writing styles and may learn better with different text (which is why we provide more than one).  \n",
    "\n",
    "Students are encouraged to review and become familiar with the style and layout of each text to act as a common reference for the course.  If you get stuck on a topic try looking it up and reviewing it in one of the other texts.  If you are still stuck you can search the Internet.  Do not be afraid to also ask your instructors questions and come to office hours. That is why we are here!!!\n",
    "\n",
    "&#9989; **<span style=\"color:red\">Do This:</span>** Download a copy of each textbooks onto your preferred reading device and review the **_Table of Contents_** in each text.\n",
    "\n",
    "\n",
    "As you can see each textbook approaches Linear algebra in a slightly different way. This variety reflects the different philosophies of teaching and different ways of individual learning. One way to evaluate the focus of a particular textbook is to look at it's very first chapter.  For Example:\n",
    "\n",
    "* The **_Beezer_** and **_Heffron_** texts start out with \"Systems of linear Equations\" and \"Linear Systems.\" These topics are basically the same idea with the focus of defining linear systems as just sets of \"linear combinations\".  Clearly this is a core concept and a good place to start.\n",
    "* The **_Boyd and Vandenberghe_** text choose to start with \"Vectors\".  In linear algebra the \"vector\" is a mathematical tool for which all of the mechanics of the math is built.  Again, not a bad place to start. \n",
    "\n",
    "In the first few assignments this course we will be looking at both concepts.  You will want to learn and be able to identify linear systems and how to represent them as vectors. "
   ]
  },
  {
   "cell_type": "code",
   "execution_count": null,
   "id": "65f2c98c",
   "metadata": {},
   "outputs": [],
   "source": [
    "## If you uncomment the text below this cell will download the pdf\n",
    "## and put it in your currect directory (not required)\n",
    "\n",
    "# from urllib.request import urlretrieve\n",
    "# urlretrieve('http://vmls-book.stanford.edu/vmls.pdf',  'Boyd_and_Vandenberghe.pdf');\n",
    "# urlretrieve('http://joshua.smcvt.edu/linearalgebra/book.pdf',  'Heffron.pdf');\n",
    "# urlretrieve('http://linear.ups.edu/download/fcla-3.50-tablet.pdf',  'Beezer.pdf');"
   ]
  },
  {
   "cell_type": "markdown",
   "id": "11577338",
   "metadata": {},
   "source": [
    "### Syllabus\n",
    "\n",
    "Please review the course [syllabus](https://docs.google.com/document/u/1/d/e/2PACX-1vRXcy56SikBnJ9pWOpujibVtfC0VTyNCtXp1I11MZ4CVhJg9hpqCbFYv0T77VOEyM0dlyYxzrCHpUJf/pub). This link can be permantly found on D2L."
   ]
  },
  {
   "cell_type": "markdown",
   "id": "861c80e1",
   "metadata": {},
   "source": [
    "---\n",
    "<a name=\"jupyter\"></a>\n",
    "## 2. Making sure Jupyter works\n",
    "\n",
    "If you are veiwing this file as an html, or pdf please follow the instructions in the notebook in order to be able to edit the cells. It is very important to get this working as our entire class will be using this software.\n",
    "\n",
    "> [0000--Jupyter-Getting-Started-Guide](https://msu-cmse-courses.github.io/mth314-F20-student/assignments/0000--Jupyter-Getting-Started-Guide.html)\n",
    "\n",
    "The instructions to set up Jupyter are also given at the end of the syllabus."
   ]
  },
  {
   "cell_type": "markdown",
   "id": "307038b3",
   "metadata": {},
   "source": [
    "----\n",
    "<a name=\"vectors\"></a>\n",
    "## 3. Scalars, Vectors, and Matrices\n",
    "\n",
    "<a name=\"math_def\"></a>\n",
    "### Mathematical Definitions\n",
    "\n",
    "The three primary mathematical entities that are of interest in this class are scalars, vectors, and matrices. \n",
    "\n",
    "Think of a **_scalar_** as a single number or variable. The following are all scalars:\n",
    "\n",
    "$$ 1, \\frac{1}{2}, 3.1416$$\n",
    "\n",
    "A **_vector_**, on the other hand, is an *ordered* list of values which we typically represent with lower case letters. Vectors are ordered arrays of single numbers and are typically written as a row or a column. The following are all vectors:\n",
    "\n",
    "**_Row Vector:_** \n",
    "$$v = [ v_1, v_2, \\dots, v_n ]$$\n",
    "here $v_1, v_2, \\dots, v_n$ are single numbers.\n",
    "\n",
    "$$f = [1, 2, 3, 5, 8]$$\n",
    "\n",
    "Here $f$ in the above example is a vector of numbers, and it is the common way we think of vectors.\n",
    "\n",
    "Note, it is more common in this class to write vectors vertically. These are often called column vectors:\n",
    "\n",
    "**_Column Vector:_**\n",
    "$$\n",
    "v=\n",
    "\\left[\n",
    "\\begin{matrix}\n",
    "    v_1 \\\\ \n",
    "    v_2 \\\\\n",
    "    \\vdots \\\\\n",
    "    v_m\n",
    " \\end{matrix}\n",
    "\\right]\n",
    "$$\n",
    "here $v_1, v_2, \\dots, v_n$ are single numbers."
   ]
  },
  {
   "cell_type": "markdown",
   "id": "d892715e",
   "metadata": {},
   "source": [
    "A **_matrix_** is a rectangular array of numbers typically written between rectangular brackets such as:\n",
    "\n",
    "$$ A = \n",
    "\\left[\n",
    "\\begin{matrix}\n",
    "    0 & -1 \\\\ \n",
    "    3 & 4 \\\\\n",
    "    0 & 2\n",
    " \\end{matrix}\n",
    "\\right]\n",
    "$$\n",
    "\n",
    "This rectangular array has three rows and two columns. The size of a matrix is always written $m \\times n$ where $m$ is the number of rows and $n$ is the number of columns.  So in the above case Matrix $A$ is a $3 \\times 2$  (read \"three by two\") matrix. \n",
    "\n",
    "We will use matrices everyday in this class, but won't talk about them in depth untill next class. \n",
    "\n",
    "In essence, you can consider a row-vector to be a $1 \\times n$ matrix, or a column-vector to be an $m \\times 1$ matrix."
   ]
  },
  {
   "cell_type": "markdown",
   "id": "ab7377ee",
   "metadata": {},
   "source": [
    "-----\n",
    "<a name=\"basic_python\"></a>\n",
    "### Basic Python Structures\n",
    "\n",
    "Defining a **_scalar_** in Python is easy. For example"
   ]
  },
  {
   "cell_type": "code",
   "execution_count": null,
   "id": "dfe344f0",
   "metadata": {},
   "outputs": [],
   "source": [
    "a = 8\n",
    "a"
   ]
  },
  {
   "cell_type": "markdown",
   "id": "c1c4b73c",
   "metadata": {},
   "source": [
    "In Python, there are multiple ways to store a vector. Knowing how your vector is stored is very important (especially for debugging). Probably the easiest way to store a vector is using a list, which are created using standard square brackets as follows:"
   ]
  },
  {
   "cell_type": "code",
   "execution_count": null,
   "id": "f1d75452",
   "metadata": {},
   "outputs": [],
   "source": [
    "f = [1, 2, 3, 5, 8]\n",
    "f"
   ]
  },
  {
   "cell_type": "markdown",
   "id": "084f0414",
   "metadata": {},
   "source": [
    "Another common way to store a vector is to use a tuple.  "
   ]
  },
  {
   "cell_type": "code",
   "execution_count": null,
   "id": "75d5533e",
   "metadata": {},
   "outputs": [],
   "source": [
    "b = (2, 4, 8, 16)\n",
    "b"
   ]
  },
  {
   "cell_type": "markdown",
   "id": "6dcce235",
   "metadata": {},
   "source": [
    "You can access a particular scalar in your Python object using its index. Remember that Python index starts counting at zero. For example, to get the fourth element in ```f``` and ```b``` vectors, we would use the following syntax:"
   ]
  },
  {
   "cell_type": "code",
   "execution_count": null,
   "id": "a3947d8f",
   "metadata": {},
   "outputs": [],
   "source": [
    "print(f[3])\n",
    "print(b[3])"
   ]
  },
  {
   "cell_type": "markdown",
   "id": "c7bee758",
   "metadata": {},
   "source": [
    "Later in this course, we may discuss which data format is better (and introduce new ones). At this point let's not worry about it too much. You can always figure out a variable's data type using the ```type``` function. For example:type(f)"
   ]
  },
  {
   "cell_type": "code",
   "execution_count": null,
   "id": "af715087",
   "metadata": {},
   "outputs": [],
   "source": [
    "type(f)"
   ]
  },
  {
   "cell_type": "code",
   "execution_count": null,
   "id": "0aeeb077",
   "metadata": {},
   "outputs": [],
   "source": [
    "type(b)"
   ]
  },
  {
   "cell_type": "markdown",
   "id": "31108863",
   "metadata": {},
   "source": [
    "Finally, I am not sure if you will need this but always remember, it is easy to convert from a tuple to a list and vice versa (this is called \"casting\"):"
   ]
  },
  {
   "cell_type": "code",
   "execution_count": null,
   "id": "bbe58772",
   "metadata": {},
   "outputs": [],
   "source": [
    "#Convert tuple to list\n",
    "b_list = list(b)\n",
    "b_list"
   ]
  },
  {
   "cell_type": "code",
   "execution_count": null,
   "id": "e2618e87",
   "metadata": {},
   "outputs": [],
   "source": [
    "#Convert list to tuple\n",
    "f_tuple = tuple(f)\n",
    "f_tuple"
   ]
  },
  {
   "cell_type": "markdown",
   "id": "f89c32f1",
   "metadata": {},
   "source": [
    "A vector can be used to represent quantities or values in an application. The size (also called dimension or length) of the vector is the number of elements it contains.  The size of the vector determines how many quantities are in the vector.  We often refer to the size of a vector using the variable ```n```.  So an ```n-vector``` has ```n``` values.  A ```3-vector``` only has 3 values. \n",
    "\n",
    "The length (```len```) function returns the size of a vector in Python:"
   ]
  },
  {
   "cell_type": "code",
   "execution_count": null,
   "id": "4d9dae52",
   "metadata": {},
   "outputs": [],
   "source": [
    "len(f)"
   ]
  },
  {
   "cell_type": "code",
   "execution_count": null,
   "id": "14370cd6",
   "metadata": {},
   "outputs": [],
   "source": [
    "len(b)"
   ]
  },
  {
   "cell_type": "markdown",
   "id": "a50d608d",
   "metadata": {},
   "source": [
    "A matrix can be stored as a list of lists, where the inside lists are the row-vectors of the matrix. For example the matrix \n",
    "\n",
    "$$ M = \\begin{bmatrix}2 & 3 & 0 \\\\ 1 & -4 & -1\\end{bmatrix} $$\n",
    "\n",
    "can be saved as below:"
   ]
  },
  {
   "cell_type": "code",
   "execution_count": null,
   "id": "f7609458",
   "metadata": {},
   "outputs": [],
   "source": [
    "M = [[2,3,0],\n",
    "     [1,-4,-1]]\n",
    "M"
   ]
  },
  {
   "cell_type": "markdown",
   "id": "223259e3",
   "metadata": {},
   "source": [
    "Naturally, in this format we can find the shape of the matrix again with the ``len`` function. Recall, that a $ m \\times n $ matrix has $m$ rows and $n$ columns. Since the inner lists are row-vectors we know that the length of the row is the number of columns."
   ]
  },
  {
   "cell_type": "code",
   "execution_count": null,
   "id": "d27b4705",
   "metadata": {},
   "outputs": [],
   "source": [
    "m = len(M)\n",
    "n = len(M[0])\n",
    "print(f'The matrix M has {m} rows and {n} columns.')"
   ]
  },
  {
   "cell_type": "markdown",
   "id": "c0244925",
   "metadata": {},
   "source": [
    "### Syntax Errors\n",
    "A syntax error means that the code does not make sense in Python. We would like to define a couple of vectors with four numbers."
   ]
  },
  {
   "cell_type": "markdown",
   "id": "8ed356e1",
   "metadata": {},
   "source": [
    "&#9989; **<font color=red>DO THIS:</font>** Fix the following code to creat three vectors with four numbers."
   ]
  },
  {
   "cell_type": "code",
   "execution_count": null,
   "id": "591b0513",
   "metadata": {},
   "outputs": [],
   "source": [
    "x = [1 2 3.4 4]\n",
    "y = [1, 2, 3, 5]]\n",
    "z = [[1, 2, 3, 6.3]"
   ]
  },
  {
   "cell_type": "markdown",
   "id": "33c83f0b",
   "metadata": {},
   "source": [
    "Although you may have been able to get rid of the error messages the answer to you problem may still not be correct.  Throughout the semester we will be using a python program called ```answercheck``` to allow you to check some of your answers.  This program doesn't tell you the right answer but it is intended to be used as a way to get immediate feedback and accelerate learning."
   ]
  },
  {
   "cell_type": "code",
   "execution_count": null,
   "id": "ebcad9bb",
   "metadata": {},
   "outputs": [],
   "source": [
    "from urllib.request import urlretrieve\n",
    "\n",
    "urlretrieve('https://raw.githubusercontent.com/colbrydi/jupytercheck/master/answercheck.py', \n",
    "            'answercheck.py');"
   ]
  },
  {
   "cell_type": "markdown",
   "id": "24c40b55",
   "metadata": {},
   "source": [
    "&#9989; **<font color=red>DO THIS:</font>** Just run the following command to see if you got ```x```, ```y``` and ```z``` correct when you fixed the code above. "
   ]
  },
  {
   "cell_type": "code",
   "execution_count": null,
   "id": "8631fa89",
   "metadata": {},
   "outputs": [],
   "source": [
    "from answercheck import checkanswer\n",
    "checkanswer.detailedwarnings = False\n",
    "checkanswer([x,y,z],'e80321644979a873b273aebbbcd0e450');"
   ]
  },
  {
   "cell_type": "markdown",
   "id": "f390559d",
   "metadata": {},
   "source": [
    "**_NOTE_** make sure you do not change the ```checkanswer``` commands.  The long string with numbers and letters is the secret code that encodes the true answer.  This code is also called the HASH.  Feel free to look at the ```answercheck.py``` code and see if you can figure out how it works?  "
   ]
  },
  {
   "cell_type": "markdown",
   "id": "cc0bc451",
   "metadata": {},
   "source": [
    "---\n",
    "<a name=\"examples\"></a>\n",
    "## 4. Examples\n",
    "\n",
    "\n",
    "Vectors are used to represent all types of data that has structures.  Here are some simple examples from the [Boyd and Vandenberghe textbook](http://vmls-book.stanford.edu/):\n",
    "\n",
    "\n",
    "### Location and displacement\n",
    "A 2-vector can be used to represent a position or location in a space.  The first value is the distance in one direction (from the origin) and the second value is the distance in a different direction.  Probably most students are famiar with the 2D Cartesian coordinate system where a location can be defined by two values in the ```x``` and ```y``` directions.  Here is a simple scatter plot in python which show the concept:"
   ]
  },
  {
   "cell_type": "code",
   "execution_count": null,
   "id": "fa74c3f9",
   "metadata": {},
   "outputs": [],
   "source": [
    "%matplotlib inline\n",
    "import matplotlib.pylab as plt\n",
    "p1 = [2, 1]\n",
    "p2 = [1, 3]\n",
    "p3 = [1, 1]\n",
    "\n",
    "plt.plot(p1[0],p1[1],'*k')\n",
    "plt.plot(p2[0],p2[1],'*k')\n",
    "plt.plot(p3[0],p3[1],'*k')\n",
    "\n",
    "## Add some labels (offset slightly)\n",
    "plt.text(p1[0]+0.1,p1[1],'$p_1$')\n",
    "plt.text(p2[0]+0.1,p2[1],'$p_2$')\n",
    "plt.text(p3[0]+0.1,p3[1],'$p_3$')\n",
    "\n",
    "## Fix the axis so you can see the points\n",
    "plt.axis([0,4,0,4]);"
   ]
  },
  {
   "cell_type": "markdown",
   "id": "e501a82f",
   "metadata": {},
   "source": [
    "### Color\n",
    "A 3-vector can represent a color, with its entries giving the Red, Green, and Blue (RGB) intensity values (often between 0 and 1). The vector (0,0,0) represents black, the vector (0, 1, 0) represents a bright pure green color, and the vector (1, 0.5, 0.5) represents a shade of pink. \n",
    "\n",
    "The Python ```matplotlib``` library uses this type of vector to define colors.  For example, the following code plots a point at the origin of size 10000 (the size of the circle, and the value does not have exact meaning here) and color c = (0,1,0).  You can change the values for ```c``` and ```s``` to see the difference."
   ]
  },
  {
   "cell_type": "code",
   "execution_count": null,
   "id": "bc41ddaa",
   "metadata": {},
   "outputs": [],
   "source": [
    "import warnings\n",
    "warnings.filterwarnings(\"ignore\")\n",
    "\n",
    "c = (0, 1, 0)\n",
    "plt.scatter(0,0, color=c, s=10000);"
   ]
  },
  {
   "cell_type": "markdown",
   "id": "ab31d6a7",
   "metadata": {},
   "source": [
    "Just for fun, here is a little interactive demo that lets you play with different color vectors. \n",
    "\n",
    "\n",
    "> **_NOTE_** this demo uses the ```ipywidgets``` Python library which works by default in Jupyter notebook (which is installed on the MSU [jupyterhub](http://jupyterhub.egr.msu.edu))) but **_NOT_** in the newer jupyter lab interface which some students may have installed on their local computers.  To get these types of examples working in jupyter lab requires the installation of the ipywidgets plug-in. "
   ]
  },
  {
   "cell_type": "code",
   "execution_count": null,
   "id": "d8145b8a",
   "metadata": {},
   "outputs": [],
   "source": [
    "%matplotlib inline\n",
    "import matplotlib.pylab as plt\n",
    "from ipywidgets import interact, fixed\n",
    "\n",
    "def showcolor(red,green,blue):\n",
    "    color=(red,green,blue)\n",
    "    plt.scatter(0,0, color=color, s=20000);\n",
    "    plt.axis('off');\n",
    "    plt.show();\n",
    "    return color\n",
    "\n",
    "color = interact(showcolor, red=(0.0,1.0), green=(0.0,1.0), blue=(0.0,1.0));"
   ]
  },
  {
   "cell_type": "markdown",
   "id": "00a45fd1",
   "metadata": {},
   "source": [
    "---\n",
    "<a name=\"operations\"></a>\n",
    "## 5. Vector Addition and Scalar Multiplication\n",
    "\n",
    "### Vector Addition\n",
    "\n",
    "Another common operation to perform on vectors is addition. Two vectors of the same size can be added together by adding the corresponding elements, to form another vector of the same size, called the sum of the vectors. For example:\n",
    "\n",
    "$$ \n",
    "\\left[\n",
    "\\begin{matrix}\n",
    "    1  \\\\ \n",
    "    20   \n",
    " \\end{matrix}\n",
    " \\right]\n",
    " +\n",
    "\\left[\n",
    "\\begin{matrix}\n",
    "    22 \\\\ \n",
    "    -3 \n",
    " \\end{matrix}\n",
    " \\right]\n",
    "  =\n",
    "\\left[\n",
    "\\begin{matrix}\n",
    "    23 \\\\ \n",
    "    17 \n",
    " \\end{matrix}\n",
    "\\right]\n",
    "$$\n",
    "\n",
    "Here is where things get tricky in Python.  If you try to add a list or tuple, Python does not do the vector addition as we defined above. In the following examples, notice that the two lists concatenate instead of adding by element: "
   ]
  },
  {
   "cell_type": "code",
   "execution_count": null,
   "id": "d9aea49f",
   "metadata": {},
   "outputs": [],
   "source": [
    "## THIS IS WRONG\n",
    "a = [1, 20]\n",
    "b = [22,-3]\n",
    "c = a+b\n",
    "c"
   ]
  },
  {
   "cell_type": "code",
   "execution_count": null,
   "id": "e7f925dd",
   "metadata": {},
   "outputs": [],
   "source": [
    "## THIS IS ALSO WRONG\n",
    "a = (1, 20)\n",
    "b = (22,-3)\n",
    "c = a+b\n",
    "c"
   ]
  },
  {
   "cell_type": "markdown",
   "id": "3c57d79f",
   "metadata": {},
   "source": [
    "To do proper vector math you need either use a special function (we will learn these) or loop over the list.  Here is a very simplistic example:"
   ]
  },
  {
   "cell_type": "code",
   "execution_count": null,
   "id": "3a859186",
   "metadata": {},
   "outputs": [],
   "source": [
    "a = (1, 20)\n",
    "b = (22,-3)\n",
    "c = []\n",
    "for i in range(len(a)):\n",
    "    c.append(a[i] + b[i])\n",
    "c"
   ]
  },
  {
   "cell_type": "code",
   "execution_count": null,
   "id": "03128b62",
   "metadata": {},
   "outputs": [],
   "source": [
    "def vecadd(a,b):\n",
    "    \"\"\"Function to add two equal size vectors.\"\"\"\n",
    "    if (len(a) != len(b)):\n",
    "        raise Exception('Error - vector lengths do not match')\n",
    "    c = []\n",
    "    for i in range(len(a)):\n",
    "        c.append(a[i] + b[i])\n",
    "    return c"
   ]
  },
  {
   "cell_type": "code",
   "execution_count": null,
   "id": "911819d4",
   "metadata": {},
   "outputs": [],
   "source": [
    "#Lets test it\n",
    "vecadd(a,b)"
   ]
  },
  {
   "cell_type": "markdown",
   "id": "8e9510da",
   "metadata": {},
   "source": [
    "### Scalar Multiplication\n",
    "Earlier we defined **_scalar_** as a number. The reason why we call it a \"scalar\" is because when we multiply a vector by a number the geometric representation of the new vector is still pointing in the same direction, but it has a new length, i.e., it was rescaled.\n",
    "\n",
    "If we have the vector $v = \\begin{bmatrix} 1 \\\\ 2\\end{bmatrix}$ and multiply it by the scalar 3 then we get a new vector $$3v = 3 \\begin{bmatrix} 1 \\\\ 2\\end{bmatrix} =  \\begin{bmatrix} 3\\cdot 1 \\\\ 3\\cdot 2\\end{bmatrix} = \\begin{bmatrix} 3 \\\\ 6\\end{bmatrix}$$\n",
    "\n",
    "Notice that scalar multiplication (by an integer) is analagous to regular multiplication in that multiplication is just repeated addition, e.g., $3v = v+v+v$.\n",
    "\n",
    "More generally, when we multiply a vector $v= [v_1,\\dots,v_n]$ by any real scalar $a$ we obtain the vector $av = [a\\cdot v_1,\\dots,a\\cdot v_n]$. \n",
    "\n",
    "When we are using python lists to represent our vectors the multiplication symbol ``*`` is programed to concatenate multiple copies of a list. See below. "
   ]
  },
  {
   "cell_type": "code",
   "execution_count": null,
   "id": "2264ac60",
   "metadata": {},
   "outputs": [],
   "source": [
    "##THIS IS WRONG## \n",
    "z = 3\n",
    "a = [3,-7,10]\n",
    "c = z*a\n",
    "c"
   ]
  },
  {
   "cell_type": "markdown",
   "id": "86f8b852",
   "metadata": {},
   "source": [
    "Again, in order to do proper vector math in Python you need either use a special function (we will learn these) or loop over the list.  \n",
    "\n",
    "&#9989; **<span style=\"color:red\">Do This:</span>**  See if you can make a simple function with a loop to multiply a scalar by a vector. Name your function ```sv_multiply``` and test it using the cells below.\n",
    "\n",
    "**Note.** You can quickly comment/uncomment code in a cell by using the shortcut ``command + /`` on a mac or ``control + /`` on other machines. For other keyboard shorcuts in Jupiter notebooks if you aren't typing in a cell and press the letter ``H`` a help menu will pop-up."
   ]
  },
  {
   "cell_type": "code",
   "execution_count": null,
   "id": "9ed770a0",
   "metadata": {},
   "outputs": [],
   "source": [
    "# put your sv_multiply function here\n",
    "\n",
    "# def sv_multiply(s,v):\n",
    "#     return "
   ]
  },
  {
   "cell_type": "code",
   "execution_count": null,
   "id": "b27cf966",
   "metadata": {},
   "outputs": [],
   "source": [
    "#Test your function here\n",
    "s = 3\n",
    "v = [3,-7,10]\n",
    "sv_multiply(s,v)"
   ]
  },
  {
   "cell_type": "markdown",
   "id": "bebdcefb",
   "metadata": {},
   "source": [
    "Let us use the following code to test your functon further. "
   ]
  },
  {
   "cell_type": "code",
   "execution_count": null,
   "id": "d2d8aea1",
   "metadata": {},
   "outputs": [],
   "source": [
    "from answercheck import checkanswer\n",
    "checkanswer.detailedwarnings = False\n",
    "checkanswer.vector(sv_multiply(10,[1,2,3,4]),'414a6fea724cafda66ab5971f542adf2')"
   ]
  },
  {
   "cell_type": "code",
   "execution_count": null,
   "id": "51b58273",
   "metadata": {},
   "outputs": [],
   "source": [
    "from answercheck import checkanswer\n",
    "checkanswer.detailedwarnings = False\n",
    "checkanswer.vector(sv_multiply(3.14159,(1,2,3,4)),'f349ef7cafae77c7c23d6924ec1fd36e')"
   ]
  },
  {
   "cell_type": "markdown",
   "id": "f3a3153d",
   "metadata": {},
   "source": [
    "**Note that scalar multiplication and addition works exactly the same way for matrices.**"
   ]
  },
  {
   "cell_type": "markdown",
   "id": "d3d5debb",
   "metadata": {},
   "source": [
    "---\n",
    "<a name=\"linear_combs\"></a>\n",
    "## 6. Linear Combinations of vectors\n",
    "\n",
    "A linear combination of vectors uses both scalar multiplication and vector addition.\n",
    "\n",
    "Let $v_1,\\dots,v_n$ be a finite collection of vectors (of the same length) and $a_1,\\dots,a_n$ be a finite collection of scalars. The linear combination of the vectors $\\left\\{v_i\\right\\}_{i=1}^n$ with the scalars $\\left\\{a_i\\right\\}_{i=1}^n$ is the expression \n",
    "\n",
    "$$a_1 v_1 + a_2 v_2 + \\dots + a_n v_n.$$\n",
    "\n",
    "For example if $a_1 = 3$, $a_2 = -2$, and $a_3 = 1.5$, and $$v_1 = \\begin{bmatrix} 1 \\\\ 1 \\\\ 0 \\\\ 1 \\end{bmatrix}, \\quad v_2 = \\begin{bmatrix} 0 \\\\ 1 \\\\ 0 \\\\ -1 \\end{bmatrix}, \\quad v_3 =\\begin{bmatrix} 2 \\\\ 6 \\\\ 4 \\\\ 8 \\end{bmatrix}$$ then the corresponding linear combination $3 v_1 -2 v_2 +1.5 v_3$ gives us a new vector:\n",
    "\n",
    "$$ 3\\begin{bmatrix} 1 \\\\ 1 \\\\ 0 \\\\ 1 \\end{bmatrix} -2\\begin{bmatrix} 0 \\\\ 1 \\\\ 0 \\\\ -1 \\end{bmatrix} +1.5 \\begin{bmatrix} 2 \\\\ 6 \\\\ 4 \\\\ 8 \\end{bmatrix} \\quad=\\quad\n",
    "\\begin{bmatrix} 3 \\\\ 3 \\\\ 0 \\\\ 3 \\end{bmatrix} +\\begin{bmatrix} 0 \\\\ -2 \\\\ 0 \\\\ 2\\end{bmatrix} + \\begin{bmatrix} 3 \\\\ 9 \\\\ 6 \\\\ 12 \\end{bmatrix} \\quad=\\quad\n",
    "\\begin{bmatrix} 6 \\\\ 10 \\\\ 6 \\\\ 17 \\end{bmatrix} $$\n",
    "\n",
    "&#9989; **<font color=red>DO THIS:</font>**\n",
    "Use the functions you wrote above ``vecadd`` and ``sv_multiply`` to write a new function that takes in a list of scalars and a list of vectors (represented by lists) and computes the corresponding linear combination. Call the function ``linear_comb``."
   ]
  },
  {
   "cell_type": "code",
   "execution_count": null,
   "id": "231a2416",
   "metadata": {},
   "outputs": [],
   "source": [
    "# Write your function here:\n",
    "\n",
    "# def linear_comb(scalars,vectors):\n",
    "#     return "
   ]
  },
  {
   "cell_type": "code",
   "execution_count": null,
   "id": "2d9e9d34",
   "metadata": {},
   "outputs": [],
   "source": [
    "##Test your function\n",
    "\n",
    "scalars = [3,-2,1.5]\n",
    "vectors = [[1,1,0,1],[0,1,0,-1],[2,6,4,8]]\n",
    "\n",
    "linear_comb(scalars,vectors)"
   ]
  },
  {
   "cell_type": "code",
   "execution_count": null,
   "id": "f6faa1fd",
   "metadata": {},
   "outputs": [],
   "source": [
    "from answercheck import checkanswer\n",
    "checkanswer.detailedwarnings = False\n",
    "checkanswer.vector(linear_comb([1,-1,2],[[1,1,1],[0,1,1,],[1,0,1]]),'60031b1edacfda4b1f4ebf44ceb05691')"
   ]
  },
  {
   "cell_type": "markdown",
   "id": "408a9571",
   "metadata": {},
   "source": [
    "&#9989; **<font color=red>Bonus Question:</font>**\n",
    "Find a collection of scalars that shows that the vector $v = \\begin{bmatrix} -2 \\\\ 3  \\\\ 2 \\end{bmatrix}$ is a linear combination of the vectors $$v_1 = \\begin{bmatrix} 1 \\\\ 0 \\\\ 1 \\end{bmatrix}, \\quad v_2 = \\begin{bmatrix} 0 \\\\ 1 \\\\ -1 \\end{bmatrix}, \\quad v_3 =\\begin{bmatrix} 0 \\\\ 0 \\\\ 1 \\end{bmatrix}.$$ That is find $a_1,a_2,a_3$ such that $v = a_1 v_1 + a_2 v_2 + a_3 v_3$. "
   ]
  },
  {
   "cell_type": "code",
   "execution_count": null,
   "id": "b2fc4107",
   "metadata": {},
   "outputs": [],
   "source": [
    "## You can guess and check below, we will discuss how to solve problems like this next week.\n",
    "\n",
    "a1 = 0\n",
    "a2 = 0\n",
    "a3 = 0\n",
    "\n",
    "scalars = [a1,a2,a3]\n",
    "vectors = [[1,0,1],[0,1,-1],[0,0,1]]\n",
    "\n",
    "linear_comb(scalars,vectors)"
   ]
  },
  {
   "cell_type": "code",
   "execution_count": null,
   "id": "febfdf80",
   "metadata": {},
   "outputs": [],
   "source": [
    "from answercheck import checkanswer\n",
    "checkanswer.detailedwarnings = False\n",
    "checkanswer.vector([a1,a2,a3],'be6add17c53320c2147daa4435af47d5')"
   ]
  },
  {
   "cell_type": "markdown",
   "id": "ab4de657",
   "metadata": {},
   "source": [
    "----\n",
    "The following video gives an excellent recap and discussion of the vector topics we discussed today. Please watch it.\n",
    "\n",
    "* [Direct Link to YouTube Video](https://youtu.be/fNk_zzaMoSs)"
   ]
  },
  {
   "cell_type": "code",
   "execution_count": null,
   "id": "69dde8be",
   "metadata": {
    "scrolled": false
   },
   "outputs": [],
   "source": [
    "from IPython.display import YouTubeVideo\n",
    "YouTubeVideo(\"fNk_zzaMoSs\",width=640,height=360, cc_load_policy=True)"
   ]
  },
  {
   "cell_type": "markdown",
   "id": "3e7dad78",
   "metadata": {},
   "source": [
    "### Congratulations, we're done!\n",
    "\n",
    "If you attend class in-person then have one of the instructors check your notebook and sign you out before leaving class. If you are attending asynchronously, turn in your assignment using D2L."
   ]
  },
  {
   "cell_type": "markdown",
   "id": "bff16fdb",
   "metadata": {},
   "source": [
    "Written by Dr. Dirk Colbry and Dr. Matthew Mills, Michigan State University\n",
    "<a rel=\"license\" href=\"http://creativecommons.org/licenses/by-nc/4.0/\"><img alt=\"Creative Commons License\" style=\"border-width:0\" src=\"https://i.creativecommons.org/l/by-nc/4.0/88x31.png\" /></a><br />This work is licensed under a <a rel=\"license\" href=\"http://creativecommons.org/licenses/by-nc/4.0/\">Creative Commons Attribution-NonCommercial 4.0 International License</a>."
   ]
  },
  {
   "cell_type": "markdown",
   "id": "088e3056",
   "metadata": {},
   "source": [
    "\n"
   ]
  }
 ],
 "metadata": {
  "kernelspec": {
   "display_name": "Python 3",
   "language": "python",
   "name": "python3"
  },
  "language_info": {
   "codemirror_mode": {
    "name": "ipython",
    "version": 3
   },
   "file_extension": ".py",
   "mimetype": "text/x-python",
   "name": "python",
   "nbconvert_exporter": "python",
   "pygments_lexer": "ipython3",
   "version": "3.7.6"
  }
 },
 "nbformat": 4,
 "nbformat_minor": 5
}
