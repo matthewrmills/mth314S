{
 "cells": [
  {
   "cell_type": "markdown",
   "metadata": {},
   "source": []
  },
  {
   "cell_type": "markdown",
   "metadata": {},
   "source": [
    "# 102 - Matrices and Matrix Multiplication\n",
    "\n",
    "\n",
    "\n",
    "<img src=\"https://www.mathsisfun.com/algebra/images/matrix-multiply-a.svg\" alt=\"Image showing how matrix multiply works.  There is a 2 by 3 matrix multiplied by a 3 by 2 matrix to get a 2 by 2 matrix.  The first row in the first matrix is highlighted and the first column of the second matrix is highlighted. The words 'Dot Product' are pointing to the highlighted row and column and the single value output is shown in as the only element in the upper left of the 2 by 2 result.  Basically the image is showing that the row [1,2,3] dotted with the column [7,9,11] results in the single output of 58.\">\n",
    "\n",
    "Image from: [www.mathsisfun.com](https://www.mathsisfun.com/algebra/matrix-multiplying.html)"
   ]
  },
  {
   "cell_type": "markdown",
   "metadata": {},
   "source": [
    "### Goals for today's in-class assignment \n",
    "\n",
    "1. [Matrix Indexing](#Indexing)\n",
    "1. [Dot Product Review](#Dot-Product-Review)\n",
    "1. [Matrix Multiply](#Matrix-Multiply)\n",
    "1. [Special Examples](#special_matrices)\n",
    "    1. [Identity Matrix](#Identity-Matrix)\n",
    "    1. [Elementary Matrices](#Elementary-Matrices)\n",
    "    1. [Inverse Matrix](#Inverse)\n",
    "1. [Application: Color Transformations](#applications)\n",
    "\n",
    "\n"
   ]
  },
  {
   "cell_type": "markdown",
   "metadata": {},
   "source": [
    "---- \n",
    "<a name='Indexing'></a>\n",
    "## 1. Matrix Definitions and Indexing\n",
    "\n",
    "As we mentioned in our previous class a **_matrix_** is a rectangular array of numbers typically written between rectangular brackets such as:\n",
    "\n",
    "$$ A = \n",
    "\\left[\n",
    "\\begin{matrix}\n",
    "    0 & -1 \\\\ \n",
    "    3 & 4 \\\\\n",
    "    0 & 2\n",
    " \\end{matrix}\n",
    "\\right]\n",
    "$$\n",
    "\n",
    "This rectangular array has three rows and two columns. The size of a matrix is always written $m \\times n$ where $m$ is the number of rows and $n$ is the number of columns.  So in the above case Matrix $A$ is a $3 \\times 2$  (read \"three by two\") matrix. \n",
    "\n",
    "If we want to discuss the entries of a matrix then we need to use the specific index of the entry. This is typically given by the ordered pair describing which row and column the entry is in. For example the (2,2)-entry of the matrix $A$ given above is 4. We can write $A_{2,2} =4$, or sometime we will use lowercase letters for the entry: $a_{2,2} = 4$. As a whole matrix we have \n",
    "\n",
    "$$A = \n",
    "\\left[\n",
    "\\begin{matrix}\n",
    "    a_{1,1} & a_{1,2} \\\\ \n",
    "    a_{2,1} & a_{2,2} \\\\\n",
    "    a_{3,1} & a_{3,2}\n",
    " \\end{matrix}\n",
    "\\right].$$\n",
    "\n",
    "However with most computer languages the indexing starts with 0 and not 1. Therefore to get the (2,2)-entry of the matrix $A$ in python we need to subtract 1 from all our indices. In general when we discuss specific entries it should be clear from the context which type of indexing we will be using."
   ]
  },
  {
   "cell_type": "code",
   "execution_count": null,
   "metadata": {},
   "outputs": [],
   "source": [
    "A = [[0,-1],[3,4],[0,2]]\n",
    "\n",
    "#The entry in the second row, second column (when using a list of lists)\n",
    "a22 = A[1][1]\n",
    "a22"
   ]
  },
  {
   "cell_type": "markdown",
   "metadata": {},
   "source": [
    "If we use a numpy matrix representation in python then the indexing is slightly different."
   ]
  },
  {
   "cell_type": "code",
   "execution_count": null,
   "metadata": {},
   "outputs": [],
   "source": [
    "import numpy as np\n",
    "\n",
    "A_np = np.matrix(A)\n",
    "print(A_np)\n",
    "\n",
    "#The entry in the second row, second column (when using a numpy matrix)\n",
    "a22_np = A_np[1,1]\n",
    "a22_np"
   ]
  },
  {
   "cell_type": "markdown",
   "metadata": {},
   "source": [
    "As a last comment in this section it will also be helpful throughout the semester to select entire rows, or entire columns of a matrix. It is always easy to grab a row of a matrix, but when using the lists of lists representation of a matrix it is hard to grab a column. This is one of many reasons we will transition to using numpy in the rest of the class."
   ]
  },
  {
   "cell_type": "code",
   "execution_count": null,
   "metadata": {},
   "outputs": [],
   "source": [
    "## The 3rd row of the matrix A:\n",
    "row3 = A[2]\n",
    "row3_np = A_np[2]\n",
    "row3,row3_np"
   ]
  },
  {
   "cell_type": "code",
   "execution_count": null,
   "metadata": {},
   "outputs": [],
   "source": [
    "## The first column of matrix A:\n",
    "col1_np = A_np[:,0]\n",
    "col1_np"
   ]
  },
  {
   "cell_type": "markdown",
   "metadata": {},
   "source": [
    "&#9989;  **<font color=red>Question</font>**: From the computers point of view what is the difference between ``row3`` and ``row3_np`` given above?"
   ]
  },
  {
   "cell_type": "markdown",
   "metadata": {},
   "source": [
    "Type your answer here."
   ]
  },
  {
   "cell_type": "markdown",
   "metadata": {},
   "source": [
    "### Transpose of  a matrix\n",
    "\n",
    "One helpful operator that we will use often in this class is called the the **transpose of a matrix**. If $A$ is a  $m \\times n$ matrix then the **transpose of $A$**, denoted by $A^\\top$, is the $n \\times m$ matrix obtained from $A$ by switching the rows and columns. \n",
    "\n",
    "For example if \n",
    "\n",
    "$$ A = \n",
    "\\left[\n",
    "\\begin{matrix}\n",
    "    0 & -1 \\\\ \n",
    "    3 & 4 \\\\\n",
    "    0 & 2\n",
    " \\end{matrix}\n",
    "\\right], \\quad \\text{ then } \\quad A^\\top= \n",
    "\\left[\n",
    "\\begin{matrix}\n",
    "    0 & 3 & 0 \\\\ \n",
    "    -1 & 4 & 2\\\\ \\end{matrix}\n",
    "    \\right].\n",
    "$$\n",
    "\n",
    "The transpose is a simple function built into numpy. "
   ]
  },
  {
   "cell_type": "code",
   "execution_count": null,
   "metadata": {},
   "outputs": [],
   "source": [
    "## Returns the transpose of a matrix.\n",
    "A_np.T"
   ]
  },
  {
   "cell_type": "markdown",
   "metadata": {},
   "source": [
    "\n",
    "---\n",
    "<a name=Dot-Product-Review></a>\n",
    "## 2. Dot Product Review\n",
    "\n",
    "\n",
    "\n",
    "\n",
    "\n",
    "We covered inner products yesterday.  This assignment will extend the idea of inner products to matrix multiplication. As a reminder, **_Sections 1.4_** of the [Stephen Boyd and Lieven Vandenberghe Applied Linear algebra book](http://vmls-book.stanford.edu/) covers the dot product.  Here is a quick review:"
   ]
  },
  {
   "cell_type": "markdown",
   "metadata": {},
   "source": [
    "Given two vectors $u$ and $v$ in $R^n$ (i.e. they have the same length), the \"dot\" product operation multiplies all of the corresponding elements  and then adds them together. Ex:\n",
    "\n",
    "$$u = [u_1, u_2, \\dots, u_n]$$\n",
    "$$v = [v_1, v_2, \\dots, v_n]$$\n",
    "\n",
    "$$u \\cdot v = u_1 v_1 + u_2  v_2 + \\dots + u_nv_n$$\n",
    "\n",
    "or:\n",
    "\n",
    "$$ u \\cdot v = \\sum^n_{i=1} u_i v_i$$\n",
    "\n",
    "&#9989;  **<font color=red>Do This</font>**: Find the dot product of the vectors $u = (1,2,3)$ and $v = (7,9,11)$."
   ]
  },
  {
   "cell_type": "code",
   "execution_count": null,
   "metadata": {},
   "outputs": [],
   "source": [
    "##Do your work here\n"
   ]
  },
  {
   "cell_type": "code",
   "execution_count": null,
   "metadata": {},
   "outputs": [],
   "source": [
    "from answercheck import checkanswer\n",
    "checkanswer.detailedwarnings = False\n",
    "checkanswer.float(dot,'9ed469ac3b8ef2d21d85e191c8cd24cd');"
   ]
  },
  {
   "cell_type": "markdown",
   "metadata": {},
   "source": [
    "\n",
    "\n",
    "---\n",
    "<a name=Matrix-Multiply></a>\n",
    "## 3. Matrix Multiply\n",
    "\n",
    "Two matrices $A$ and $B$ can be multiplied together if and only if their \"inner dimensions\" are the same, i.e. $A$ is \n",
    "$m\\times d$ and $B$ is $d\\times n$ (note that the columns of $A$ and the rows of $B$ are both $d$). \n",
    "Multiplication of these two matrices results in a third matrix $C$ with the dimension of $m\\times n$.\n",
    "Note that $C$ has the same first dimension as $A$ and the same second dimension as $B$. i.e $m\\times n$.  \n",
    "\n",
    "_**The $(i,j)$ element in $C$ is the dot product of the $i$th row of $A$ and the $j$th column of $B$.**_\n",
    "\n",
    "The $i$th row of $A$ is:\n",
    "\n",
    "$$ [ a_{i1},  a_{i2},  \\dots , a_{id} ],$$\n",
    "\n",
    "and the $j$th column of $B$ is:\n",
    "\n",
    "$$\n",
    "\\left[\n",
    "\\begin{matrix}\n",
    "    b_{1j}\\\\ \n",
    "    b_{2j}\\\\\n",
    "    \\vdots \\\\\n",
    "    b_{dj}\n",
    "\\end{matrix}\n",
    "\\right] \n",
    "$$\n",
    "\n",
    "So, the dot product of these two vectors is:\n",
    "\n",
    "$$c_{ij} = a_{i1}b_{1j} + a_{i2}b_{2j} + \\dots + a_{id}b_{dj}$$\n",
    "\n",
    "Consider the simple $2\\times 2$ example of matrix multiplication given below:\n",
    "\n",
    "\n",
    "$$ \n",
    "\\left[\n",
    "\\begin{matrix}\n",
    "    a & b\\\\ \n",
    "    c & d   \n",
    "\\end{matrix}\n",
    "\\right] \n",
    "\\left[\n",
    "\\begin{matrix}\n",
    "    w & x\\\\ \n",
    "    y & z   \n",
    "\\end{matrix}\n",
    "\\right] \n",
    "=\n",
    "\\left[\n",
    "\\begin{matrix}\n",
    "    aw+by & ax+bz\\\\ \n",
    "    cw + dy & cx + dz   \n",
    "\\end{matrix}\n",
    "\\right] \n",
    "$$\n",
    "\n",
    "For more information read **_Section 10.1_** of the [Stephen Boyd and Lieven Vandenberghe Applied Linear algebra book](http://vmls-book.stanford.edu/) which covers Matrix Multiplication."
   ]
  },
  {
   "cell_type": "markdown",
   "metadata": {},
   "source": [
    "Let's do an example using ```numpy``` and show the results using ```sympy```:"
   ]
  },
  {
   "cell_type": "code",
   "execution_count": null,
   "metadata": {},
   "outputs": [],
   "source": [
    "import numpy as np\n",
    "import sympy as sym\n",
    "sym.init_printing(use_unicode=True) # Trick to make matrixes look nice in jupyter"
   ]
  },
  {
   "cell_type": "code",
   "execution_count": null,
   "metadata": {},
   "outputs": [],
   "source": [
    "A = np.matrix([[1,1], [2,2]])\n",
    "sym.Matrix(A)"
   ]
  },
  {
   "cell_type": "code",
   "execution_count": null,
   "metadata": {},
   "outputs": [],
   "source": [
    "B = np.matrix([[3,4], [3,4]])\n",
    "sym.Matrix(B)"
   ]
  },
  {
   "cell_type": "code",
   "execution_count": null,
   "metadata": {},
   "outputs": [],
   "source": [
    "sym.Matrix(A*B)"
   ]
  },
  {
   "cell_type": "markdown",
   "metadata": {},
   "source": [
    "&#9989;**<font color=red>DO THIS</font>**: Given two matrices; $A$ and $B$, show that order matters when doing a matrix multiply. That is, in general, $AB \\neq BA$. \n",
    "Show this with an example using two $3\\times 3$ matrices and ```numpy```."
   ]
  },
  {
   "cell_type": "code",
   "execution_count": null,
   "metadata": {},
   "outputs": [],
   "source": [
    "# Put your code here.\n"
   ]
  },
  {
   "cell_type": "markdown",
   "metadata": {},
   "source": [
    "&#9989;**<font color=red>QUESTION</font>**: What is the size of the matrix resulting from multiplying a $10 \\times 40$ matrix with a $40 \\times 3$ matrix?"
   ]
  },
  {
   "cell_type": "markdown",
   "metadata": {},
   "source": [
    "Put your answer here"
   ]
  },
  {
   "cell_type": "markdown",
   "metadata": {},
   "source": [
    "\n",
    "---\n",
    "### List Implementation\n",
    "\n",
    "Now that we have an understanding of how matrix multiplication works. Use the definitions given above to implement your own matrix multiplication function in python. Youshould use the list of lists format and not use any numpy functions. \n",
    "\n",
    "&#9989; **<font color=red>DO THIS:</font>** Write your own matrix multiplication function using the template below and compare it to the built-in matrix multiplication that can be found in ```numpy```. Your function should take two \"lists of lists\" as inputs and return the result as a third list of lists.  "
   ]
  },
  {
   "cell_type": "code",
   "execution_count": null,
   "metadata": {},
   "outputs": [],
   "source": [
    "#some libraries (maybe not all) you will need in this notebook\n",
    "%matplotlib inline\n",
    "import matplotlib.pylab as plt\n",
    "import numpy as np\n",
    "import sympy as sym\n",
    "sym.init_printing(use_unicode=True)\n",
    "\n",
    "import random\n",
    "import time"
   ]
  },
  {
   "cell_type": "code",
   "execution_count": null,
   "metadata": {},
   "outputs": [],
   "source": [
    "def multiply(m1,m2):\n",
    "    #first matrix is nxd in size\n",
    "    #second matrix is dxm in size\n",
    "    n = len(m1) \n",
    "    d = len(m2)\n",
    "    m = len(m2[0])\n",
    "    \n",
    "    #check to make sure sizes match\n",
    "    if len(m1[0]) != d:\n",
    "        print(\"ERROR - inner dimentions not equal\")\n",
    "    \n",
    "    #### put your matrix multiply code here #####\n",
    "    \n",
    "    return result"
   ]
  },
  {
   "cell_type": "markdown",
   "metadata": {},
   "source": [
    "Test your code with the following examples"
   ]
  },
  {
   "cell_type": "code",
   "execution_count": null,
   "metadata": {},
   "outputs": [],
   "source": [
    "#Basic test 1\n",
    "n = 3\n",
    "d = 2\n",
    "m = 4\n",
    "\n",
    "#generate two random lists of lists.\n",
    "matrix1 = [[random.random() for i in range(d)] for j in range(n)]\n",
    "matrix2 = [[random.random() for i in range(m)] for j in range(d)]"
   ]
  },
  {
   "cell_type": "code",
   "execution_count": null,
   "metadata": {},
   "outputs": [],
   "source": [
    "sym.init_printing(use_unicode=True) # Trick to make matrixes look nice in jupyter\n",
    "\n",
    "sym.Matrix(matrix1) # Show matrix using sympy"
   ]
  },
  {
   "cell_type": "code",
   "execution_count": null,
   "metadata": {},
   "outputs": [],
   "source": [
    "sym.Matrix(matrix2) # Show matrix using sympy"
   ]
  },
  {
   "cell_type": "code",
   "execution_count": null,
   "metadata": {},
   "outputs": [],
   "source": [
    "#Compute matrix multiply using your function\n",
    "x = multiply(matrix1, matrix2)"
   ]
  },
  {
   "cell_type": "code",
   "execution_count": null,
   "metadata": {},
   "outputs": [],
   "source": [
    "#Compare to numpy result\n",
    "np_x = np.matrix(matrix1)*np.matrix(matrix2)\n",
    "\n",
    "#use allclose function to see if they are numrically \"close enough\"\n",
    "print(np.allclose(x, np_x))\n",
    "\n",
    "#Result should be True"
   ]
  },
  {
   "cell_type": "code",
   "execution_count": null,
   "metadata": {},
   "outputs": [],
   "source": [
    "#Test identity matrix\n",
    "n = 4\n",
    "\n",
    "# Make a Random Matrix\n",
    "matrix1 = [[random.random() for i in range(n)] for j in range(n)]\n",
    "sym.Matrix(matrix1) # Show matrix using sympy"
   ]
  },
  {
   "cell_type": "markdown",
   "metadata": {},
   "source": [
    "### Timing Study\n",
    "In this part, you will compare your matrix multiplication with the ```numpy``` matrix multiplication. \n",
    "You will multiply two randomly generated $n\\times n$ matrices using both the ```multiply()``` function defined above and the ```numpy``` matrix multiplication. \n",
    "Here is the basic structure of your timing study:\n",
    "\n",
    "1. Initialize two empty lists called ```my_time``` and ```numpy_time```\n",
    "2. Loop over values of n (100, 200, 300, 400, 500)\n",
    "3. For each value of $n$ use the time.clock() function to calculate the time it takes to use your algorithm and append that time (in seconds) to the ```my_time``` list.\n",
    "4. For each value of $n$ use the time.clock() function to calculate the time it takes to use the ```numpy``` matrix multiplication and append that time (in seconds) to the ```numpy_time``` list.\n",
    "5. Use the provided code to generate a scatter plot of your results."
   ]
  },
  {
   "cell_type": "code",
   "execution_count": null,
   "metadata": {},
   "outputs": [],
   "source": [
    "n_list = [100, 200, 300, 400, 500]\n",
    "my_time = []\n",
    "numpy_time = []"
   ]
  },
  {
   "cell_type": "code",
   "execution_count": null,
   "metadata": {},
   "outputs": [],
   "source": [
    "# # RUN AT YOUR OWN RISK.\n",
    "# # THIS MAY TAKE A WHILE!!!!\n",
    "\n",
    "# for n in n_list:\n",
    "#     print(f\"Measureing time it takes to multiply matrixes of size {n}\")\n",
    "#     #Generate random nxn array of two lists\n",
    "#     matrix1 = [[random.random() for i in range(n)] for j in range(n)]\n",
    "#     matrix2 = [[random.random() for i in range(n)] for j in range(n)]\n",
    "#     start = time.time()\n",
    "#     x = multiply(matrix1, matrix2)\n",
    "#     stop = time.time()\n",
    "#     my_time.append(stop - start)\n",
    "    \n",
    "#     #Convert the lists to a numpy matrix\n",
    "#     npm1 = np.matrix(matrix1)\n",
    "#     npm2 = np.matrix(matrix2)\n",
    "\n",
    "#     #Calculate the time it takes to run the numpy matrix. \n",
    "#     start = time.time()\n",
    "#     answer = npm1*npm2\n",
    "#     stop = time.time()\n",
    "#     numpy_time.append(stop - start)"
   ]
  },
  {
   "cell_type": "code",
   "execution_count": null,
   "metadata": {},
   "outputs": [],
   "source": [
    "# plt.scatter(n_list,my_time, color='red', label = 'my time')\n",
    "# plt.scatter(n_list,numpy_time, color='green', label='numpy time')\n",
    "\n",
    "# plt.xlabel('Size of $n x n$ matrix');\n",
    "# plt.ylabel('time (seconds)')\n",
    "# plt.legend();"
   ]
  },
  {
   "cell_type": "markdown",
   "metadata": {},
   "source": [
    "Based on the above results, you can see that the ```numpy``` algorithm not only is faster but also \"scales\" at a slower rate than your algorithm.  "
   ]
  },
  {
   "cell_type": "markdown",
   "metadata": {},
   "source": [
    "&#9989; **<font color=red>QUESTION:</font>** Why do you think the ```numpy``` matrix multiplication is so much faster?  "
   ]
  },
  {
   "cell_type": "markdown",
   "metadata": {},
   "source": [
    "Put your answer to the above question here"
   ]
  },
  {
   "cell_type": "markdown",
   "metadata": {},
   "source": [
    "\n",
    "---\n",
    "<a name='special_matrices'></a>\n",
    "## 4. Examples of special matrices\n",
    "\n",
    "The following matrices have special properties when it comes to matrix multiplication.\n",
    "\n",
    "<a name=Identity-Matrix></a>\n",
    "### Identity Matrix\n",
    "\n",
    "A matrix is said to be **square** if it has the same number of rows and columns.\n",
    "An identity matrix is a special square matrix (i.e. $m=n$) that has ones in the diagonal and zeros other places. For example the following is a $3\\times 3$ identity matrix:\n",
    "\n",
    "$$\n",
    "I_3 = \n",
    "\\left[\n",
    "\\begin{matrix}\n",
    "    1 & 0 & 0\\\\ \n",
    "    0 & 1 & 0 \\\\\n",
    "    0 & 0 & 1\n",
    "\\end{matrix}\n",
    "\\right] \n",
    "$$\n",
    "\n",
    "We always denote the identity matrix with a capital $I$. Often a subscript is used to denote the value of $n$. The notations $I_{nxn}$ and $I_n$ are both acceptable.\n",
    "\n",
    "An identity matrix is similar to the number 1 for scalar values.  I.e. multiplying a square matrix $A_{nxn}$ by its corresponding identity matrix $I_{nxn}$ results in itself $A_{nxn}$.\n",
    "\n",
    "&#9989;**<font color=red>DO THIS</font>**: Pick a random $3\\times 3$ matrix and multiply it by the $3\\times 3$ Identity matrix and show you get the same answer. "
   ]
  },
  {
   "cell_type": "code",
   "execution_count": null,
   "metadata": {},
   "outputs": [],
   "source": [
    "#Put your code here"
   ]
  },
  {
   "cell_type": "markdown",
   "metadata": {},
   "source": [
    "&#9989; **<font color=red>QUESTION:</font>** Consider two square matrices $A$ and $B$ of size $n \\times n$.  $AB = BA$ is **NOT** true for many $A$ and $B$.  Describe an example where $AB = BA$ is true? Explain why the equality works for your example."
   ]
  },
  {
   "cell_type": "markdown",
   "metadata": {},
   "source": [
    "Put your answer here"
   ]
  },
  {
   "cell_type": "markdown",
   "metadata": {},
   "source": [
    "\n",
    "---\n",
    "<a name=Elementary-Matrices></a>\n",
    "### Elementary Matrices\n",
    "\n",
    "\n",
    "**_NOTE_**: A detailed description of elementary matrices can be found here in the **_Beezer text Subsection EM 340-345_** if you find the following confusing. \n",
    "\n",
    "There exist a cool set of matrices that can be used to implement Elementary Row Operations. Elementary row operations include:\n",
    "\n",
    "1. Swap two rows\n",
    "2. Multiply a row by a constant ($c$)\n",
    "3. Multiply a row by a constant ($c$) and add it to another row.\n",
    "\n",
    "You can create these elementary matrices by applying the desired elementary row operations to the identity matrix. \n",
    "\n",
    "If you multiply your matrix from the left using the elementary matrix, you will get the desired operation.\n",
    "\n",
    "For example, here is the elementary row operation to swap the first and second rows of a $3\\times 3$ matrix:\n",
    "\n",
    "$$ \n",
    "E_{12}=\n",
    "\\left[\n",
    "\\begin{matrix}\n",
    "    0 & 1 & 0\\\\ \n",
    "    1 & 0 & 0 \\\\\n",
    "    0 & 0 & 1\n",
    "\\end{matrix}\n",
    "\\right] \n",
    "$$\n"
   ]
  },
  {
   "cell_type": "code",
   "execution_count": null,
   "metadata": {},
   "outputs": [],
   "source": [
    "import numpy as np\n",
    "import sympy as sym\n",
    "sym.init_printing(use_unicode=True)\n",
    "A = np.matrix([[3, -3,9], [2, -2, 7], [-1, 2, -4]])\n",
    "sym.Matrix(A)"
   ]
  },
  {
   "cell_type": "code",
   "execution_count": null,
   "metadata": {},
   "outputs": [],
   "source": [
    "E1 = np.matrix([[0,1,0], [1,0,0], [0,0,1]])\n",
    "sym.Matrix(E1)"
   ]
  },
  {
   "cell_type": "code",
   "execution_count": null,
   "metadata": {},
   "outputs": [],
   "source": [
    "A1 = E1*A\n",
    "sym.Matrix(A1)"
   ]
  },
  {
   "cell_type": "markdown",
   "metadata": {},
   "source": [
    "&#9989;  **<font color=red>DO THIS</font>**: Give a $3\\times 3$ elementary matrix named ```E2``` that swaps row 3 with row 1 and apply it to the $A$ Matrix. Replace the matrix $A$ with the new matrix."
   ]
  },
  {
   "cell_type": "code",
   "execution_count": null,
   "metadata": {},
   "outputs": [],
   "source": [
    "# Put your answer here.  \n",
    "# Feel free to swich this cell to markdown if you want to try writing your answer in latex."
   ]
  },
  {
   "cell_type": "code",
   "execution_count": null,
   "metadata": {},
   "outputs": [],
   "source": [
    "from answercheck import checkanswer\n",
    "\n",
    "checkanswer.matrix(E2,'2c2d2e407389eabeb6d90894565c830f');"
   ]
  },
  {
   "cell_type": "markdown",
   "metadata": {},
   "source": [
    "&#9989;  **<font color=red>DO THIS</font>**: Give a $3\\times 3$ elementary matrix named ```E3``` that multiplies the first row by $c=3$ and adds it to the third row. Apply the elementary matrix to the $A$ matrix. Replace the matrix $A$ with the new matrix."
   ]
  },
  {
   "cell_type": "code",
   "execution_count": null,
   "metadata": {},
   "outputs": [],
   "source": [
    "# Put your answer here.  \n",
    "# Feel free to swich this cell to markdown if you want to try writing your answer in latex."
   ]
  },
  {
   "cell_type": "code",
   "execution_count": null,
   "metadata": {},
   "outputs": [],
   "source": [
    "from answercheck import checkanswer\n",
    "\n",
    "checkanswer.matrix(E3,'55ae1f9eb21df00c59dad623b9471506');\n"
   ]
  },
  {
   "cell_type": "markdown",
   "metadata": {},
   "source": [
    "&#9989;  **<font color=red>DO THIS</font>**: Give a $3\\times 3$ elementary matrix named ```E4``` that multiplies the second row by a constant $c=1/2$ applies this to matrix $A$."
   ]
  },
  {
   "cell_type": "code",
   "execution_count": null,
   "metadata": {},
   "outputs": [],
   "source": [
    "# Put your answer here.  \n",
    "# Feel free to swich this cell to markdown if you want to try writing your answer in latex."
   ]
  },
  {
   "cell_type": "code",
   "execution_count": null,
   "metadata": {},
   "outputs": [],
   "source": [
    "from answercheck import checkanswer\n",
    "\n",
    "checkanswer.matrix(E4,'3a5256840ef907a1b73ebba4471ac26d');\n"
   ]
  },
  {
   "cell_type": "markdown",
   "metadata": {},
   "source": [
    "If the above are correct then we can combine the three operators on the original matrix $A$ as follows. "
   ]
  },
  {
   "cell_type": "code",
   "execution_count": null,
   "metadata": {},
   "outputs": [],
   "source": [
    "A = np.matrix([[3, -3,9], [2, -2, 7], [-1, 2, -4]])\n",
    "\n",
    "sym.Matrix(E4*E3*E2*A)"
   ]
  },
  {
   "cell_type": "markdown",
   "metadata": {},
   "source": [
    "---\n",
    "<a name='Inverse'></a>\n",
    "### Inverse Matrices\n",
    "\n",
    "For some (not all) **square** matrices $A$, there exists a special matrix called the Inverse Matrix, which is typically written as $A^{-1}$ and when multiplied by $A$ results in the identity matrix $I$:\n",
    "\n",
    "$$ A^{-1}A = AA^{-1} = I $$\n",
    "\n",
    "We say that a matrix $A$ is **invertible** if there exists an inverse matrix $A^{-1}$ such that the above equalities hold. \n",
    "\n",
    "Some properties of an Inverse Matrix include:\n",
    "\n",
    "1. $(A^{-1})^{-1} = A$\n",
    "2. $(cA)^{-1} = \\frac{1}{c}A^{-1}$\n",
    "3. $(AB)^{-1} = B^{-1}A^{-1}$\n",
    "4. $(A^n)^{-1} = (A^{-1})^n$\n",
    "1. $(A^\\top)^{-1} = (A^{-1})^\\top$  here $A^\\top$ is the tranpose of the matrix $A$.\n",
    "\n",
    "\n",
    "&#9989;  **<font color=red>DO THIS:</font>** Find a Python numpy command that will calculate the inverse of a matrix and use it invert the following matrix ```A```.  Store the inverse in a new matirx named ```A_inv```"
   ]
  },
  {
   "cell_type": "code",
   "execution_count": null,
   "metadata": {},
   "outputs": [],
   "source": [
    "import numpy as np\n",
    "import sympy as sym\n",
    "sym.init_printing(use_unicode=True) # Trick to make matrixes look nice in jupyter\n",
    "\n",
    "A = np.matrix([[1, 2, 3], [4, 5, 6], [7,8,7]])\n",
    "\n",
    "sym.Matrix(A)"
   ]
  },
  {
   "cell_type": "code",
   "execution_count": null,
   "metadata": {},
   "outputs": [],
   "source": [
    "#put your answer to the above question here."
   ]
  },
  {
   "cell_type": "markdown",
   "metadata": {},
   "source": [
    "Lets check your answer by multiplying ```A``` by ```A_inv```. "
   ]
  },
  {
   "cell_type": "code",
   "execution_count": null,
   "metadata": {},
   "outputs": [],
   "source": [
    "A * A_inv"
   ]
  },
  {
   "cell_type": "code",
   "execution_count": null,
   "metadata": {},
   "outputs": [],
   "source": [
    "np.allclose(A*A_inv, [[1,0,0],[0,1,0],[0,0,1]])"
   ]
  },
  {
   "cell_type": "markdown",
   "metadata": {},
   "source": [
    "### How do we create an inverse matrix?\n",
    "\n",
    "From previous assignments, we learned that we could string together a bunch of Elementary Row Operations to get matrix ($A$) into it's Reduced Row Echelon form. We now know that we can represent Elementary Row Operations as a sequence of Elementaary Matrices as follows:\n",
    "\n",
    "$$ E_n \\dots E_3 E_2 E_1 A = I $$\n",
    "\n",
    "If $A$ reduces to the identity matrix (i.e. $A$ is row equivalent to $I$), then $A$ has an inverse and its inverse is just all of the Elementary Matrices multiplied together:\n",
    "\n",
    "$$ A^{-1} = E_n \\dots E_3 E_2 E_1 $$\n",
    "\n",
    "Consider the following matrix.  \n",
    "$$\n",
    "A = \\left[\n",
    "\\begin{matrix}\n",
    "    1 & 2 \\\\ \n",
    "    4 & 6 \n",
    "\\end{matrix}\n",
    "\\right] \n",
    "$$"
   ]
  },
  {
   "cell_type": "code",
   "execution_count": null,
   "metadata": {},
   "outputs": [],
   "source": [
    "A = np.matrix([[1, 2], [4,6]])"
   ]
  },
  {
   "cell_type": "markdown",
   "metadata": {},
   "source": [
    "It can be reduced into an identity matrix using the following elementary operators\n",
    "\n",
    "| Words | Elementary Matrix|\n",
    "|:---:|:---:|\n",
    "| Adding -4 times row 1 to row 2. | $$E_1 = \\left[\\begin{matrix}1 & 0 \\\\ -4 & 1 \\end{matrix}\\right]$$ |\n",
    "|Adding row 2 to row 1. |$$\n",
    "E_2 = \\left[\n",
    "\\begin{matrix}\n",
    "    1 & 1 \\\\ \n",
    "    0 & 1 \n",
    "\\end{matrix}\n",
    "\\right] $$ |\n",
    "| Multiplying row 2 by $-\\frac{1}{2}$.| $$\n",
    "E_3 = \n",
    "\\left[\n",
    "\\begin{matrix}\n",
    "    1 & 0 \\\\ \n",
    "    0 & -\\frac{1}{2} \n",
    "\\end{matrix}\n",
    "\\right]\n",
    "$$ |"
   ]
  },
  {
   "cell_type": "code",
   "execution_count": null,
   "metadata": {},
   "outputs": [],
   "source": [
    "E1 = np.matrix([[1,0], [-4,1]])\n",
    "E2 = np.matrix([[1,1], [0,1]])\n",
    "E3 = np.matrix([[1,0],[0,-1/2]])"
   ]
  },
  {
   "cell_type": "markdown",
   "metadata": {},
   "source": [
    "We can just check that the statment seems to be true by multiplying everything out."
   ]
  },
  {
   "cell_type": "code",
   "execution_count": null,
   "metadata": {},
   "outputs": [],
   "source": [
    "E3*E2*E1*A"
   ]
  },
  {
   "cell_type": "markdown",
   "metadata": {},
   "source": [
    "&#9989;  **<font color=red>DO THIS:</font>** Combine the above elementary Matrices to make an inverse matrix named ```A_inv```"
   ]
  },
  {
   "cell_type": "code",
   "execution_count": null,
   "metadata": {},
   "outputs": [],
   "source": [
    "# Put your answer to the above question here."
   ]
  },
  {
   "cell_type": "markdown",
   "metadata": {},
   "source": [
    "&#9989;  **<font color=red>DO THIS:</font>** Verify that ``A_inv`` is an actual inverse and chech that $AA^{-1} = I$."
   ]
  },
  {
   "cell_type": "code",
   "execution_count": null,
   "metadata": {},
   "outputs": [],
   "source": [
    "# Put your code here."
   ]
  },
  {
   "cell_type": "markdown",
   "metadata": {},
   "source": [
    "Notice, at the beginning of the section we said that not all matrices are invertible. For starters we require that a matrix be square before we can even begin to discuss if it is invertible. An example of a matrix that does not have an inverse is\n",
    "\n",
    "$$B = \\begin{bmatrix}\n",
    " 1 & 3 \\\\ \n",
    " 2 & 6 \\\\\n",
    "\\end{bmatrix}.$$\n",
    "\n",
    "We will discuss ways to prove this fact as the course develops.\n"
   ]
  },
  {
   "cell_type": "markdown",
   "metadata": {},
   "source": [
    "----\n",
    "<a name='applications'></a>\n",
    "## Application: Changing Color Vectors\n",
    "\n",
    "We will study applications of matrix multiplication to transforming points in space and robotics next week in assignment 104, but for today we will now look at changing the colors in a digital image.\n",
    "\n",
    "In the first class we talked about how a computer stores a color as a 3-vector representing the amount of red, green, and blue to add to a pixel. We saw briefly in the pre-class assignment how a computer stores a digital image. Specifically, they are stored as a triple $(x,y,C)$ where $x$ and $y$ represent the coordinates for the pixel in the image, and $C$ is a color vector representing the color of the pixel at that coordinate. \n",
    "\n",
    "What we do in the following is start with an image which is $h$-pixels tall and $w$-pixels wide, and lay out all of color vectors horizontally into a $ 3 \\times hw$ matrix. Then we multiply this new matrix by a $3 \\times 3$ matrix which will transform the image into a new one. \n"
   ]
  },
  {
   "cell_type": "code",
   "execution_count": null,
   "metadata": {},
   "outputs": [],
   "source": [
    "%matplotlib inline \n",
    "import matplotlib.pylab as plt\n",
    "import numpy as np\n",
    "import sympy as sym\n",
    "sym.init_printing()"
   ]
  },
  {
   "cell_type": "code",
   "execution_count": null,
   "metadata": {},
   "outputs": [],
   "source": [
    "import imageio\n",
    "\n",
    "## If neither of the url's below work for you please change it to any image url (use google). \n",
    "## Note however, that the smaller the dimensions of the image the faster the code will run.\n",
    "url = 'http://www.ideachampions.com/weblogs/iStock_000022162723_Small.jpg'\n",
    "#url = 'http://colortutorial.design/rgb.jpg'\n",
    "im = imageio.imread(url)\n",
    "plt.imshow(im)"
   ]
  },
  {
   "cell_type": "markdown",
   "metadata": {},
   "source": [
    "The functions below will convert between images represented by 3-dimensional arrays of shape $(h,w,3)$, and numpy matrices of size $3 \\times n$. In the $3 \\times n$ matrix each column represents the color of an individual pixel of our image."
   ]
  },
  {
   "cell_type": "code",
   "execution_count": null,
   "metadata": {},
   "outputs": [],
   "source": [
    "def image2matrix(image):\n",
    "    '''Turns an image into a numpy matrix of size 3 x (h*w).'''\n",
    "    h,w,_ = image.shape\n",
    "    return np.matrix(image.reshape(h*w,3)).T\n",
    "\n",
    "def matrix2image(matrix,h,w):\n",
    "    '''Turns a 3xn matrix into a numpy array of shape (h,w,3).'''\n",
    "    \n",
    "    if h*w != matrix.shape[1]:\n",
    "        raise Exception(\"Matrix must have length of h*w!\")\n",
    "        \n",
    "    return np.array(matrix.T).reshape(h,w,3).astype(int).clip(0,255)"
   ]
  },
  {
   "cell_type": "markdown",
   "metadata": {},
   "source": [
    "Below is the image matrix that we will be using for our examples. It is saved as ``im_mat``."
   ]
  },
  {
   "cell_type": "code",
   "execution_count": null,
   "metadata": {},
   "outputs": [],
   "source": [
    "h,w,_ = im.shape\n",
    "im_mat = image2matrix(im)\n",
    "im_mat.shape"
   ]
  },
  {
   "cell_type": "markdown",
   "metadata": {},
   "source": [
    "If we apply a matrix multiplication to ``im_mat`` we are changing the color vectors associated to the pixel.\n",
    "The idea is that if we have a matrix $M$ and a color vector $x = (R,G,B)^T$, then $Mx$ will be a new $ 3 \\times 1$ matrix that represents a new color. "
   ]
  },
  {
   "cell_type": "code",
   "execution_count": null,
   "metadata": {},
   "outputs": [],
   "source": [
    "sepia = np.matrix('0.393,0.769,0.189;0.349,0.686,0.168;0.272,0.534,0.131')\n",
    "sepia_mat = sepia * im_mat\n",
    "plt.imshow(matrix2image(sepia_mat,h,w))"
   ]
  },
  {
   "cell_type": "markdown",
   "metadata": {},
   "source": [
    "&#9989;  **<font color=red>Do This:</font>** (5pts) Apply the following grayscale transformation below to the image matrix ``im_mat``."
   ]
  },
  {
   "cell_type": "code",
   "execution_count": null,
   "metadata": {},
   "outputs": [],
   "source": [
    "## Edit this cell for your work. \n",
    "grayscale = np.matrix(np.ones([3,3]))/3\n",
    "\n",
    "#new_image_matrix = "
   ]
  },
  {
   "cell_type": "code",
   "execution_count": null,
   "metadata": {},
   "outputs": [],
   "source": [
    "##This will show the transformed image.\n",
    "plt.imshow(matrix2image(new_image_matrix,h,w))"
   ]
  },
  {
   "cell_type": "markdown",
   "metadata": {},
   "source": [
    "&#9989;  **<font color=red>QUESTION 4:</font>** (5pts) Create a $3 \\times 3$ elementary matrix ```E``` that swaps the red and blue values in a color vector.\n",
    "That is we want ``E`` to be a matrix such that $Ex = x'$ where $x = [R,G,B]^T$ and $x' = [B,G,R]^T$. "
   ]
  },
  {
   "cell_type": "code",
   "execution_count": null,
   "metadata": {},
   "outputs": [],
   "source": [
    "## Edit this cell for your work. "
   ]
  },
  {
   "cell_type": "code",
   "execution_count": null,
   "metadata": {},
   "outputs": [],
   "source": [
    "plt.imshow(matrix2image(A*im_mat,h,w))"
   ]
  },
  {
   "cell_type": "markdown",
   "metadata": {},
   "source": [
    "\n"
   ]
  }
 ],
 "metadata": {
  "anaconda-cloud": {},
  "kernelspec": {
   "display_name": "Python 3",
   "language": "python",
   "name": "python3"
  },
  "language_info": {
   "codemirror_mode": {
    "name": "ipython",
    "version": 3
   },
   "file_extension": ".py",
   "mimetype": "text/x-python",
   "name": "python",
   "nbconvert_exporter": "python",
   "pygments_lexer": "ipython3",
   "version": "3.7.6"
  }
 },
 "nbformat": 4,
 "nbformat_minor": 4
}
