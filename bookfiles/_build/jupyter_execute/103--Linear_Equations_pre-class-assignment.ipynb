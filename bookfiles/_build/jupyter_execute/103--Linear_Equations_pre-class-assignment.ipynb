{
 "cells": [
  {
   "cell_type": "markdown",
   "metadata": {},
   "source": []
  },
  {
   "cell_type": "markdown",
   "metadata": {},
   "source": [
    "# 103 Pre-Class Assignment: Linear Equations"
   ]
  },
  {
   "cell_type": "markdown",
   "metadata": {},
   "source": [
    "Choose one reading out  each of the following groups\n",
    "\n",
    "### Readings for Systems of Equations (Recommended in bold)\n",
    " * [Heffron Chapter 1.I, pg 1-2](http://joshua.smcvt.edu/linearalgebra/book.pdf)\n",
    " * [Beezer Chapter SLE pg 1-7](http://linear.ups.edu/download/fcla-3.50-tablet.pdf)\n",
    "\n",
    "\n",
    "### Recommended further readings for Elementary Operations & Gauss Jordan\n",
    "\n",
    "* **_[Beezer - Section RREF pg 22-44](http://linear.ups.edu/download/fcla-3.50-tablet.pdf)_**\n",
    "* [Heffron - Chapter 1.I, pg 2-13](http://joshua.smcvt.edu/linearalgebra/book.pdf)\n",
    "\n"
   ]
  },
  {
   "cell_type": "markdown",
   "metadata": {},
   "source": [
    "---\n",
    "### Assignment Overview\n",
    "1. [System of Linear Equations](#System_of_Linear_Equations)\n",
    "1. [Visualizing the problem](#Visualizing_the_problem)\n",
    "2. [Introduction to Gauss Jordan Elimination](#Introduction-to-Gauss-Jordan-Elimination)\n",
    "3. [ Gauss Jordan Elimination and the Row Echelon Form](#-Gauss-Jordan-Elimination-and-the-Row-Echelon-Form)\n",
    "4. [Gauss Jordan Practice](#Gauss-Jordan-Practice)\n",
    "5. [Assignment wrap up](#Assignment-wrap-up)\n",
    "\n"
   ]
  },
  {
   "cell_type": "markdown",
   "metadata": {},
   "source": [
    "---\n",
    "<a name=\"System_of_Linear_Equations\"></a>\n",
    "## 1. System of Linear Equations\n",
    "\n",
    "In this course we will spend a lot of time working with systems of linear equations.  A linear equation is in the form:\n",
    "\n",
    "$$a_1x_1 + a_2x_2 + a_3x_3 + \\ldots + a_nx_n = b$$\n",
    "\n",
    "Where $a_1, a_2, a_3, \\ldots a_n$ and $b$ are known constants and $x_1, x_2, x_3, \\ldots x_n$ are unknown values.  Typically we have systems of equations with different values of $a$s and $b$s but the unknowns are the same.  \n",
    "\n",
    "The following video explains the different ways we can describe linear systems."
   ]
  },
  {
   "cell_type": "code",
   "execution_count": 1,
   "metadata": {},
   "outputs": [
    {
     "data": {
      "image/jpeg": "[encoded data removed]",
      "text/html": [
       "\n",
       "<iframe\n",
       "    width=\"640\"\n",
       "    height=\"360\"\n",
       "    src=\"https://www.youtube.com/embed/AQJeOg4ZoIk?cc_load_policy=True\"\n",
       "    frameborder=\"0\"\n",
       "    allowfullscreen\n",
       "></iframe>\n"
      ],
      "text/plain": [
       "<IPython.lib.display.YouTubeVideo at 0x7fb394caca50>"
      ]
     },
     "execution_count": 1,
     "metadata": {
      "filenames": {
       "image/jpeg": "/Users/mattmills/Dropbox/MTH314S/mth314S/bookfiles/_build/jupyter_execute/103--Linear_Equations_pre-class-assignment_5_0.jpg"
      }
     },
     "output_type": "execute_result"
    }
   ],
   "source": [
    "from IPython.display import YouTubeVideo\n",
    "YouTubeVideo(\"AQJeOg4ZoIk\",width=640,height=360, cc_load_policy=True)"
   ]
  },
  {
   "cell_type": "markdown",
   "metadata": {},
   "source": [
    "The following is a summary of the syntax shown in the video:"
   ]
  },
  {
   "cell_type": "markdown",
   "metadata": {},
   "source": [
    "### Linear Equation $$b = a_1x_1+a_2x_2+a_3x_3 + \\ldots a_nx_n$$"
   ]
  },
  {
   "cell_type": "markdown",
   "metadata": {},
   "source": [
    "### System of linear equations\n",
    "$$b_1 = a_{11}x_1+a_{12}x_2+a_{13}x_3 + \\ldots a_{1n}$$\n",
    "$$b_2 = a_{21}x_1+a_{22}x_2+a_{23}x_3 + \\ldots a_{2n}$$\n",
    "$$b_3 = a_{31}x_1+a_{32}x_2+a_{33}x_3 + \\ldots a_{3n}$$\n",
    "$$\\vdots$$\n",
    "$$b_m = a_{m1}x_1+a_{m2}x_2+a_{m3}x_3 + \\ldots a_{mn}$$"
   ]
  },
  {
   "cell_type": "markdown",
   "metadata": {},
   "source": [
    "### System of linear equations (Matrix format)"
   ]
  },
  {
   "cell_type": "markdown",
   "metadata": {},
   "source": [
    "$$ \n",
    "\\left[ \n",
    "\\begin{matrix}\n",
    "    b_1 \\\\ \n",
    "    b_2 \\\\\n",
    "    b_3 \\\\\n",
    "    \\vdots \\\\\n",
    "    b_m\n",
    " \\end{matrix}\n",
    "\\right] \n",
    "=\n",
    "\\left[ \n",
    "\\begin{matrix}\n",
    " a_{11} & a_{12} & a_{13} &   & a_{1n} \\\\ \n",
    " a_{21} & a_{22} & a_{23} &  \\ldots & a_{2n} \\\\ \n",
    "  a_{31} & a_{32} & a_{33} &   & a_{3n} \\\\ \n",
    "  & \\vdots &   & \\ddots & \\vdots \\\\ \n",
    " a_{m1} & a_{m2} & a_{m3} &   & a_{mn} \n",
    "\\end{matrix}\n",
    "\\right] \n",
    "\\left[ \n",
    "\\begin{matrix}\n",
    "    x_1 \\\\ \n",
    "    x_2 \\\\\n",
    "    x_3 \\\\\n",
    "    \\vdots \\\\\n",
    "    x_m\n",
    "\\end{matrix}\n",
    "\\right] $$\n",
    "\n",
    "$$b=Ax$$"
   ]
  },
  {
   "cell_type": "markdown",
   "metadata": {},
   "source": [
    "### System of linear equations (Augmented Form)\n",
    "$$ \n",
    "\\left[ \n",
    "\\begin{matrix}\n",
    " a_{11} & a_{12} & a_{13} &   & a_{1n} \\\\ \n",
    " a_{21} & a_{22} & a_{23} &  \\ldots & a_{2n} \\\\ \n",
    "  a_{31} & a_{32} & a_{33} &   & a_{3n} \\\\ \n",
    "  & \\vdots &   & \\ddots & \\vdots \\\\ \n",
    " a_{m1} & a_{m2} & a_{m3} &   & a_{mn} \n",
    "\\end{matrix}\n",
    " \\, \\middle\\vert \\,\n",
    "\\begin{matrix}\n",
    "    b_1 \\\\ \n",
    "    b_2 \\\\\n",
    "    b_3 \\\\\n",
    "    \\vdots \\\\\n",
    "    b_m\n",
    "\\end{matrix}\n",
    "\\right] \n",
    "$$"
   ]
  },
  {
   "cell_type": "markdown",
   "metadata": {},
   "source": [
    "Consider the example of linear equations in the following video. \n",
    "\n",
    "&#9989; **<font color=red>TODO:</font>**  Watch the video and follow along in the notebook."
   ]
  },
  {
   "cell_type": "code",
   "execution_count": 2,
   "metadata": {},
   "outputs": [
    {
     "data": {
      "image/jpeg": "[encoded data removed]",
      "text/html": [
       "\n",
       "<iframe\n",
       "    width=\"640\"\n",
       "    height=\"360\"\n",
       "    src=\"https://www.youtube.com/embed/CH68cc7sH4A?cc_load_policy=True\"\n",
       "    frameborder=\"0\"\n",
       "    allowfullscreen\n",
       "></iframe>\n"
      ],
      "text/plain": [
       "<IPython.lib.display.YouTubeVideo at 0x7fb394c8e9d0>"
      ]
     },
     "execution_count": 2,
     "metadata": {
      "filenames": {
       "image/jpeg": "/Users/mattmills/Dropbox/MTH314S/mth314S/bookfiles/_build/jupyter_execute/103--Linear_Equations_pre-class-assignment_13_0.jpg"
      }
     },
     "output_type": "execute_result"
    }
   ],
   "source": [
    "from IPython.display import YouTubeVideo\n",
    "YouTubeVideo(\"CH68cc7sH4A\",width=640,height=360, cc_load_policy=True)"
   ]
  },
  {
   "cell_type": "markdown",
   "metadata": {},
   "source": [
    "\n",
    "> Giselle works as a carpenter and as a blacksmith. She earns 20 dollars per hour as a carpenter and 25 dollars \n",
    "> per hour as a blacksmith. Last week, Giselle worked both jobs for a total of 30 hours, and earned a total of 690 dollars. How long did Giselle work as a carpenter last week, and how long did she work as a blacksmith?\n",
    ">\n",
    "> - [Brainly.com](https://brainly.com/question/2202719)\n",
    "\n",
    "This problems gives us two equations and two unknowns:\n",
    "\n",
    "$$ c + b = 30 $$\n",
    "$$ 20c + 25b = 690 $$\n",
    "\n",
    "<a name=\"solution\"></a>\n",
    "How would we solve this in linear algebra?  \n",
    "\n",
    "$$ c + b = 30$$\n",
    "$$ 20c + 25b = 690$$\n",
    "\n",
    "First, we can multiply the first equation by -20 and add to the second equation.  This is often called a \"linear combination\" of the two equations. The operation does not change the answer:\n",
    "\n",
    "$$ -20c - 20b = -600$$\n",
    "$$ 20c + 25b = 690$$\n",
    "$$----$$\n",
    "$$ 0c + 5b = 90$$\n",
    "\n",
    "This is our new system of equations:\n",
    "$$ c + b = 30$$\n",
    "$$ 0c + 5b = 90$$\n",
    "\n",
    "Now we can easily divide the second equation by 5 and get the value for $b$:\n",
    "\n",
    "$$b = 90/5 = 18$$\n",
    "\n",
    "If we substitute 18 for $b$ into the first equation we get:\n",
    "$$ c + 18 = 30$$\n",
    "\n",
    "And solving for $c$ gives us $c = 30-18=12$.  Let's check to see if this works by substituting $b=18$ and $c=12$ into our original equations:\n",
    "\n",
    "$$ 12 + 18 = 30$$\n",
    "$$ 20(12) + 25(18) = 690$$"
   ]
  },
  {
   "cell_type": "markdown",
   "metadata": {},
   "source": [
    "Let's check the answer using Python:"
   ]
  },
  {
   "cell_type": "code",
   "execution_count": 3,
   "metadata": {},
   "outputs": [],
   "source": [
    "b = 18\n",
    "c = 12"
   ]
  },
  {
   "cell_type": "code",
   "execution_count": 4,
   "metadata": {},
   "outputs": [
    {
     "data": {
      "text/plain": [
       "True"
      ]
     },
     "execution_count": 4,
     "metadata": {},
     "output_type": "execute_result"
    }
   ],
   "source": [
    "c + b == 30"
   ]
  },
  {
   "cell_type": "code",
   "execution_count": 5,
   "metadata": {},
   "outputs": [
    {
     "data": {
      "text/plain": [
       "True"
      ]
     },
     "execution_count": 5,
     "metadata": {},
     "output_type": "execute_result"
    }
   ],
   "source": [
    "20*c + 25*b == 690"
   ]
  },
  {
   "cell_type": "markdown",
   "metadata": {},
   "source": [
    "&#9989; **<font color=red>QUESTION:</font>**  The above video described three (3) elementary operators that can be applied to a system of linear equations and not change their answer.  What are these three operators?  "
   ]
  },
  {
   "cell_type": "markdown",
   "metadata": {},
   "source": [
    "**_Erase the contents of this cell and put your answer to the above question here_**"
   ]
  },
  {
   "cell_type": "markdown",
   "metadata": {},
   "source": [
    "---\n",
    "<a name=\"Visualizing_the_problem\"></a>\n",
    "## 2.  Visualizing the problem\n",
    "We can visualize the solution to a system of linear equations in a graph. If we make $b$ the \"$y$\"-axis and $c$ the \"$x$\"-axis. For each equation, we calculate the $b$ value for each $c$, and two equations give us two lines. \n",
    "\n",
    "**Note:** This is sometimes called the \"Row Picture.\" I will ask you why it has this name in class so think about it.\n"
   ]
  },
  {
   "cell_type": "code",
   "execution_count": 6,
   "metadata": {},
   "outputs": [
    {
     "data": {
      "image/jpeg": "[encoded data removed]",
      "text/html": [
       "\n",
       "<iframe\n",
       "    width=\"640\"\n",
       "    height=\"360\"\n",
       "    src=\"https://www.youtube.com/embed/BSxWO6FGib0?cc_load_policy=True\"\n",
       "    frameborder=\"0\"\n",
       "    allowfullscreen\n",
       "></iframe>\n"
      ],
      "text/plain": [
       "<IPython.lib.display.YouTubeVideo at 0x7fb394d14710>"
      ]
     },
     "execution_count": 6,
     "metadata": {
      "filenames": {
       "image/jpeg": "/Users/mattmills/Dropbox/MTH314S/mth314S/bookfiles/_build/jupyter_execute/103--Linear_Equations_pre-class-assignment_22_0.jpg"
      }
     },
     "output_type": "execute_result"
    }
   ],
   "source": [
    "from IPython.display import YouTubeVideo\n",
    "YouTubeVideo(\"BSxWO6FGib0\",width=640,height=360, cc_load_policy=True)"
   ]
  },
  {
   "cell_type": "code",
   "execution_count": 7,
   "metadata": {},
   "outputs": [],
   "source": [
    "%matplotlib inline\n",
    "import matplotlib.pylab as plt\n",
    "import numpy as np"
   ]
  },
  {
   "cell_type": "code",
   "execution_count": 8,
   "metadata": {},
   "outputs": [
    {
     "data": {
      "text/plain": [
       "array([ 0.        ,  0.40816327,  0.81632653,  1.2244898 ,  1.63265306,\n",
       "        2.04081633,  2.44897959,  2.85714286,  3.26530612,  3.67346939,\n",
       "        4.08163265,  4.48979592,  4.89795918,  5.30612245,  5.71428571,\n",
       "        6.12244898,  6.53061224,  6.93877551,  7.34693878,  7.75510204,\n",
       "        8.16326531,  8.57142857,  8.97959184,  9.3877551 ,  9.79591837,\n",
       "       10.20408163, 10.6122449 , 11.02040816, 11.42857143, 11.83673469,\n",
       "       12.24489796, 12.65306122, 13.06122449, 13.46938776, 13.87755102,\n",
       "       14.28571429, 14.69387755, 15.10204082, 15.51020408, 15.91836735,\n",
       "       16.32653061, 16.73469388, 17.14285714, 17.55102041, 17.95918367,\n",
       "       18.36734694, 18.7755102 , 19.18367347, 19.59183673, 20.        ])"
      ]
     },
     "execution_count": 8,
     "metadata": {},
     "output_type": "execute_result"
    }
   ],
   "source": [
    "c = np.linspace(0,20)\n",
    "c"
   ]
  },
  {
   "cell_type": "code",
   "execution_count": 9,
   "metadata": {},
   "outputs": [],
   "source": [
    "b1 = 30-c\n",
    "b2 = (690-20*c)/25"
   ]
  },
  {
   "cell_type": "markdown",
   "metadata": {},
   "source": [
    "### Row Picture"
   ]
  },
  {
   "cell_type": "code",
   "execution_count": 10,
   "metadata": {},
   "outputs": [
    {
     "data": {
      "image/png": "[encoded data removed]",
      "text/plain": [
       "<Figure size 432x288 with 1 Axes>"
      ]
     },
     "metadata": {
      "filenames": {
       "image/png": "/Users/mattmills/Dropbox/MTH314S/mth314S/bookfiles/_build/jupyter_execute/103--Linear_Equations_pre-class-assignment_27_0.png"
      },
      "needs_background": "light"
     },
     "output_type": "display_data"
    }
   ],
   "source": [
    "plt.plot(c,b1)\n",
    "plt.plot(c,b2)\n",
    "plt.xlabel('c (hours worked as carpenter)')\n",
    "plt.ylabel('b (hours worked as blacksmith)')\n",
    "plt.scatter(12,18);"
   ]
  },
  {
   "cell_type": "markdown",
   "metadata": {},
   "source": [
    "\n",
    "Now, consider the next set of equations which do not have a solution\n",
    "\n",
    "$$-2x+y=3$$\n",
    "$$-4x+2y=2$$\n"
   ]
  },
  {
   "cell_type": "code",
   "execution_count": 11,
   "metadata": {},
   "outputs": [
    {
     "data": {
      "image/png": "[encoded data removed]",
      "text/plain": [
       "<Figure size 432x288 with 1 Axes>"
      ]
     },
     "metadata": {
      "filenames": {
       "image/png": "/Users/mattmills/Dropbox/MTH314S/mth314S/bookfiles/_build/jupyter_execute/103--Linear_Equations_pre-class-assignment_29_0.png"
      },
      "needs_background": "light"
     },
     "output_type": "display_data"
    }
   ],
   "source": [
    "x = np.linspace(-10,10)\n",
    "y1 =  3+2*x\n",
    "y2 = (2+4*x)/2\n",
    "plt.plot(x,y1)\n",
    "plt.plot(x,y2);"
   ]
  },
  {
   "cell_type": "code",
   "execution_count": 12,
   "metadata": {},
   "outputs": [
    {
     "data": {
      "image/jpeg": "[encoded data removed]",
      "text/html": [
       "\n",
       "<iframe\n",
       "    width=\"640\"\n",
       "    height=\"360\"\n",
       "    src=\"https://www.youtube.com/embed/Z9gkovHDpIQ?cc_load_policy=True\"\n",
       "    frameborder=\"0\"\n",
       "    allowfullscreen\n",
       "></iframe>\n"
      ],
      "text/plain": [
       "<IPython.lib.display.YouTubeVideo at 0x7fb39606f290>"
      ]
     },
     "execution_count": 12,
     "metadata": {
      "filenames": {
       "image/jpeg": "/Users/mattmills/Dropbox/MTH314S/mth314S/bookfiles/_build/jupyter_execute/103--Linear_Equations_pre-class-assignment_30_0.jpg"
      }
     },
     "output_type": "execute_result"
    }
   ],
   "source": [
    "from IPython.display import YouTubeVideo\n",
    "YouTubeVideo(\"Z9gkovHDpIQ\",width=640,height=360, cc_load_policy=True)"
   ]
  },
  {
   "cell_type": "markdown",
   "metadata": {},
   "source": [
    "Consider the next set of equations which have infinite many solutions\n",
    "\n",
    "$$4x-2y=6$$\n",
    "$$6x-3y=9$$\n"
   ]
  },
  {
   "cell_type": "code",
   "execution_count": 13,
   "metadata": {},
   "outputs": [
    {
     "data": {
      "text/plain": [
       "[<matplotlib.lines.Line2D at 0x7fb395f468d0>]"
      ]
     },
     "execution_count": 13,
     "metadata": {},
     "output_type": "execute_result"
    },
    {
     "data": {
      "image/png": "[encoded data removed]",
      "text/plain": [
       "<Figure size 432x288 with 1 Axes>"
      ]
     },
     "metadata": {
      "filenames": {
       "image/png": "/Users/mattmills/Dropbox/MTH314S/mth314S/bookfiles/_build/jupyter_execute/103--Linear_Equations_pre-class-assignment_32_1.png"
      },
      "needs_background": "light"
     },
     "output_type": "display_data"
    }
   ],
   "source": [
    "x = np.linspace(-10,10)\n",
    "y1 =  (4*x-6)/2\n",
    "y2 = (6*x-9)/3\n",
    "plt.plot(x,y1)\n",
    "plt.plot(x,y2)"
   ]
  },
  {
   "cell_type": "markdown",
   "metadata": {},
   "source": [
    "&#9989; **<font color=red>DO THIS:</font>**  Plot the following equations from -100 to 100\n",
    "\n",
    "$$ 18x+21y = 226$$\n",
    "$$ 72x-3y = 644$$"
   ]
  },
  {
   "cell_type": "code",
   "execution_count": 14,
   "metadata": {},
   "outputs": [],
   "source": [
    "# Put your python code here"
   ]
  },
  {
   "cell_type": "markdown",
   "metadata": {},
   "source": [
    "&#9989; **<font color=red>QUESTION:</font>**  Using the graph, what is a visual estimation of the solution to these two equations?  Hint, you may want to change the $x$ range to \"zoom\" in on the intersection. "
   ]
  },
  {
   "cell_type": "markdown",
   "metadata": {},
   "source": [
    "**_Put your answer to the above question here._**"
   ]
  },
  {
   "cell_type": "markdown",
   "metadata": {},
   "source": [
    "### Column Picture\n",
    "\n",
    "I think a good programmer is a lazy person. Let's avoid writing all of the letters in the above equation by changing it into a column vector format as follows.\n"
   ]
  },
  {
   "cell_type": "markdown",
   "metadata": {},
   "source": [
    "$$ \n",
    "c\n",
    "\\left[\n",
    "\\begin{matrix}\n",
    "    1 \\\\ 20  \n",
    " \\end{matrix}\n",
    "\\right]\n",
    "+\n",
    "b\n",
    "\\left[\n",
    "\\begin{matrix}\n",
    "    1 \\\\ 5  \n",
    " \\end{matrix}\n",
    "\\right]\n",
    "=\n",
    "\\left[\n",
    "\\begin{matrix}\n",
    " 30 \\\\ 330\n",
    "\\end{matrix}\n",
    "\\right]\n",
    "$$"
   ]
  },
  {
   "cell_type": "markdown",
   "metadata": {},
   "source": [
    "Notice that this still represents the same system of equations. We just write the constants as column vectors and we only have to write the unknowns once (Since they are the same for all equations). "
   ]
  },
  {
   "cell_type": "markdown",
   "metadata": {},
   "source": [
    "Let's plot this \"column picture\", which shows how the above equation is a \"linear combination\" of the two column vectors.  \n",
    "\n",
    "One way to think about this is we can only move in straight lines in two directions. The first direction is (1,20) and the second is (1,5).  The solution to the problem is how far in each direction we need to move to arrive at our final destination of (30,330).\n",
    "\n",
    "The first column is a vector in the (1,20) direction. The variable $c$ is how far in the (1,20) direction we want to go.  Then $b$ is how far in the (1,5) direction we want to go to arrive at the point (30,330).\n",
    "\n",
    "We will use the ```matplotlib``` function ```arrow``` to plot the vectors.  The arrow function takes a starting point $[x,y]$ and a direction $[dx,dy]$ as inputs and draws an arrow from the starting point in the direction specified."
   ]
  },
  {
   "cell_type": "markdown",
   "metadata": {},
   "source": [
    "First thing to do is plot the first column as a vector. From the origin (0,0) to $c\\left[\n",
    "\\begin{matrix}\n",
    "    1 \\\\ 20  \n",
    " \\end{matrix}\n",
    "\\right]$\n",
    "\n",
    "**or** $x = c$ and $y = 20c$ with $c=12$"
   ]
  },
  {
   "cell_type": "code",
   "execution_count": 15,
   "metadata": {},
   "outputs": [
    {
     "data": {
      "text/plain": [
       "<matplotlib.patches.FancyArrow at 0x7fb396192c90>"
      ]
     },
     "execution_count": 15,
     "metadata": {},
     "output_type": "execute_result"
    },
    {
     "data": {
      "image/png": "[encoded data removed]",
      "text/plain": [
       "<Figure size 432x288 with 1 Axes>"
      ]
     },
     "metadata": {
      "filenames": {
       "image/png": "/Users/mattmills/Dropbox/MTH314S/mth314S/bookfiles/_build/jupyter_execute/103--Linear_Equations_pre-class-assignment_42_1.png"
      },
      "needs_background": "light"
     },
     "output_type": "display_data"
    }
   ],
   "source": [
    "c = 12\n",
    "\n",
    "#hack to initialize bounds of plot (need this to get the arrows to work?)\n",
    "plt.plot(0,0)\n",
    "plt.plot(30,330)\n",
    "\n",
    "# Plot the first arrow \n",
    "plt.arrow(0, 0, c*1, c*20,head_width=2, head_length=10, fc='blue', ec='blue')"
   ]
  },
  {
   "cell_type": "markdown",
   "metadata": {},
   "source": [
    "Next thing to do is plot the second column as a vector by adding it to the first. This ```arrow``` will start at the end of the previous vector and \"add\" the second column vector:"
   ]
  },
  {
   "cell_type": "code",
   "execution_count": 16,
   "metadata": {},
   "outputs": [
    {
     "data": {
      "text/plain": [
       "<matplotlib.patches.FancyArrow at 0x7fb3961a8390>"
      ]
     },
     "execution_count": 16,
     "metadata": {},
     "output_type": "execute_result"
    },
    {
     "data": {
      "image/png": "[encoded data removed]",
      "text/plain": [
       "<Figure size 432x288 with 1 Axes>"
      ]
     },
     "metadata": {
      "filenames": {
       "image/png": "/Users/mattmills/Dropbox/MTH314S/mth314S/bookfiles/_build/jupyter_execute/103--Linear_Equations_pre-class-assignment_44_1.png"
      },
      "needs_background": "light"
     },
     "output_type": "display_data"
    }
   ],
   "source": [
    "b = 18\n",
    "\n",
    "#hack to inicialize bounds of plot (need this to get the arrows to work?)\n",
    "plt.plot(0,0)\n",
    "plt.plot(30,330)\n",
    "\n",
    "# Plot the first arrow\n",
    "plt.arrow(0, 0, c*1, c*20,head_width=2, head_length=10, fc='blue', ec='blue')\n",
    "\n",
    "#Plot the second arrow starting at the end of the first\n",
    "plt.arrow(c, c*20, b*1, b*5, head_width=2, head_length=10, fc='red', ec='red')"
   ]
  },
  {
   "cell_type": "markdown",
   "metadata": {},
   "source": [
    "The takeaway to this figure is that these two column vectors, when added together, end up at the point that represents the right hand side of the above equation (i.e. (30, 330)). "
   ]
  },
  {
   "cell_type": "code",
   "execution_count": 17,
   "metadata": {},
   "outputs": [
    {
     "data": {
      "image/png": "[encoded data removed]",
      "text/plain": [
       "<Figure size 432x288 with 1 Axes>"
      ]
     },
     "metadata": {
      "filenames": {
       "image/png": "/Users/mattmills/Dropbox/MTH314S/mth314S/bookfiles/_build/jupyter_execute/103--Linear_Equations_pre-class-assignment_46_0.png"
      },
      "needs_background": "light"
     },
     "output_type": "display_data"
    }
   ],
   "source": [
    "#hack to inicialize bounds of plot (need this to get the arrows to work?)\n",
    "plt.plot(0,0)\n",
    "plt.plot(30,330)\n",
    "\n",
    "# Plot the first arrow\n",
    "plt.arrow(0, 0, c*1, c*20,head_width=2, head_length=10, fc='blue', ec='blue')\n",
    "\n",
    "#Plot the second arrow starting at the end of the first\n",
    "plt.arrow(c, c*20, b*1, b*5, head_width=2, head_length=10, fc='red', ec='red')\n",
    "\n",
    "#Plot a righthand column vector as a point.\n",
    "plt.arrow(0,0, 30, 330, head_width=2, head_length=10, fc='purple', ec='purple')\n",
    "plt.xlabel('x');\n",
    "plt.ylabel('y');"
   ]
  },
  {
   "cell_type": "markdown",
   "metadata": {},
   "source": [
    "We say that two column vectors \"**span**\" the $xy$-plane if any point on the x,y plane can be represented as a linear combination of the two vectors. \n",
    "\n",
    "For example the vectors $\\begin{bmatrix} 1 \\\\ 0 \\end{bmatrix}$ and $\\begin{bmatrix} 0 \\\\ 1 \\end{bmatrix}$ span the $xy$-plane because any point $\\begin{bmatrix} a \\\\ b \\end{bmatrix}$ can be written as the linear combination $$\\begin{bmatrix} a \\\\ b \\end{bmatrix} = a \\begin{bmatrix} 1 \\\\ 0 \\end{bmatrix} + b \\begin{bmatrix} 0 \\\\ 1 \\end{bmatrix}.$$\n",
    "\n",
    "&#9989; **<font color=red> QUESTION:</font>** Give an example of two column vectors that do **NOT** span the $xy-$plane:"
   ]
  },
  {
   "cell_type": "markdown",
   "metadata": {},
   "source": [
    "**_Put your answer to the above question here._**"
   ]
  },
  {
   "cell_type": "markdown",
   "metadata": {},
   "source": [
    "---\n",
    "<a name=Introduction-to-Gauss-Jordan-Elimination></a>\n",
    "## 3. Introduction to Gauss Jordan Elimination\n",
    "\n",
    "As we mentioned above a linear system of equations can be written in an \"Augmented matrix\" format. The example about Giselle is represented by \n",
    "\n",
    "$$ \n",
    "\\left[\n",
    "\\begin{matrix}\n",
    "    1 & 1 \\\\ \n",
    "    20 & 25\n",
    "  \\end{matrix}\n",
    "\\, \\middle\\vert \\,\n",
    "\\begin{matrix}\n",
    " 30 \\\\ \n",
    " 690\n",
    "\\end{matrix}\n",
    "\\right] \n",
    "$$\n",
    "\n",
    "The [solution provided above](#solution) makes use of the elementary row operations \n",
    "\n",
    "1. Interchange two rows of a matrix\n",
    "2. Multiply the elements of a row by a nonzero constant\n",
    "3. Add a multiple of the elements of one row to the corresponding elements of another\n",
    "\n",
    "**(Notice these are the same things as what the elementary matrix multiplication does.)**\n",
    "\n",
    "This is just one example of a method called Gauss-Jordan elimination, which we will thouroughly discuss in class tomorrow. For now we leave you with just a brief introduction. "
   ]
  },
  {
   "cell_type": "code",
   "execution_count": 18,
   "metadata": {},
   "outputs": [
    {
     "data": {
      "image/jpeg": "[encoded data removed]",
      "text/html": [
       "\n",
       "<iframe\n",
       "    width=\"640\"\n",
       "    height=\"360\"\n",
       "    src=\"https://www.youtube.com/embed/iGmtmF_hm2g?cc_load_policy=True\"\n",
       "    frameborder=\"0\"\n",
       "    allowfullscreen\n",
       "></iframe>\n"
      ],
      "text/plain": [
       "<IPython.lib.display.YouTubeVideo at 0x7fb396520750>"
      ]
     },
     "execution_count": 18,
     "metadata": {
      "filenames": {
       "image/jpeg": "/Users/mattmills/Dropbox/MTH314S/mth314S/bookfiles/_build/jupyter_execute/103--Linear_Equations_pre-class-assignment_50_0.jpg"
      }
     },
     "output_type": "execute_result"
    }
   ],
   "source": [
    "from IPython.display import YouTubeVideo\n",
    "YouTubeVideo(\"iGmtmF_hm2g\",width=640,height=360, cc_load_policy=True)"
   ]
  },
  {
   "cell_type": "markdown",
   "metadata": {},
   "source": [
    "Consider the element $a_{2,1}$ in the following $A$ Matrix.  \n",
    "$$ \n",
    "A = \\left[\n",
    "\\begin{matrix}\n",
    "    1 & 1 \\\\ \n",
    "    20 & 25  \n",
    " \\end{matrix}\n",
    " \\, \\middle\\vert \\,\n",
    "\\begin{matrix}\n",
    " 30 \\\\ \n",
    " 690\n",
    "\\end{matrix}\n",
    "\\right] \n",
    "$$"
   ]
  },
  {
   "cell_type": "markdown",
   "metadata": {},
   "source": [
    "&#9989; **<font color=red>ASSIGNMENT SPECIFIC QUESTION:</font>** : Describe an elementary row operation that could be used to make element $a_{(2,1)}$ zero?  "
   ]
  },
  {
   "cell_type": "markdown",
   "metadata": {},
   "source": [
    "Put your answer here. "
   ]
  },
  {
   "cell_type": "markdown",
   "metadata": {},
   "source": [
    "&#9989; **<font color=red>QUESTION:</font>** : What is the new matrix given the above row operation.  "
   ]
  },
  {
   "cell_type": "markdown",
   "metadata": {},
   "source": [
    "Modify the contents of this cell and put your answer to the above question here.  \n",
    "$$ \n",
    "A = \\left[\n",
    "\\begin{matrix}\n",
    "    1 & 1 \\\\ \n",
    "    0 & ??  \n",
    " \\end{matrix}\n",
    " \\, \\middle\\vert \\,\n",
    "\\begin{matrix}\n",
    " 30 \\\\ \n",
    " ??\n",
    "\\end{matrix}\n",
    "\\right] \n",
    "$$\n",
    "\n",
    "\n",
    "\n",
    "**Hint**, we are using a formating language called Latex to display the above matrix. You should just be able to replace the ?? with your new numbers. If you can't figure out what is going on, try searching the web with \"latex math and matrix.\" If it still doesn't make sense, format your answer in another way that will be clear to understand by the you and the instructor."
   ]
  },
  {
   "cell_type": "markdown",
   "metadata": {},
   "source": [
    "---\n",
    "As a recap, The general augmented matrix format for a system of linear equations can be written as follows:\n",
    "\n",
    "$$ \n",
    "X = \n",
    "\\left[\n",
    "\\begin{matrix}\n",
    "    x_{11}       & x_{12} & x_{13} & \\dots  \\\\\n",
    "    x_{21}       & x_{22} & x_{23} & \\dots \\\\\n",
    "    \\ldots       & \\ldots & \\ldots & \\ddots \\\\\n",
    "    x_{m1}       & x_{m2} & x_{m3} & \\dots \n",
    " \\end{matrix}\n",
    "\\, \\middle\\vert \\,\n",
    "\\begin{matrix}\n",
    "x_{1n} \\\\ x_{2n} \\\\ \\ldots \\\\ x_{mn}\n",
    "\\end{matrix}\n",
    "\\right] ^{mxn}\n",
    "$$\n",
    "\n",
    "where $x_{ij}$ is a scalar element in the matrx."
   ]
  },
  {
   "cell_type": "markdown",
   "metadata": {},
   "source": [
    "The following system of linear equations:\n",
    "\n",
    "$$x_1 = 2.14159$$\n",
    "$$x_2 = 4$$\n",
    "$$x_3 = -7.2$$\n",
    "$$x_4 = 69$$\n",
    "$$x_5 = 84$$\n",
    "$$x_6 = 240$$\n",
    "\n",
    "can be rewritten into the augmented matrix:\n",
    "\n",
    "\n",
    "$$ \n",
    "X = \n",
    "\\left[\n",
    "\\begin{matrix}\n",
    "    1 & 0 & 0 & 0  & 0 & 0  \\\\\n",
    "    0 & 1 & 0 & 0  & 0 & 0  \\\\\n",
    "    0 & 0 & 1 & 0  & 0 & 0  \\\\\n",
    "    0 & 0 & 0 & 1  & 0 & 0  \\\\\n",
    "    0 & 0 & 0 & 0  & 1 & 0  \\\\\n",
    "    0 & 0 & 0 & 0  & 0 & 1  \n",
    " \\end{matrix}\n",
    "\\, \\middle\\vert \\,\n",
    "\\begin{matrix}\n",
    "2.14159 \\\\ 4 \\\\ -7.2 \\\\ 69 \\\\ 84 \\\\ 240\n",
    "\\end{matrix}\n",
    "\\right] ^{6x7}\n",
    "$$\n",
    "\n",
    "Notice the submatrix on the left hand side is just the $I_6$ identity matrix and the right hand side are the solutions. When a system of linear equations has a unique solution, it is always possible (using Gauss-Jordan elimination) to perform elementary row operations on the augmented matrix to get the identity matrix on the left side."
   ]
  },
  {
   "cell_type": "markdown",
   "metadata": {},
   "source": [
    "\n",
    "<a name=-Gauss-Jordan-Elimination-and-the-Row-Echelon-Form></a>\n",
    "## 4.  Gauss Jordan Elimination and the Row Echelon Form\n",
    "\n"
   ]
  },
  {
   "cell_type": "code",
   "execution_count": 19,
   "metadata": {
    "scrolled": false
   },
   "outputs": [
    {
     "data": {
      "image/jpeg": "[encoded data removed]",
      "text/html": [
       "\n",
       "<iframe\n",
       "    width=\"640\"\n",
       "    height=\"360\"\n",
       "    src=\"https://www.youtube.com/embed/v6RstFsrTJY?cc_load_policy=True\"\n",
       "    frameborder=\"0\"\n",
       "    allowfullscreen\n",
       "></iframe>\n"
      ],
      "text/plain": [
       "<IPython.lib.display.YouTubeVideo at 0x7fb396520e90>"
      ]
     },
     "execution_count": 19,
     "metadata": {
      "filenames": {
       "image/jpeg": "/Users/mattmills/Dropbox/MTH314S/mth314S/bookfiles/_build/jupyter_execute/103--Linear_Equations_pre-class-assignment_59_0.jpg"
      }
     },
     "output_type": "execute_result"
    }
   ],
   "source": [
    "from IPython.display import YouTubeVideo\n",
    "YouTubeVideo(\"v6RstFsrTJY\",width=640,height=360, cc_load_policy=True)"
   ]
  },
  {
   "cell_type": "markdown",
   "metadata": {},
   "source": [
    "The above video left out a special case for Reduced Row Echelon form. There can be non-zero elements in columns that do not have a leading one. For example, All of the following are in Reduced Row Echelon form:\n",
    "\n",
    "$$ \n",
    "\\left[\n",
    "\\begin{matrix}\n",
    "    1 & 2 & 0 & 3 & 0 & 4 \\\\ \n",
    "    0 & 0 & 1 & 2 & 0 & 7 \\\\ \n",
    "    0 & 0 & 0 & 0 & 1 & 6 \\\\ \n",
    "    0 & 0 & 0 & 0 & 0 & 0  \n",
    "\\end{matrix}\n",
    "\\right] \n",
    "$$\n",
    "\n",
    "\n",
    "$$ \n",
    "\\left[\n",
    "\\begin{matrix}\n",
    "    1 & 2 & 0 & 0 & 4 \\\\ \n",
    "    0 & 0 & 1 & 0 & 6 \\\\ \n",
    "    0 & 0 & 0 & 1 & 5   \n",
    "\\end{matrix}\n",
    "\\right] \n",
    "$$"
   ]
  },
  {
   "cell_type": "markdown",
   "metadata": {},
   "source": [
    "&#9989; **<font color=red>QUESTION:</font>** : What are the three steps in the Gauss-Jordan Elimination algorithm?"
   ]
  },
  {
   "cell_type": "markdown",
   "metadata": {},
   "source": [
    " Put your answer here. "
   ]
  },
  {
   "cell_type": "markdown",
   "metadata": {},
   "source": [
    "\n",
    "\n",
    "---\n",
    "<a name=Gauss-Jordan-Practice></a>\n",
    "## 5. Gauss Jordan Practice\n",
    "\n",
    "\n",
    "\n",
    "\n",
    "&#9989; **<font color=red>DO THIS:</font>**: Solve the following system of linear equations using the Gauss-Jordan algorithm.  Try to do this before watching the video!\n",
    "\n",
    "$$x_1 + x_3 = 3$$\n",
    "$$2x_2 - 2x_3 = -4$$\n",
    "$$x_2 - 2x_3 = 5$$"
   ]
  },
  {
   "cell_type": "markdown",
   "metadata": {},
   "source": [
    "Put your answer here"
   ]
  },
  {
   "cell_type": "markdown",
   "metadata": {},
   "source": [
    "In the following video, we solve the same set of linear equations. Watch the video after trying to do this on your own.  It is provided here in case you get stuck.  "
   ]
  },
  {
   "cell_type": "code",
   "execution_count": 20,
   "metadata": {},
   "outputs": [
    {
     "data": {
      "image/jpeg": "[encoded data removed]",
      "text/html": [
       "\n",
       "<iframe\n",
       "    width=\"640\"\n",
       "    height=\"360\"\n",
       "    src=\"https://www.youtube.com/embed/xT16yIVw_KE?cc_load_policy=True\"\n",
       "    frameborder=\"0\"\n",
       "    allowfullscreen\n",
       "></iframe>\n"
      ],
      "text/plain": [
       "<IPython.lib.display.YouTubeVideo at 0x7fb39650b350>"
      ]
     },
     "execution_count": 20,
     "metadata": {
      "filenames": {
       "image/jpeg": "/Users/mattmills/Dropbox/MTH314S/mth314S/bookfiles/_build/jupyter_execute/103--Linear_Equations_pre-class-assignment_66_0.jpg"
      }
     },
     "output_type": "execute_result"
    }
   ],
   "source": [
    "from IPython.display import YouTubeVideo\n",
    "YouTubeVideo(\"xT16yIVw_KE\",width=640,height=360, cc_load_policy=True)"
   ]
  },
  {
   "cell_type": "markdown",
   "metadata": {},
   "source": [
    "&#9989; **<font color=red>QUESTION:</font>**: Something was unclear in the above videos.  Describe the difference between a matrix in \"row echelon\" form and \"reduced row echelon\" form. "
   ]
  },
  {
   "cell_type": "markdown",
   "metadata": {},
   "source": [
    "**_Put your answer to the above question here_**"
   ]
  },
  {
   "cell_type": "markdown",
   "metadata": {},
   "source": [
    "---\n",
    "<a name=Assignment-wrap-up></a>\n",
    "## 6. Assignment wrap up\n",
    "\n",
    "\n",
    "Please fill out the form that appears when you run the code below.  **You must completely fill this out in order to receive credit for the assignment!** If you cannont load the form below please try logging in to [spartan365.msu.edu](http://spartan365.msu.edu/) and try running it again, or simply use the direct link provided below. \n",
    "\n",
    "[Direct Link to Microsoft Form](https://forms.office.com/r/n0PEF9xt59)\n"
   ]
  },
  {
   "cell_type": "markdown",
   "metadata": {},
   "source": [
    "The following question was answered eariler in the notebook. Please copy and paste the question and your answer into the survey.\n",
    "\n",
    "&#9989; <font color=red>**Assignment-Specific QUESTION:**</font> Describe an elementary row operation that could be used to make element $a_{(2,1)}$ zero?  "
   ]
  },
  {
   "cell_type": "markdown",
   "metadata": {},
   "source": [
    "Put your answer to the above question here and then copy and paste it into the survey."
   ]
  },
  {
   "cell_type": "code",
   "execution_count": 21,
   "metadata": {},
   "outputs": [
    {
     "data": {
      "text/html": [
       "\n",
       "<iframe width=\"640px\" height= \"480px\" src= \"https://forms.office.com/Pages/ResponsePage.aspx?id=MHEXIi9k2UGSEXQjetVofSS1ePbivlBPgYEBiz_zsf1UOTk3QU5VVEo1SVpKWlpaWlU4WTlDUlQwWi4u&embed=true\" frameborder= \"0\" marginwidth= \"0\" marginheight= \"0\" style= \"border: none; max-width:100%; max-height:100vh\" allowfullscreen webkitallowfullscreen mozallowfullscreen msallowfullscreen> </iframe>\n"
      ],
      "text/plain": [
       "<IPython.core.display.HTML object>"
      ]
     },
     "execution_count": 21,
     "metadata": {},
     "output_type": "execute_result"
    }
   ],
   "source": [
    "from IPython.display import HTML\n",
    "HTML(\n",
    "\"\"\"\n",
    "<iframe width=\"640px\" height= \"480px\" src= \"https://forms.office.com/Pages/ResponsePage.aspx?id=MHEXIi9k2UGSEXQjetVofSS1ePbivlBPgYEBiz_zsf1UOTk3QU5VVEo1SVpKWlpaWlU4WTlDUlQwWi4u&embed=true\" frameborder= \"0\" marginwidth= \"0\" marginheight= \"0\" style= \"border: none; max-width:100%; max-height:100vh\" allowfullscreen webkitallowfullscreen mozallowfullscreen msallowfullscreen> </iframe>\n",
    "\"\"\"\n",
    ")"
   ]
  },
  {
   "cell_type": "markdown",
   "metadata": {},
   "source": [
    "---------\n",
    "### Congratulations, we're done!\n",
    "\n",
    "###EndPreClass###"
   ]
  },
  {
   "cell_type": "markdown",
   "metadata": {},
   "source": [
    "### Course Resources:\n",
    "\n",
    "\n",
    "\n",
    "\n"
   ]
  },
  {
   "cell_type": "markdown",
   "metadata": {},
   "source": [
    "Written by Dr. Dirk Colbry and Dr. Matthew Mills, Michigan State University\n",
    "<a rel=\"license\" href=\"http://creativecommons.org/licenses/by-nc/4.0/\"><img alt=\"Creative Commons License\" style=\"border-width:0\" src=\"https://i.creativecommons.org/l/by-nc/4.0/88x31.png\" /></a><br />This work is licensed under a <a rel=\"license\" href=\"http://creativecommons.org/licenses/by-nc/4.0/\">Creative Commons Attribution-NonCommercial 4.0 International License</a>."
   ]
  },
  {
   "cell_type": "markdown",
   "metadata": {},
   "source": [
    "\n"
   ]
  }
 ],
 "metadata": {
  "anaconda-cloud": {},
  "kernelspec": {
   "display_name": "Python 3",
   "language": "python",
   "name": "python3"
  },
  "language_info": {
   "codemirror_mode": {
    "name": "ipython",
    "version": 3
   },
   "file_extension": ".py",
   "mimetype": "text/x-python",
   "name": "python",
   "nbconvert_exporter": "python",
   "pygments_lexer": "ipython3",
   "version": "3.7.6"
  }
 },
 "nbformat": 4,
 "nbformat_minor": 4
}