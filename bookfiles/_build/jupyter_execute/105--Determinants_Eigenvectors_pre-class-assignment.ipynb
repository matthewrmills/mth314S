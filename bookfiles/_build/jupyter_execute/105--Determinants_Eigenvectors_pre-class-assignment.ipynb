{
 "cells": [
  {
   "cell_type": "markdown",
   "metadata": {},
   "source": []
  },
  {
   "cell_type": "markdown",
   "metadata": {},
   "source": [
    "# 105 Pre-Class Assignment: Determinants and Eigenvectors"
   ]
  },
  {
   "cell_type": "markdown",
   "metadata": {},
   "source": [
    "### Readings for Determinants (Recommended in bold)\n",
    " * [Heffron Chapter 4.I-II pg 317-337](http://joshua.smcvt.edu/linearalgebra/book.pdf)\n",
    " * [**_Beezer Chapter D pg 340-366_**](http://linear.ups.edu/download/fcla-3.50-tablet.pdf)\n",
    "\n",
    "### Readings for this Eigen-stuff (Recommended in bold)\n",
    " * [Heffron Chapter  5 II.3 pg 397-407](http://joshua.smcvt.edu/linearalgebra/book.pdf)\n",
    " * [Beezer Chapter E pg 367-369](http://linear.ups.edu/download/fcla-3.50-tablet.pdf)\n",
    "\n"
   ]
  },
  {
   "cell_type": "markdown",
   "metadata": {},
   "source": [
    "### Goals for today's pre-class assignment \n",
    "\n",
    "\n",
    "1. [Introduction to Determinants](#Introduction_to_Determinants)\n",
    "1. [Properties of Determinants](#Properties_of_Determinants)\n",
    "1. [One interpretation of determinants](#One_Interpretation_of_determinants)\n",
    "1. [Cramer's Rule](#CramersRule)\n",
    "1. [Eigenvectors and Eigenvalues](#Eigenvectors_and_Eigenvalues)\n",
    "2. [Solving Eigenproblems - A 2x2 Example](#Solving_Eigenproblems)\n",
    "3. [Introduction to Markov Models](#Markov_Models)\n",
    "1. [Assignment wrap-up](#T3)"
   ]
  },
  {
   "cell_type": "markdown",
   "metadata": {},
   "source": [
    "----\n",
    "\n",
    "<a name=\"Introduction_to_Determinants\"></a>\n",
    "## 1. Introduction to Determinants\n",
    "\n",
    "For a detailed overview of determinants I would recommend reviewing **_Chapter D pg 340-366_** of the Beezer text.  \n",
    "\n",
    "The determinant is a function that takes a ($n \\times n$) square matrix as an input and produces a scalar as an output. Determinants have been studied quite extensively and have many interesting properties.  However, determinants are \"computationally expensive\" as the size of your matrix ($n$) gets bigger.  This limitation makes them impractical for many real world problems.  \n",
    "\n",
    "The determinant of a $ 2 \\times 2$ matrix can be calculated as follows:\n",
    "\n",
    "$$ \n",
    "det \\left(\n",
    "\\left[\n",
    "\\begin{matrix}\n",
    "    a_{11} & a_{12}  \\\\\n",
    "    a_{21} & a_{22}\n",
    "\\end{matrix}\n",
    "\\right] \n",
    "\\right)\n",
    "= a_{11}a_{22} - a_{12}a_{21}\n",
    "$$"
   ]
  },
  {
   "cell_type": "markdown",
   "metadata": {},
   "source": [
    "\n",
    "&#9989; **<font color=red>QUESTION:</font>** Calculate the determinant of the following matrix by hand:\n",
    "\n",
    "$$ \n",
    "\\left[\n",
    "\\begin{matrix}\n",
    "    3 & -2  \\\\\n",
    "    1 & 2\n",
    "\\end{matrix}\n",
    "\\right] \n",
    "$$"
   ]
  },
  {
   "cell_type": "code",
   "execution_count": 1,
   "metadata": {},
   "outputs": [],
   "source": [
    "#Put your answer here"
   ]
  },
  {
   "cell_type": "markdown",
   "metadata": {},
   "source": [
    "Calculating the determinant of a larger matrix is a \"recursive\" problem which involves combining the determinants of smaller and smaller sub-matrices until you have a $2 \\times 2$ matrix which is then calculated using the above formula.  Here is some Pseudocode to calculate a determinant.  To simplify the example the code assumes there is a matrix function ```deleterow``` which will remove the $x$th row from a matrix  (always the first row in this example) and ```deletecol``` will remove the $x$th column from a matrix. When used together (as shown below) they will take an $n \\times n$ matrix and turn it into a $ (n-1) \\times (n-1)$ matrix.  \n",
    "\n",
    "\n",
    "```bash\n",
    "function determinant(A, n)\n",
    "   det = 0\n",
    "   if (n == 1)\n",
    "      det = matrix[1,1]\n",
    "   else if (n == 2)\n",
    "      det = matrix[1,1] * matrix[2,2] - matrix[1,2] * matrix[2,1]\n",
    "   else \n",
    "      for x from 1 to n\n",
    "          submatrix = deleterow(matrix, 1)\n",
    "          submatrix = deletecol(submatrix, x)\n",
    "          det = det + (x+1)**(-1) * matrix[1,x] * determinant(submatrix, n-1)\n",
    "      next x\n",
    "   endif\n",
    "   \n",
    "   return det\n",
    "```"
   ]
  },
  {
   "cell_type": "markdown",
   "metadata": {},
   "source": [
    "Notice that the combination of the determinants of the submatrixes is not a simple sum.  The combination is adding the submatrices corresponding to the odd columns (1,3,5, etc) and subtracting the submatrices corresponding to the even columns (2,4,6, etc.). This may become clearer if we look at a simple $3 \\times 3$ example (Let $|A|$ be a simplified syntax for writing the determinant of $A$):\n",
    "\n",
    "$$\n",
    "A = \\left[\n",
    "\\begin{matrix}\n",
    "    a_{11} & a_{12} & a_{13} \\\\\n",
    "    a_{21} & a_{22} & a_{23} \\\\\n",
    "    a_{31} & a_{32} & a_{33} \n",
    "\\end{matrix}\n",
    "\\right] $$\n",
    "\n",
    "$$ \n",
    "|A|=\n",
    "a_{11} \\left|\n",
    "\\begin{matrix}\n",
    "    \\square & \\square  & \\square  \\\\\n",
    "    \\square  & a_{22} & a_{23} \\\\\n",
    "    \\square  & a_{32} & a_{33} \n",
    "\\end{matrix}\n",
    "\\right|\n",
    "-\n",
    "a_{12}\\left|\n",
    "\\begin{matrix}\n",
    "    \\square & \\square  & \\square  \\\\\n",
    "    a_{21} & \\square & a_{23} \\\\\n",
    "    a_{31} & \\square & a_{33} \n",
    "\\end{matrix}\n",
    "\\right|\n",
    "+\n",
    "a_{13} \\left|\n",
    "\\begin{matrix}\n",
    "    \\square & \\square  & \\square  \\\\\n",
    "    a_{21} & a_{22} & \\square \\\\\n",
    "    a_{31} & a_{32} & \\square\n",
    "\\end{matrix}\n",
    "\\right|\n",
    "$$\n",
    "\n",
    "\n",
    "$$ \n",
    "|A|\n",
    "=\n",
    "a_{11}\\left|\n",
    "\\begin{matrix}\n",
    "    a_{22} & a_{23}  \\\\\n",
    "    a_{32} & a_{33}\n",
    "\\end{matrix}\n",
    "\\right|\n",
    "-\n",
    "a_{12}\\left|\n",
    "\\begin{matrix}\n",
    "    a_{21} & a_{23}  \\\\\n",
    "    a_{31} & a_{33}\n",
    "\\end{matrix}\n",
    "\\right|\n",
    "+\n",
    "a_{13}\n",
    "\\left|\n",
    "\\begin{matrix}\n",
    "    a_{21} & a_{22}  \\\\\n",
    "    a_{31} & a_{32}\n",
    "\\end{matrix}\n",
    "\\right|\n",
    "$$\n",
    "\n",
    "$$\n",
    "|A| = \n",
    "a_{11}(a_{22}a_{33} - a_{23}a_{32})\n",
    "-\n",
    "a_{12}(a_{21}a_{33} - a_{23}a_{31})\n",
    "+\n",
    "a_{13}(a_{21}a_{32} - a_{22}a_{31})\n",
    "$$"
   ]
  },
  {
   "cell_type": "markdown",
   "metadata": {},
   "source": [
    "&#9989; **<font color=red>QUESTION:</font>** Calculate the determinant of the following matrix by hand:\n",
    "\n",
    "$$ \n",
    "\\left[\n",
    "\\begin{matrix}\n",
    "    1 & 2 & -3  \\\\\n",
    "    5 & 0 & 6  \\\\\n",
    "    7 & 1 & -4\n",
    "\\end{matrix}\n",
    "\\right] \n",
    "$$"
   ]
  },
  {
   "cell_type": "markdown",
   "metadata": {},
   "source": [
    "Put your answer here"
   ]
  },
  {
   "cell_type": "markdown",
   "metadata": {},
   "source": [
    "&#9989; **<font color=red>QUESTION:</font>** Import ``numpy`` and use the ```numpy.linalg``` library to calculate the determinant of the following matrix and store the value in a variable called ```det```\n",
    "\n",
    "$$\n",
    "\\left[\n",
    "\\begin{matrix}\n",
    "    2 & 0 & 1 & -5  \\\\\n",
    "    8 & -1 & 2 & 1  \\\\\n",
    "    4 & -3 & -5 & 0 \\\\\n",
    "    1 & 4 & 8 & 2\n",
    "\\end{matrix}\n",
    "\\right] \n",
    "$$"
   ]
  },
  {
   "cell_type": "code",
   "execution_count": 2,
   "metadata": {},
   "outputs": [],
   "source": [
    "#Put your answer here"
   ]
  },
  {
   "cell_type": "code",
   "execution_count": 3,
   "metadata": {},
   "outputs": [
    {
     "ename": "ModuleNotFoundError",
     "evalue": "No module named 'answercheck'",
     "output_type": "error",
     "traceback": [
      "\u001b[0;31m---------------------------------------------------------------------------\u001b[0m",
      "\u001b[0;31mModuleNotFoundError\u001b[0m                       Traceback (most recent call last)",
      "\u001b[0;32m<ipython-input-3-b2a2502e4bdf>\u001b[0m in \u001b[0;36m<module>\u001b[0;34m\u001b[0m\n\u001b[0;32m----> 1\u001b[0;31m \u001b[0;32mfrom\u001b[0m \u001b[0manswercheck\u001b[0m \u001b[0;32mimport\u001b[0m \u001b[0mcheckanswer\u001b[0m\u001b[0;34m\u001b[0m\u001b[0;34m\u001b[0m\u001b[0m\n\u001b[0m\u001b[1;32m      2\u001b[0m \u001b[0;34m\u001b[0m\u001b[0m\n\u001b[1;32m      3\u001b[0m \u001b[0mcheckanswer\u001b[0m\u001b[0;34m.\u001b[0m\u001b[0mfloat\u001b[0m\u001b[0;34m(\u001b[0m\u001b[0mdet\u001b[0m\u001b[0;34m,\u001b[0m\u001b[0;34m'49afb719e0cd46f74578ebf335290f81'\u001b[0m\u001b[0;34m)\u001b[0m\u001b[0;34m;\u001b[0m\u001b[0;34m\u001b[0m\u001b[0;34m\u001b[0m\u001b[0m\n",
      "\u001b[0;31mModuleNotFoundError\u001b[0m: No module named 'answercheck'"
     ]
    }
   ],
   "source": [
    "from answercheck import checkanswer\n",
    "\n",
    "checkanswer.float(det,'49afb719e0cd46f74578ebf335290f81');"
   ]
  },
  {
   "cell_type": "markdown",
   "metadata": {},
   "source": [
    "----\n",
    "\n",
    "<a name=\"Properties_of_Determinants\"></a>\n",
    "## 2. Properties of Determinants\n",
    "\n",
    "The following are some helpful properties when working with determinants.  These properties are often used in proofs and can sometimes be utilized to make faster calculations.\n",
    "\n",
    "### Row Operations\n",
    "\n",
    "Let $A$ be an $n \\times n$ matrix and $c$ be a nonzero scalar. Let $|A|$ be a simplified syntax for writing the determinant of $A$: \n",
    "\n",
    "1. If a matrix $B$ is obtained from $A$ by multiplying a row (column) by $c$ then $|B| = c|A|$.\n",
    "2. If a matrix $B$ is obtained from $A$ by interchanging two rows (columns) then $|B| = -|A|$.\n",
    "3. if a matrix $B$ is obtained from $A$ by adding a multiple of one row (column) to another row (column), then $|B| = |A|$.\n",
    "\n"
   ]
  },
  {
   "cell_type": "markdown",
   "metadata": {},
   "source": [
    "### Singular Matrices\n",
    "\n",
    "**Definition:** A square matrix $A$ is said to be **singular** if $|A| = 0$. $A$ is **nonsingular** if $|A| \\neq 0$\n",
    "\n",
    "Now, Let $A$ be an $n \\times n$ matrix. $A$ is singular if any of these is true:\n",
    "\n",
    "1. all the elements of a row (column) are zero.\n",
    "2. two rows (columns) are equal.\n",
    "3. two rows (columns) are proportional. i.e. one row (column) is the same as another row (column) multiplied by $c$.\n",
    "4. one row (column) is a linear combination of the others.\n"
   ]
  },
  {
   "cell_type": "markdown",
   "metadata": {},
   "source": [
    "&#9989; **<font color=red>QUESTION:</font>** The following matrix is singular because of certain column or row properties. Give the reason:\n",
    "\n",
    "$$ \n",
    "\\left[\n",
    "\\begin{matrix}\n",
    "    1 & 5 & 5  \\\\\n",
    "    0 & -2 & -2  \\\\\n",
    "    3 & 1 & 1\n",
    "\\end{matrix}\n",
    "\\right] \n",
    "$$"
   ]
  },
  {
   "cell_type": "markdown",
   "metadata": {},
   "source": [
    "Put your answer here."
   ]
  },
  {
   "cell_type": "markdown",
   "metadata": {},
   "source": [
    "&#9989; **<font color=red>QUESTION:</font>** The following matrix is singular because of certain column or row properties. Give the reason:\n",
    "\n",
    "$$ \n",
    "\\left[\n",
    "\\begin{matrix}\n",
    "    1 & 0 & 4  \\\\\n",
    "    0 & 1 & 9  \\\\\n",
    "    0 & 0 & 0\n",
    "\\end{matrix}\n",
    "\\right] \n",
    "$$"
   ]
  },
  {
   "cell_type": "markdown",
   "metadata": {},
   "source": [
    "Put your answer here."
   ]
  },
  {
   "cell_type": "markdown",
   "metadata": {},
   "source": [
    "### Determinants and Matrix Operations\n",
    "\n",
    "Let $A$ and $B$ be $n\\times n$ matrices and $c$ be a nonzero scalar.\n",
    "\n",
    "1. Determinant of a scalar multiple: $|cA| = c^n|A|$\n",
    "2. Determinant of a product: $|AB| = |A||B|$\n",
    "3. Determinant of a transpose\" $|A^t| = |A|$\n",
    "4. Determinant of an inverse: $|A^{-1}| = \\frac{1}{|A|}$ (Assuming $A^{-1}$ exists)"
   ]
  },
  {
   "cell_type": "markdown",
   "metadata": {},
   "source": [
    "&#9989; **<font color=red>QUESTION:</font>**  If $A$ is a $3\\times 3$ matrix with $|A| = 3$, use the properties of determinants to compute the following determinant:\n",
    "\n",
    "$$|2A|$$"
   ]
  },
  {
   "cell_type": "markdown",
   "metadata": {},
   "source": [
    "Put your answer here"
   ]
  },
  {
   "cell_type": "markdown",
   "metadata": {},
   "source": [
    "&#9989; **<font color=red>QUESTION:</font>**  If $A$ is a $3\\times 3$ matrix with $|A| = 3$, use the properties of determinants to compute the following determinant:\n",
    "$$|A^2|$$"
   ]
  },
  {
   "cell_type": "markdown",
   "metadata": {},
   "source": [
    "Put your answer here"
   ]
  },
  {
   "cell_type": "markdown",
   "metadata": {},
   "source": [
    "&#9989; **<font color=red>QUESTION:</font>**  if $A$ and $B$ are $3\\times 3$ matrices and $|A| = -3, |B|=2$, compute the following determinant:\n",
    "\n",
    "$$|AB|$$\n"
   ]
  },
  {
   "cell_type": "markdown",
   "metadata": {},
   "source": [
    "Put your answer here"
   ]
  },
  {
   "cell_type": "markdown",
   "metadata": {},
   "source": [
    "&#9989; **<font color=red>QUESTION:</font>**  if $A$ and $B$ are $3\\times 3$ matrices and $|A| = -3, |B|=2$, compute the following determinant:\n",
    "\n",
    "$$|2AB^{-1}|$$"
   ]
  },
  {
   "cell_type": "markdown",
   "metadata": {},
   "source": [
    "Put your answer here"
   ]
  },
  {
   "cell_type": "markdown",
   "metadata": {},
   "source": [
    "### Triangular matrices\n",
    "\n",
    "**Definition:** A matrix is said to be **upper triangular** if all nonzero elements lie on or above the main diagonal and all elements below the main diagonal are zero. For example:\n",
    "\n",
    "\n",
    "$$ A = \n",
    "\\left[\n",
    "\\begin{matrix}\n",
    "    2 & -1 & 9 & 4  \\\\\n",
    "    0 & 3 & 0 & 6 \\\\\n",
    "    0 & 0 & -5 & 3 \\\\\n",
    "    0 & 0 & 0 & 1\n",
    "\\end{matrix}\n",
    "\\right] \n",
    "$$\n",
    "\n",
    "**Definition:** A matrix is said to be **lower triangular** if its transpose is upper triangular.\n",
    "\n",
    "The determinant of an *upper triangle matrix* $A$ is the product of the diagonal elements of the matrix $A$.  \n",
    "\n",
    "Also, since the Determinant is the same for a matrix and it's transpose (i.e.  $|A^\\top| = |A|$, see definition above) the determinant of a *lower triangle matrix* is also the product of the diagonal elements. "
   ]
  },
  {
   "cell_type": "markdown",
   "metadata": {},
   "source": [
    "&#9989; **<font color=red>QUESTION:</font>**   What is the determinant of matrix $A$?"
   ]
  },
  {
   "cell_type": "markdown",
   "metadata": {},
   "source": [
    "Put your answer here"
   ]
  },
  {
   "cell_type": "markdown",
   "metadata": {},
   "source": [
    "### Using Properties of determinants:\n",
    "Here is a great video showing how you can use the properties of determinants:"
   ]
  },
  {
   "cell_type": "code",
   "execution_count": null,
   "metadata": {},
   "outputs": [],
   "source": [
    "from IPython.display import YouTubeVideo\n",
    "YouTubeVideo(\"aKX5_DucNq8\",width=640,height=360, cc_load_policy=True)"
   ]
  },
  {
   "cell_type": "markdown",
   "metadata": {},
   "source": [
    "&#9989; **<font color=red>QUESTION (A challenging one):</font>**   Using the pattern established in the video can you calculate the determinate of the following matrix?\n",
    "\n",
    "$$ \n",
    "\\left[\n",
    "\\begin{matrix}\n",
    "    1 & a & a^2 & a^3 \\\\\n",
    "    1 & b & b^2 & b^3 \\\\\n",
    "    1 & c & c^2 & c^3 \\\\\n",
    "    1 & d & d^2 & d^3 \n",
    "\\end{matrix}\n",
    "\\right] \n",
    "$$\n",
    "\n",
    "**Note.** You can also attempt to do this calculation in sympy."
   ]
  },
  {
   "cell_type": "markdown",
   "metadata": {},
   "source": [
    "Put your answer here"
   ]
  },
  {
   "cell_type": "markdown",
   "metadata": {},
   "source": [
    "----\n",
    "\n",
    "<a name=\"One_Interpretation_of_determinants\"></a>\n",
    "## 3. One interpretation of determinants\n",
    "\n",
    "The following is an application of determinants. Watch this!"
   ]
  },
  {
   "cell_type": "code",
   "execution_count": null,
   "metadata": {},
   "outputs": [],
   "source": [
    "from IPython.display import YouTubeVideo\n",
    "YouTubeVideo(\"Ip3X9LOh2dk\",width=640,height=360, cc_load_policy=True)"
   ]
  },
  {
   "cell_type": "markdown",
   "metadata": {},
   "source": [
    "For fun, we will recreate some of the video's visualizations in Python. \n",
    "It was a little tricky to get the aspect ratios correct but here is some code I managed to get it work. "
   ]
  },
  {
   "cell_type": "code",
   "execution_count": null,
   "metadata": {},
   "outputs": [],
   "source": [
    "%matplotlib inline\n",
    "import matplotlib.pyplot as plt\n",
    "from mpl_toolkits.mplot3d import Axes3D\n",
    "from mpl_toolkits.mplot3d.art3d import Poly3DCollection, Line3DCollection\n",
    "import numpy as npimport sympy as sym"
   ]
  },
  {
   "cell_type": "code",
   "execution_count": null,
   "metadata": {},
   "outputs": [],
   "source": [
    "# Lets define somme points that form a Unit Cube\n",
    "points = np.array([[0, 0, 0],\n",
    "                  [1, 0, 0 ],\n",
    "                  [1, 1, 0],\n",
    "                  [0, 1, 0],\n",
    "                  [0, 0, 1],\n",
    "                  [1, 0, 1 ],\n",
    "                  [1, 1, 1],\n",
    "                  [0, 1, 1]])\n",
    "\n",
    "points = np.matrix(points)"
   ]
  },
  {
   "cell_type": "code",
   "execution_count": null,
   "metadata": {},
   "outputs": [],
   "source": [
    "#Here is some code to build cube from https://stackoverflow.com/questions/44881885/python-draw-3d-cube\n",
    "\n",
    "def plot3dcube(Z):\n",
    "    \n",
    "    if type(Z) == np.matrix:\n",
    "        Z = np.asarray(Z)\n",
    "\n",
    "    fig = plt.figure()\n",
    "    ax = fig.add_subplot(111, projection='3d')\n",
    "\n",
    "    r = [-1,1]\n",
    "\n",
    "    X, Y = np.meshgrid(r, r)\n",
    "    # plot vertices\n",
    "    ax.scatter3D(Z[:, 0], Z[:, 1], Z[:, 2])\n",
    "\n",
    "    # list of sides' polygons of figure\n",
    "    verts = [[Z[0],Z[1],Z[2],Z[3]],\n",
    "     [Z[4],Z[5],Z[6],Z[7]], \n",
    "     [Z[0],Z[1],Z[5],Z[4]], \n",
    "     [Z[2],Z[3],Z[7],Z[6]], \n",
    "     [Z[1],Z[2],Z[6],Z[5]],\n",
    "     [Z[4],Z[7],Z[3],Z[0]], \n",
    "     [Z[2],Z[3],Z[7],Z[6]]]\n",
    "\n",
    "    #alpha transparency was't working found fix here: \n",
    "    # https://stackoverflow.com/questions/23403293/3d-surface-not-transparent-inspite-of-setting-alpha\n",
    "    # plot sides\n",
    "    ax.add_collection3d(Poly3DCollection(verts, \n",
    "     facecolors=(0,0,1,0.25), linewidths=1, edgecolors='r'))\n",
    "    \n",
    "    ax.set_xlabel('X')\n",
    "    ax.set_ylabel('Y')\n",
    "    ax.set_zlabel('Z')\n",
    "    \n",
    "    ## Weird trick to get the axpect ratio to work.\n",
    "    ## From https://stackoverflow.com/questions/13685386/matplotlib-equal-unit-length-with-equal-aspect-ratio-z-axis-is-not-equal-to\n",
    "    mx = np.amax(Z, axis=0)\n",
    "    mn = np.amin(Z, axis=0)\n",
    "    max_range = mx-mn\n",
    "\n",
    "    # Create cubic bounding box to simulate equal aspect ratio\n",
    "    Xb = 0.5*max_range.max()*np.mgrid[-1:2:2,-1:2:2,-1:2:2][0].flatten() + 0.5*(max_range[0])\n",
    "    Yb = 0.5*max_range.max()*np.mgrid[-1:2:2,-1:2:2,-1:2:2][1].flatten() + 0.5*(max_range[1])\n",
    "    Zb = 0.5*max_range.max()*np.mgrid[-1:2:2,-1:2:2,-1:2:2][2].flatten() + 0.5*(max_range[2])\n",
    "    # Comment or uncomment following both lines to test the fake bounding box:\n",
    "    for xb, yb, zb in zip(Xb, Yb, Zb):\n",
    "        ax.plot([xb], [yb], [zb], 'w')\n",
    "\n",
    "    plt.show()"
   ]
  },
  {
   "cell_type": "code",
   "execution_count": null,
   "metadata": {},
   "outputs": [],
   "source": [
    "plot3dcube(points)"
   ]
  },
  {
   "cell_type": "markdown",
   "metadata": {},
   "source": [
    "**<font color='red'>QUESTION:</font>** The following the $3\\times 3$ was shown in the video (around 6'50''). Apply this matrix to the unit cube and use the ```plot3dcube``` to show the resulting transformed points. \n",
    "\n"
   ]
  },
  {
   "cell_type": "code",
   "execution_count": null,
   "metadata": {},
   "outputs": [],
   "source": [
    "T = np.matrix([[1 , 0 ,  0.5],\n",
    "               [0.5 ,1 ,1.5],\n",
    "               [1 , 0 ,  1]])\n",
    "\n",
    "#Put the answer to the above question here. "
   ]
  },
  {
   "cell_type": "markdown",
   "metadata": {},
   "source": [
    "&#9989; **<font color='red'>QUESTION:</font>** The determinant represents how the area changes when applying a $2 \\times 2$ transform.  What does the determinant represent for a $3 \\times 3$ transform?"
   ]
  },
  {
   "cell_type": "markdown",
   "metadata": {},
   "source": [
    "Put your answer here"
   ]
  },
  {
   "cell_type": "markdown",
   "metadata": {},
   "source": [
    "----\n",
    "\n",
    "<a name=\"CramersRule\"></a>\n",
    "## 4. Cramer's Rule\n",
    "\n",
    "&#9989; **<font color='red'>DO THIS:</font>** Watch the following video and come to class ready to discuss Cramer's Rule. We will implement this method to solve systems of equations tomorrow in class."
   ]
  },
  {
   "cell_type": "code",
   "execution_count": null,
   "metadata": {},
   "outputs": [],
   "source": [
    "from IPython.display import YouTubeVideo\n",
    "YouTubeVideo(\"BW6897HIOMA\",width=640,height=360, cc_load_policy=True)"
   ]
  },
  {
   "cell_type": "markdown",
   "metadata": {},
   "source": [
    "----\n",
    "\n",
    "<a name=\"Eigenvectors_and_Eigenvalues\"></a>\n",
    "\n",
    "The other application of deteriminants (which we will use almost everyday the rest of the semester) is eigenvectors.\n",
    "\n",
    "## 5. Eigenvectors and Eigenvalues\n",
    "\n",
    "Understanding Eigenvector and Eigenvalues can be very challenging. These are complex topics with many facets.  Different textbooks approach the problem from different directions.  All have value.  These facets include:\n",
    "\n",
    "- Understanding the mathematical definition of Eigenvalues.\n",
    "- Being able to calculate an Eigenvalue and Eigenvector.\n",
    "- Understanding what Eigenvalues and Eigenvectors represent. \n",
    "- Understanding how to use Eigenvalues and Eigenvectors to solve problems. \n",
    "\n",
    "In this course we consider it more important to understand what eigenvectors and eigenvalues represent and how to use them. However, often this understanding comes from first learning how to calculate them.  \n",
    "\n",
    "> Eigenvalues are a special set of scalars associated with a **square matrix** that are sometimes also known as characteristic roots, characteristic values (Hoffman and Kunze 1971), proper values, or latent roots (Marcus and Minc 1988, p. 144).\n",
    "\n",
    "> The determination of the eigenvalues and eigenvectors of a matrix is extremely important in physics and engineering, where it is equivalent to matrix diagonalization and arises in such common applications as [stability analysis](https://en.wikipedia.org/wiki/Von_Neumann_stability_analysis), the [physics of rotating bodies](http://www.physics.princeton.edu/~mcdonald/examples/ph101_1996/ph101lab5_96.pdf), and [small oscillations of vibrating systems](http://lpsa.swarthmore.edu/MtrxVibe/MatrixAll.html), to name only a few.\n",
    "\n",
    "> The decomposition of a square matrix $A$ into eigenvalues and eigenvectors is known in this work as eigen decomposition, and the fact that this decomposition is always possible as long as the matrix consisting of the eigenvectors of $A$ is square. This is known as the eigen decomposition theorem.\n",
    "\n",
    "\n",
    "From: http://mathworld.wolfram.com/Eigenvalue.html"
   ]
  },
  {
   "cell_type": "markdown",
   "metadata": {},
   "source": [
    "The following video provides an intuition for eigenvalues and eigenvectors.  "
   ]
  },
  {
   "cell_type": "code",
   "execution_count": null,
   "metadata": {},
   "outputs": [],
   "source": [
    "from IPython.display import YouTubeVideo\n",
    "YouTubeVideo(\"ue3yoeZvt8E\",width=640,height=360, cc_load_policy=True)"
   ]
  },
  {
   "cell_type": "markdown",
   "metadata": {},
   "source": [
    "### Definition\n",
    "\n",
    "Let $A$ be an $n\\times n$ matrix.  An eigenvector of $A$ ass is a non-zero vector $x$ in $R^n$ such that:\n",
    "\n",
    "$$Ax=\\lambda x$$\n",
    "\n",
    "for some scalar $\\lambda \\in \\mathbb{R}$. (The values of $\\lambda$ and $x$ can be complex numbers in general, but we will only focus on real values in this course). The scalar $\\lambda$ above is called the **eigenvalue** associated to $x$.\n",
    "\n",
    "In order to compute these eigenvalues/eigenvectors we begin by rewritting the equation as $Ax=\\lambda x$ as:\n",
    "\n",
    "$$(A-\\lambda I_n)x = 0$$\n",
    "\n",
    "Naturally, there is the trivial solution is $x=0$, but recall we defined eigenvectors to be nonzero. \n",
    "\n",
    "Now, nonzero (i.e. non-trivial) solutions to the system of equations $(A-\\lambda I_n)x = 0$ can only exist if the matrix $(A-\\lambda I_n)$ is singular, i.e. the determinant of $|A - \\lambda I_n| = 0$. (This comes from the Invertible Matrix Theorem, but we will talk about it more later.)\n",
    "\n",
    "Therefore, solving the equation $|A - \\lambda I_n| = 0$ for $\\lambda$ leads to all the eigenvalues of $A$.\n",
    "\n",
    "**Note:** the above logic is key.  Make sure you understand. If not, ask questions. \n",
    "\n",
    "The following video gives a geometric description of eigenvalues and eigenvectors. In terms of affine transformations, the eigenvectors of $A$ are the vectors in which the matrix $A$ will always act as a scaling matrix. "
   ]
  },
  {
   "cell_type": "code",
   "execution_count": null,
   "metadata": {},
   "outputs": [],
   "source": [
    "from IPython.display import YouTubeVideo\n",
    "YouTubeVideo(\"PFDu9oVAE-g\",width=640,height=360, cc_load_policy=True)"
   ]
  },
  {
   "cell_type": "markdown",
   "metadata": {},
   "source": [
    "### Examples:\n",
    "Here are a few more examples of how eigenvalues and eigenvectors are used (You are not required to understand all, but they give examples of things we could use as a homework topic later in the semester if there is interest.):\n",
    "\n",
    "> [Using singular value decomposition for image compression](https://docs.google.com/viewer?a=v&pid=sites&srcid=ZGVmYXVsdGRvbWFpbnxuYXNsdW5kZXJpY3xneDpkMTI4OTI1NTc4YjRlOGE). \n",
    "This is a note explaining how you can compress an image by throwing away the small eigenvalues of $A^TA$. \n",
    "It takes an 88 megapixel image of an Allosaurus and shows how the image looks after compressing by selecting the largest singular values.\n",
    "\n",
    "> [Deriving Special Relativity]((https://docs.google.com/viewer?a=v&pid=sites&srcid=ZGVmYXVsdGRvbWFpbnxuYXNsdW5kZXJpY3xneDo2ZTAyNzA4NTZmOGZmNmU4) is more natural in the language of linear algebra. \n",
    "In fact, Einstein's second postulate really states that \"Light is an eigenvector of the Lorentz transform.\" \n",
    "This document goes over the full derivation in detail.\n",
    "\n",
    "> [Spectral Clustering](https://en.wikipedia.org/wiki/Spectral_clustering). \n",
    "Whether it's in plants and biology, medical imaging, buisness and marketing, understanding the connections between fields on Facebook, or even criminology, clustering is an extremely important part of modern data analysis. \n",
    "It allows people to find important subsystems or patterns inside noisy data sets. \n",
    "One such method is spectral clustering, which uses the eigenvalues of the graph of a network. \n",
    "Even the eigenvector of the second smallest eigenvalue of the Laplacian matrix allows us to find the two largest clusters in a network.\n",
    "\n",
    "> [Dimensionality Reduction/PCA](https://en.wikipedia.org/wiki/Principal_component_analysis). \n",
    "The principal components correspond to the largest eigenvalues of $A^\\top A$, and this yields the least squared projection onto a smaller dimensional hyperplane, and the eigenvectors become the axes of the hyperplane. \n",
    "Dimensionality reduction is extremely useful in machine learning and data analysis as it allows one to understand where most of the variation in the data comes from.\n",
    "\n",
    "> [Low rank factorization for collaborative prediction](http://cs229.stanford.edu/proj2006/KleemanDenuitHenderson-MatrixFactorizationForCollaborativePrediction.pdf). \n",
    "This is what Netflix does (or once did) to predict what rating you'll have for a movie you have not yet watched. \n",
    "It uses the singular value decomposition and throws away the smallest eigenvalues of $A^\\top A$.\n",
    "\n",
    "> [The Google Page Rank algorithm](https://en.wikipedia.org/wiki/PageRank). \n",
    "The largest eigenvector of the graph of the internet is how the pages are ranked.\n",
    "\n",
    "From: https://math.stackexchange.com/questions/1520832/real-life-examples-for-eigenvalues-eigenvectors"
   ]
  },
  {
   "cell_type": "markdown",
   "metadata": {},
   "source": [
    "----\n",
    "<a name=\"Solving_Eigenproblems\"></a>\n",
    "## 6. Solving Eigenproblems - A 2x2 Example\n",
    "\n",
    "We will do a basic example of computing eigenvalues here, and get more involved in class tomorrow."
   ]
  },
  {
   "cell_type": "code",
   "execution_count": null,
   "metadata": {},
   "outputs": [],
   "source": [
    "from IPython.display import YouTubeVideo\n",
    "YouTubeVideo(\"0UbkMlTu1vo\",width=640,height=360, cc_load_policy=True)"
   ]
  },
  {
   "cell_type": "markdown",
   "metadata": {},
   "source": [
    "Consider calculating eigenvalues for any $2\\times 2$ matrix. \n",
    "We want to solve:\n",
    "\n",
    "$$|A - \\lambda I_2 | = 0$$\n",
    "\n",
    "$$ \n",
    "\\left|\n",
    "\\left[\n",
    "\\begin{matrix}\n",
    "    a_{11} & a_{12} \\\\\n",
    "    a_{21} & a_{22}\n",
    "\\end{matrix}\n",
    "\\right] \n",
    "- \\lambda \\left[\n",
    "\\begin{matrix}\n",
    "    1 & 0 \\\\\n",
    "    0 & 1\n",
    "\\end{matrix}\n",
    "\\right] \n",
    "\\right|\n",
    "=\n",
    "\\left|\n",
    "\\left[\n",
    "\\begin{matrix}\n",
    "    a_{11}-\\lambda & a_{12} \\\\\n",
    "    a_{21} & a_{22}-\\lambda\n",
    "\\end{matrix}\n",
    "\\right]\n",
    "\\right|\n",
    "=0\n",
    "$$\n",
    "\n",
    "We know this determinant:\n",
    "\n",
    "$$(a_{11}-\\lambda)(a_{22}-\\lambda) - a_{12} a_{21}  = 0 $$\n",
    "\n",
    "If we expand the above, we get:\n",
    "\n",
    "$$a_{11}a_{22}+\\lambda^2-a_{11}\\lambda-a_{22}\\lambda - a_{12} a_{21} = 0$$\n",
    "\n",
    "and\n",
    "\n",
    "$$\\lambda^2-(a_{11}+a_{22})\\lambda+a_{11}a_{22} - a_{12} a_{21} = 0$$\n",
    "\n",
    "\n",
    "This is a simple quadratic equation. \n",
    "The roots pf $A\\lambda^2+B\\lambda+C = 0$ can be solved using the quadratic formula:\n",
    "\n",
    "$$ \\frac{-B \\pm \\sqrt{B^2 - 4AC}}{2A}$$\n",
    "\n",
    "&#9989; **<font color=red>QUESTION:</font>** Using the above equation.  What are the eigenvalues for the following $2\\times 2$ matrix. Try calculating this by hand and then store the lower value in a variable named```e1``` and the larger value in ```e2``` to check your answer:\n",
    "\n",
    "$$A =\n",
    "\\left[\n",
    "\\begin{matrix}\n",
    "    -4 & -6  \\\\\n",
    "    3 & 5\n",
    " \\end{matrix}\n",
    "\\right] \n",
    "$$"
   ]
  },
  {
   "cell_type": "code",
   "execution_count": null,
   "metadata": {},
   "outputs": [],
   "source": [
    "# Put your answer here"
   ]
  },
  {
   "cell_type": "code",
   "execution_count": null,
   "metadata": {},
   "outputs": [],
   "source": [
    "from answercheck import checkanswer\n",
    "\n",
    "checkanswer.float(e1,'c54490d3480079138c8c027a87a366e3');"
   ]
  },
  {
   "cell_type": "code",
   "execution_count": null,
   "metadata": {},
   "outputs": [],
   "source": [
    "from answercheck import checkanswer\n",
    "\n",
    "checkanswer.float(e2,'d1bd83a33f1a841ab7fda32449746cc4');"
   ]
  },
  {
   "cell_type": "markdown",
   "metadata": {},
   "source": [
    "&#9989; **<font color=red>DO THIS</font>** Find a ```numpy``` function that will calculate eigenvalues and verify the answers from above."
   ]
  },
  {
   "cell_type": "code",
   "execution_count": null,
   "metadata": {},
   "outputs": [],
   "source": [
    "# Put your answer here"
   ]
  },
  {
   "cell_type": "markdown",
   "metadata": {},
   "source": [
    "&#9989; **<font color=red>QUESTION:</font>** What are the corresponding eigenvectors to the matrix $A$? This time you can try calculating by hand or just used the function you found in the previous answer.  Store the eigenvector associated with the ```e1``` value in a vector named ```v1``` and the eigenvector associated with the eigenvalue ```e2``` in a vector named ```v2``` to check your answer.  "
   ]
  },
  {
   "cell_type": "markdown",
   "metadata": {},
   "source": [
    "Put your answer to the above question here."
   ]
  },
  {
   "cell_type": "code",
   "execution_count": null,
   "metadata": {},
   "outputs": [],
   "source": [
    "from answercheck import checkanswer\n",
    "\n",
    "checkanswer.eq_vector(v1,'35758bc2fa8ff4f04cfbcd019844f93d');"
   ]
  },
  {
   "cell_type": "code",
   "execution_count": null,
   "metadata": {},
   "outputs": [],
   "source": [
    "from answercheck import checkanswer\n",
    "\n",
    "checkanswer.eq_vector(v2,'90b0437e86d2cf70050d1d6081d942f4');"
   ]
  },
  {
   "cell_type": "markdown",
   "metadata": {},
   "source": [
    "---\n",
    "<a name=\"T3\"></a>\n",
    "## 7. Assignment wrap up\n",
    "\n",
    "\n",
    "Please fill out the form that appears when you run the code below.  **You must completely fill this out in order to receive credit for the assignment!** If you cannont load the form below please try logging in to [spartan365.msu.edu](http://spartan365.msu.edu/) and try running it again, or simply use the direct link provided below. \n",
    "\n",
    "[Direct Link to Microsoft Form](https://forms.office.com/r/n0PEF9xt59)\n"
   ]
  },
  {
   "cell_type": "markdown",
   "metadata": {},
   "source": [
    "&#9989; **<font color=red>Assignment-Specific QUESTION:</font>** What does the determinant represent for a $3 \\times 3$ transform?"
   ]
  },
  {
   "cell_type": "markdown",
   "metadata": {},
   "source": [
    "Put your answer to the above question here"
   ]
  },
  {
   "cell_type": "markdown",
   "metadata": {},
   "source": [
    "&#9989; **<font color=red>Assignment-Specific QUESTION:</font>** Both **sympy** and **numpy** can calculate many of the same things. What is the fundamental difference between these two libraries?"
   ]
  },
  {
   "cell_type": "code",
   "execution_count": null,
   "metadata": {},
   "outputs": [],
   "source": [
    "Put your answer to the above question here."
   ]
  },
  {
   "cell_type": "code",
   "execution_count": null,
   "metadata": {},
   "outputs": [],
   "source": [
    "from IPython.display import HTML\n",
    "HTML(\n",
    "\"\"\"\n",
    "<iframe width=\"640px\" height= \"480px\" src= \"https://forms.office.com/Pages/ResponsePage.aspx?id=MHEXIi9k2UGSEXQjetVofSS1ePbivlBPgYEBiz_zsf1UOTk3QU5VVEo1SVpKWlpaWlU4WTlDUlQwWi4u&embed=true\" frameborder= \"0\" marginwidth= \"0\" marginheight= \"0\" style= \"border: none; max-width:100%; max-height:100vh\" allowfullscreen webkitallowfullscreen mozallowfullscreen msallowfullscreen> </iframe>\n",
    "\"\"\"\n",
    ")"
   ]
  },
  {
   "cell_type": "markdown",
   "metadata": {},
   "source": [
    "---------\n",
    "### Congratulations, we're done!\n",
    "\n",
    "###EndPreClass###`"
   ]
  },
  {
   "cell_type": "markdown",
   "metadata": {},
   "source": [
    "---\n",
    "Written by Dr. Dirk Colbry, and Dr. Matthew Mills, Michigan State University\n",
    "<a rel=\"license\" href=\"http://creativecommons.org/licenses/by-nc/4.0/\"><img alt=\"Creative Commons License\" style=\"border-width:0\" src=\"https://i.creativecommons.org/l/by-nc/4.0/88x31.png\" /></a><br />This work is licensed under a <a rel=\"license\" href=\"http://creativecommons.org/licenses/by-nc/4.0/\">Creative Commons Attribution-NonCommercial 4.0 International License</a>.\n",
    "\n",
    "----"
   ]
  },
  {
   "cell_type": "markdown",
   "metadata": {},
   "source": [
    "\n"
   ]
  }
 ],
 "metadata": {
  "anaconda-cloud": {},
  "kernelspec": {
   "display_name": "Python 3",
   "language": "python",
   "name": "python3"
  },
  "language_info": {
   "codemirror_mode": {
    "name": "ipython",
    "version": 3
   },
   "file_extension": ".py",
   "mimetype": "text/x-python",
   "name": "python",
   "nbconvert_exporter": "python",
   "pygments_lexer": "ipython3",
   "version": "3.7.6"
  }
 },
 "nbformat": 4,
 "nbformat_minor": 4
}