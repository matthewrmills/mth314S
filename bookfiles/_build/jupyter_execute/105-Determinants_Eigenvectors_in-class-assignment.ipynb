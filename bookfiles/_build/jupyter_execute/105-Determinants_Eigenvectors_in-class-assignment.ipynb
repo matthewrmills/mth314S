{
 "cells": [
  {
   "cell_type": "markdown",
   "metadata": {},
   "source": []
  },
  {
   "cell_type": "markdown",
   "metadata": {},
   "source": [
    "# 105 In-Class Assignment: Determinants & Eigenvectors\n",
    "\n",
    "<img src=\"http://www.mathnstuff.com/math/algebra/gif/asys1.gif\" alt=\"Depiction of Cramer's Rule with two equations and two variables\">  \n",
    "\n",
    "Image from:[http://www.mathnstuff.com/](http://www.mathnstuff.com/)  \n",
    " "
   ]
  },
  {
   "cell_type": "markdown",
   "metadata": {},
   "source": [
    "### Agenda for today's class\n",
    "\n",
    "1. [Review Pre-class Assignment](#Review_Pre-class_Assignment)\n",
    "1. [Algorithm to calculate the determinant](#Algorithm_to_calculate_the_determinant)\n",
    "1. [Using Cramer's rule to solve $Ax=b$](#Using_Cramers_rule)\n",
    "1. [Introduction to Markov Models](#Introduction-to-Markov-Models)\n",
    "1. [Another Markov Example](#Another-Markov-Model-Example)\n"
   ]
  },
  {
   "cell_type": "markdown",
   "metadata": {},
   "source": [
    "----\n",
    "\n",
    "<a name=\"Review_Pre-class_Assignment\"></a>\n",
    "## 1. Review Pre-class Assignment\n",
    "\n",
    "* [09--Determinants_pre-class-assignment.ipynb](09--Determinants_pre-class-assignment.ipynb)"
   ]
  },
  {
   "cell_type": "markdown",
   "metadata": {},
   "source": [
    "---\n",
    "<a name=\"Algorithm_to_calculate_the_determinant\"></a>\n",
    "## 2. Algorithm to calculate the determinant\n",
    "Consider the following recursive algorithm (algorithm that calls itself) to determine the determinate of a $n\\times n$ matrix $A$ (denoted $|A|$), which is the sum of the products of the elements of any row or column. i.e.:\n",
    "\n",
    "$$i\\text{th row expansion:     } |A| = a_{i1}C_{i1} + a_{i2}C_{i2} + \\ldots + a_{in}C_{in} $$\n",
    "$$j\\text{th column expansion:     } |A| = a_{1j}C_{1j} + a_{2j}C_{2j} + \\ldots + a_{nj}C_{nj} $$\n",
    "\n",
    "where $C_{ij}$ is the cofactor of $a_{ij}$ and is given by:\n",
    "\n",
    "$$ C_{ij} = (-1)^{i+j}|M_{ij}|$$\n",
    "\n",
    "and $M_{ij}$ is the matrix that remains after deleting row $i$ and column $j$ of $A$.\n",
    "\n",
    "Here is some code that tries to implement this algorithm.  "
   ]
  },
  {
   "cell_type": "code",
   "execution_count": 1,
   "metadata": {},
   "outputs": [],
   "source": [
    "## Import our standard packages packages\n",
    "%matplotlib inline\n",
    "import numpy as np\n",
    "import matplotlib.pyplot as plt\n",
    "import sympy as sym\n",
    "sym.init_printing(use_unicode=True)"
   ]
  },
  {
   "cell_type": "code",
   "execution_count": 2,
   "metadata": {},
   "outputs": [],
   "source": [
    "import copy\n",
    "import random\n",
    "\n",
    "def makeM(A,i,j):\n",
    "    ''' Deletes the ith row and jth column from A'''\n",
    "    M = copy.deepcopy(A)\n",
    "    del M[i]\n",
    "    for k in range(len(M)):\n",
    "        del M[k][j]\n",
    "    return M\n",
    "\n",
    "def mydet(A):\n",
    "    '''Calculate the determinant from list-of-lists matrix A'''\n",
    "    if type(A) == np.matrix:\n",
    "        A = A.tolist()   \n",
    "    n = len(A)\n",
    "    if n == 2:\n",
    "        det = (A[0][0]*A[1][1] - A[1][0]*A[0][1]) \n",
    "        return det\n",
    "    det = 0\n",
    "    i = 0\n",
    "    for j in range(n):\n",
    "        M = makeM(A,i,j)\n",
    "        \n",
    "        #Calculate the determinant\n",
    "        det += (A[i][j] * ((-1)**(i+j+2)) * mydet(M))\n",
    "    return det"
   ]
  },
  {
   "cell_type": "markdown",
   "metadata": {},
   "source": [
    "The following code generates an $n \\times n$ matrix with random values from 0 to 10.  \n",
    "Run the code multiple times to get different matrices:"
   ]
  },
  {
   "cell_type": "code",
   "execution_count": 3,
   "metadata": {},
   "outputs": [
    {
     "data": {
      "image/png": "[encoded data removed]",
      "text/latex": [
       "$\\displaystyle \\left[\\begin{matrix}7 & 2 & 3 & 3 & 5\\\\5 & 0 & 5 & 0 & 2\\\\5 & 1 & 8 & 9 & 3\\\\7 & 7 & 2 & 3 & 5\\\\3 & 2 & 8 & 0 & 8\\end{matrix}\\right]$"
      ],
      "text/plain": [
       "⎡7  2  3  3  5⎤\n",
       "⎢             ⎥\n",
       "⎢5  0  5  0  2⎥\n",
       "⎢             ⎥\n",
       "⎢5  1  8  9  3⎥\n",
       "⎢             ⎥\n",
       "⎢7  7  2  3  5⎥\n",
       "⎢             ⎥\n",
       "⎣3  2  8  0  8⎦"
      ]
     },
     "execution_count": 3,
     "metadata": {
      "filenames": {
       "image/png": "/Users/matt/Dropbox/MTH314S/mth314S/bookfiles/_build/jupyter_execute/105-Determinants_Eigenvectors_in-class-assignment_8_0.png"
      }
     },
     "output_type": "execute_result"
    }
   ],
   "source": [
    "#generate Random Matrix and calculate it's determinant using numpy\n",
    "n = 5\n",
    "s = 10\n",
    "A = [[round(random.random()*s) for i in range(n)] for j in range(n)]\n",
    "A = np.matrix(A)\n",
    "#print matrix\n",
    "sym.Matrix(A)\n"
   ]
  },
  {
   "cell_type": "markdown",
   "metadata": {},
   "source": [
    "&#9989; **<font color='red'>DO THIS:</font>** Use the randomly generated matrix ($A$) to test the above ```mydet``` function and compare your result to the ```numpy.linalg.det``` function."
   ]
  },
  {
   "cell_type": "code",
   "execution_count": 4,
   "metadata": {},
   "outputs": [],
   "source": [
    "# Put your test code here"
   ]
  },
  {
   "cell_type": "markdown",
   "metadata": {},
   "source": [
    "&#9989; **<font color=red>QUESTION:</font>** Are the answers to ```mydet``` and ```numpuy.linalg.det``` exactly the same every time you generate a different random matrix?  If not, explain why."
   ]
  },
  {
   "cell_type": "markdown",
   "metadata": {},
   "source": [
    "Put your answer here"
   ]
  },
  {
   "cell_type": "markdown",
   "metadata": {},
   "source": [
    "&#9989; **<font color=red>QUESTION:</font>** On line 26 of the above code, you can see that algorithm calls itself.  Explain why this doesn't run forever."
   ]
  },
  {
   "cell_type": "markdown",
   "metadata": {},
   "source": [
    "Put your answer here"
   ]
  },
  {
   "cell_type": "markdown",
   "metadata": {},
   "source": [
    "---\n",
    "\n",
    "<a name=\"Using_Cramers_rule\"></a>\n",
    "## 3. Using Cramer's rule to solve $Ax=b$\n",
    "\n",
    "Let $Ax = b$ be a system of $n$ linear equations in $n$ variables such that $|A| \\neq 0$. the system has a unique solution given by:\n",
    "\n",
    "$$x_1 = \\frac{|A_1|}{|A|}, x_2 = \\frac{|A_2|}{|A|}, \\ldots,  x_n = \\frac{|A_n|}{|A|}$$\n",
    "\n",
    "where $A_i$ is the matrix obtained by replacing column $i$ of $A$ with $b$. The following function generates $A_i$ by replacing the $i$th column of $A$ with $b$:"
   ]
  },
  {
   "cell_type": "code",
   "execution_count": 5,
   "metadata": {},
   "outputs": [],
   "source": [
    "def makeAi(A,i,b):\n",
    "    '''Replace the ith column in A with b'''\n",
    "    if type(A) == np.matrix:\n",
    "        A = A.tolist()\n",
    "    if type(b) == np.matrix:\n",
    "        b = b.tolist()\n",
    "    Ai = copy.deepcopy(A)\n",
    "    for j in range(len(Ai)):\n",
    "        Ai[j][i] = b[j][0]\n",
    "    return Ai"
   ]
  },
  {
   "cell_type": "markdown",
   "metadata": {},
   "source": [
    "&#9989; **<font color=red>DO THIS:</font>** Create a new function called ```cramersRule```, which takes $A$ and $b$ and returns $x$ using the Cramer's rule. **Note:** Use ```numpy``` and NOT ```mydet``` to find the required determinants. ```mydet``` is too slow. "
   ]
  },
  {
   "cell_type": "code",
   "execution_count": 6,
   "metadata": {},
   "outputs": [],
   "source": [
    "# Stub code. \n",
    "\n",
    "def cramersRule(A,b):\n",
    "    detA = np.linalg.det(A)\n",
    "    x = []    \n",
    "    #####Start of your code here#####  \n",
    " \n",
    "\n",
    "    #####End of your code here#####  \n",
    "    \n",
    "    return x"
   ]
  },
  {
   "cell_type": "markdown",
   "metadata": {},
   "source": [
    "&#9989; **<font color=red>QUESTION:</font>** Test your ```cramersRule``` function on the following system of linear equations:\n",
    "\n",
    "$$ x_1 + 2x_2 = 3$$\n",
    "$$3x_1 + x_2 = -1$$"
   ]
  },
  {
   "cell_type": "code",
   "execution_count": 7,
   "metadata": {},
   "outputs": [],
   "source": [
    "#Put your answer to the above quesiton here"
   ]
  },
  {
   "cell_type": "markdown",
   "metadata": {},
   "source": [
    "&#9989; **<font color=red>QUESTION:</font>** Verify the above answer by using the ```np.linalg.solve``` function:"
   ]
  },
  {
   "cell_type": "code",
   "execution_count": 8,
   "metadata": {},
   "outputs": [],
   "source": [
    "#Put your answer to the above quesiton here"
   ]
  },
  {
   "cell_type": "markdown",
   "metadata": {},
   "source": [
    "&#9989; **<font color=red>QUESTION:</font>** Test your ```cramersRule``` function on the following system of linear equations and verify the answer by using the ```np.linalg.solve``` function: \n",
    "\n",
    "$$ x_1 + 2x_2 +x_3 = 9$$\n",
    "$$ x_1 + 3x_2 - x_3 = 4$$\n",
    "$$ x_1 + 4x_2 - x_3 = 7$$"
   ]
  },
  {
   "cell_type": "code",
   "execution_count": 9,
   "metadata": {},
   "outputs": [],
   "source": [
    "#Put your answer to the above quesiton here"
   ]
  },
  {
   "cell_type": "markdown",
   "metadata": {},
   "source": [
    "&#9989; **<font color=red>QUESTION:</font>** Cramer's rule is a $O(n!)$ algorithm and the Gauss-Jordan (or Gaussian) elimination is $O(n^3)$.  What advantages does Cramer's rule have over elimination?"
   ]
  },
  {
   "cell_type": "markdown",
   "metadata": {},
   "source": [
    "Put your answer here."
   ]
  },
  {
   "cell_type": "markdown",
   "metadata": {},
   "source": [
    "-----\n",
    "<a name=Introduction-to-Markov-Models></a>\n",
    "## 4.  Introduction to Markov Models\n",
    "\n",
    "\n",
    ">In probability theory, a Markov model is a stochastic model used to model randomly changing systems. \n",
    "It is assumed that future states depend only on the current state, not on the events that occurred before it.\n",
    ">\n",
    "> <img src=\"https://upload.wikimedia.org/wikipedia/commons/thumb/2/2b/Markovkate_01.svg/1126px-Markovkate_01.svg.png\" width=25%>\n",
    "> A diagram representing a two-state Markov process, with the states labelled E and A. \n",
    "Each number represents the probability of the Markov process changing from one state to another state, with the direction indicated by the arrow. \n",
    "For example, if the Markov process is in state A, then the probability it changes to state E is 0.4, while the probability it remains in state A is 0.6.\n",
    "\n",
    "From: [Wikipedia](https://en.wikipedia.org/wiki/Markov_model)"
   ]
  },
  {
   "cell_type": "code",
   "execution_count": 10,
   "metadata": {},
   "outputs": [],
   "source": [
    "%matplotlib inline\n",
    "import matplotlib.pylab as plt\n",
    "import numpy as np\n",
    "import sympy as sym\n",
    "sym.init_printing(use_unicode=True)"
   ]
  },
  {
   "cell_type": "markdown",
   "metadata": {},
   "source": [
    "The above state model can be represented by a transition matrix. \n",
    "\n",
    "$$\n",
    "\\begin{array}{cc}\n",
    "& \\text{Current State}  \\\\\n",
    "P =  &\n",
    "\\begin{bmatrix}\n",
    "    p_{A\\rightarrow A} & p_{E\\rightarrow A}  \\\\\n",
    "    p_{A\\rightarrow E} & p_{E\\rightarrow E} \n",
    "\\end{bmatrix}\n",
    "\\end{array}\n",
    "\\text{Next state}\n",
    "$$\n",
    "\n",
    "In other words we can write the above as follows"
   ]
  },
  {
   "cell_type": "code",
   "execution_count": 11,
   "metadata": {},
   "outputs": [
    {
     "data": {
      "image/png": "[encoded data removed]",
      "text/latex": [
       "$\\displaystyle \\left[\\begin{matrix}0.6 & 0.7\\\\0.4 & 0.3\\end{matrix}\\right]$"
      ],
      "text/plain": [
       "⎡0.6  0.7⎤\n",
       "⎢        ⎥\n",
       "⎣0.4  0.3⎦"
      ]
     },
     "execution_count": 11,
     "metadata": {
      "filenames": {
       "image/png": "/Users/matt/Dropbox/MTH314S/mth314S/bookfiles/_build/jupyter_execute/105-Determinants_Eigenvectors_in-class-assignment_30_0.png"
      }
     },
     "output_type": "execute_result"
    }
   ],
   "source": [
    "A = np.matrix([[0.6, 0.7],[0.4, 0.3]])\n",
    "sym.Matrix(A)"
   ]
  },
  {
   "cell_type": "markdown",
   "metadata": {},
   "source": [
    "Notice how the columns in the matrix all add to one. This is because all of the transition probabilities out of a matrix must add to 100 percent. \n",
    "\n",
    "Now, consider the following house map with cats in each room...\n",
    "\n",
    "At each time step, there is an equal probability of a cat staying in their current room or moving to a new room. \n",
    "If a cat chooses to leave a room, then there is an equal chance of that cat picking any of the doors in the room to leave. \n",
    "\n",
    "<img src=\"https://lh4.googleusercontent.com/CGFHfJgtrPu-2bZPhPul1ll8B3tqC1Vs8jRwnZ13v8MqRAagWhrSmJ0cznYIP3ePg5co5AVI8g=w712\" alt=\"Top down diagram of a house with three rooms (see text for more description\" width=\"50%\">\n",
    "\n",
    "&#9989;**<font color=red>DO THIS :</font>** Try to draw a Markov chain (Markov matrix) for the above system of equations. Be prepared to share your diagram with the class. \n",
    "\n",
    "A Markov chain can be represented as a Markov transition model of the form $Ax=b$. \n",
    "Where $A$ is your probability tranisition matrix (often represented as a $P$ instead of an $A$). \n",
    "$x$ is the state before the transition and $b$ is the state after the transition.\n",
    "\n",
    "&#9989;**<font color=red>QUESTION:</font>** Generate a Markov transition model represented as a matrix $P$ of the form:\n",
    "$$\n",
    "\\begin{array}{ccc}\n",
    "& \\text{Current Room}  \\\\\n",
    "P =  &\n",
    "\\begin{bmatrix}\n",
    "    p_{11} & p_{12} & p_{13} \\\\\n",
    "    p_{21} & p_{22} & p_{23} \\\\\n",
    "    p_{31} & p_{32} & p_{33} \n",
    "\\end{bmatrix}\n",
    "\\end{array}\n",
    "\\text{Next Room}\n",
    "$$\n",
    "\n",
    "Where $p_{ij}$ are probability transitions of the cat moving between rooms (from room $j$ to room $i$):"
   ]
  },
  {
   "cell_type": "code",
   "execution_count": 12,
   "metadata": {},
   "outputs": [],
   "source": [
    "##put your answer here"
   ]
  },
  {
   "cell_type": "code",
   "execution_count": 13,
   "metadata": {},
   "outputs": [
    {
     "ename": "ModuleNotFoundError",
     "evalue": "No module named 'answercheck'",
     "output_type": "error",
     "traceback": [
      "\u001b[0;31m---------------------------------------------------------------------------\u001b[0m",
      "\u001b[0;31mModuleNotFoundError\u001b[0m                       Traceback (most recent call last)",
      "\u001b[0;32m<ipython-input-13-e98649d62fe2>\u001b[0m in \u001b[0;36m<module>\u001b[0;34m\u001b[0m\n\u001b[0;32m----> 1\u001b[0;31m \u001b[0;32mfrom\u001b[0m \u001b[0manswercheck\u001b[0m \u001b[0;32mimport\u001b[0m \u001b[0mcheckanswer\u001b[0m\u001b[0;34m\u001b[0m\u001b[0;34m\u001b[0m\u001b[0m\n\u001b[0m\u001b[1;32m      2\u001b[0m \u001b[0;34m\u001b[0m\u001b[0m\n\u001b[1;32m      3\u001b[0m \u001b[0mcheckanswer\u001b[0m\u001b[0;34m.\u001b[0m\u001b[0mmatrix\u001b[0m\u001b[0;34m(\u001b[0m\u001b[0mP\u001b[0m\u001b[0;34m,\u001b[0m\u001b[0;34m'1001a6fa07727caf8ce05226b765542c'\u001b[0m\u001b[0;34m)\u001b[0m\u001b[0;34m;\u001b[0m\u001b[0;34m\u001b[0m\u001b[0;34m\u001b[0m\u001b[0m\n",
      "\u001b[0;31mModuleNotFoundError\u001b[0m: No module named 'answercheck'"
     ]
    }
   ],
   "source": [
    "from answercheck import checkanswer\n",
    "\n",
    "checkanswer.matrix(P,'1001a6fa07727caf8ce05226b765542c');"
   ]
  },
  {
   "cell_type": "markdown",
   "metadata": {},
   "source": [
    "&#9989;**<font color=red>QUESTION:</font>**  Let's assume that the system starts with; 6 cats in room 1, 15 cats in room 2, and 3 cats in room 3. How many cats will be in each room after one time step (Store the values in a vector called ```current_state```)?"
   ]
  },
  {
   "cell_type": "code",
   "execution_count": null,
   "metadata": {},
   "outputs": [],
   "source": [
    "#Put your answer to the above question here."
   ]
  },
  {
   "cell_type": "code",
   "execution_count": null,
   "metadata": {},
   "outputs": [],
   "source": [
    "from answercheck import checkanswer\n",
    "checkanswer.vector(current_state,'98d5519be82a0585654de5eda3a7f397');"
   ]
  },
  {
   "cell_type": "markdown",
   "metadata": {},
   "source": [
    "&#9989;**<font color=red>QUESTION:</font>** The following code will plot the number of cats as a function of time ($t$).  When this system converges, what is the steady state?"
   ]
  },
  {
   "cell_type": "code",
   "execution_count": null,
   "metadata": {},
   "outputs": [],
   "source": [
    "#Define Start State\n",
    "room1 = [6]\n",
    "room2 = [15]\n",
    "room3 = [3]\n",
    "\n",
    "current_state = np.matrix([room1, room2, room3])\n",
    "\n",
    "for i in range(10):\n",
    "    #update Current State\n",
    "    current_state = P*current_state\n",
    "    \n",
    "    #Store history for each room\n",
    "    room1.append(current_state[0])\n",
    "    room2.append(current_state[1])\n",
    "    room3.append(current_state[2])\n",
    "    \n",
    "plt.plot(room1, label=\"room1\");\n",
    "plt.plot(room2, label=\"room2\");\n",
    "plt.plot(room3, label=\"room3\");\n",
    "plt.legend();\n",
    "print(current_state)"
   ]
  },
  {
   "cell_type": "markdown",
   "metadata": {},
   "source": [
    "Inspect the generated graph and put your answer to the above question here"
   ]
  },
  {
   "cell_type": "markdown",
   "metadata": {},
   "source": [
    "&#9989;**<font color=red>QUESTION:</font>**  Calculate the eigenvalues and eigenvectors of your $P$ transition matrix.  "
   ]
  },
  {
   "cell_type": "code",
   "execution_count": null,
   "metadata": {},
   "outputs": [],
   "source": [
    "##put your answer here"
   ]
  },
  {
   "cell_type": "markdown",
   "metadata": {},
   "source": [
    "The eigenvector associated with the eigenvalue of 1 represents the steady state probability for our original transition matrix $P$.  \n",
    "\n",
    "&#9989;**<font color=red>DO THIS:</font>** make a new vector called ```steadystate``` from the eigenvector of your $P$ matrix with a eigenvalue of 1."
   ]
  },
  {
   "cell_type": "code",
   "execution_count": null,
   "metadata": {},
   "outputs": [],
   "source": [
    "## Put your answer here"
   ]
  },
  {
   "cell_type": "code",
   "execution_count": null,
   "metadata": {},
   "outputs": [],
   "source": [
    "from answercheck import checkanswer\n",
    "checkanswer.detailedwarnings = False\n",
    "checkanswer.eq_vector(steadystate,'462ea7dca751db590ed09356886ad060')"
   ]
  },
  {
   "cell_type": "markdown",
   "metadata": {},
   "source": [
    "Since the ```steadystate``` vectors represent long term probibilities, they should sum to one (1).  However, most programming libraries (ex. numpy and sympy) return \"normalized\" eigenvectors to length of 1 (i.e. norm(e)==1). \n",
    "\n",
    "&#9989;**<font color=red>DO THIS:</font>**  Correct for the normalization by multiplying the ```steadystate``` eigenvector by a constant such that the sum of the vector elements add to 1. "
   ]
  },
  {
   "cell_type": "code",
   "execution_count": null,
   "metadata": {},
   "outputs": [],
   "source": [
    "#Put your answer here"
   ]
  },
  {
   "cell_type": "markdown",
   "metadata": {},
   "source": [
    "&#9989;**<font color=red>DO THIS:</font>**  Think about the cats problem, because one cat has to be in one of the three rooms. That means, the total number of cats will not change. If we add the number of cats at all rooms together, this number has to be the same. Therefore, if we start will 6+15+3=24 cats, there are also 24 cats at the ```steadystate```. Modify the steadystate to make sure the total number of cats is 24."
   ]
  },
  {
   "cell_type": "code",
   "execution_count": null,
   "metadata": {},
   "outputs": [],
   "source": [
    "# put answer here"
   ]
  },
  {
   "cell_type": "markdown",
   "metadata": {},
   "source": [
    "&#9989;**<font color=red>QUESTION:</font>** Why does the sum of the numbers at every stage remain the same? "
   ]
  },
  {
   "cell_type": "markdown",
   "metadata": {},
   "source": [
    "Put your answer here"
   ]
  },
  {
   "cell_type": "markdown",
   "metadata": {},
   "source": [
    "---\n",
    "<a name=Another-Markov-Model-Example></a>\n",
    "## 5. Another Markov Model Example\n",
    "\n",
    "\n",
    "\n",
    "> A sports broadcaster wishes to predict how many Michigan residents prefer University of Michigan teams and how many prefer Michigan State teams. \n",
    "She noticed that, year after year, most people stick with their preferred team; however, about 5% of Michigan fans switch to Michigan State, and about 3% of Michigan State fans switch to Michigan each year. \n",
    "However, there is no noticeable difference in the state's population of 10 million's preference at large; in other words, it seems Michigan sports fans have reached a stationary distribution. What might that be?\n",
    " <p style=\"text-align: right;\">  This problem is from https://brilliant.org/wiki/stationary-distributions/ </p>"
   ]
  },
  {
   "cell_type": "markdown",
   "metadata": {},
   "source": [
    "&#9989;**<font color=red>DO THIS:</font>** Try to draw a Markov chain for the above system of equations. Discuss your diagram with your classmate.\n",
    "\n",
    "&#9989; **<font color=red>QUESTION:</font>**  Write a system of linear equations that represents how the populations change each year. Check your equations by writing the matrix ```P``` for the probability transitions matrix in your equations. Make sure your first row/column represents MSU and the second row/column represents UofM. "
   ]
  },
  {
   "cell_type": "code",
   "execution_count": null,
   "metadata": {},
   "outputs": [],
   "source": [
    "# Put your answer here"
   ]
  },
  {
   "cell_type": "code",
   "execution_count": null,
   "metadata": {},
   "outputs": [],
   "source": [
    "from answercheck import checkanswer\n",
    "\n",
    "checkanswer.vector(P,'1d3f7cbebef4b610f3b0a2d97609c81f');"
   ]
  },
  {
   "cell_type": "markdown",
   "metadata": {},
   "source": [
    "&#9989; **<font color=red>QUESTION:</font>**   Calculate the eigenvalues and eigenvectors of your $P$ transition matrix.  "
   ]
  },
  {
   "cell_type": "code",
   "execution_count": null,
   "metadata": {},
   "outputs": [],
   "source": [
    "#Put the answer to the above quesiton here. "
   ]
  },
  {
   "cell_type": "markdown",
   "metadata": {},
   "source": [
    "&#9989; **<font color=red>QUESTION:</font>**   Assuming each team starts with 500,000 fans, what is the steady state of this model? (i.e. in the long term how many Spartan and Wolverine fans will there be?)."
   ]
  },
  {
   "cell_type": "code",
   "execution_count": null,
   "metadata": {},
   "outputs": [],
   "source": [
    "#Put your answer here"
   ]
  },
  {
   "cell_type": "code",
   "execution_count": null,
   "metadata": {},
   "outputs": [],
   "source": [
    "steadystate"
   ]
  },
  {
   "cell_type": "code",
   "execution_count": null,
   "metadata": {},
   "outputs": [],
   "source": [
    "from answercheck import checkanswer\n",
    "checkanswer.float(spartans,'06d263de629f4dbe51eafd524b69ddd9');"
   ]
  },
  {
   "cell_type": "code",
   "execution_count": null,
   "metadata": {},
   "outputs": [],
   "source": [
    "from answercheck import checkanswer\n",
    "checkanswer.float(wolverines,'62d63699c8f7b886ec9b3cb651bba753');"
   ]
  },
  {
   "cell_type": "markdown",
   "metadata": {},
   "source": [
    "\n"
   ]
  }
 ],
 "metadata": {
  "kernelspec": {
   "display_name": "Python 3",
   "language": "python",
   "name": "python3"
  },
  "language_info": {
   "codemirror_mode": {
    "name": "ipython",
    "version": 3
   },
   "file_extension": ".py",
   "mimetype": "text/x-python",
   "name": "python",
   "nbconvert_exporter": "python",
   "pygments_lexer": "ipython3",
   "version": "3.7.6"
  }
 },
 "nbformat": 4,
 "nbformat_minor": 4
}