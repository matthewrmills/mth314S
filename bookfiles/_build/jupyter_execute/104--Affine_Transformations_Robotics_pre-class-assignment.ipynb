{
 "cells": [
  {
   "cell_type": "markdown",
   "metadata": {},
   "source": []
  },
  {
   "cell_type": "markdown",
   "metadata": {},
   "source": [
    "# 104 Pre-Class Assignment: Transformations & Robotics\n",
    "\n",
    "<img src=\"https://people.gnome.org/~mathieu/libart/art-affines.png\">\n",
    "\n",
    "Image from: https://people.gnome.org/~mathieu/libart/libart-affine-transformation-matrices.html\n",
    "    "
   ]
  },
  {
   "cell_type": "markdown",
   "metadata": {},
   "source": [
    "### Readings for this topic (Recommended in bold)\n",
    " * [Heffron Chapter 3.IV pg 241-243](http://joshua.smcvt.edu/linearalgebra/book.pdf)\n",
    " * [Beezer Subsection EM pg 340-345](http://linear.ups.edu/download/fcla-3.50-tablet.pdf)\n",
    " * [Boyd A little on page 7](http://vmls-book.stanford.edu/vmls.pdf)\n",
    "\n",
    "\n",
    "### Goals for today's pre-class assignment \n",
    "\n",
    "\n",
    "1. [Review](#Review)\n",
    "1. [Affine Transforms Examples](#Affine_Transforms)\n",
    "1. [2D Forward Kinematics](#2D_Forward_Kinematics)\n",
    "1. [Assignment Wrap-up](#T3)\n",
    "\n",
    "Reference: https://studywolf.wordpress.com/2013/08/21/robot-control-forward-transformation-matrices/"
   ]
  },
  {
   "cell_type": "markdown",
   "metadata": {},
   "source": [
    "----\n",
    "\n",
    "<a name=\"Review\"></a>\n",
    "## 1. Review"
   ]
  },
  {
   "cell_type": "markdown",
   "metadata": {},
   "source": [
    "&#9989; **<font color=red>QUESTION:</font>**  Compute $2u+3v$ for vectors $u = (1,2, 6)$ and $v = (4, -1, 3)$."
   ]
  },
  {
   "cell_type": "markdown",
   "metadata": {},
   "source": [
    "Put your answer here"
   ]
  },
  {
   "cell_type": "markdown",
   "metadata": {},
   "source": [
    "&#9989; **<font color=red>QUESTION:</font>**  Matrix $A$ is of size ($m_1 \\times n_1$) and matrix $B$ is of size ($m_2 \\times n_2$).  What must be true about the dimensions in order to multiply $A \\times B$?  "
   ]
  },
  {
   "cell_type": "markdown",
   "metadata": {},
   "source": [
    "Put your answer here"
   ]
  },
  {
   "cell_type": "markdown",
   "metadata": {},
   "source": [
    "&#9989;  **<font color=red>QUESTION:</font>**   Is an invertible matrix is always square? Why or why not?"
   ]
  },
  {
   "cell_type": "markdown",
   "metadata": {},
   "source": [
    "Put your answer here"
   ]
  },
  {
   "cell_type": "markdown",
   "metadata": {},
   "source": [
    "&#9989;  **<font color=red>QUESTION:</font>**  Is a square matrix always invertible? Why or why not?"
   ]
  },
  {
   "cell_type": "markdown",
   "metadata": {},
   "source": [
    "Put your answer here"
   ]
  },
  {
   "cell_type": "markdown",
   "metadata": {},
   "source": [
    "&#9989;  **<font color=red>QUESTION:</font>** Describe the Reduced Row Echelon form of a square, invertible matrix."
   ]
  },
  {
   "cell_type": "markdown",
   "metadata": {},
   "source": [
    "Put your answer here"
   ]
  },
  {
   "cell_type": "markdown",
   "metadata": {},
   "source": [
    "&#9989;  **<font color=red>QUESTION:</font>** Is the following matrix in the Reduced Row Echelon form? \n",
    "\n",
    "$$\n",
    "\\left[\n",
    "\\begin{matrix}\n",
    "    1 & 2 & 0 & 3 & 1 & 4 \\\\ \n",
    "    0 & 0 & 1 & 3 & 1 & 7 \\\\ \n",
    "    0 & 0 & 0 & 0 & 1 & 6 \\\\ \n",
    "    0 & 0 & 0 & 0 & 0 & 0  \n",
    "\\end{matrix}\n",
    "\\right]\n",
    "$$"
   ]
  },
  {
   "cell_type": "markdown",
   "metadata": {},
   "source": [
    "Put your answer here"
   ]
  },
  {
   "cell_type": "markdown",
   "metadata": {},
   "source": [
    "&#9989;  **<font color=red>QUESTION:</font>** If the matrix shown above is not in Reduced Row Echelon form. Name a rule that is violated?"
   ]
  },
  {
   "cell_type": "markdown",
   "metadata": {},
   "source": [
    "Put your answer here"
   ]
  },
  {
   "cell_type": "markdown",
   "metadata": {},
   "source": [
    "&#9989;  **<font color=red>QUESTION:</font>** What is the size of the matrix described in the previous QUESTION?\n",
    "\n",
    "- $4 \\times 6$\n",
    "- $6 \\times 4$\n",
    "- $3 \\times 6$\n",
    "- $5 \\times 3$\n",
    "\n"
   ]
  },
  {
   "cell_type": "markdown",
   "metadata": {},
   "source": [
    "Put your answer here"
   ]
  },
  {
   "cell_type": "markdown",
   "metadata": {},
   "source": [
    "&#9989;  **<font color=red>QUESTION:</font>**  Describe the elementary row operation that is implemented by the following matrix\n",
    "\n",
    "\n",
    "$$\n",
    "\\left[\n",
    "\\begin{matrix}\n",
    "    0 & 1 & 0 \\\\ \n",
    "    1 & 0 & 0 \\\\ \n",
    "    0 & 0 & 1 \n",
    "\\end{matrix}\n",
    "\\right]\n",
    "$$"
   ]
  },
  {
   "cell_type": "markdown",
   "metadata": {},
   "source": [
    "Put your answer here"
   ]
  },
  {
   "cell_type": "markdown",
   "metadata": {},
   "source": [
    "----\n",
    "<a name=\"Affine_Transforms\"></a>\n",
    "## 2. Affine Transforms\n",
    "\n",
    "Previously in class we talked about how matrix multiplication can change the color-vector of a pixel in a digital image. In this section we will show some examples of how matrix multiplication can be used to produce basic geometric transformations of vectors representing points in the $xy$-plane.\n",
    "\n",
    "The following code is designed to demonstrate the properties of some different transformation matrices. Pay attention to the format of the matrices in relation to the geometric change they produce. \n",
    "\n",
    "&#9989; **<font color=red>DO THIS:</font>** Review the following code.  "
   ]
  },
  {
   "cell_type": "code",
   "execution_count": 1,
   "metadata": {},
   "outputs": [],
   "source": [
    "#Some python packages we will be using\n",
    "%matplotlib inline\n",
    "import numpy as np\n",
    "import matplotlib.pylab as plt\n",
    "from mpl_toolkits.mplot3d import Axes3D #Lets us make 3D plots\n",
    "import numpy as np\n",
    "import sympy as sym\n",
    "sym.init_printing(use_unicode=True) # Trick to make matrixes look nice in jupyter"
   ]
  },
  {
   "cell_type": "code",
   "execution_count": 2,
   "metadata": {},
   "outputs": [
    {
     "data": {
      "image/png": "[encoded data removed]",
      "text/plain": [
       "<Figure size 432x288 with 1 Axes>"
      ]
     },
     "metadata": {
      "filenames": {
       "image/png": "/Users/matt/Dropbox/MTH314S/mth314S/bookfiles/_build/jupyter_execute/104--Affine_Transformations_Robotics_pre-class-assignment_24_0.png"
      },
      "needs_background": "light"
     },
     "output_type": "display_data"
    }
   ],
   "source": [
    "# Define some points\n",
    "x = [0.0,  0.0,  2.0,  8.0, 10.0, 10.0, 8.0, 4.0, 3.0, 3.0, 4.0, 6.0, 7.0, 7.0, 10.0, \n",
    "     10.0,  8.0,  2.0, 0.0, 0.0, 2.0, 6.0, 7.0,  7.0,  6.0,  4.0,  3.0, 3.0, 0.0]\n",
    "y = [0.0, -2.0, -4.0, -4.0, -2.0,  2.0, 4.0, 4.0, 5.0, 7.0, 8.0, 8.0, 7.0, 6.0,  6.0,\n",
    "     8.0, 10.0, 10.0, 8.0, 4.0, 2.0, 2.0, 1.0, -1.0, -2.0, -2.0, -1.0, 0.0, 0.0]\n",
    "con = [ 1.0 for i in range(len(x))] \n",
    "\n",
    "p = np.matrix([x,y,con])\n",
    "\n",
    "\n",
    "mp = p.copy()\n",
    "\n",
    "#Plot Points\n",
    "plt.plot(mp[0,:].tolist()[0],mp[1,:].tolist()[0], color='green');\n",
    "plt.axis('scaled');\n",
    "plt.axis([-10,20,-15,15]);\n",
    "plt.title('Start Location');"
   ]
  },
  {
   "cell_type": "markdown",
   "metadata": {},
   "source": [
    "### Example Scaling Matrix"
   ]
  },
  {
   "cell_type": "code",
   "execution_count": 3,
   "metadata": {},
   "outputs": [
    {
     "data": {
      "image/png": "[encoded data removed]",
      "text/latex": [
       "$\\displaystyle \\left[\\begin{matrix}0.5 & 0.0 & 0.0\\\\0.0 & 0.5 & 0.0\\\\0.0 & 0.0 & 1.0\\end{matrix}\\right]$"
      ],
      "text/plain": [
       "⎡0.5  0.0  0.0⎤\n",
       "⎢             ⎥\n",
       "⎢0.0  0.5  0.0⎥\n",
       "⎢             ⎥\n",
       "⎣0.0  0.0  1.0⎦"
      ]
     },
     "execution_count": 3,
     "metadata": {
      "filenames": {
       "image/png": "/Users/matt/Dropbox/MTH314S/mth314S/bookfiles/_build/jupyter_execute/104--Affine_Transformations_Robotics_pre-class-assignment_26_0.png"
      }
     },
     "output_type": "execute_result"
    },
    {
     "data": {
      "image/png": "[encoded data removed]",
      "text/plain": [
       "<Figure size 432x288 with 1 Axes>"
      ]
     },
     "metadata": {
      "filenames": {
       "image/png": "/Users/matt/Dropbox/MTH314S/mth314S/bookfiles/_build/jupyter_execute/104--Affine_Transformations_Robotics_pre-class-assignment_26_1.png"
      },
      "needs_background": "light"
     },
     "output_type": "display_data"
    }
   ],
   "source": [
    "#Example Scaling Matrix\n",
    "\n",
    "#Define Matrix\n",
    "scale = 0.5  #The amount that coordinates are scaled.\n",
    "S = np.matrix([[scale,0,0], [0,scale,0], [0,0,1]])\n",
    "\n",
    "#Apply matrix\n",
    "\n",
    "mp = p.copy()\n",
    "mp = S*mp\n",
    "\n",
    "#Plot points after transform\n",
    "plt.plot(mp[0,:].tolist()[0],mp[1,:].tolist()[0], color='green')\n",
    "plt.axis('scaled')\n",
    "plt.axis([-10,20,-15,15])\n",
    "plt.title('After Scaling')\n",
    "\n",
    "#Uncomment the next line if you want to see the original.\n",
    "plt.plot(p[0,:].tolist()[0],p[1,:].tolist()[0], color='blue',alpha=0.3);\n",
    "\n",
    "sym.Matrix(S)"
   ]
  },
  {
   "cell_type": "markdown",
   "metadata": {},
   "source": [
    "### Example Translation Matrix"
   ]
  },
  {
   "cell_type": "code",
   "execution_count": 4,
   "metadata": {},
   "outputs": [
    {
     "data": {
      "image/png": "[encoded data removed]",
      "text/latex": [
       "$\\displaystyle \\left[\\begin{matrix}1 & 0 & 1\\\\0 & 1 & 1\\\\0 & 0 & 1\\end{matrix}\\right]$"
      ],
      "text/plain": [
       "⎡1  0  1⎤\n",
       "⎢       ⎥\n",
       "⎢0  1  1⎥\n",
       "⎢       ⎥\n",
       "⎣0  0  1⎦"
      ]
     },
     "execution_count": 4,
     "metadata": {
      "filenames": {
       "image/png": "/Users/matt/Dropbox/MTH314S/mth314S/bookfiles/_build/jupyter_execute/104--Affine_Transformations_Robotics_pre-class-assignment_28_0.png"
      }
     },
     "output_type": "execute_result"
    },
    {
     "data": {
      "image/png": "[encoded data removed]",
      "text/plain": [
       "<Figure size 432x288 with 1 Axes>"
      ]
     },
     "metadata": {
      "filenames": {
       "image/png": "/Users/matt/Dropbox/MTH314S/mth314S/bookfiles/_build/jupyter_execute/104--Affine_Transformations_Robotics_pre-class-assignment_28_1.png"
      },
      "needs_background": "light"
     },
     "output_type": "display_data"
    }
   ],
   "source": [
    "#Example Translation Matrix\n",
    "\n",
    "#Define Matrix\n",
    "dx = 1  #The amount shifted in the x-direction\n",
    "dy = 1  #The amount shifted in the y-direction\n",
    "T = np.matrix([[1,0,dx], [0,1,dy], [0,0,1]])\n",
    "\n",
    "#Apply matrix\n",
    "\n",
    "mp = p.copy()\n",
    "\n",
    "mp = T*mp\n",
    "\n",
    "#Plot points after transform\n",
    "plt.plot(mp[0,:].tolist()[0],mp[1,:].tolist()[0], color='green')\n",
    "plt.axis('scaled')\n",
    "plt.axis([-10,20,-15,15])\n",
    "plt.title('After Translation')\n",
    "\n",
    "#Uncomment the next line if you want to see the original.\n",
    "# plt.plot(p[0,:].tolist()[0],p[1,:].tolist()[0], color='blue',alpha=0.3);\n",
    "\n",
    "sym.Matrix(T)"
   ]
  },
  {
   "cell_type": "markdown",
   "metadata": {},
   "source": [
    "### Example Reflection Matrix"
   ]
  },
  {
   "cell_type": "code",
   "execution_count": 5,
   "metadata": {},
   "outputs": [
    {
     "data": {
      "image/png": "[encoded data removed]",
      "text/latex": [
       "$\\displaystyle \\left[\\begin{matrix}1 & 0 & 0\\\\0 & -1 & 0\\\\0 & 0 & 1\\end{matrix}\\right]$"
      ],
      "text/plain": [
       "⎡1  0   0⎤\n",
       "⎢        ⎥\n",
       "⎢0  -1  0⎥\n",
       "⎢        ⎥\n",
       "⎣0  0   1⎦"
      ]
     },
     "execution_count": 5,
     "metadata": {
      "filenames": {
       "image/png": "/Users/matt/Dropbox/MTH314S/mth314S/bookfiles/_build/jupyter_execute/104--Affine_Transformations_Robotics_pre-class-assignment_30_0.png"
      }
     },
     "output_type": "execute_result"
    },
    {
     "data": {
      "image/png": "[encoded data removed]",
      "text/plain": [
       "<Figure size 432x288 with 1 Axes>"
      ]
     },
     "metadata": {
      "filenames": {
       "image/png": "/Users/matt/Dropbox/MTH314S/mth314S/bookfiles/_build/jupyter_execute/104--Affine_Transformations_Robotics_pre-class-assignment_30_1.png"
      },
      "needs_background": "light"
     },
     "output_type": "display_data"
    }
   ],
   "source": [
    "#Example Reflection Matrix\n",
    "\n",
    "#Define Matrix\n",
    "Re = np.matrix([[1,0,0],[0,-1,0],[0,0,1]]) ## Makes all y-values opposite so it reflects over the x-axis.\n",
    "\n",
    "#Apply matrix\n",
    "\n",
    "mp = p.copy()\n",
    "\n",
    "mp = Re*mp\n",
    "\n",
    "#Plot points after transform\n",
    "plt.plot(mp[0,:].tolist()[0],mp[1,:].tolist()[0], color='green')\n",
    "plt.axis('scaled')\n",
    "plt.axis([-10,20,-15,15])\n",
    "\n",
    "#Uncomment the next line if you want to see the original.\n",
    "# plt.plot(p[0,:].tolist()[0],p[1,:].tolist()[0], color='blue',alpha=0.3);\n",
    "\n",
    "sym.Matrix(Re)"
   ]
  },
  {
   "cell_type": "markdown",
   "metadata": {},
   "source": [
    "### Example Rotation Matrix"
   ]
  },
  {
   "cell_type": "code",
   "execution_count": 6,
   "metadata": {},
   "outputs": [
    {
     "data": {
      "image/png": "[encoded data removed]",
      "text/latex": [
       "$\\displaystyle \\left[\\begin{matrix}0.866025403784439 & -0.5 & 0.0\\\\0.5 & 0.866025403784439 & 0.0\\\\0.0 & 0.0 & 1.0\\end{matrix}\\right]$"
      ],
      "text/plain": [
       "⎡0.866025403784439        -0.5         0.0⎤\n",
       "⎢                                         ⎥\n",
       "⎢       0.5         0.866025403784439  0.0⎥\n",
       "⎢                                         ⎥\n",
       "⎣       0.0                0.0         1.0⎦"
      ]
     },
     "execution_count": 6,
     "metadata": {
      "filenames": {
       "image/png": "/Users/matt/Dropbox/MTH314S/mth314S/bookfiles/_build/jupyter_execute/104--Affine_Transformations_Robotics_pre-class-assignment_32_0.png"
      }
     },
     "output_type": "execute_result"
    },
    {
     "data": {
      "image/png": "[encoded data removed]",
      "text/plain": [
       "<Figure size 432x288 with 1 Axes>"
      ]
     },
     "metadata": {
      "filenames": {
       "image/png": "/Users/matt/Dropbox/MTH314S/mth314S/bookfiles/_build/jupyter_execute/104--Affine_Transformations_Robotics_pre-class-assignment_32_1.png"
      },
      "needs_background": "light"
     },
     "output_type": "display_data"
    }
   ],
   "source": [
    "#Example Rotation Matrix\n",
    "\n",
    "#Define Matrix\n",
    "degrees = 30\n",
    "theta = degrees * np.pi / 180  ##Make sure to always convert from degrees to radians. \n",
    "\n",
    "# Rotates the points 30 degrees counterclockwise.\n",
    "R = np.matrix([[np.cos(theta),-np.sin(theta),0],[np.sin(theta), np.cos(theta),0],[0,0,1]]) \n",
    "\n",
    "#Apply matrix\n",
    "mp = p.copy()\n",
    "\n",
    "mp = R*mp\n",
    "\n",
    "#Plot points after transform\n",
    "plt.plot(mp[0,:].tolist()[0],mp[1,:].tolist()[0], color='green')\n",
    "plt.axis('scaled')\n",
    "plt.axis([-10,20,-15,15])\n",
    "\n",
    "#Uncomment the next line if you want to see the original.\n",
    "# plt.plot(p[0,:].tolist()[0],p[1,:].tolist()[0], color='blue',alpha=0.3);\n",
    "\n",
    "sym.Matrix(R)"
   ]
  },
  {
   "cell_type": "markdown",
   "metadata": {},
   "source": [
    "### Example Shear Matrix"
   ]
  },
  {
   "cell_type": "code",
   "execution_count": 7,
   "metadata": {},
   "outputs": [
    {
     "data": {
      "image/png": "[encoded data removed]",
      "text/latex": [
       "$\\displaystyle \\left[\\begin{matrix}1.0 & 0.1 & 0.0\\\\-0.5 & 1.0 & 0.0\\\\0.0 & 0.0 & 1.0\\end{matrix}\\right]$"
      ],
      "text/plain": [
       "⎡1.0   0.1  0.0⎤\n",
       "⎢              ⎥\n",
       "⎢-0.5  1.0  0.0⎥\n",
       "⎢              ⎥\n",
       "⎣0.0   0.0  1.0⎦"
      ]
     },
     "execution_count": 7,
     "metadata": {
      "filenames": {
       "image/png": "/Users/matt/Dropbox/MTH314S/mth314S/bookfiles/_build/jupyter_execute/104--Affine_Transformations_Robotics_pre-class-assignment_34_0.png"
      }
     },
     "output_type": "execute_result"
    },
    {
     "data": {
      "image/png": "[encoded data removed]",
      "text/plain": [
       "<Figure size 432x288 with 1 Axes>"
      ]
     },
     "metadata": {
      "filenames": {
       "image/png": "/Users/matt/Dropbox/MTH314S/mth314S/bookfiles/_build/jupyter_execute/104--Affine_Transformations_Robotics_pre-class-assignment_34_1.png"
      },
      "needs_background": "light"
     },
     "output_type": "display_data"
    }
   ],
   "source": [
    "#Example Shear Matrix\n",
    "\n",
    "#Define Matrix\n",
    "shx = 0.1\n",
    "shy = -0.5\n",
    "SH = np.matrix([[1,shx,0], [shy,1,0], [0,0,1]])\n",
    "\n",
    "#Apply matrix\n",
    "\n",
    "mp = p.copy()\n",
    "\n",
    "mp = SH*mp\n",
    "\n",
    "#Plot points after transform\n",
    "plt.plot(mp[0,:].tolist()[0],mp[1,:].tolist()[0], color='green')\n",
    "plt.axis('scaled')\n",
    "plt.axis([-10,20,-15,15])\n",
    "\n",
    "sym.Matrix(SH)"
   ]
  },
  {
   "cell_type": "markdown",
   "metadata": {},
   "source": [
    "&#9989; **<font color=red>Question:</font>**  Why are we using $3 \\times 3$ matrices to change points in 2D-space? \n",
    "\n",
    "**Hint.** Go back and look at the third column of the transformation matrices."
   ]
  },
  {
   "cell_type": "code",
   "execution_count": 8,
   "metadata": {},
   "outputs": [],
   "source": [
    "#Put your code here"
   ]
  },
  {
   "cell_type": "markdown",
   "metadata": {},
   "source": [
    "## Robotics and Reference Frames\n",
    "\n",
    "<img alt=\"Image of a 6-axis FANUC robot used in industry\" src=\"http://www.fanuc.com/product/image/m2000ia.jpg\" width=\"15%\">\n",
    "\n",
    "Image from: [www.fanuc.com](http://www.fanuc.com/)\n",
    "\n",
    "In the robotics sections we are essentially using compositions of affine transformations to move the \"origin\" of a coordinate system to describe the position of the tip of the robot arm in relation to the base of the macine."
   ]
  },
  {
   "cell_type": "markdown",
   "metadata": {},
   "source": [
    "----\n",
    "\n",
    "<a name=\"2D_Forward_Kinematics\"></a>\n",
    "### 3. 2D Forward Kinematics\n",
    "<img src=\"https://lh5.googleusercontent.com/S70gMT_jN3x0hSoCAapLydJNeYZYmcetjf09XiF0YsO2QbBZHiIq9VpY4Mc6ocuBphgJeUxDC5JZ10UkpQDhe2XW6NJQPDzVp3ool_fiHXHU-MRMChMcY93vZXoE=w263\" width=\"25%\">\n",
    "\n",
    "This robot can move in the $x-y$ plane.  We can represent the configuration of the robot in its \"*Joint Space*\" by knowing the two joint angles or $[a_1,a_2]$.  However what we would like is to represent the location of the end of the robot (often called the \"end effector\" or \"hand\") in \"world\" coordinates (i.e. $x-y$ coordinate system). \n",
    "\n",
    "Today, we will use Linear Algebra and simple transformation matrices to try and calculate how to go from \"joint\" coordinates to \"world\" coordinates.  "
   ]
  },
  {
   "cell_type": "code",
   "execution_count": 9,
   "metadata": {},
   "outputs": [
    {
     "data": {
      "image/jpeg": "[encoded data removed]",
      "text/html": [
       "\n",
       "<iframe\n",
       "    width=\"640\"\n",
       "    height=\"360\"\n",
       "    src=\"https://www.youtube.com/embed/aCohcLYrYcY?cc_load_policy=True\"\n",
       "    frameborder=\"0\"\n",
       "    allowfullscreen\n",
       "></iframe>\n"
      ],
      "text/plain": [
       "<IPython.lib.display.YouTubeVideo at 0x117359690>"
      ]
     },
     "execution_count": 9,
     "metadata": {
      "filenames": {
       "image/jpeg": "/Users/matt/Dropbox/MTH314S/mth314S/bookfiles/_build/jupyter_execute/104--Affine_Transformations_Robotics_pre-class-assignment_39_0.jpg"
      }
     },
     "output_type": "execute_result"
    }
   ],
   "source": [
    "from IPython.display import YouTubeVideo\n",
    "YouTubeVideo(\"aCohcLYrYcY\",width=640,height=360, cc_load_policy=True)"
   ]
  },
  {
   "cell_type": "markdown",
   "metadata": {},
   "source": [
    "### Single axis Robot\n",
    "\n",
    "The following code draws a simple single axis (single joint) robot with its joint centered at the origin and its initial angle of zero with an robot arm length of 4 \"units\" long."
   ]
  },
  {
   "cell_type": "code",
   "execution_count": 10,
   "metadata": {},
   "outputs": [],
   "source": [
    "%matplotlib inline\n",
    "import matplotlib.pylab as plt\n",
    "import numpy as np\n",
    "from ipywidgets import interact\n",
    "import sympy as sym\n",
    "sym.init_printing(True)"
   ]
  },
  {
   "cell_type": "code",
   "execution_count": 11,
   "metadata": {},
   "outputs": [
    {
     "data": {
      "image/png": "[encoded data removed]",
      "text/latex": [
       "$\\displaystyle \\left( -5.5, \\  5.5\\right)$"
      ],
      "text/plain": [
       "(-5.5, 5.5)"
      ]
     },
     "execution_count": 11,
     "metadata": {
      "filenames": {
       "image/png": "/Users/matt/Dropbox/MTH314S/mth314S/bookfiles/_build/jupyter_execute/104--Affine_Transformations_Robotics_pre-class-assignment_42_0.png"
      }
     },
     "output_type": "execute_result"
    },
    {
     "data": {
      "image/png": "[encoded data removed]",
      "text/plain": [
       "<Figure size 432x288 with 1 Axes>"
      ]
     },
     "metadata": {
      "filenames": {
       "image/png": "/Users/matt/Dropbox/MTH314S/mth314S/bookfiles/_build/jupyter_execute/104--Affine_Transformations_Robotics_pre-class-assignment_42_1.png"
      },
      "needs_background": "light"
     },
     "output_type": "display_data"
    }
   ],
   "source": [
    "plt.scatter(4,0, s=200, facecolors='none', edgecolors='r') #plot end effector\n",
    "plt.scatter(0,0, s=200, facecolors='r', edgecolors='r') # plot origin\n",
    "plt.plot([0,4],[0,0]) #plot blue line for arm\n",
    "plt.axis('square')\n",
    "plt.xlim([-5.5,5.5])\n",
    "plt.ylim([-5.5,5.5])\n",
    "    "
   ]
  },
  {
   "cell_type": "markdown",
   "metadata": {},
   "source": [
    "A 2D rotation matrix around the origin is defined as the following:\n",
    "\n",
    "$$ \n",
    "\\left[ \\begin{matrix}\n",
    "    x_{end} \\\\\n",
    "    y_{end} \n",
    " \\end{matrix}\n",
    "\\right] \n",
    "=\n",
    "\\left[ \\begin{matrix}\n",
    "    \\cos(a) & -\\sin(a) \\\\\n",
    "    \\sin(a) & \\cos(qa \n",
    " \\end{matrix}\n",
    "\\right] \n",
    "\\left[ \\begin{matrix}\n",
    "    x_{start} \\\\\n",
    "    y_{start} \n",
    " \\end{matrix}\n",
    "\\right] \n",
    "$$ \n",
    "\n",
    "The following rotation matrix will rotate the point $45^o$ around the origin:"
   ]
  },
  {
   "cell_type": "code",
   "execution_count": 12,
   "metadata": {},
   "outputs": [
    {
     "data": {
      "image/png": "[encoded data removed]",
      "text/latex": [
       "$\\displaystyle \\left[\\begin{matrix}0.707106781186548 & -0.707106781186547\\\\0.707106781186547 & 0.707106781186548\\end{matrix}\\right]$"
      ],
      "text/plain": [
       "⎡0.707106781186548  -0.707106781186547⎤\n",
       "⎢                                     ⎥\n",
       "⎣0.707106781186547  0.707106781186548 ⎦"
      ]
     },
     "execution_count": 12,
     "metadata": {
      "filenames": {
       "image/png": "/Users/matt/Dropbox/MTH314S/mth314S/bookfiles/_build/jupyter_execute/104--Affine_Transformations_Robotics_pre-class-assignment_44_0.png"
      }
     },
     "output_type": "execute_result"
    },
    {
     "data": {
      "image/png": "[encoded data removed]",
      "text/plain": [
       "<Figure size 432x288 with 1 Axes>"
      ]
     },
     "metadata": {
      "filenames": {
       "image/png": "/Users/matt/Dropbox/MTH314S/mth314S/bookfiles/_build/jupyter_execute/104--Affine_Transformations_Robotics_pre-class-assignment_44_1.png"
      },
      "needs_background": "light"
     },
     "output_type": "display_data"
    }
   ],
   "source": [
    "p = [[4],[0]]\n",
    "\n",
    "a1=np.pi/4\n",
    "\n",
    "R = np.matrix([[np.cos(a1), -np.sin(a1)], [np.sin(a1), np.cos(a1)]])\n",
    "\n",
    "p2 = R*p\n",
    "\n",
    "x1 = p2[0,0]\n",
    "y1 = p2[1,0]\n",
    "\n",
    "plt.scatter(x1,y1, s=200, facecolors='none', edgecolors='r') #plot end effector\n",
    "plt.scatter(0,0, s=200, facecolors='r', edgecolors='r') # plot origin\n",
    "plt.plot([0,x1],[0,y1]) #plot blue line for arm\n",
    "plt.axis('square')\n",
    "plt.xlim([-5.5,5.5])\n",
    "plt.ylim([-5.5,5.5])\n",
    "sym.Matrix(R)"
   ]
  },
  {
   "cell_type": "markdown",
   "metadata": {},
   "source": [
    "The following code uses the Jupyter ```interact``` function and ```numpy``` to make an interactive view of the above.  This lets us change the value of the rotation motor and see how it changes the robot. The input to the function is the axis angle and the output is the $x-y$ coordinates.\n",
    "\n",
    "**Note:** it can take some time for the interaction to catch up.  Try moving the slider slowly..."
   ]
  },
  {
   "cell_type": "code",
   "execution_count": 13,
   "metadata": {},
   "outputs": [
    {
     "data": {
      "application/vnd.jupyter.widget-view+json": {
       "model_id": "2afbbcbfdfdf48e286db815bb702079f",
       "version_major": 2,
       "version_minor": 0
      },
      "text/plain": [
       "interactive(children=(IntSlider(value=0, description='q1', max=180, min=-180, step=2), Output()), _dom_classes…"
      ]
     },
     "metadata": {},
     "output_type": "display_data"
    }
   ],
   "source": [
    "def Robot_Simulator(q1=0):\n",
    "    a1 = q1/180  * np.pi\n",
    "    p0 = np.matrix([4,0]).T\n",
    "    p = p0\n",
    "    J1 = np.matrix([[np.cos(a1), -np.sin(a1)], [np.sin(a1), np.cos(a1)]]) \n",
    "    p = np.concatenate( ( J1*p, np.matrix([0,0]).T), axis=1 )\n",
    "    \n",
    "    plt.scatter(p[0,:].tolist()[0],p[1,:].tolist()[0], s=200, facecolors='none', edgecolors='r')\n",
    "    plt.scatter(0,0, s=200, facecolors='r', edgecolors='r')\n",
    "    plt.plot(p[0,:].tolist()[0],p[1,:].tolist()[0])\n",
    "    plt.axis('square')\n",
    "    plt.xlim([-5.5,5.5])\n",
    "    plt.ylim([-5.5,5.5])\n",
    "    ax = plt.gca()\n",
    "    plt.show()\n",
    "    return([ p[0,0], p[1,0] ])\n",
    "    \n",
    "p = interact(Robot_Simulator, q1=(-180,180,2));"
   ]
  },
  {
   "cell_type": "markdown",
   "metadata": {},
   "source": [
    "&#9989; **<font color=red>DO THIS:</font>**  Inspect the above code. \n",
    "\n",
    "&#9989; **<font color=red>QUESTION:</font>** Which line of the code defines the transformation matrix for the robot joint?  \n",
    "\n",
    "**Hint.** If you click on a cell and press ``esc + L`` you can toggle the line numbers. "
   ]
  },
  {
   "cell_type": "markdown",
   "metadata": {},
   "source": []
  },
  {
   "cell_type": "markdown",
   "metadata": {},
   "source": [
    "&#9989; **<font color=red>QUESTION:</font>** Which line of code defines the length of the robot arm? \n",
    "\n",
    "(Note you can turn line numbers on and off in jupyterhub.  Use the menu at the top to figure out how.)"
   ]
  },
  {
   "cell_type": "markdown",
   "metadata": {},
   "source": [
    "### Multi axis robot\n",
    "\n",
    "Now, let's consider the robot from the video:\n",
    "\n",
    "<img src=\"https://lh3.googleusercontent.com/zCoCDGfsr8z3vqaGEfRYLH_YcDOrb2GRXOjkSEH0ASjxVH2FrRiXpa8c7NaQw0FYjXyX1rQXbpRmxXk7pg5KEnAE8lWb2m3Sorp5Kj7OIduFiMnMuI3oV2Vy0Mn0=w720\" width=\"75%\">"
   ]
  },
  {
   "cell_type": "markdown",
   "metadata": {},
   "source": [
    "Notice it has two joints $a_1$ and $a_2$ and offset lengths of $d_1$, $d_2$ and $d_e$. The joint space for this robot is just its angles $[a_1, a_2]$. However, what we want is to know the location of end effector point $p_e$ at the gripper in the \"world\" reference frame, which the bottom most axies \"on the ground\".  \n",
    "\n",
    "At each joint, we can define a reference frame that rotates and then transforms the origin to the ealier joint. The forward transformation matrices capture the relationship between the reference frames of different links of the robot. \n",
    "\n",
    "For example, We can move from the base motor, or $p_1$, reference frame to the world, or $p_w$, reference frame using the following equations:\n",
    "\n",
    "$$ \n",
    "p_w\n",
    "=\n",
    "\\left[ \\begin{matrix}\n",
    "    \\cos(a_1) & -\\sin(a_1) \\\\\n",
    "    \\sin(a_1) & \\cos(a_1) \n",
    " \\end{matrix}\n",
    "\\right] \n",
    "p_1\n",
    "+ \n",
    "\\left[ \\begin{matrix}\n",
    "    0 \\\\\n",
    "    d_1 \n",
    " \\end{matrix}\n",
    "\\right].\n",
    "$$ \n"
   ]
  },
  {
   "cell_type": "markdown",
   "metadata": {},
   "source": [
    "The equation shown  above are a little tricky to work with because the$ \\left[ \\begin{matrix}\n",
    "    0 \\\\\n",
    "    d_1 \n",
    " \\end{matrix}\n",
    "\\right] $ part makes the equation non-linear \n",
    "(if you don't believe me? \n",
    "Remember the rules for making a function linear and apply them and see for yourself). \n",
    "However, there is an easy trick in Linear Algebra to convert the above to one big linear matrix. \n",
    "This trick  requires us to keep an extra 1 (one) for each point but makes the math work out nicely. \n",
    "Basically the trick works as follows:\n",
    "\n",
    "$$ \n",
    "\\left[ \\begin{matrix}\n",
    "    x_w \\\\\n",
    "    y_w \\\\\n",
    "    1 \n",
    " \\end{matrix}\n",
    "\\right] \n",
    "=\n",
    "\\left[ \\begin{matrix}\n",
    "    cos(a_1) & -sin(a_1) & 0 \\\\\n",
    "    sin(a_1) & cos(a_1) & d_1 \\\\\n",
    "    0 & 0 & 1\n",
    " \\end{matrix}\n",
    "\\right] \n",
    "\\left[ \\begin{matrix}\n",
    "    x_1 \\\\\n",
    "    y_1 \\\\\n",
    "    1 \n",
    " \\end{matrix}\n",
    "\\right] \n",
    "$$ \n",
    "\n",
    "Let's call the transformation matrix for Joint 1, $J_1$, and we can rewrite the equations as follows:\n",
    "\n",
    "$$p_1 = J_1p_2$$"
   ]
  },
  {
   "cell_type": "markdown",
   "metadata": {},
   "source": [
    "&#9989; **<font color=red>DO THIS</font>** On your own, write out the above matrix multiplication and convince yourself that it is the same as the one above. "
   ]
  },
  {
   "cell_type": "markdown",
   "metadata": {},
   "source": [
    "Now, we can move from the $p_2$ reference frame to the $p_1$  reference frame basically the same equation:\n",
    "\n",
    "$$ \n",
    "\\left[ \\begin{matrix}\n",
    "    x_1 \\\\\n",
    "    y_1 \\\\\n",
    "    1 \n",
    " \\end{matrix}\n",
    "\\right] \n",
    "=\n",
    "\\left[ \\begin{matrix}\n",
    "    cos(a_2) & -sin(a_2) & d_2 \\\\\n",
    "    sin(a_2) & cos(a_2) & 0 \\\\\n",
    "    0 & 0 & 1\n",
    " \\end{matrix}\n",
    "\\right] \n",
    "\\left[ \\begin{matrix}\n",
    "    x_2 \\\\\n",
    "    y_2 \\\\\n",
    "    1 \n",
    " \\end{matrix}\n",
    "\\right] \n",
    "$$ \n"
   ]
  },
  {
   "cell_type": "markdown",
   "metadata": {},
   "source": [
    "For the last step we can do a simple linear transpose from the end effector $p_e$ reference frame to the $p_2$ reference frame:\n",
    "\n",
    "$$ \n",
    "\\left[ \\begin{matrix}\n",
    "    x_2 \\\\\n",
    "    y_2 \\\\\n",
    "    1 \n",
    " \\end{matrix}\n",
    "\\right] \n",
    "=\n",
    "\\left[ \\begin{matrix}\n",
    "    1 & 0 & d_2 \\\\\n",
    "    0 & 1 & 0 \\\\\n",
    "    0 & 0 & 1\n",
    " \\end{matrix}\n",
    "\\right] \n",
    "\\left[ \\begin{matrix}\n",
    "    x_e \\\\\n",
    "    y_e \\\\\n",
    "    1 \n",
    " \\end{matrix}\n",
    "\\right] \n",
    "$$ "
   ]
  },
  {
   "cell_type": "markdown",
   "metadata": {},
   "source": [
    "If we call each transformation matrix $J_1, J_2, J_e$ then hopefully you can see that we can string these transformation matrices together such that we get a single transform from the end effector all the way back to the world coordinates as follows:\n",
    "\n",
    "$$p_w = J_1J_2J_ep_e$$\n",
    "\n",
    "\n",
    "\n",
    "Let's see what this looks like in Python.  I am going to use ```numpy```. The plotting gets a little awkward but hopefully it makes sense.\n",
    "\n",
    "First, lets initialize the variables to some discreet numbers:\n"
   ]
  },
  {
   "cell_type": "code",
   "execution_count": 14,
   "metadata": {},
   "outputs": [],
   "source": [
    "%matplotlib inline\n",
    "import matplotlib.pylab as plt\n",
    "import numpy as np\n",
    "from ipywidgets import interact\n",
    "\n",
    "#Initial state\n",
    "a1 = 0\n",
    "a2 = 0\n",
    "\n",
    "#Lenths of the offsets\n",
    "d1 = 0.5\n",
    "d2 = 3\n",
    "de = 3"
   ]
  },
  {
   "cell_type": "markdown",
   "metadata": {},
   "source": [
    "Next, I am going to define a set of points in the end effector coordinate system.  These points are picked to form a sort of \"C\" shaped designed to look sort of like an end effector.  I will plot them to help show you what I mean:"
   ]
  },
  {
   "cell_type": "code",
   "execution_count": 15,
   "metadata": {},
   "outputs": [
    {
     "data": {
      "image/png": "[encoded data removed]",
      "text/latex": [
       "$\\displaystyle \\left( -5.5, \\  5.5\\right)$"
      ],
      "text/plain": [
       "(-5.5, 5.5)"
      ]
     },
     "execution_count": 15,
     "metadata": {
      "filenames": {
       "image/png": "/Users/matt/Dropbox/MTH314S/mth314S/bookfiles/_build/jupyter_execute/104--Affine_Transformations_Robotics_pre-class-assignment_59_0.png"
      }
     },
     "output_type": "execute_result"
    },
    {
     "data": {
      "image/png": "[encoded data removed]",
      "text/plain": [
       "<Figure size 432x288 with 1 Axes>"
      ]
     },
     "metadata": {
      "filenames": {
       "image/png": "/Users/matt/Dropbox/MTH314S/mth314S/bookfiles/_build/jupyter_execute/104--Affine_Transformations_Robotics_pre-class-assignment_59_1.png"
      },
      "needs_background": "light"
     },
     "output_type": "display_data"
    }
   ],
   "source": [
    "#Points needed to define a square\n",
    "pe = np.matrix([[1, 0.5, 1],[0,0.5,1],[0,-0.5, 1],[1,-0.5, 1],[0,-0.5, 1],[0,0, 1]]).T\n",
    "p = pe\n",
    "\n",
    "plt.scatter(p[0,:].tolist()[0],p[1,:].tolist()[0], s=20, facecolors='none', edgecolors='r')\n",
    "plt.scatter(0,0, s=20, facecolors='r', edgecolors='r')\n",
    "plt.plot(p[0,:].tolist()[0],p[1,:].tolist()[0])\n",
    "plt.axis('scaled')\n",
    "plt.xlim([-5.5,5.5])\n",
    "plt.ylim([-5.5,5.5])"
   ]
  },
  {
   "cell_type": "markdown",
   "metadata": {},
   "source": [
    "The next step is to apply the $J_e$ transformation matrix to the gripper points which will put them in the $p_2$ coordinate system.  Once the points are transposed the code concatenates the origin (0,0) onto the list of points so we can part of the robot arm in the plot:"
   ]
  },
  {
   "cell_type": "code",
   "execution_count": 16,
   "metadata": {},
   "outputs": [
    {
     "data": {
      "image/png": "[encoded data removed]",
      "text/latex": [
       "$\\displaystyle \\left( -5.5, \\  5.5\\right)$"
      ],
      "text/plain": [
       "(-5.5, 5.5)"
      ]
     },
     "execution_count": 16,
     "metadata": {
      "filenames": {
       "image/png": "/Users/matt/Dropbox/MTH314S/mth314S/bookfiles/_build/jupyter_execute/104--Affine_Transformations_Robotics_pre-class-assignment_61_0.png"
      }
     },
     "output_type": "execute_result"
    },
    {
     "data": {
      "image/png": "[encoded data removed]",
      "text/plain": [
       "<Figure size 432x288 with 1 Axes>"
      ]
     },
     "metadata": {
      "filenames": {
       "image/png": "/Users/matt/Dropbox/MTH314S/mth314S/bookfiles/_build/jupyter_execute/104--Affine_Transformations_Robotics_pre-class-assignment_61_1.png"
      },
      "needs_background": "light"
     },
     "output_type": "display_data"
    }
   ],
   "source": [
    "Je = np.matrix([[1, 0, de], \n",
    "                [0, 1, 0], \n",
    "                [0,0,1]]) \n",
    "\n",
    "p = np.concatenate( ( Je*p, np.matrix([0,0,1]).T), axis=1 )\n",
    "\n",
    "plt.scatter(p[0,:].tolist()[0],p[1,:].tolist()[0], s=20, facecolors='none', edgecolors='r')\n",
    "plt.scatter(0,0, s=20, facecolors='r', edgecolors='r')\n",
    "plt.plot(p[0,:].tolist()[0],p[1,:].tolist()[0])\n",
    "plt.axis('scaled')\n",
    "plt.xlim([-5.5,5.5])\n",
    "plt.ylim([-5.5,5.5])"
   ]
  },
  {
   "cell_type": "markdown",
   "metadata": {},
   "source": [
    "We do this again.  Apply the $J_2$ transformation matrix to put the points into the $p_1$ coordinate system,  concatenate the origin and plot the results. "
   ]
  },
  {
   "cell_type": "code",
   "execution_count": 17,
   "metadata": {},
   "outputs": [
    {
     "data": {
      "image/png": "[encoded data removed]",
      "text/latex": [
       "$\\displaystyle \\left( -5.5, \\  5.5\\right)$"
      ],
      "text/plain": [
       "(-5.5, 5.5)"
      ]
     },
     "execution_count": 17,
     "metadata": {
      "filenames": {
       "image/png": "/Users/matt/Dropbox/MTH314S/mth314S/bookfiles/_build/jupyter_execute/104--Affine_Transformations_Robotics_pre-class-assignment_63_0.png"
      }
     },
     "output_type": "execute_result"
    },
    {
     "data": {
      "image/png": "[encoded data removed]",
      "text/plain": [
       "<Figure size 432x288 with 1 Axes>"
      ]
     },
     "metadata": {
      "filenames": {
       "image/png": "/Users/matt/Dropbox/MTH314S/mth314S/bookfiles/_build/jupyter_execute/104--Affine_Transformations_Robotics_pre-class-assignment_63_1.png"
      },
      "needs_background": "light"
     },
     "output_type": "display_data"
    }
   ],
   "source": [
    "J2 = np.matrix([[np.cos(a2), -np.sin(a2), 0], \n",
    "                [np.sin(a2), np.cos(a2), d2], \n",
    "                [0,0,1]]) \n",
    "\n",
    "p = np.concatenate( ( J2*p, np.matrix([0,0,1]).T), axis=1 )\n",
    "\n",
    "plt.scatter(p[0,:].tolist()[0],p[1,:].tolist()[0], s=20, facecolors='none', edgecolors='r')\n",
    "plt.scatter(0,0, s=20, facecolors='r', edgecolors='r')\n",
    "plt.plot(p[0,:].tolist()[0],p[1,:].tolist()[0])\n",
    "plt.axis('scaled')\n",
    "plt.xlim([-5.5,5.5])\n",
    "plt.ylim([-5.5,5.5])"
   ]
  },
  {
   "cell_type": "markdown",
   "metadata": {},
   "source": [
    "We do it yet again.   Apply the $J_1$ transformation matrix which will put the points in the $p_w$ coordinate system,  concatenate the origin and plot the results. The result is a skeletal frame representing our robot. "
   ]
  },
  {
   "cell_type": "code",
   "execution_count": 18,
   "metadata": {},
   "outputs": [
    {
     "data": {
      "image/png": "[encoded data removed]",
      "text/latex": [
       "$\\displaystyle \\left( -8.0, \\  8.0\\right)$"
      ],
      "text/plain": [
       "(-8.0, 8.0)"
      ]
     },
     "execution_count": 18,
     "metadata": {
      "filenames": {
       "image/png": "/Users/matt/Dropbox/MTH314S/mth314S/bookfiles/_build/jupyter_execute/104--Affine_Transformations_Robotics_pre-class-assignment_65_0.png"
      }
     },
     "output_type": "execute_result"
    },
    {
     "data": {
      "image/png": "[encoded data removed]",
      "text/plain": [
       "<Figure size 432x288 with 1 Axes>"
      ]
     },
     "metadata": {
      "filenames": {
       "image/png": "/Users/matt/Dropbox/MTH314S/mth314S/bookfiles/_build/jupyter_execute/104--Affine_Transformations_Robotics_pre-class-assignment_65_1.png"
      },
      "needs_background": "light"
     },
     "output_type": "display_data"
    }
   ],
   "source": [
    "J1 = np.matrix([[np.cos(a1), -np.sin(a1), 0], \n",
    "                [np.sin(a1), np.cos(a1), d1], \n",
    "                [0,0,1]]) \n",
    "\n",
    "p = np.concatenate( ( J1*p, np.matrix([0,0,1]).T), axis=1 )\n",
    "\n",
    "plt.scatter(p[0,:].tolist()[0],p[1,:].tolist()[0], s=20, facecolors='none', edgecolors='r')\n",
    "plt.scatter(0,0, s=20, facecolors='r', edgecolors='r')\n",
    "plt.plot(p[0,:].tolist()[0],p[1,:].tolist()[0])\n",
    "plt.axis('scaled')\n",
    "plt.xlim([-8,8])\n",
    "plt.ylim([-8,8])"
   ]
  },
  {
   "cell_type": "markdown",
   "metadata": {},
   "source": [
    "&#9989; **<font color=red>DO THIS:</font>** Modify the rotation variables ```a1``` and ```a2``` in the above code and see if the new robot configuration looks right. **_HINT_** make sure your angles are in radians."
   ]
  },
  {
   "cell_type": "markdown",
   "metadata": {},
   "source": [
    "The following is the same code as above but put into an interactive function to make the code easier to play with:"
   ]
  },
  {
   "cell_type": "code",
   "execution_count": 19,
   "metadata": {},
   "outputs": [
    {
     "data": {
      "application/vnd.jupyter.widget-view+json": {
       "model_id": "50c3b1f6ac6b491c8f44caf0b9047d70",
       "version_major": 2,
       "version_minor": 0
      },
      "text/plain": [
       "interactive(children=(IntSlider(value=0, description='q1', max=180, min=-180), IntSlider(value=0, description=…"
      ]
     },
     "metadata": {},
     "output_type": "display_data"
    }
   ],
   "source": [
    "from ipywidgets import interact, interact_manual\n",
    "\n",
    "def Robot_Simulator(q1=0,q2=-0):\n",
    "    a1 = q1/180  * np.pi\n",
    "    a2 = q2/180  * np.pi\n",
    "\n",
    "    d1 = 0.5\n",
    "    d2 = 3\n",
    "    de = 3\n",
    "    \n",
    "    target = np.matrix([-3,2, 1])\n",
    "    print(target)\n",
    "\n",
    "    pe = np.matrix([[1, 0.5, 1],[0,0.5,1],[0,-0.5, 1],[1,-0.5, 1],[0,-0.5, 1],[0,0, 1]]).T\n",
    "\n",
    "    Je = np.matrix([[1, 0, de], \n",
    "                    [0, 1, 0], \n",
    "                    [0,0,1]]) \n",
    "    p = np.concatenate( ( Je*pe, np.matrix([0,0,1]).T), axis=1 )    \n",
    "\n",
    "    J2 = np.matrix([[np.cos(a2), -np.sin(a2), 0], \n",
    "                    [np.sin(a2), np.cos(a2), d2], \n",
    "                    [0,0,1]]) \n",
    "    p = np.concatenate( ( J2*p, np.matrix([0,0,1]).T), axis=1 )\n",
    "\n",
    "    J1 = np.matrix([[np.cos(a1), -np.sin(a1), 0], \n",
    "                    [np.sin(a1), np.cos(a1), d1], \n",
    "                    [0,0,1]]) \n",
    "    p = np.concatenate( ( J1*p, np.matrix([0,0,1]).T), axis=1 )\n",
    "\n",
    "\n",
    "    plt.scatter(p[0,:].tolist()[0],p[1,:].tolist()[0], s=20, facecolors='none', edgecolors='r')\n",
    "    plt.scatter(0,0, s=20, facecolors='r', edgecolors='r')\n",
    "    plt.plot(p[0,:].tolist()[0],p[1,:].tolist()[0])\n",
    "    plt.plot(target[0,0], target[0,1],'*')\n",
    "    plt.axis('scaled')\n",
    "    plt.xlim([-8,8])\n",
    "    plt.ylim([-8,8])\n",
    "\n",
    "    plt.show()\n",
    "    \n",
    "target = interact(Robot_Simulator, q1=(-180,180), q2=(-180,180));"
   ]
  },
  {
   "cell_type": "markdown",
   "metadata": {},
   "source": [
    "**Note.** If the ``interact`` plot is really choppy on your machine this is because the function is coninuously updating as you move the sliders. Consider replacing the ``interact`` function with ``interact_manual`` to eliminate the continuous updates. You will have to change the import code in line 1. "
   ]
  },
  {
   "cell_type": "markdown",
   "metadata": {},
   "source": [
    "&#9989; **<font color=red>QUESTION:</font>** Move the above robot so that the end effector is \"gripping\" the target (yellow/orangeish star). \n",
    "Notice that there is more than one point in the \"joint space\" that gives the same answer. \n",
    "This is the reverse Kinematic problem (which is harder). \n",
    "We know the point we want but we need to find the joints that put the robot at that point. "
   ]
  },
  {
   "cell_type": "markdown",
   "metadata": {},
   "source": [
    "&#9989; **<font color=red>DO THIS:</font>** The code in the following cell is cut and pasted from above. Modify the code to add a third Joint to the robot."
   ]
  },
  {
   "cell_type": "code",
   "execution_count": 20,
   "metadata": {},
   "outputs": [
    {
     "data": {
      "application/vnd.jupyter.widget-view+json": {
       "model_id": "922310704f504a81809ff16151f1f463",
       "version_major": 2,
       "version_minor": 0
      },
      "text/plain": [
       "interactive(children=(IntSlider(value=0, description='q1', max=180, min=-180), IntSlider(value=0, description=…"
      ]
     },
     "metadata": {},
     "output_type": "display_data"
    }
   ],
   "source": [
    "from ipywidgets import interact, interact_manual\n",
    "\n",
    "def Robot_Simulator(q1=0,q2=0):\n",
    "    a1 = q1/180  * np.pi\n",
    "    a2 = q2/180  * np.pi\n",
    "    #####Start your code here #####    \n",
    "\n",
    "    #####End of your code here#####     \n",
    "\n",
    "    d1 = 0.5\n",
    "    d2 = 3\n",
    "    de = 3\n",
    "    #####Start your code here #####    \n",
    "\n",
    "    #####End of your code here#####     \n",
    "    \n",
    "    \n",
    "    target = np.matrix([-3,2, 1])\n",
    "    print(target)\n",
    "\n",
    "    pe = np.matrix([[1, 0.5, 1],[0,0.5,1],[0,-0.5, 1],[1,-0.5, 1],[0,-0.5, 1],[0,0, 1]]).T\n",
    "\n",
    "    Je = np.matrix([[1, 0, de], \n",
    "                    [0, 1, 0], \n",
    "                    [0,0,1]]) \n",
    "    p = np.concatenate( ( Je*pe, np.matrix([0,0,1]).T), axis=1 )    \n",
    "\n",
    "    #####Start your code here #####    \n",
    "\n",
    "    #####End of your code here#####     \n",
    "    \n",
    "    J2 = np.matrix([[np.cos(a2), -np.sin(a2), 0], \n",
    "                    [np.sin(a2), np.cos(a2), d2], \n",
    "                    [0,0,1]]) \n",
    "    p = np.concatenate( ( J2*p, np.matrix([0,0,1]).T), axis=1 )\n",
    "\n",
    "    J1 = np.matrix([[np.cos(a1), -np.sin(a1), 0], \n",
    "                    [np.sin(a1), np.cos(a1), d1], \n",
    "                    [0,0,1]]) \n",
    "    \n",
    "    p = np.concatenate( ( J1*p, np.matrix([0,0,1]).T), axis=1 )\n",
    "\n",
    "\n",
    "    plt.scatter(p[0,:].tolist()[0],p[1,:].tolist()[0], s=20, facecolors='none', edgecolors='r')\n",
    "    plt.scatter(0,0, s=20, facecolors='r', edgecolors='r')\n",
    "    plt.plot(p[0,:].tolist()[0],p[1,:].tolist()[0])\n",
    "    plt.plot(target[0,0], target[0,1],'*')\n",
    "    plt.axis('scaled')\n",
    "    plt.xlim([-8,8])\n",
    "    plt.ylim([-8,8])\n",
    "\n",
    "    plt.show()\n",
    "    \n",
    "target = interact(Robot_Simulator, q1=(-180,180), q2=(-180,180));"
   ]
  },
  {
   "cell_type": "markdown",
   "metadata": {},
   "source": [
    "&#9989; **<font color=red>Assignment-Specific QUESTION:</font>** What three angles did you find that place the robot on the star. "
   ]
  },
  {
   "cell_type": "markdown",
   "metadata": {},
   "source": [
    "Enter answer here."
   ]
  },
  {
   "cell_type": "markdown",
   "metadata": {},
   "source": [
    "---\n",
    "<a name=\"T3\"></a>\n",
    "## 4. Assignment wrap up\n",
    "\n",
    "\n",
    "Please fill out the form that appears when you run the code below.  **You must completely fill this out in order to receive credit for the assignment!** If you cannont load the form below please try logging in to [spartan365.msu.edu](http://spartan365.msu.edu/) and try running it again, or simply use the direct link provided below. \n",
    "\n",
    "[Direct Link to Microsoft Form](https://forms.office.com/r/n0PEF9xt59)\n",
    "\n"
   ]
  },
  {
   "cell_type": "markdown",
   "metadata": {},
   "source": [
    "&#9989; **<font color=red>Assignment-Specific QUESTION:</font>** What three angles did you find that place the robot on the star. "
   ]
  },
  {
   "cell_type": "markdown",
   "metadata": {},
   "source": [
    "Enter answer here."
   ]
  },
  {
   "cell_type": "code",
   "execution_count": 21,
   "metadata": {},
   "outputs": [
    {
     "data": {
      "text/html": [
       "\n",
       "<iframe width=\"640px\" height= \"480px\" src= \"https://forms.office.com/Pages/ResponsePage.aspx?id=MHEXIi9k2UGSEXQjetVofSS1ePbivlBPgYEBiz_zsf1UOTk3QU5VVEo1SVpKWlpaWlU4WTlDUlQwWi4u&embed=true\" frameborder= \"0\" marginwidth= \"0\" marginheight= \"0\" style= \"border: none; max-width:100%; max-height:100vh\" allowfullscreen webkitallowfullscreen mozallowfullscreen msallowfullscreen> </iframe>\n"
      ],
      "text/plain": [
       "<IPython.core.display.HTML object>"
      ]
     },
     "execution_count": 21,
     "metadata": {},
     "output_type": "execute_result"
    }
   ],
   "source": [
    "from IPython.display import HTML\n",
    "HTML(\n",
    "\"\"\"\n",
    "<iframe width=\"640px\" height= \"480px\" src= \"https://forms.office.com/Pages/ResponsePage.aspx?id=MHEXIi9k2UGSEXQjetVofSS1ePbivlBPgYEBiz_zsf1UOTk3QU5VVEo1SVpKWlpaWlU4WTlDUlQwWi4u&embed=true\" frameborder= \"0\" marginwidth= \"0\" marginheight= \"0\" style= \"border: none; max-width:100%; max-height:100vh\" allowfullscreen webkitallowfullscreen mozallowfullscreen msallowfullscreen> </iframe>\n",
    "\"\"\"\n",
    ")"
   ]
  },
  {
   "cell_type": "markdown",
   "metadata": {},
   "source": [
    "---------\n",
    "### Congratulations, we're done!\n",
    "\n",
    "###EndPreClass###\n"
   ]
  },
  {
   "cell_type": "markdown",
   "metadata": {},
   "source": [
    "Written by Dr. Dirk Colbry, and Dr. Matthew Mills, Michigan State University\n",
    "<a rel=\"license\" href=\"http://creativecommons.org/licenses/by-nc/4.0/\"><img alt=\"Creative Commons License\" style=\"border-width:0\" src=\"https://i.creativecommons.org/l/by-nc/4.0/88x31.png\" /></a><br />This work is licensed under a <a rel=\"license\" href=\"http://creativecommons.org/licenses/by-nc/4.0/\">Creative Commons Attribution-NonCommercial 4.0 International License</a>."
   ]
  },
  {
   "cell_type": "markdown",
   "metadata": {},
   "source": [
    "----"
   ]
  },
  {
   "cell_type": "markdown",
   "metadata": {},
   "source": [
    "\n"
   ]
  }
 ],
 "metadata": {
  "kernelspec": {
   "display_name": "Python 3",
   "language": "python",
   "name": "python3"
  },
  "language_info": {
   "codemirror_mode": {
    "name": "ipython",
    "version": 3
   },
   "file_extension": ".py",
   "mimetype": "text/x-python",
   "name": "python",
   "nbconvert_exporter": "python",
   "pygments_lexer": "ipython3",
   "version": "3.7.6"
  },
  "widgets": {
   "application/vnd.jupyter.widget-state+json": {
    "state": {
     "05bc2fb4f7a04b44bf99813011f40139": {
      "model_module": "@jupyter-widgets/output",
      "model_module_version": "1.0.0",
      "model_name": "OutputModel",
      "state": {
       "_dom_classes": [],
       "_model_module": "@jupyter-widgets/output",
       "_model_module_version": "1.0.0",
       "_model_name": "OutputModel",
       "_view_count": null,
       "_view_module": "@jupyter-widgets/output",
       "_view_module_version": "1.0.0",
       "_view_name": "OutputView",
       "layout": "IPY_MODEL_b5b4854999dc4543bfecf126f3012df3",
       "msg_id": "",
       "outputs": [
        {
         "data": {
          "image/png": "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\n",
          "text/plain": "<Figure size 432x288 with 1 Axes>"
         },
         "metadata": {
          "needs_background": "light"
         },
         "output_type": "display_data"
        },
        {
         "data": {
          "image/png": "iVBORw0KGgoAAAANSUhEUgAAAEwAAAAUCAYAAAAnStuxAAAACXBIWXMAAA7EAAAOxAGVKw4bAAACjElEQVRYCe2Y31EbMRDGDyYFMKEDpwNnqCCUgN0BcQdh8mS/MdABdOAxHZBUQOIOoIMYd5D8Pvvk0fj+SCtpwA/ZGXl1kj7t6tOuTr6j6XT6raqqCWVNuZzNZkv0f6kZgI+vVMXPifQRhN1QeaTjB7pT6B/SOUELHBTGyYDm1kY8Uz5R5rQX3ZBcO7F4xm14OmYRsbJg4CB2MON+UrQRV5R76teUBXXLHECCkmvHhI8ijEUqbT8GXa8HMF5hPEA/OAx1RZqeRXwRybWTgg8SxqSKCC32xbDKEWPbUvyJ9iFzKl1LSK4dMz5IGKvSuaWUssh5x2ARL+nq3/bG/3bNE2vHjO8lrA7Zu3j/q8qLnlUPTlGbJbl2UvGdhNUTnqAtqSgS3FnndtknxpF46jcm1nPtJOE7CWMR3yHrNnExgpU6p0Iu5Nox4VsJg6gLvJyHPO3od1HU1u129U9bp7Et104SvkFYnYpn6KVxAZvh4FwqOnL8adxuWtPcn6OInVQ/PzQ82b7BdIfavy8NGbuu25/QfemqK4UjxzfhSGy7cvjjYuu5dsz4BmEQocvl7sLpPKf9lfovtO4uIRHZ+iuxL59pWDKHi8L9futzrh0zvpGSPR43IoaF6y36l/Lbx/Gse9sKrbNwI9SFH1Muty3bKwjtDbzrD+lcO7F4349GhPmdqjOpIkXpKDnnWbui/4j3FKWozqO2M0nRpDftAC05o3zheXc2engRr5ISeRY7SX5uvK9/or9W+KDSdYhSJCpV2xZU2lzSfPhm/lqRZCgSpLfywZLlr8Fyhvm4YnWI0tlW4l5WzKe+id6dMJwbQ1rfFaXP/zfv0xnmPlHL+Ajnd4fym3tzgAbhw+dn8g+UyjNgsqnqLQAAAABJRU5ErkJggg==\n",
          "text/latex": "$\\displaystyle \\left[ 4.0, \\  0.0\\right]$",
          "text/plain": "[4.0, 0.0]"
         },
         "metadata": {},
         "output_type": "display_data"
        }
       ]
      }
     },
     "16d2c481ac844fa3b1224e96152e3af6": {
      "model_module": "@jupyter-widgets/controls",
      "model_module_version": "1.5.0",
      "model_name": "IntSliderModel",
      "state": {
       "_dom_classes": [],
       "_model_module": "@jupyter-widgets/controls",
       "_model_module_version": "1.5.0",
       "_model_name": "IntSliderModel",
       "_view_count": null,
       "_view_module": "@jupyter-widgets/controls",
       "_view_module_version": "1.5.0",
       "_view_name": "IntSliderView",
       "continuous_update": true,
       "description": "q2",
       "description_tooltip": null,
       "disabled": false,
       "layout": "IPY_MODEL_919c0d54a60040a19ee3ee568518c49e",
       "max": 180,
       "min": -180,
       "orientation": "horizontal",
       "readout": true,
       "readout_format": "d",
       "step": 1,
       "style": "IPY_MODEL_d29750a5ebe945c49a343a744afeca92",
       "value": 0
      }
     },
     "1bb083a379574db880fd7e1569844b47": {
      "model_module": "@jupyter-widgets/base",
      "model_module_version": "1.2.0",
      "model_name": "LayoutModel",
      "state": {
       "_model_module": "@jupyter-widgets/base",
       "_model_module_version": "1.2.0",
       "_model_name": "LayoutModel",
       "_view_count": null,
       "_view_module": "@jupyter-widgets/base",
       "_view_module_version": "1.2.0",
       "_view_name": "LayoutView",
       "align_content": null,
       "align_items": null,
       "align_self": null,
       "border": null,
       "bottom": null,
       "display": null,
       "flex": null,
       "flex_flow": null,
       "grid_area": null,
       "grid_auto_columns": null,
       "grid_auto_flow": null,
       "grid_auto_rows": null,
       "grid_column": null,
       "grid_gap": null,
       "grid_row": null,
       "grid_template_areas": null,
       "grid_template_columns": null,
       "grid_template_rows": null,
       "height": null,
       "justify_content": null,
       "justify_items": null,
       "left": null,
       "margin": null,
       "max_height": null,
       "max_width": null,
       "min_height": null,
       "min_width": null,
       "object_fit": null,
       "object_position": null,
       "order": null,
       "overflow": null,
       "overflow_x": null,
       "overflow_y": null,
       "padding": null,
       "right": null,
       "top": null,
       "visibility": null,
       "width": null
      }
     },
     "277845ea4775497b9faa60471c925877": {
      "model_module": "@jupyter-widgets/controls",
      "model_module_version": "1.5.0",
      "model_name": "IntSliderModel",
      "state": {
       "_dom_classes": [],
       "_model_module": "@jupyter-widgets/controls",
       "_model_module_version": "1.5.0",
       "_model_name": "IntSliderModel",
       "_view_count": null,
       "_view_module": "@jupyter-widgets/controls",
       "_view_module_version": "1.5.0",
       "_view_name": "IntSliderView",
       "continuous_update": true,
       "description": "q1",
       "description_tooltip": null,
       "disabled": false,
       "layout": "IPY_MODEL_91b9babfe67d4341bb363a9dc7b3e909",
       "max": 180,
       "min": -180,
       "orientation": "horizontal",
       "readout": true,
       "readout_format": "d",
       "step": 2,
       "style": "IPY_MODEL_bb89a748ba5d404f815d417aa042c99e",
       "value": 0
      }
     },
     "2afbbcbfdfdf48e286db815bb702079f": {
      "model_module": "@jupyter-widgets/controls",
      "model_module_version": "1.5.0",
      "model_name": "VBoxModel",
      "state": {
       "_dom_classes": [
        "widget-interact"
       ],
       "_model_module": "@jupyter-widgets/controls",
       "_model_module_version": "1.5.0",
       "_model_name": "VBoxModel",
       "_view_count": null,
       "_view_module": "@jupyter-widgets/controls",
       "_view_module_version": "1.5.0",
       "_view_name": "VBoxView",
       "box_style": "",
       "children": [
        "IPY_MODEL_277845ea4775497b9faa60471c925877",
        "IPY_MODEL_05bc2fb4f7a04b44bf99813011f40139"
       ],
       "layout": "IPY_MODEL_c70932c19b3445e0bf76efc165b69538"
      }
     },
     "3ee5b8300df944768603b75fb2f5dd99": {
      "model_module": "@jupyter-widgets/base",
      "model_module_version": "1.2.0",
      "model_name": "LayoutModel",
      "state": {
       "_model_module": "@jupyter-widgets/base",
       "_model_module_version": "1.2.0",
       "_model_name": "LayoutModel",
       "_view_count": null,
       "_view_module": "@jupyter-widgets/base",
       "_view_module_version": "1.2.0",
       "_view_name": "LayoutView",
       "align_content": null,
       "align_items": null,
       "align_self": null,
       "border": null,
       "bottom": null,
       "display": null,
       "flex": null,
       "flex_flow": null,
       "grid_area": null,
       "grid_auto_columns": null,
       "grid_auto_flow": null,
       "grid_auto_rows": null,
       "grid_column": null,
       "grid_gap": null,
       "grid_row": null,
       "grid_template_areas": null,
       "grid_template_columns": null,
       "grid_template_rows": null,
       "height": null,
       "justify_content": null,
       "justify_items": null,
       "left": null,
       "margin": null,
       "max_height": null,
       "max_width": null,
       "min_height": null,
       "min_width": null,
       "object_fit": null,
       "object_position": null,
       "order": null,
       "overflow": null,
       "overflow_x": null,
       "overflow_y": null,
       "padding": null,
       "right": null,
       "top": null,
       "visibility": null,
       "width": null
      }
     },
     "45fe2112dbbc4aa385283bc3a1b8ff57": {
      "model_module": "@jupyter-widgets/base",
      "model_module_version": "1.2.0",
      "model_name": "LayoutModel",
      "state": {
       "_model_module": "@jupyter-widgets/base",
       "_model_module_version": "1.2.0",
       "_model_name": "LayoutModel",
       "_view_count": null,
       "_view_module": "@jupyter-widgets/base",
       "_view_module_version": "1.2.0",
       "_view_name": "LayoutView",
       "align_content": null,
       "align_items": null,
       "align_self": null,
       "border": null,
       "bottom": null,
       "display": null,
       "flex": null,
       "flex_flow": null,
       "grid_area": null,
       "grid_auto_columns": null,
       "grid_auto_flow": null,
       "grid_auto_rows": null,
       "grid_column": null,
       "grid_gap": null,
       "grid_row": null,
       "grid_template_areas": null,
       "grid_template_columns": null,
       "grid_template_rows": null,
       "height": null,
       "justify_content": null,
       "justify_items": null,
       "left": null,
       "margin": null,
       "max_height": null,
       "max_width": null,
       "min_height": null,
       "min_width": null,
       "object_fit": null,
       "object_position": null,
       "order": null,
       "overflow": null,
       "overflow_x": null,
       "overflow_y": null,
       "padding": null,
       "right": null,
       "top": null,
       "visibility": null,
       "width": null
      }
     },
     "50c3b1f6ac6b491c8f44caf0b9047d70": {
      "model_module": "@jupyter-widgets/controls",
      "model_module_version": "1.5.0",
      "model_name": "VBoxModel",
      "state": {
       "_dom_classes": [
        "widget-interact"
       ],
       "_model_module": "@jupyter-widgets/controls",
       "_model_module_version": "1.5.0",
       "_model_name": "VBoxModel",
       "_view_count": null,
       "_view_module": "@jupyter-widgets/controls",
       "_view_module_version": "1.5.0",
       "_view_name": "VBoxView",
       "box_style": "",
       "children": [
        "IPY_MODEL_7a012024fa854dabb376a8f7861f8bcb",
        "IPY_MODEL_16d2c481ac844fa3b1224e96152e3af6",
        "IPY_MODEL_7cf4a19ad0bd4b798c5980037246cb40"
       ],
       "layout": "IPY_MODEL_fda011c80635497a946508d2704d0df3"
      }
     },
     "5bcb386515c8442d950c1b25f8c6e3e6": {
      "model_module": "@jupyter-widgets/controls",
      "model_module_version": "1.5.0",
      "model_name": "IntSliderModel",
      "state": {
       "_dom_classes": [],
       "_model_module": "@jupyter-widgets/controls",
       "_model_module_version": "1.5.0",
       "_model_name": "IntSliderModel",
       "_view_count": null,
       "_view_module": "@jupyter-widgets/controls",
       "_view_module_version": "1.5.0",
       "_view_name": "IntSliderView",
       "continuous_update": true,
       "description": "q1",
       "description_tooltip": null,
       "disabled": false,
       "layout": "IPY_MODEL_6308c883f18049a49b81363bda6d421f",
       "max": 180,
       "min": -180,
       "orientation": "horizontal",
       "readout": true,
       "readout_format": "d",
       "step": 1,
       "style": "IPY_MODEL_95ff9891080948a9beae4385e74bdf84",
       "value": 0
      }
     },
     "5e0c66a769fa4a05b2f45727cc1f744f": {
      "model_module": "@jupyter-widgets/output",
      "model_module_version": "1.0.0",
      "model_name": "OutputModel",
      "state": {
       "_dom_classes": [],
       "_model_module": "@jupyter-widgets/output",
       "_model_module_version": "1.0.0",
       "_model_name": "OutputModel",
       "_view_count": null,
       "_view_module": "@jupyter-widgets/output",
       "_view_module_version": "1.0.0",
       "_view_name": "OutputView",
       "layout": "IPY_MODEL_6801875cb73745db9f4ef94101bc5d64",
       "msg_id": "",
       "outputs": [
        {
         "name": "stdout",
         "output_type": "stream",
         "text": "[[-3  2  1]]\n"
        },
        {
         "data": {
          "image/png": "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\n",
          "text/plain": "<Figure size 432x288 with 1 Axes>"
         },
         "metadata": {
          "needs_background": "light"
         },
         "output_type": "display_data"
        }
       ]
      }
     },
     "6308c883f18049a49b81363bda6d421f": {
      "model_module": "@jupyter-widgets/base",
      "model_module_version": "1.2.0",
      "model_name": "LayoutModel",
      "state": {
       "_model_module": "@jupyter-widgets/base",
       "_model_module_version": "1.2.0",
       "_model_name": "LayoutModel",
       "_view_count": null,
       "_view_module": "@jupyter-widgets/base",
       "_view_module_version": "1.2.0",
       "_view_name": "LayoutView",
       "align_content": null,
       "align_items": null,
       "align_self": null,
       "border": null,
       "bottom": null,
       "display": null,
       "flex": null,
       "flex_flow": null,
       "grid_area": null,
       "grid_auto_columns": null,
       "grid_auto_flow": null,
       "grid_auto_rows": null,
       "grid_column": null,
       "grid_gap": null,
       "grid_row": null,
       "grid_template_areas": null,
       "grid_template_columns": null,
       "grid_template_rows": null,
       "height": null,
       "justify_content": null,
       "justify_items": null,
       "left": null,
       "margin": null,
       "max_height": null,
       "max_width": null,
       "min_height": null,
       "min_width": null,
       "object_fit": null,
       "object_position": null,
       "order": null,
       "overflow": null,
       "overflow_x": null,
       "overflow_y": null,
       "padding": null,
       "right": null,
       "top": null,
       "visibility": null,
       "width": null
      }
     },
     "6801875cb73745db9f4ef94101bc5d64": {
      "model_module": "@jupyter-widgets/base",
      "model_module_version": "1.2.0",
      "model_name": "LayoutModel",
      "state": {
       "_model_module": "@jupyter-widgets/base",
       "_model_module_version": "1.2.0",
       "_model_name": "LayoutModel",
       "_view_count": null,
       "_view_module": "@jupyter-widgets/base",
       "_view_module_version": "1.2.0",
       "_view_name": "LayoutView",
       "align_content": null,
       "align_items": null,
       "align_self": null,
       "border": null,
       "bottom": null,
       "display": null,
       "flex": null,
       "flex_flow": null,
       "grid_area": null,
       "grid_auto_columns": null,
       "grid_auto_flow": null,
       "grid_auto_rows": null,
       "grid_column": null,
       "grid_gap": null,
       "grid_row": null,
       "grid_template_areas": null,
       "grid_template_columns": null,
       "grid_template_rows": null,
       "height": null,
       "justify_content": null,
       "justify_items": null,
       "left": null,
       "margin": null,
       "max_height": null,
       "max_width": null,
       "min_height": null,
       "min_width": null,
       "object_fit": null,
       "object_position": null,
       "order": null,
       "overflow": null,
       "overflow_x": null,
       "overflow_y": null,
       "padding": null,
       "right": null,
       "top": null,
       "visibility": null,
       "width": null
      }
     },
     "7a012024fa854dabb376a8f7861f8bcb": {
      "model_module": "@jupyter-widgets/controls",
      "model_module_version": "1.5.0",
      "model_name": "IntSliderModel",
      "state": {
       "_dom_classes": [],
       "_model_module": "@jupyter-widgets/controls",
       "_model_module_version": "1.5.0",
       "_model_name": "IntSliderModel",
       "_view_count": null,
       "_view_module": "@jupyter-widgets/controls",
       "_view_module_version": "1.5.0",
       "_view_name": "IntSliderView",
       "continuous_update": true,
       "description": "q1",
       "description_tooltip": null,
       "disabled": false,
       "layout": "IPY_MODEL_45fe2112dbbc4aa385283bc3a1b8ff57",
       "max": 180,
       "min": -180,
       "orientation": "horizontal",
       "readout": true,
       "readout_format": "d",
       "step": 1,
       "style": "IPY_MODEL_e5bd7a32a9c04afaa1c39a4a19683f27",
       "value": 0
      }
     },
     "7cf4a19ad0bd4b798c5980037246cb40": {
      "model_module": "@jupyter-widgets/output",
      "model_module_version": "1.0.0",
      "model_name": "OutputModel",
      "state": {
       "_dom_classes": [],
       "_model_module": "@jupyter-widgets/output",
       "_model_module_version": "1.0.0",
       "_model_name": "OutputModel",
       "_view_count": null,
       "_view_module": "@jupyter-widgets/output",
       "_view_module_version": "1.0.0",
       "_view_name": "OutputView",
       "layout": "IPY_MODEL_3ee5b8300df944768603b75fb2f5dd99",
       "msg_id": "",
       "outputs": [
        {
         "name": "stdout",
         "output_type": "stream",
         "text": "[[-3  2  1]]\n"
        },
        {
         "data": {
          "image/png": "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\n",
          "text/plain": "<Figure size 432x288 with 1 Axes>"
         },
         "metadata": {
          "needs_background": "light"
         },
         "output_type": "display_data"
        }
       ]
      }
     },
     "7d0a3159b2e14faeaa79d7ca4ad605a2": {
      "model_module": "@jupyter-widgets/controls",
      "model_module_version": "1.5.0",
      "model_name": "IntSliderModel",
      "state": {
       "_dom_classes": [],
       "_model_module": "@jupyter-widgets/controls",
       "_model_module_version": "1.5.0",
       "_model_name": "IntSliderModel",
       "_view_count": null,
       "_view_module": "@jupyter-widgets/controls",
       "_view_module_version": "1.5.0",
       "_view_name": "IntSliderView",
       "continuous_update": true,
       "description": "q2",
       "description_tooltip": null,
       "disabled": false,
       "layout": "IPY_MODEL_d5832006b2b1426ca2d080c022047c4c",
       "max": 180,
       "min": -180,
       "orientation": "horizontal",
       "readout": true,
       "readout_format": "d",
       "step": 1,
       "style": "IPY_MODEL_fcc8da289659419981f6caf88c853189",
       "value": 0
      }
     },
     "919c0d54a60040a19ee3ee568518c49e": {
      "model_module": "@jupyter-widgets/base",
      "model_module_version": "1.2.0",
      "model_name": "LayoutModel",
      "state": {
       "_model_module": "@jupyter-widgets/base",
       "_model_module_version": "1.2.0",
       "_model_name": "LayoutModel",
       "_view_count": null,
       "_view_module": "@jupyter-widgets/base",
       "_view_module_version": "1.2.0",
       "_view_name": "LayoutView",
       "align_content": null,
       "align_items": null,
       "align_self": null,
       "border": null,
       "bottom": null,
       "display": null,
       "flex": null,
       "flex_flow": null,
       "grid_area": null,
       "grid_auto_columns": null,
       "grid_auto_flow": null,
       "grid_auto_rows": null,
       "grid_column": null,
       "grid_gap": null,
       "grid_row": null,
       "grid_template_areas": null,
       "grid_template_columns": null,
       "grid_template_rows": null,
       "height": null,
       "justify_content": null,
       "justify_items": null,
       "left": null,
       "margin": null,
       "max_height": null,
       "max_width": null,
       "min_height": null,
       "min_width": null,
       "object_fit": null,
       "object_position": null,
       "order": null,
       "overflow": null,
       "overflow_x": null,
       "overflow_y": null,
       "padding": null,
       "right": null,
       "top": null,
       "visibility": null,
       "width": null
      }
     },
     "91b9babfe67d4341bb363a9dc7b3e909": {
      "model_module": "@jupyter-widgets/base",
      "model_module_version": "1.2.0",
      "model_name": "LayoutModel",
      "state": {
       "_model_module": "@jupyter-widgets/base",
       "_model_module_version": "1.2.0",
       "_model_name": "LayoutModel",
       "_view_count": null,
       "_view_module": "@jupyter-widgets/base",
       "_view_module_version": "1.2.0",
       "_view_name": "LayoutView",
       "align_content": null,
       "align_items": null,
       "align_self": null,
       "border": null,
       "bottom": null,
       "display": null,
       "flex": null,
       "flex_flow": null,
       "grid_area": null,
       "grid_auto_columns": null,
       "grid_auto_flow": null,
       "grid_auto_rows": null,
       "grid_column": null,
       "grid_gap": null,
       "grid_row": null,
       "grid_template_areas": null,
       "grid_template_columns": null,
       "grid_template_rows": null,
       "height": null,
       "justify_content": null,
       "justify_items": null,
       "left": null,
       "margin": null,
       "max_height": null,
       "max_width": null,
       "min_height": null,
       "min_width": null,
       "object_fit": null,
       "object_position": null,
       "order": null,
       "overflow": null,
       "overflow_x": null,
       "overflow_y": null,
       "padding": null,
       "right": null,
       "top": null,
       "visibility": null,
       "width": null
      }
     },
     "922310704f504a81809ff16151f1f463": {
      "model_module": "@jupyter-widgets/controls",
      "model_module_version": "1.5.0",
      "model_name": "VBoxModel",
      "state": {
       "_dom_classes": [
        "widget-interact"
       ],
       "_model_module": "@jupyter-widgets/controls",
       "_model_module_version": "1.5.0",
       "_model_name": "VBoxModel",
       "_view_count": null,
       "_view_module": "@jupyter-widgets/controls",
       "_view_module_version": "1.5.0",
       "_view_name": "VBoxView",
       "box_style": "",
       "children": [
        "IPY_MODEL_5bcb386515c8442d950c1b25f8c6e3e6",
        "IPY_MODEL_7d0a3159b2e14faeaa79d7ca4ad605a2",
        "IPY_MODEL_5e0c66a769fa4a05b2f45727cc1f744f"
       ],
       "layout": "IPY_MODEL_1bb083a379574db880fd7e1569844b47"
      }
     },
     "95ff9891080948a9beae4385e74bdf84": {
      "model_module": "@jupyter-widgets/controls",
      "model_module_version": "1.5.0",
      "model_name": "SliderStyleModel",
      "state": {
       "_model_module": "@jupyter-widgets/controls",
       "_model_module_version": "1.5.0",
       "_model_name": "SliderStyleModel",
       "_view_count": null,
       "_view_module": "@jupyter-widgets/base",
       "_view_module_version": "1.2.0",
       "_view_name": "StyleView",
       "description_width": "",
       "handle_color": null
      }
     },
     "b5b4854999dc4543bfecf126f3012df3": {
      "model_module": "@jupyter-widgets/base",
      "model_module_version": "1.2.0",
      "model_name": "LayoutModel",
      "state": {
       "_model_module": "@jupyter-widgets/base",
       "_model_module_version": "1.2.0",
       "_model_name": "LayoutModel",
       "_view_count": null,
       "_view_module": "@jupyter-widgets/base",
       "_view_module_version": "1.2.0",
       "_view_name": "LayoutView",
       "align_content": null,
       "align_items": null,
       "align_self": null,
       "border": null,
       "bottom": null,
       "display": null,
       "flex": null,
       "flex_flow": null,
       "grid_area": null,
       "grid_auto_columns": null,
       "grid_auto_flow": null,
       "grid_auto_rows": null,
       "grid_column": null,
       "grid_gap": null,
       "grid_row": null,
       "grid_template_areas": null,
       "grid_template_columns": null,
       "grid_template_rows": null,
       "height": null,
       "justify_content": null,
       "justify_items": null,
       "left": null,
       "margin": null,
       "max_height": null,
       "max_width": null,
       "min_height": null,
       "min_width": null,
       "object_fit": null,
       "object_position": null,
       "order": null,
       "overflow": null,
       "overflow_x": null,
       "overflow_y": null,
       "padding": null,
       "right": null,
       "top": null,
       "visibility": null,
       "width": null
      }
     },
     "bb89a748ba5d404f815d417aa042c99e": {
      "model_module": "@jupyter-widgets/controls",
      "model_module_version": "1.5.0",
      "model_name": "SliderStyleModel",
      "state": {
       "_model_module": "@jupyter-widgets/controls",
       "_model_module_version": "1.5.0",
       "_model_name": "SliderStyleModel",
       "_view_count": null,
       "_view_module": "@jupyter-widgets/base",
       "_view_module_version": "1.2.0",
       "_view_name": "StyleView",
       "description_width": "",
       "handle_color": null
      }
     },
     "c70932c19b3445e0bf76efc165b69538": {
      "model_module": "@jupyter-widgets/base",
      "model_module_version": "1.2.0",
      "model_name": "LayoutModel",
      "state": {
       "_model_module": "@jupyter-widgets/base",
       "_model_module_version": "1.2.0",
       "_model_name": "LayoutModel",
       "_view_count": null,
       "_view_module": "@jupyter-widgets/base",
       "_view_module_version": "1.2.0",
       "_view_name": "LayoutView",
       "align_content": null,
       "align_items": null,
       "align_self": null,
       "border": null,
       "bottom": null,
       "display": null,
       "flex": null,
       "flex_flow": null,
       "grid_area": null,
       "grid_auto_columns": null,
       "grid_auto_flow": null,
       "grid_auto_rows": null,
       "grid_column": null,
       "grid_gap": null,
       "grid_row": null,
       "grid_template_areas": null,
       "grid_template_columns": null,
       "grid_template_rows": null,
       "height": null,
       "justify_content": null,
       "justify_items": null,
       "left": null,
       "margin": null,
       "max_height": null,
       "max_width": null,
       "min_height": null,
       "min_width": null,
       "object_fit": null,
       "object_position": null,
       "order": null,
       "overflow": null,
       "overflow_x": null,
       "overflow_y": null,
       "padding": null,
       "right": null,
       "top": null,
       "visibility": null,
       "width": null
      }
     },
     "d29750a5ebe945c49a343a744afeca92": {
      "model_module": "@jupyter-widgets/controls",
      "model_module_version": "1.5.0",
      "model_name": "SliderStyleModel",
      "state": {
       "_model_module": "@jupyter-widgets/controls",
       "_model_module_version": "1.5.0",
       "_model_name": "SliderStyleModel",
       "_view_count": null,
       "_view_module": "@jupyter-widgets/base",
       "_view_module_version": "1.2.0",
       "_view_name": "StyleView",
       "description_width": "",
       "handle_color": null
      }
     },
     "d5832006b2b1426ca2d080c022047c4c": {
      "model_module": "@jupyter-widgets/base",
      "model_module_version": "1.2.0",
      "model_name": "LayoutModel",
      "state": {
       "_model_module": "@jupyter-widgets/base",
       "_model_module_version": "1.2.0",
       "_model_name": "LayoutModel",
       "_view_count": null,
       "_view_module": "@jupyter-widgets/base",
       "_view_module_version": "1.2.0",
       "_view_name": "LayoutView",
       "align_content": null,
       "align_items": null,
       "align_self": null,
       "border": null,
       "bottom": null,
       "display": null,
       "flex": null,
       "flex_flow": null,
       "grid_area": null,
       "grid_auto_columns": null,
       "grid_auto_flow": null,
       "grid_auto_rows": null,
       "grid_column": null,
       "grid_gap": null,
       "grid_row": null,
       "grid_template_areas": null,
       "grid_template_columns": null,
       "grid_template_rows": null,
       "height": null,
       "justify_content": null,
       "justify_items": null,
       "left": null,
       "margin": null,
       "max_height": null,
       "max_width": null,
       "min_height": null,
       "min_width": null,
       "object_fit": null,
       "object_position": null,
       "order": null,
       "overflow": null,
       "overflow_x": null,
       "overflow_y": null,
       "padding": null,
       "right": null,
       "top": null,
       "visibility": null,
       "width": null
      }
     },
     "e5bd7a32a9c04afaa1c39a4a19683f27": {
      "model_module": "@jupyter-widgets/controls",
      "model_module_version": "1.5.0",
      "model_name": "SliderStyleModel",
      "state": {
       "_model_module": "@jupyter-widgets/controls",
       "_model_module_version": "1.5.0",
       "_model_name": "SliderStyleModel",
       "_view_count": null,
       "_view_module": "@jupyter-widgets/base",
       "_view_module_version": "1.2.0",
       "_view_name": "StyleView",
       "description_width": "",
       "handle_color": null
      }
     },
     "fcc8da289659419981f6caf88c853189": {
      "model_module": "@jupyter-widgets/controls",
      "model_module_version": "1.5.0",
      "model_name": "SliderStyleModel",
      "state": {
       "_model_module": "@jupyter-widgets/controls",
       "_model_module_version": "1.5.0",
       "_model_name": "SliderStyleModel",
       "_view_count": null,
       "_view_module": "@jupyter-widgets/base",
       "_view_module_version": "1.2.0",
       "_view_name": "StyleView",
       "description_width": "",
       "handle_color": null
      }
     },
     "fda011c80635497a946508d2704d0df3": {
      "model_module": "@jupyter-widgets/base",
      "model_module_version": "1.2.0",
      "model_name": "LayoutModel",
      "state": {
       "_model_module": "@jupyter-widgets/base",
       "_model_module_version": "1.2.0",
       "_model_name": "LayoutModel",
       "_view_count": null,
       "_view_module": "@jupyter-widgets/base",
       "_view_module_version": "1.2.0",
       "_view_name": "LayoutView",
       "align_content": null,
       "align_items": null,
       "align_self": null,
       "border": null,
       "bottom": null,
       "display": null,
       "flex": null,
       "flex_flow": null,
       "grid_area": null,
       "grid_auto_columns": null,
       "grid_auto_flow": null,
       "grid_auto_rows": null,
       "grid_column": null,
       "grid_gap": null,
       "grid_row": null,
       "grid_template_areas": null,
       "grid_template_columns": null,
       "grid_template_rows": null,
       "height": null,
       "justify_content": null,
       "justify_items": null,
       "left": null,
       "margin": null,
       "max_height": null,
       "max_width": null,
       "min_height": null,
       "min_width": null,
       "object_fit": null,
       "object_position": null,
       "order": null,
       "overflow": null,
       "overflow_x": null,
       "overflow_y": null,
       "padding": null,
       "right": null,
       "top": null,
       "visibility": null,
       "width": null
      }
     }
    },
    "version_major": 2,
    "version_minor": 0
   }
  }
 },
 "nbformat": 4,
 "nbformat_minor": 4
}