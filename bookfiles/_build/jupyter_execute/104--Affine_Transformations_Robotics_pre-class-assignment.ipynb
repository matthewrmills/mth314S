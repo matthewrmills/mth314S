{
 "cells": [
  {
   "cell_type": "markdown",
   "metadata": {},
   "source": []
  },
  {
   "cell_type": "markdown",
   "metadata": {},
   "source": [
    "# 104 Pre-Class Assignment: Transformations & Robotics\n",
    "\n",
    "<img src=\"https://people.gnome.org/~mathieu/libart/art-affines.png\">\n",
    "\n",
    "Image from: https://people.gnome.org/~mathieu/libart/libart-affine-transformation-matrices.html\n",
    "    "
   ]
  },
  {
   "cell_type": "markdown",
   "metadata": {},
   "source": [
    "### Readings for this topic (Recommended in bold)\n",
    " * [Heffron Chapter 3.IV pg 241-243](http://joshua.smcvt.edu/linearalgebra/book.pdf)\n",
    " * [Beezer Subsection EM pg 340-345](http://linear.ups.edu/download/fcla-3.50-tablet.pdf)\n",
    " * [Boyd A little on page 7](http://vmls-book.stanford.edu/vmls.pdf)\n",
    "\n",
    "\n",
    "### Goals for today's pre-class assignment \n",
    "\n",
    "\n",
    "1. [Review](#Review)\n",
    "1. [Affine Transforms Examples](#Affine_Transforms)\n",
    "1. [2D Forward Kinematics](#2D_Forward_Kinematics)\n",
    "1. [Assignment Wrap-up](#T3)\n",
    "\n",
    "Reference: https://studywolf.wordpress.com/2013/08/21/robot-control-forward-transformation-matrices/"
   ]
  },
  {
   "cell_type": "markdown",
   "metadata": {},
   "source": [
    "----\n",
    "\n",
    "<a name=\"Review\"></a>\n",
    "## 1. Review"
   ]
  },
  {
   "cell_type": "markdown",
   "metadata": {},
   "source": [
    "&#9989; **<font color=red>QUESTION:</font>**  Compute $2u+3v$ for vectors $u = (1,2, 6)$ and $v = (4, -1, 3)$."
   ]
  },
  {
   "cell_type": "markdown",
   "metadata": {},
   "source": [
    "Put your answer here"
   ]
  },
  {
   "cell_type": "markdown",
   "metadata": {},
   "source": [
    "&#9989; **<font color=red>QUESTION:</font>**  Matrix $A$ is of size ($m_1 \\times n_1$) and matrix $B$ is of size ($m_2 \\times n_2$).  What must be true about the dimensions in order to multiply $A \\times B$?  "
   ]
  },
  {
   "cell_type": "markdown",
   "metadata": {},
   "source": [
    "Put your answer here"
   ]
  },
  {
   "cell_type": "markdown",
   "metadata": {},
   "source": [
    "&#9989;  **<font color=red>QUESTION:</font>**   Is an invertible matrix is always square? Why or why not?"
   ]
  },
  {
   "cell_type": "markdown",
   "metadata": {},
   "source": [
    "Put your answer here"
   ]
  },
  {
   "cell_type": "markdown",
   "metadata": {},
   "source": [
    "&#9989;  **<font color=red>QUESTION:</font>**  Is a square matrix always invertible? Why or why not?"
   ]
  },
  {
   "cell_type": "markdown",
   "metadata": {},
   "source": [
    "Put your answer here"
   ]
  },
  {
   "cell_type": "markdown",
   "metadata": {},
   "source": [
    "&#9989;  **<font color=red>QUESTION:</font>** Describe the Reduced Row Echelon form of a square, invertible matrix."
   ]
  },
  {
   "cell_type": "markdown",
   "metadata": {},
   "source": [
    "Put your answer here"
   ]
  },
  {
   "cell_type": "markdown",
   "metadata": {},
   "source": [
    "&#9989;  **<font color=red>QUESTION:</font>** Is the following matrix in the Reduced Row Echelon form? \n",
    "\n",
    "$$\n",
    "\\left[\n",
    "\\begin{matrix}\n",
    "    1 & 2 & 0 & 3 & 1 & 4 \\\\ \n",
    "    0 & 0 & 1 & 3 & 1 & 7 \\\\ \n",
    "    0 & 0 & 0 & 0 & 1 & 6 \\\\ \n",
    "    0 & 0 & 0 & 0 & 0 & 0  \n",
    "\\end{matrix}\n",
    "\\right]\n",
    "$$"
   ]
  },
  {
   "cell_type": "markdown",
   "metadata": {},
   "source": [
    "Put your answer here"
   ]
  },
  {
   "cell_type": "markdown",
   "metadata": {},
   "source": [
    "&#9989;  **<font color=red>QUESTION:</font>** If the matrix shown above is not in Reduced Row Echelon form. Name a rule that is violated?"
   ]
  },
  {
   "cell_type": "markdown",
   "metadata": {},
   "source": [
    "Put your answer here"
   ]
  },
  {
   "cell_type": "markdown",
   "metadata": {},
   "source": [
    "&#9989;  **<font color=red>QUESTION:</font>** What is the size of the matrix described in the previous QUESTION?\n",
    "\n",
    "- $4 \\times 6$\n",
    "- $6 \\times 4$\n",
    "- $3 \\times 6$\n",
    "- $5 \\times 3$\n",
    "\n"
   ]
  },
  {
   "cell_type": "markdown",
   "metadata": {},
   "source": [
    "Put your answer here"
   ]
  },
  {
   "cell_type": "markdown",
   "metadata": {},
   "source": [
    "&#9989;  **<font color=red>QUESTION:</font>**  Describe the elementary row operation that is implemented by the following matrix\n",
    "\n",
    "\n",
    "$$\n",
    "\\left[\n",
    "\\begin{matrix}\n",
    "    0 & 1 & 0 \\\\ \n",
    "    1 & 0 & 0 \\\\ \n",
    "    0 & 0 & 1 \n",
    "\\end{matrix}\n",
    "\\right]\n",
    "$$"
   ]
  },
  {
   "cell_type": "markdown",
   "metadata": {},
   "source": [
    "Put your answer here"
   ]
  },
  {
   "cell_type": "markdown",
   "metadata": {},
   "source": [
    "----\n",
    "<a name=\"Affine_Transforms\"></a>\n",
    "## 2. Affine Transforms\n",
    "\n",
    "Previously in class we talked about how matrix multiplication can change the color-vector of a pixel in a digital image. In this section we will show some examples of how matrix multiplication can be used to produce basic geometric transformations of vectors representing points in the $xy$-plane.\n",
    "\n",
    "The following code is designed to demonstrate the properties of some different transformation matrices. Pay attention to the format of the matrices in relation to the geometric change they produce. \n",
    "\n",
    "&#9989; **<font color=red>DO THIS:</font>** Review the following code.  "
   ]
  },
  {
   "cell_type": "code",
   "execution_count": 1,
   "metadata": {},
   "outputs": [],
   "source": [
    "#Some python packages we will be using\n",
    "%matplotlib inline\n",
    "import numpy as np\n",
    "import matplotlib.pylab as plt\n",
    "from mpl_toolkits.mplot3d import Axes3D #Lets us make 3D plots\n",
    "import numpy as np\n",
    "import sympy as sym\n",
    "sym.init_printing(use_unicode=True) # Trick to make matrixes look nice in jupyter"
   ]
  },
  {
   "cell_type": "code",
   "execution_count": 2,
   "metadata": {},
   "outputs": [
    {
     "data": {
      "image/png": "[encoded data removed]",
      "text/plain": [
       "<Figure size 432x288 with 1 Axes>"
      ]
     },
     "metadata": {
      "filenames": {
       "image/png": "/Users/mattmills/Dropbox/MTH314S/mth314S/bookfiles/_build/jupyter_execute/104--Affine_Transformations_Robotics_pre-class-assignment_24_0.png"
      },
      "needs_background": "light"
     },
     "output_type": "display_data"
    }
   ],
   "source": [
    "# Define some points\n",
    "x = [0.0,  0.0,  2.0,  8.0, 10.0, 10.0, 8.0, 4.0, 3.0, 3.0, 4.0, 6.0, 7.0, 7.0, 10.0, \n",
    "     10.0,  8.0,  2.0, 0.0, 0.0, 2.0, 6.0, 7.0,  7.0,  6.0,  4.0,  3.0, 3.0, 0.0]\n",
    "y = [0.0, -2.0, -4.0, -4.0, -2.0,  2.0, 4.0, 4.0, 5.0, 7.0, 8.0, 8.0, 7.0, 6.0,  6.0,\n",
    "     8.0, 10.0, 10.0, 8.0, 4.0, 2.0, 2.0, 1.0, -1.0, -2.0, -2.0, -1.0, 0.0, 0.0]\n",
    "con = [ 1.0 for i in range(len(x))] \n",
    "\n",
    "p = np.matrix([x,y,con])\n",
    "\n",
    "\n",
    "mp = p.copy()\n",
    "\n",
    "#Plot Points\n",
    "plt.plot(mp[0,:].tolist()[0],mp[1,:].tolist()[0], color='green');\n",
    "plt.axis('scaled');\n",
    "plt.axis([-10,20,-15,15]);\n",
    "plt.title('Start Location');"
   ]
  },
  {
   "cell_type": "markdown",
   "metadata": {},
   "source": [
    "### Example Scaling Matrix"
   ]
  },
  {
   "cell_type": "code",
   "execution_count": 3,
   "metadata": {},
   "outputs": [
    {
     "data": {
      "image/png": "[encoded data removed]",
      "text/latex": [
       "$\\displaystyle \\left[\\begin{matrix}0.5 & 0.0 & 0.0\\\\0.0 & 0.5 & 0.0\\\\0.0 & 0.0 & 1.0\\end{matrix}\\right]$"
      ],
      "text/plain": [
       "⎡0.5  0.0  0.0⎤\n",
       "⎢             ⎥\n",
       "⎢0.0  0.5  0.0⎥\n",
       "⎢             ⎥\n",
       "⎣0.0  0.0  1.0⎦"
      ]
     },
     "execution_count": 3,
     "metadata": {
      "filenames": {
       "image/png": "/Users/mattmills/Dropbox/MTH314S/mth314S/bookfiles/_build/jupyter_execute/104--Affine_Transformations_Robotics_pre-class-assignment_26_0.png"
      }
     },
     "output_type": "execute_result"
    },
    {
     "data": {
      "image/png": "[encoded data removed]",
      "text/plain": [
       "<Figure size 432x288 with 1 Axes>"
      ]
     },
     "metadata": {
      "filenames": {
       "image/png": "/Users/mattmills/Dropbox/MTH314S/mth314S/bookfiles/_build/jupyter_execute/104--Affine_Transformations_Robotics_pre-class-assignment_26_1.png"
      },
      "needs_background": "light"
     },
     "output_type": "display_data"
    }
   ],
   "source": [
    "#Example Scaling Matrix\n",
    "\n",
    "#Define Matrix\n",
    "scale = 0.5  #The amount that coordinates are scaled.\n",
    "S = np.matrix([[scale,0,0], [0,scale,0], [0,0,1]])\n",
    "\n",
    "#Apply matrix\n",
    "\n",
    "mp = p.copy()\n",
    "mp = S*mp\n",
    "\n",
    "#Plot points after transform\n",
    "plt.plot(mp[0,:].tolist()[0],mp[1,:].tolist()[0], color='green')\n",
    "plt.axis('scaled')\n",
    "plt.axis([-10,20,-15,15])\n",
    "plt.title('After Scaling')\n",
    "\n",
    "#Uncomment the next line if you want to see the original.\n",
    "plt.plot(p[0,:].tolist()[0],p[1,:].tolist()[0], color='blue',alpha=0.3);\n",
    "\n",
    "sym.Matrix(S)"
   ]
  },
  {
   "cell_type": "markdown",
   "metadata": {},
   "source": [
    "### Example Translation Matrix"
   ]
  },
  {
   "cell_type": "code",
   "execution_count": 4,
   "metadata": {},
   "outputs": [
    {
     "data": {
      "image/png": "[encoded data removed]",
      "text/latex": [
       "$\\displaystyle \\left[\\begin{matrix}1 & 0 & 1\\\\0 & 1 & 1\\\\0 & 0 & 1\\end{matrix}\\right]$"
      ],
      "text/plain": [
       "⎡1  0  1⎤\n",
       "⎢       ⎥\n",
       "⎢0  1  1⎥\n",
       "⎢       ⎥\n",
       "⎣0  0  1⎦"
      ]
     },
     "execution_count": 4,
     "metadata": {
      "filenames": {
       "image/png": "/Users/mattmills/Dropbox/MTH314S/mth314S/bookfiles/_build/jupyter_execute/104--Affine_Transformations_Robotics_pre-class-assignment_28_0.png"
      }
     },
     "output_type": "execute_result"
    },
    {
     "data": {
      "image/png": "[encoded data removed]",
      "text/plain": [
       "<Figure size 432x288 with 1 Axes>"
      ]
     },
     "metadata": {
      "filenames": {
       "image/png": "/Users/mattmills/Dropbox/MTH314S/mth314S/bookfiles/_build/jupyter_execute/104--Affine_Transformations_Robotics_pre-class-assignment_28_1.png"
      },
      "needs_background": "light"
     },
     "output_type": "display_data"
    }
   ],
   "source": [
    "#Example Translation Matrix\n",
    "\n",
    "#Define Matrix\n",
    "dx = 1  #The amount shifted in the x-direction\n",
    "dy = 1  #The amount shifted in the y-direction\n",
    "T = np.matrix([[1,0,dx], [0,1,dy], [0,0,1]])\n",
    "\n",
    "#Apply matrix\n",
    "\n",
    "mp = p.copy()\n",
    "\n",
    "mp = T*mp\n",
    "\n",
    "#Plot points after transform\n",
    "plt.plot(mp[0,:].tolist()[0],mp[1,:].tolist()[0], color='green')\n",
    "plt.axis('scaled')\n",
    "plt.axis([-10,20,-15,15])\n",
    "plt.title('After Translation')\n",
    "\n",
    "#Uncomment the next line if you want to see the original.\n",
    "# plt.plot(p[0,:].tolist()[0],p[1,:].tolist()[0], color='blue',alpha=0.3);\n",
    "\n",
    "sym.Matrix(T)"
   ]
  },
  {
   "cell_type": "markdown",
   "metadata": {},
   "source": [
    "### Example Reflection Matrix"
   ]
  },
  {
   "cell_type": "code",
   "execution_count": 5,
   "metadata": {},
   "outputs": [
    {
     "data": {
      "image/png": "[encoded data removed]",
      "text/latex": [
       "$\\displaystyle \\left[\\begin{matrix}1 & 0 & 0\\\\0 & -1 & 0\\\\0 & 0 & 1\\end{matrix}\\right]$"
      ],
      "text/plain": [
       "⎡1  0   0⎤\n",
       "⎢        ⎥\n",
       "⎢0  -1  0⎥\n",
       "⎢        ⎥\n",
       "⎣0  0   1⎦"
      ]
     },
     "execution_count": 5,
     "metadata": {
      "filenames": {
       "image/png": "/Users/mattmills/Dropbox/MTH314S/mth314S/bookfiles/_build/jupyter_execute/104--Affine_Transformations_Robotics_pre-class-assignment_30_0.png"
      }
     },
     "output_type": "execute_result"
    },
    {
     "data": {
      "image/png": "[encoded data removed]",
      "text/plain": [
       "<Figure size 432x288 with 1 Axes>"
      ]
     },
     "metadata": {
      "filenames": {
       "image/png": "/Users/mattmills/Dropbox/MTH314S/mth314S/bookfiles/_build/jupyter_execute/104--Affine_Transformations_Robotics_pre-class-assignment_30_1.png"
      },
      "needs_background": "light"
     },
     "output_type": "display_data"
    }
   ],
   "source": [
    "#Example Reflection Matrix\n",
    "\n",
    "#Define Matrix\n",
    "Re = np.matrix([[1,0,0],[0,-1,0],[0,0,1]]) ## Makes all y-values opposite so it reflects over the x-axis.\n",
    "\n",
    "#Apply matrix\n",
    "\n",
    "mp = p.copy()\n",
    "\n",
    "mp = Re*mp\n",
    "\n",
    "#Plot points after transform\n",
    "plt.plot(mp[0,:].tolist()[0],mp[1,:].tolist()[0], color='green')\n",
    "plt.axis('scaled')\n",
    "plt.axis([-10,20,-15,15])\n",
    "\n",
    "#Uncomment the next line if you want to see the original.\n",
    "# plt.plot(p[0,:].tolist()[0],p[1,:].tolist()[0], color='blue',alpha=0.3);\n",
    "\n",
    "sym.Matrix(Re)"
   ]
  },
  {
   "cell_type": "markdown",
   "metadata": {},
   "source": [
    "### Example Rotation Matrix"
   ]
  },
  {
   "cell_type": "code",
   "execution_count": 6,
   "metadata": {},
   "outputs": [
    {
     "data": {
      "image/png": "[encoded data removed]",
      "text/latex": [
       "$\\displaystyle \\left[\\begin{matrix}0.866025403784439 & -0.5 & 0.0\\\\0.5 & 0.866025403784439 & 0.0\\\\0.0 & 0.0 & 1.0\\end{matrix}\\right]$"
      ],
      "text/plain": [
       "⎡0.866025403784439        -0.5         0.0⎤\n",
       "⎢                                         ⎥\n",
       "⎢       0.5         0.866025403784439  0.0⎥\n",
       "⎢                                         ⎥\n",
       "⎣       0.0                0.0         1.0⎦"
      ]
     },
     "execution_count": 6,
     "metadata": {
      "filenames": {
       "image/png": "/Users/mattmills/Dropbox/MTH314S/mth314S/bookfiles/_build/jupyter_execute/104--Affine_Transformations_Robotics_pre-class-assignment_32_0.png"
      }
     },
     "output_type": "execute_result"
    },
    {
     "data": {
      "image/png": "[encoded data removed]",
      "text/plain": [
       "<Figure size 432x288 with 1 Axes>"
      ]
     },
     "metadata": {
      "filenames": {
       "image/png": "/Users/mattmills/Dropbox/MTH314S/mth314S/bookfiles/_build/jupyter_execute/104--Affine_Transformations_Robotics_pre-class-assignment_32_1.png"
      },
      "needs_background": "light"
     },
     "output_type": "display_data"
    }
   ],
   "source": [
    "#Example Rotation Matrix\n",
    "\n",
    "#Define Matrix\n",
    "degrees = 30\n",
    "theta = degrees * np.pi / 180  ##Make sure to always convert from degrees to radians. \n",
    "\n",
    "# Rotates the points 30 degrees counterclockwise.\n",
    "R = np.matrix([[np.cos(theta),-np.sin(theta),0],[np.sin(theta), np.cos(theta),0],[0,0,1]]) \n",
    "\n",
    "#Apply matrix\n",
    "mp = p.copy()\n",
    "\n",
    "mp = R*mp\n",
    "\n",
    "#Plot points after transform\n",
    "plt.plot(mp[0,:].tolist()[0],mp[1,:].tolist()[0], color='green')\n",
    "plt.axis('scaled')\n",
    "plt.axis([-10,20,-15,15])\n",
    "\n",
    "#Uncomment the next line if you want to see the original.\n",
    "# plt.plot(p[0,:].tolist()[0],p[1,:].tolist()[0], color='blue',alpha=0.3);\n",
    "\n",
    "sym.Matrix(R)"
   ]
  },
  {
   "cell_type": "markdown",
   "metadata": {},
   "source": [
    "### Example Shear Matrix"
   ]
  },
  {
   "cell_type": "code",
   "execution_count": 7,
   "metadata": {},
   "outputs": [
    {
     "data": {
      "image/png": "[encoded data removed]",
      "text/latex": [
       "$\\displaystyle \\left[\\begin{matrix}1.0 & 0.1 & 0.0\\\\-0.5 & 1.0 & 0.0\\\\0.0 & 0.0 & 1.0\\end{matrix}\\right]$"
      ],
      "text/plain": [
       "⎡1.0   0.1  0.0⎤\n",
       "⎢              ⎥\n",
       "⎢-0.5  1.0  0.0⎥\n",
       "⎢              ⎥\n",
       "⎣0.0   0.0  1.0⎦"
      ]
     },
     "execution_count": 7,
     "metadata": {
      "filenames": {
       "image/png": "/Users/mattmills/Dropbox/MTH314S/mth314S/bookfiles/_build/jupyter_execute/104--Affine_Transformations_Robotics_pre-class-assignment_34_0.png"
      }
     },
     "output_type": "execute_result"
    },
    {
     "data": {
      "image/png": "[encoded data removed]",
      "text/plain": [
       "<Figure size 432x288 with 1 Axes>"
      ]
     },
     "metadata": {
      "filenames": {
       "image/png": "/Users/mattmills/Dropbox/MTH314S/mth314S/bookfiles/_build/jupyter_execute/104--Affine_Transformations_Robotics_pre-class-assignment_34_1.png"
      },
      "needs_background": "light"
     },
     "output_type": "display_data"
    }
   ],
   "source": [
    "#Example Shear Matrix\n",
    "\n",
    "#Define Matrix\n",
    "shx = 0.1\n",
    "shy = -0.5\n",
    "SH = np.matrix([[1,shx,0], [shy,1,0], [0,0,1]])\n",
    "\n",
    "#Apply matrix\n",
    "\n",
    "mp = p.copy()\n",
    "\n",
    "mp = SH*mp\n",
    "\n",
    "#Plot points after transform\n",
    "plt.plot(mp[0,:].tolist()[0],mp[1,:].tolist()[0], color='green')\n",
    "plt.axis('scaled')\n",
    "plt.axis([-10,20,-15,15])\n",
    "\n",
    "sym.Matrix(SH)"
   ]
  },
  {
   "cell_type": "markdown",
   "metadata": {},
   "source": [
    "&#9989; **<font color=red>Question:</font>**  Why are we using $3 \\times 3$ matrices to change points in 2D-space? \n",
    "\n",
    "**Hint.** Go back and look at the third column of the transformation matrices."
   ]
  },
  {
   "cell_type": "code",
   "execution_count": 8,
   "metadata": {},
   "outputs": [],
   "source": [
    "#Put your code here"
   ]
  },
  {
   "cell_type": "markdown",
   "metadata": {},
   "source": [
    "## Robotics and Reference Frames\n",
    "\n",
    "<img alt=\"Image of a 6-axis FANUC robot used in industry\" src=\"http://www.fanuc.com/product/image/m2000ia.jpg\" width=\"15%\">\n",
    "\n",
    "Image from: [www.fanuc.com](http://www.fanuc.com/)\n",
    "\n",
    "In the robotics sections we are essentially using compositions of affine transformations to move the \"origin\" of a coordinate system to describe the position of the tip of the robot arm in relation to the base of the macine."
   ]
  },
  {
   "cell_type": "markdown",
   "metadata": {},
   "source": [
    "----\n",
    "\n",
    "<a name=\"2D_Forward_Kinematics\"></a>\n",
    "### 3. 2D Forward Kinematics\n",
    "<img src=\"https://lh5.googleusercontent.com/S70gMT_jN3x0hSoCAapLydJNeYZYmcetjf09XiF0YsO2QbBZHiIq9VpY4Mc6ocuBphgJeUxDC5JZ10UkpQDhe2XW6NJQPDzVp3ool_fiHXHU-MRMChMcY93vZXoE=w263\" width=\"25%\">\n",
    "\n",
    "This robot can move in the $x-y$ plane.  We can represent the configuration of the robot in its \"*Joint Space*\" by knowing the two joint angles or $[a_1,a_2]$.  However what we would like is to represent the location of the end of the robot (often called the \"end effector\" or \"hand\") in \"world\" coordinates (i.e. $x-y$ coordinate system). \n",
    "\n",
    "Today, we will use Linear Algebra and simple transformation matrices to try and calculate how to go from \"joint\" coordinates to \"world\" coordinates.  "
   ]
  },
  {
   "cell_type": "code",
   "execution_count": 9,
   "metadata": {},
   "outputs": [
    {
     "data": {
      "image/jpeg": "[encoded data removed]",
      "text/html": [
       "\n",
       "<iframe\n",
       "    width=\"640\"\n",
       "    height=\"360\"\n",
       "    src=\"https://www.youtube.com/embed/aCohcLYrYcY?cc_load_policy=True\"\n",
       "    frameborder=\"0\"\n",
       "    allowfullscreen\n",
       "></iframe>\n"
      ],
      "text/plain": [
       "<IPython.lib.display.YouTubeVideo at 0x7fc7f171c8d0>"
      ]
     },
     "execution_count": 9,
     "metadata": {
      "filenames": {
       "image/jpeg": "/Users/mattmills/Dropbox/MTH314S/mth314S/bookfiles/_build/jupyter_execute/104--Affine_Transformations_Robotics_pre-class-assignment_39_0.jpg"
      }
     },
     "output_type": "execute_result"
    }
   ],
   "source": [
    "from IPython.display import YouTubeVideo\n",
    "YouTubeVideo(\"aCohcLYrYcY\",width=640,height=360, cc_load_policy=True)"
   ]
  },
  {
   "cell_type": "markdown",
   "metadata": {},
   "source": [
    "### Single axis Robot\n",
    "\n",
    "The following code draws a simple single axis (single joint) robot with its joint centered at the origin and its initial angle of zero with an robot arm length of 4 \"units\" long."
   ]
  },
  {
   "cell_type": "code",
   "execution_count": 10,
   "metadata": {},
   "outputs": [],
   "source": [
    "%matplotlib inline\n",
    "import matplotlib.pylab as plt\n",
    "import numpy as np\n",
    "from ipywidgets import interact\n",
    "import sympy as sym\n",
    "sym.init_printing(True)"
   ]
  },
  {
   "cell_type": "code",
   "execution_count": 11,
   "metadata": {},
   "outputs": [
    {
     "data": {
      "image/png": "[encoded data removed]",
      "text/latex": [
       "$\\displaystyle \\left( -5.5, \\  5.5\\right)$"
      ],
      "text/plain": [
       "(-5.5, 5.5)"
      ]
     },
     "execution_count": 11,
     "metadata": {
      "filenames": {
       "image/png": "/Users/mattmills/Dropbox/MTH314S/mth314S/bookfiles/_build/jupyter_execute/104--Affine_Transformations_Robotics_pre-class-assignment_42_0.png"
      }
     },
     "output_type": "execute_result"
    },
    {
     "data": {
      "image/png": "[encoded data removed]",
      "text/plain": [
       "<Figure size 432x288 with 1 Axes>"
      ]
     },
     "metadata": {
      "filenames": {
       "image/png": "/Users/mattmills/Dropbox/MTH314S/mth314S/bookfiles/_build/jupyter_execute/104--Affine_Transformations_Robotics_pre-class-assignment_42_1.png"
      },
      "needs_background": "light"
     },
     "output_type": "display_data"
    }
   ],
   "source": [
    "plt.scatter(4,0, s=200, facecolors='none', edgecolors='r') #plot end effector\n",
    "plt.scatter(0,0, s=200, facecolors='r', edgecolors='r') # plot origin\n",
    "plt.plot([0,4],[0,0]) #plot blue line for arm\n",
    "plt.axis('square')\n",
    "plt.xlim([-5.5,5.5])\n",
    "plt.ylim([-5.5,5.5])\n",
    "    "
   ]
  },
  {
   "cell_type": "markdown",
   "metadata": {},
   "source": [
    "A 2D rotation matrix around the origin is defined as the following:\n",
    "\n",
    "$$ \n",
    "\\left[ \\begin{matrix}\n",
    "    x_{end} \\\\\n",
    "    y_{end} \n",
    " \\end{matrix}\n",
    "\\right] \n",
    "=\n",
    "\\left[ \\begin{matrix}\n",
    "    \\cos(a) & -\\sin(a) \\\\\n",
    "    \\sin(a) & \\cos(qa \n",
    " \\end{matrix}\n",
    "\\right] \n",
    "\\left[ \\begin{matrix}\n",
    "    x_{start} \\\\\n",
    "    y_{start} \n",
    " \\end{matrix}\n",
    "\\right] \n",
    "$$ \n",
    "\n",
    "The following rotation matrix will rotate the point $45^o$ around the origin:"
   ]
  },
  {
   "cell_type": "code",
   "execution_count": 12,
   "metadata": {},
   "outputs": [
    {
     "data": {
      "image/png": "[encoded data removed]",
      "text/latex": [
       "$\\displaystyle \\left[\\begin{matrix}0.707106781186548 & -0.707106781186547\\\\0.707106781186547 & 0.707106781186548\\end{matrix}\\right]$"
      ],
      "text/plain": [
       "⎡0.707106781186548  -0.707106781186547⎤\n",
       "⎢                                     ⎥\n",
       "⎣0.707106781186547  0.707106781186548 ⎦"
      ]
     },
     "execution_count": 12,
     "metadata": {
      "filenames": {
       "image/png": "/Users/mattmills/Dropbox/MTH314S/mth314S/bookfiles/_build/jupyter_execute/104--Affine_Transformations_Robotics_pre-class-assignment_44_0.png"
      }
     },
     "output_type": "execute_result"
    },
    {
     "data": {
      "image/png": "[encoded data removed]",
      "text/plain": [
       "<Figure size 432x288 with 1 Axes>"
      ]
     },
     "metadata": {
      "filenames": {
       "image/png": "/Users/mattmills/Dropbox/MTH314S/mth314S/bookfiles/_build/jupyter_execute/104--Affine_Transformations_Robotics_pre-class-assignment_44_1.png"
      },
      "needs_background": "light"
     },
     "output_type": "display_data"
    }
   ],
   "source": [
    "p = [[4],[0]]\n",
    "\n",
    "a1=np.pi/4\n",
    "\n",
    "R = np.matrix([[np.cos(a1), -np.sin(a1)], [np.sin(a1), np.cos(a1)]])\n",
    "\n",
    "p2 = R*p\n",
    "\n",
    "x1 = p2[0,0]\n",
    "y1 = p2[1,0]\n",
    "\n",
    "plt.scatter(x1,y1, s=200, facecolors='none', edgecolors='r') #plot end effector\n",
    "plt.scatter(0,0, s=200, facecolors='r', edgecolors='r') # plot origin\n",
    "plt.plot([0,x1],[0,y1]) #plot blue line for arm\n",
    "plt.axis('square')\n",
    "plt.xlim([-5.5,5.5])\n",
    "plt.ylim([-5.5,5.5])\n",
    "sym.Matrix(R)"
   ]
  },
  {
   "cell_type": "markdown",
   "metadata": {},
   "source": [
    "The following code uses the Jupyter ```interact``` function and ```numpy``` to make an interactive view of the above.  This lets us change the value of the rotation motor and see how it changes the robot. The input to the function is the axis angle and the output is the $x-y$ coordinates.\n",
    "\n",
    "**Note:** it can take some time for the interaction to catch up.  Try moving the slider slowly..."
   ]
  },
  {
   "cell_type": "code",
   "execution_count": 13,
   "metadata": {},
   "outputs": [
    {
     "data": {
      "application/vnd.jupyter.widget-view+json": {
       "model_id": "5c61c13d0a7d4513b3e137973c615a13",
       "version_major": 2,
       "version_minor": 0
      },
      "text/plain": [
       "interactive(children=(IntSlider(value=0, description='q1', max=180, min=-180, step=2), Output()), _dom_classes…"
      ]
     },
     "metadata": {},
     "output_type": "display_data"
    }
   ],
   "source": [
    "def Robot_Simulator(q1=0):\n",
    "    a1 = q1/180  * np.pi\n",
    "    p0 = np.matrix([4,0]).T\n",
    "    p = p0\n",
    "    J1 = np.matrix([[np.cos(a1), -np.sin(a1)], [np.sin(a1), np.cos(a1)]]) \n",
    "    p = np.concatenate( ( J1*p, np.matrix([0,0]).T), axis=1 )\n",
    "    \n",
    "    plt.scatter(p[0,:].tolist()[0],p[1,:].tolist()[0], s=200, facecolors='none', edgecolors='r')\n",
    "    plt.scatter(0,0, s=200, facecolors='r', edgecolors='r')\n",
    "    plt.plot(p[0,:].tolist()[0],p[1,:].tolist()[0])\n",
    "    plt.axis('square')\n",
    "    plt.xlim([-5.5,5.5])\n",
    "    plt.ylim([-5.5,5.5])\n",
    "    ax = plt.gca()\n",
    "    plt.show()\n",
    "    return([ p[0,0], p[1,0] ])\n",
    "    \n",
    "p = interact(Robot_Simulator, q1=(-180,180,2));"
   ]
  },
  {
   "cell_type": "markdown",
   "metadata": {},
   "source": [
    "&#9989; **<font color=red>DO THIS:</font>**  Inspect the above code. \n",
    "\n",
    "&#9989; **<font color=red>QUESTION:</font>** Which line of the code defines the transformation matrix for the robot joint?  \n",
    "\n",
    "**Hint.** If you click on a cell and press ``esc + L`` you can toggle the line numbers. "
   ]
  },
  {
   "cell_type": "markdown",
   "metadata": {},
   "source": []
  },
  {
   "cell_type": "markdown",
   "metadata": {},
   "source": [
    "&#9989; **<font color=red>QUESTION:</font>** Which line of code defines the length of the robot arm? \n",
    "\n",
    "(Note you can turn line numbers on and off in jupyterhub.  Use the menu at the top to figure out how.)"
   ]
  },
  {
   "cell_type": "markdown",
   "metadata": {},
   "source": [
    "### Multi axis robot\n",
    "\n",
    "Now, let's consider the robot from the video:\n",
    "\n",
    "<img src=\"https://lh3.googleusercontent.com/zCoCDGfsr8z3vqaGEfRYLH_YcDOrb2GRXOjkSEH0ASjxVH2FrRiXpa8c7NaQw0FYjXyX1rQXbpRmxXk7pg5KEnAE8lWb2m3Sorp5Kj7OIduFiMnMuI3oV2Vy0Mn0=w720\" width=\"75%\">"
   ]
  },
  {
   "cell_type": "markdown",
   "metadata": {},
   "source": [
    "Notice it has two joints $a_1$ and $a_2$ and offset lengths of $d_1$, $d_2$ and $d_e$. The joint space for this robot is just its angles $[a_1, a_2]$. However, what we want is to know the location of end effector point $p_e$ at the gripper in the \"world\" reference frame, which the bottom most axies \"on the ground\".  \n",
    "\n",
    "At each joint, we can define a reference frame that rotates and then transforms the origin to the ealier joint. The forward transformation matrices capture the relationship between the reference frames of different links of the robot. \n",
    "\n",
    "For example, We can move from the base motor, or $p_1$, reference frame to the world, or $p_w$, reference frame using the following equations:\n",
    "\n",
    "$$ \n",
    "p_w\n",
    "=\n",
    "\\left[ \\begin{matrix}\n",
    "    \\cos(a_1) & -\\sin(a_1) \\\\\n",
    "    \\sin(a_1) & \\cos(a_1) \n",
    " \\end{matrix}\n",
    "\\right] \n",
    "p_1\n",
    "+ \n",
    "\\left[ \\begin{matrix}\n",
    "    0 \\\\\n",
    "    d_1 \n",
    " \\end{matrix}\n",
    "\\right].\n",
    "$$ \n"
   ]
  },
  {
   "cell_type": "markdown",
   "metadata": {},
   "source": [
    "The equation shown  above are a little tricky to work with because the$ \\left[ \\begin{matrix}\n",
    "    0 \\\\\n",
    "    d_1 \n",
    " \\end{matrix}\n",
    "\\right] $ part makes the equation non-linear \n",
    "(if you don't believe me? \n",
    "Remember the rules for making a function linear and apply them and see for yourself). \n",
    "However, there is an easy trick in Linear Algebra to convert the above to one big linear matrix. \n",
    "This trick  requires us to keep an extra 1 (one) for each point but makes the math work out nicely. \n",
    "Basically the trick works as follows:\n",
    "\n",
    "$$ \n",
    "\\left[ \\begin{matrix}\n",
    "    x_w \\\\\n",
    "    y_w \\\\\n",
    "    1 \n",
    " \\end{matrix}\n",
    "\\right] \n",
    "=\n",
    "\\left[ \\begin{matrix}\n",
    "    cos(a_1) & -sin(a_1) & 0 \\\\\n",
    "    sin(a_1) & cos(a_1) & d_1 \\\\\n",
    "    0 & 0 & 1\n",
    " \\end{matrix}\n",
    "\\right] \n",
    "\\left[ \\begin{matrix}\n",
    "    x_1 \\\\\n",
    "    y_1 \\\\\n",
    "    1 \n",
    " \\end{matrix}\n",
    "\\right] \n",
    "$$ \n",
    "\n",
    "Let's call the transformation matrix for Joint 1, $J_1$, and we can rewrite the equations as follows:\n",
    "\n",
    "$$p_1 = J_1p_2$$"
   ]
  },
  {
   "cell_type": "markdown",
   "metadata": {},
   "source": [
    "&#9989; **<font color=red>DO THIS</font>** On your own, write out the above matrix multiplication and convince yourself that it is the same as the one above. "
   ]
  },
  {
   "cell_type": "markdown",
   "metadata": {},
   "source": [
    "Now, we can move from the $p_2$ reference frame to the $p_1$  reference frame basically the same equation:\n",
    "\n",
    "$$ \n",
    "\\left[ \\begin{matrix}\n",
    "    x_1 \\\\\n",
    "    y_1 \\\\\n",
    "    1 \n",
    " \\end{matrix}\n",
    "\\right] \n",
    "=\n",
    "\\left[ \\begin{matrix}\n",
    "    cos(a_2) & -sin(a_2) & d_2 \\\\\n",
    "    sin(a_2) & cos(a_2) & 0 \\\\\n",
    "    0 & 0 & 1\n",
    " \\end{matrix}\n",
    "\\right] \n",
    "\\left[ \\begin{matrix}\n",
    "    x_2 \\\\\n",
    "    y_2 \\\\\n",
    "    1 \n",
    " \\end{matrix}\n",
    "\\right] \n",
    "$$ \n"
   ]
  },
  {
   "cell_type": "markdown",
   "metadata": {},
   "source": [
    "For the last step we can do a simple linear transpose from the end effector $p_e$ reference frame to the $p_2$ reference frame:\n",
    "\n",
    "$$ \n",
    "\\left[ \\begin{matrix}\n",
    "    x_2 \\\\\n",
    "    y_2 \\\\\n",
    "    1 \n",
    " \\end{matrix}\n",
    "\\right] \n",
    "=\n",
    "\\left[ \\begin{matrix}\n",
    "    1 & 0 & d_2 \\\\\n",
    "    0 & 1 & 0 \\\\\n",
    "    0 & 0 & 1\n",
    " \\end{matrix}\n",
    "\\right] \n",
    "\\left[ \\begin{matrix}\n",
    "    x_e \\\\\n",
    "    y_e \\\\\n",
    "    1 \n",
    " \\end{matrix}\n",
    "\\right] \n",
    "$$ "
   ]
  },
  {
   "cell_type": "markdown",
   "metadata": {},
   "source": [
    "If we call each transformation matrix $J_1, J_2, J_e$ then hopefully you can see that we can string these transformation matrices together such that we get a single transform from the end effector all the way back to the world coordinates as follows:\n",
    "\n",
    "$$p_w = J_1J_2J_ep_e$$\n",
    "\n",
    "\n",
    "\n",
    "Let's see what this looks like in Python.  I am going to use ```numpy```. The plotting gets a little awkward but hopefully it makes sense.\n",
    "\n",
    "First, lets initialize the variables to some discreet numbers:\n"
   ]
  },
  {
   "cell_type": "code",
   "execution_count": 14,
   "metadata": {},
   "outputs": [],
   "source": [
    "%matplotlib inline\n",
    "import matplotlib.pylab as plt\n",
    "import numpy as np\n",
    "from ipywidgets import interact\n",
    "\n",
    "#Initial state\n",
    "a1 = 0\n",
    "a2 = 0\n",
    "\n",
    "#Lenths of the offsets\n",
    "d1 = 0.5\n",
    "d2 = 3\n",
    "de = 3"
   ]
  },
  {
   "cell_type": "markdown",
   "metadata": {},
   "source": [
    "Next, I am going to define a set of points in the end effector coordinate system.  These points are picked to form a sort of \"C\" shaped designed to look sort of like an end effector.  I will plot them to help show you what I mean:"
   ]
  },
  {
   "cell_type": "code",
   "execution_count": 15,
   "metadata": {},
   "outputs": [
    {
     "data": {
      "image/png": "[encoded data removed]",
      "text/latex": [
       "$\\displaystyle \\left( -5.5, \\  5.5\\right)$"
      ],
      "text/plain": [
       "(-5.5, 5.5)"
      ]
     },
     "execution_count": 15,
     "metadata": {
      "filenames": {
       "image/png": "/Users/mattmills/Dropbox/MTH314S/mth314S/bookfiles/_build/jupyter_execute/104--Affine_Transformations_Robotics_pre-class-assignment_59_0.png"
      }
     },
     "output_type": "execute_result"
    },
    {
     "data": {
      "image/png": "[encoded data removed]",
      "text/plain": [
       "<Figure size 432x288 with 1 Axes>"
      ]
     },
     "metadata": {
      "filenames": {
       "image/png": "/Users/mattmills/Dropbox/MTH314S/mth314S/bookfiles/_build/jupyter_execute/104--Affine_Transformations_Robotics_pre-class-assignment_59_1.png"
      },
      "needs_background": "light"
     },
     "output_type": "display_data"
    }
   ],
   "source": [
    "#Points needed to define a square\n",
    "pe = np.matrix([[1, 0.5, 1],[0,0.5,1],[0,-0.5, 1],[1,-0.5, 1],[0,-0.5, 1],[0,0, 1]]).T\n",
    "p = pe\n",
    "\n",
    "plt.scatter(p[0,:].tolist()[0],p[1,:].tolist()[0], s=20, facecolors='none', edgecolors='r')\n",
    "plt.scatter(0,0, s=20, facecolors='r', edgecolors='r')\n",
    "plt.plot(p[0,:].tolist()[0],p[1,:].tolist()[0])\n",
    "plt.axis('scaled')\n",
    "plt.xlim([-5.5,5.5])\n",
    "plt.ylim([-5.5,5.5])"
   ]
  },
  {
   "cell_type": "markdown",
   "metadata": {},
   "source": [
    "The next step is to apply the $J_e$ transformation matrix to the gripper points which will put them in the $p_2$ coordinate system.  Once the points are transposed the code concatenates the origin (0,0) onto the list of points so we can part of the robot arm in the plot:"
   ]
  },
  {
   "cell_type": "code",
   "execution_count": 16,
   "metadata": {},
   "outputs": [
    {
     "data": {
      "image/png": "[encoded data removed]",
      "text/latex": [
       "$\\displaystyle \\left( -5.5, \\  5.5\\right)$"
      ],
      "text/plain": [
       "(-5.5, 5.5)"
      ]
     },
     "execution_count": 16,
     "metadata": {
      "filenames": {
       "image/png": "/Users/mattmills/Dropbox/MTH314S/mth314S/bookfiles/_build/jupyter_execute/104--Affine_Transformations_Robotics_pre-class-assignment_61_0.png"
      }
     },
     "output_type": "execute_result"
    },
    {
     "data": {
      "image/png": "[encoded data removed]",
      "text/plain": [
       "<Figure size 432x288 with 1 Axes>"
      ]
     },
     "metadata": {
      "filenames": {
       "image/png": "/Users/mattmills/Dropbox/MTH314S/mth314S/bookfiles/_build/jupyter_execute/104--Affine_Transformations_Robotics_pre-class-assignment_61_1.png"
      },
      "needs_background": "light"
     },
     "output_type": "display_data"
    }
   ],
   "source": [
    "Je = np.matrix([[1, 0, de], \n",
    "                [0, 1, 0], \n",
    "                [0,0,1]]) \n",
    "\n",
    "p = np.concatenate( ( Je*p, np.matrix([0,0,1]).T), axis=1 )\n",
    "\n",
    "plt.scatter(p[0,:].tolist()[0],p[1,:].tolist()[0], s=20, facecolors='none', edgecolors='r')\n",
    "plt.scatter(0,0, s=20, facecolors='r', edgecolors='r')\n",
    "plt.plot(p[0,:].tolist()[0],p[1,:].tolist()[0])\n",
    "plt.axis('scaled')\n",
    "plt.xlim([-5.5,5.5])\n",
    "plt.ylim([-5.5,5.5])"
   ]
  },
  {
   "cell_type": "markdown",
   "metadata": {},
   "source": [
    "We do this again.  Apply the $J_2$ transformation matrix to put the points into the $p_1$ coordinate system,  concatenate the origin and plot the results. "
   ]
  },
  {
   "cell_type": "code",
   "execution_count": 17,
   "metadata": {},
   "outputs": [
    {
     "data": {
      "image/png": "[encoded data removed]",
      "text/latex": [
       "$\\displaystyle \\left( -5.5, \\  5.5\\right)$"
      ],
      "text/plain": [
       "(-5.5, 5.5)"
      ]
     },
     "execution_count": 17,
     "metadata": {
      "filenames": {
       "image/png": "/Users/mattmills/Dropbox/MTH314S/mth314S/bookfiles/_build/jupyter_execute/104--Affine_Transformations_Robotics_pre-class-assignment_63_0.png"
      }
     },
     "output_type": "execute_result"
    },
    {
     "data": {
      "image/png": "[encoded data removed]",
      "text/plain": [
       "<Figure size 432x288 with 1 Axes>"
      ]
     },
     "metadata": {
      "filenames": {
       "image/png": "/Users/mattmills/Dropbox/MTH314S/mth314S/bookfiles/_build/jupyter_execute/104--Affine_Transformations_Robotics_pre-class-assignment_63_1.png"
      },
      "needs_background": "light"
     },
     "output_type": "display_data"
    }
   ],
   "source": [
    "J2 = np.matrix([[np.cos(a2), -np.sin(a2), 0], \n",
    "                [np.sin(a2), np.cos(a2), d2], \n",
    "                [0,0,1]]) \n",
    "\n",
    "p = np.concatenate( ( J2*p, np.matrix([0,0,1]).T), axis=1 )\n",
    "\n",
    "plt.scatter(p[0,:].tolist()[0],p[1,:].tolist()[0], s=20, facecolors='none', edgecolors='r')\n",
    "plt.scatter(0,0, s=20, facecolors='r', edgecolors='r')\n",
    "plt.plot(p[0,:].tolist()[0],p[1,:].tolist()[0])\n",
    "plt.axis('scaled')\n",
    "plt.xlim([-5.5,5.5])\n",
    "plt.ylim([-5.5,5.5])"
   ]
  },
  {
   "cell_type": "markdown",
   "metadata": {},
   "source": [
    "We do it yet again.   Apply the $J_1$ transformation matrix which will put the points in the $p_w$ coordinate system,  concatenate the origin and plot the results. The result is a skeletal frame representing our robot. "
   ]
  },
  {
   "cell_type": "code",
   "execution_count": 18,
   "metadata": {},
   "outputs": [
    {
     "data": {
      "image/png": "[encoded data removed]",
      "text/latex": [
       "$\\displaystyle \\left( -8, \\  8\\right)$"
      ],
      "text/plain": [
       "(-8, 8)"
      ]
     },
     "execution_count": 18,
     "metadata": {
      "filenames": {
       "image/png": "/Users/mattmills/Dropbox/MTH314S/mth314S/bookfiles/_build/jupyter_execute/104--Affine_Transformations_Robotics_pre-class-assignment_65_0.png"
      }
     },
     "output_type": "execute_result"
    },
    {
     "data": {
      "image/png": "[encoded data removed]",
      "text/plain": [
       "<Figure size 432x288 with 1 Axes>"
      ]
     },
     "metadata": {
      "filenames": {
       "image/png": "/Users/mattmills/Dropbox/MTH314S/mth314S/bookfiles/_build/jupyter_execute/104--Affine_Transformations_Robotics_pre-class-assignment_65_1.png"
      },
      "needs_background": "light"
     },
     "output_type": "display_data"
    }
   ],
   "source": [
    "J1 = np.matrix([[np.cos(a1), -np.sin(a1), 0], \n",
    "                [np.sin(a1), np.cos(a1), d1], \n",
    "                [0,0,1]]) \n",
    "\n",
    "p = np.concatenate( ( J1*p, np.matrix([0,0,1]).T), axis=1 )\n",
    "\n",
    "plt.scatter(p[0,:].tolist()[0],p[1,:].tolist()[0], s=20, facecolors='none', edgecolors='r')\n",
    "plt.scatter(0,0, s=20, facecolors='r', edgecolors='r')\n",
    "plt.plot(p[0,:].tolist()[0],p[1,:].tolist()[0])\n",
    "plt.axis('scaled')\n",
    "plt.xlim([-8,8])\n",
    "plt.ylim([-8,8])"
   ]
  },
  {
   "cell_type": "markdown",
   "metadata": {},
   "source": [
    "&#9989; **<font color=red>DO THIS:</font>** Modify the rotation variables ```a1``` and ```a2``` in the above code and see if the new robot configuration looks right. **_HINT_** make sure your angles are in radians."
   ]
  },
  {
   "cell_type": "markdown",
   "metadata": {},
   "source": [
    "The following is the same code as above but put into an interactive function to make the code easier to play with:"
   ]
  },
  {
   "cell_type": "code",
   "execution_count": 19,
   "metadata": {},
   "outputs": [
    {
     "data": {
      "application/vnd.jupyter.widget-view+json": {
       "model_id": "347f540478a14832973e475fe34d5a84",
       "version_major": 2,
       "version_minor": 0
      },
      "text/plain": [
       "interactive(children=(IntSlider(value=0, description='q1', max=180, min=-180), IntSlider(value=0, description=…"
      ]
     },
     "metadata": {},
     "output_type": "display_data"
    }
   ],
   "source": [
    "from ipywidgets import interact, interact_manual\n",
    "\n",
    "def Robot_Simulator(q1=0,q2=-0):\n",
    "    a1 = q1/180  * np.pi\n",
    "    a2 = q2/180  * np.pi\n",
    "\n",
    "    d1 = 0.5\n",
    "    d2 = 3\n",
    "    de = 3\n",
    "    \n",
    "    target = np.matrix([-3,2, 1])\n",
    "    print(target)\n",
    "\n",
    "    pe = np.matrix([[1, 0.5, 1],[0,0.5,1],[0,-0.5, 1],[1,-0.5, 1],[0,-0.5, 1],[0,0, 1]]).T\n",
    "\n",
    "    Je = np.matrix([[1, 0, de], \n",
    "                    [0, 1, 0], \n",
    "                    [0,0,1]]) \n",
    "    p = np.concatenate( ( Je*pe, np.matrix([0,0,1]).T), axis=1 )    \n",
    "\n",
    "    J2 = np.matrix([[np.cos(a2), -np.sin(a2), 0], \n",
    "                    [np.sin(a2), np.cos(a2), d2], \n",
    "                    [0,0,1]]) \n",
    "    p = np.concatenate( ( J2*p, np.matrix([0,0,1]).T), axis=1 )\n",
    "\n",
    "    J1 = np.matrix([[np.cos(a1), -np.sin(a1), 0], \n",
    "                    [np.sin(a1), np.cos(a1), d1], \n",
    "                    [0,0,1]]) \n",
    "    p = np.concatenate( ( J1*p, np.matrix([0,0,1]).T), axis=1 )\n",
    "\n",
    "\n",
    "    plt.scatter(p[0,:].tolist()[0],p[1,:].tolist()[0], s=20, facecolors='none', edgecolors='r')\n",
    "    plt.scatter(0,0, s=20, facecolors='r', edgecolors='r')\n",
    "    plt.plot(p[0,:].tolist()[0],p[1,:].tolist()[0])\n",
    "    plt.plot(target[0,0], target[0,1],'*')\n",
    "    plt.axis('scaled')\n",
    "    plt.xlim([-8,8])\n",
    "    plt.ylim([-8,8])\n",
    "\n",
    "    plt.show()\n",
    "    \n",
    "target = interact(Robot_Simulator, q1=(-180,180), q2=(-180,180));"
   ]
  },
  {
   "cell_type": "markdown",
   "metadata": {},
   "source": [
    "**Note.** If the ``interact`` plot is really choppy on your machine this is because the function is coninuously updating as you move the sliders. Consider replacing the ``interact`` function with ``interact_manual`` to eliminate the continuous updates. You will have to change the import code in line 1. "
   ]
  },
  {
   "cell_type": "markdown",
   "metadata": {},
   "source": [
    "&#9989; **<font color=red>QUESTION:</font>** Move the above robot so that the end effector is \"gripping\" the target (yellow/orangeish star). \n",
    "Notice that there is more than one point in the \"joint space\" that gives the same answer. \n",
    "This is the reverse Kinematic problem (which is harder). \n",
    "We know the point we want but we need to find the joints that put the robot at that point. "
   ]
  },
  {
   "cell_type": "markdown",
   "metadata": {},
   "source": [
    "&#9989; **<font color=red>DO THIS:</font>** The code in the following cell is cut and pasted from above. Modify the code to add a third Joint to the robot."
   ]
  },
  {
   "cell_type": "code",
   "execution_count": 20,
   "metadata": {},
   "outputs": [
    {
     "data": {
      "application/vnd.jupyter.widget-view+json": {
       "model_id": "3285b9e93673472286b47d13698daaee",
       "version_major": 2,
       "version_minor": 0
      },
      "text/plain": [
       "interactive(children=(IntSlider(value=0, description='q1', max=180, min=-180), IntSlider(value=0, description=…"
      ]
     },
     "metadata": {},
     "output_type": "display_data"
    }
   ],
   "source": [
    "from ipywidgets import interact, interact_manual\n",
    "\n",
    "def Robot_Simulator(q1=0,q2=0):\n",
    "    a1 = q1/180  * np.pi\n",
    "    a2 = q2/180  * np.pi\n",
    "    #####Start your code here #####    \n",
    "\n",
    "    #####End of your code here#####     \n",
    "\n",
    "    d1 = 0.5\n",
    "    d2 = 3\n",
    "    de = 3\n",
    "    #####Start your code here #####    \n",
    "\n",
    "    #####End of your code here#####     \n",
    "    \n",
    "    \n",
    "    target = np.matrix([-3,2, 1])\n",
    "    print(target)\n",
    "\n",
    "    pe = np.matrix([[1, 0.5, 1],[0,0.5,1],[0,-0.5, 1],[1,-0.5, 1],[0,-0.5, 1],[0,0, 1]]).T\n",
    "\n",
    "    Je = np.matrix([[1, 0, de], \n",
    "                    [0, 1, 0], \n",
    "                    [0,0,1]]) \n",
    "    p = np.concatenate( ( Je*pe, np.matrix([0,0,1]).T), axis=1 )    \n",
    "\n",
    "    #####Start your code here #####    \n",
    "\n",
    "    #####End of your code here#####     \n",
    "    \n",
    "    J2 = np.matrix([[np.cos(a2), -np.sin(a2), 0], \n",
    "                    [np.sin(a2), np.cos(a2), d2], \n",
    "                    [0,0,1]]) \n",
    "    p = np.concatenate( ( J2*p, np.matrix([0,0,1]).T), axis=1 )\n",
    "\n",
    "    J1 = np.matrix([[np.cos(a1), -np.sin(a1), 0], \n",
    "                    [np.sin(a1), np.cos(a1), d1], \n",
    "                    [0,0,1]]) \n",
    "    \n",
    "    p = np.concatenate( ( J1*p, np.matrix([0,0,1]).T), axis=1 )\n",
    "\n",
    "\n",
    "    plt.scatter(p[0,:].tolist()[0],p[1,:].tolist()[0], s=20, facecolors='none', edgecolors='r')\n",
    "    plt.scatter(0,0, s=20, facecolors='r', edgecolors='r')\n",
    "    plt.plot(p[0,:].tolist()[0],p[1,:].tolist()[0])\n",
    "    plt.plot(target[0,0], target[0,1],'*')\n",
    "    plt.axis('scaled')\n",
    "    plt.xlim([-8,8])\n",
    "    plt.ylim([-8,8])\n",
    "\n",
    "    plt.show()\n",
    "    \n",
    "target = interact(Robot_Simulator, q1=(-180,180), q2=(-180,180));"
   ]
  },
  {
   "cell_type": "markdown",
   "metadata": {},
   "source": [
    "&#9989; **<font color=red>Assignment-Specific QUESTION:</font>** What three angles did you find that place the robot on the star. "
   ]
  },
  {
   "cell_type": "markdown",
   "metadata": {},
   "source": [
    "Enter answer here."
   ]
  },
  {
   "cell_type": "markdown",
   "metadata": {},
   "source": [
    "---\n",
    "<a name=\"T3\"></a>\n",
    "## 4. Assignment wrap up\n",
    "\n",
    "\n",
    "Please fill out the form that appears when you run the code below.  **You must completely fill this out in order to receive credit for the assignment!** If you cannont load the form below please try logging in to [spartan365.msu.edu](http://spartan365.msu.edu/) and try running it again, or simply use the direct link provided below. \n",
    "\n",
    "[Direct Link to Microsoft Form](https://forms.office.com/r/n0PEF9xt59)\n",
    "\n"
   ]
  },
  {
   "cell_type": "markdown",
   "metadata": {},
   "source": [
    "&#9989; **<font color=red>Assignment-Specific QUESTION:</font>** What three angles did you find that place the robot on the star. "
   ]
  },
  {
   "cell_type": "markdown",
   "metadata": {},
   "source": [
    "Enter answer here."
   ]
  },
  {
   "cell_type": "code",
   "execution_count": 21,
   "metadata": {},
   "outputs": [
    {
     "data": {
      "text/html": [
       "\n",
       "<iframe width=\"640px\" height= \"480px\" src= \"https://forms.office.com/Pages/ResponsePage.aspx?id=MHEXIi9k2UGSEXQjetVofSS1ePbivlBPgYEBiz_zsf1UOTk3QU5VVEo1SVpKWlpaWlU4WTlDUlQwWi4u&embed=true\" frameborder= \"0\" marginwidth= \"0\" marginheight= \"0\" style= \"border: none; max-width:100%; max-height:100vh\" allowfullscreen webkitallowfullscreen mozallowfullscreen msallowfullscreen> </iframe>\n"
      ],
      "text/plain": [
       "<IPython.core.display.HTML object>"
      ]
     },
     "execution_count": 21,
     "metadata": {},
     "output_type": "execute_result"
    }
   ],
   "source": [
    "from IPython.display import HTML\n",
    "HTML(\n",
    "\"\"\"\n",
    "<iframe width=\"640px\" height= \"480px\" src= \"https://forms.office.com/Pages/ResponsePage.aspx?id=MHEXIi9k2UGSEXQjetVofSS1ePbivlBPgYEBiz_zsf1UOTk3QU5VVEo1SVpKWlpaWlU4WTlDUlQwWi4u&embed=true\" frameborder= \"0\" marginwidth= \"0\" marginheight= \"0\" style= \"border: none; max-width:100%; max-height:100vh\" allowfullscreen webkitallowfullscreen mozallowfullscreen msallowfullscreen> </iframe>\n",
    "\"\"\"\n",
    ")"
   ]
  },
  {
   "cell_type": "markdown",
   "metadata": {},
   "source": [
    "---------\n",
    "### Congratulations, we're done!\n",
    "\n",
    "###EndPreClass###\n"
   ]
  },
  {
   "cell_type": "markdown",
   "metadata": {},
   "source": [
    "Written by Dr. Dirk Colbry, and Dr. Matthew Mills, Michigan State University\n",
    "<a rel=\"license\" href=\"http://creativecommons.org/licenses/by-nc/4.0/\"><img alt=\"Creative Commons License\" style=\"border-width:0\" src=\"https://i.creativecommons.org/l/by-nc/4.0/88x31.png\" /></a><br />This work is licensed under a <a rel=\"license\" href=\"http://creativecommons.org/licenses/by-nc/4.0/\">Creative Commons Attribution-NonCommercial 4.0 International License</a>."
   ]
  },
  {
   "cell_type": "markdown",
   "metadata": {},
   "source": [
    "----"
   ]
  },
  {
   "cell_type": "markdown",
   "metadata": {},
   "source": [
    "\n"
   ]
  }
 ],
 "metadata": {
  "kernelspec": {
   "display_name": "Python 3",
   "language": "python",
   "name": "python3"
  },
  "language_info": {
   "codemirror_mode": {
    "name": "ipython",
    "version": 3
   },
   "file_extension": ".py",
   "mimetype": "text/x-python",
   "name": "python",
   "nbconvert_exporter": "python",
   "pygments_lexer": "ipython3",
   "version": "3.7.6"
  },
  "widgets": {
   "application/vnd.jupyter.widget-state+json": {
    "state": {
     "054af43f0b3e430484d429396aa9357c": {
      "model_module": "@jupyter-widgets/base",
      "model_module_version": "1.2.0",
      "model_name": "LayoutModel",
      "state": {
       "_model_module": "@jupyter-widgets/base",
       "_model_module_version": "1.2.0",
       "_model_name": "LayoutModel",
       "_view_count": null,
       "_view_module": "@jupyter-widgets/base",
       "_view_module_version": "1.2.0",
       "_view_name": "LayoutView",
       "align_content": null,
       "align_items": null,
       "align_self": null,
       "border": null,
       "bottom": null,
       "display": null,
       "flex": null,
       "flex_flow": null,
       "grid_area": null,
       "grid_auto_columns": null,
       "grid_auto_flow": null,
       "grid_auto_rows": null,
       "grid_column": null,
       "grid_gap": null,
       "grid_row": null,
       "grid_template_areas": null,
       "grid_template_columns": null,
       "grid_template_rows": null,
       "height": null,
       "justify_content": null,
       "justify_items": null,
       "left": null,
       "margin": null,
       "max_height": null,
       "max_width": null,
       "min_height": null,
       "min_width": null,
       "object_fit": null,
       "object_position": null,
       "order": null,
       "overflow": null,
       "overflow_x": null,
       "overflow_y": null,
       "padding": null,
       "right": null,
       "top": null,
       "visibility": null,
       "width": null
      }
     },
     "0a6098d25fc647168f13ecf72a555951": {
      "model_module": "@jupyter-widgets/base",
      "model_module_version": "1.2.0",
      "model_name": "LayoutModel",
      "state": {
       "_model_module": "@jupyter-widgets/base",
       "_model_module_version": "1.2.0",
       "_model_name": "LayoutModel",
       "_view_count": null,
       "_view_module": "@jupyter-widgets/base",
       "_view_module_version": "1.2.0",
       "_view_name": "LayoutView",
       "align_content": null,
       "align_items": null,
       "align_self": null,
       "border": null,
       "bottom": null,
       "display": null,
       "flex": null,
       "flex_flow": null,
       "grid_area": null,
       "grid_auto_columns": null,
       "grid_auto_flow": null,
       "grid_auto_rows": null,
       "grid_column": null,
       "grid_gap": null,
       "grid_row": null,
       "grid_template_areas": null,
       "grid_template_columns": null,
       "grid_template_rows": null,
       "height": null,
       "justify_content": null,
       "justify_items": null,
       "left": null,
       "margin": null,
       "max_height": null,
       "max_width": null,
       "min_height": null,
       "min_width": null,
       "object_fit": null,
       "object_position": null,
       "order": null,
       "overflow": null,
       "overflow_x": null,
       "overflow_y": null,
       "padding": null,
       "right": null,
       "top": null,
       "visibility": null,
       "width": null
      }
     },
     "0c8d638cd67b40f0834e86e64dda2012": {
      "model_module": "@jupyter-widgets/controls",
      "model_module_version": "1.5.0",
      "model_name": "SliderStyleModel",
      "state": {
       "_model_module": "@jupyter-widgets/controls",
       "_model_module_version": "1.5.0",
       "_model_name": "SliderStyleModel",
       "_view_count": null,
       "_view_module": "@jupyter-widgets/base",
       "_view_module_version": "1.2.0",
       "_view_name": "StyleView",
       "description_width": "",
       "handle_color": null
      }
     },
     "109ef1d8790643a8b66516468392abc9": {
      "model_module": "@jupyter-widgets/controls",
      "model_module_version": "1.5.0",
      "model_name": "SliderStyleModel",
      "state": {
       "_model_module": "@jupyter-widgets/controls",
       "_model_module_version": "1.5.0",
       "_model_name": "SliderStyleModel",
       "_view_count": null,
       "_view_module": "@jupyter-widgets/base",
       "_view_module_version": "1.2.0",
       "_view_name": "StyleView",
       "description_width": "",
       "handle_color": null
      }
     },
     "1e658e94f30346929c78513a155791cc": {
      "model_module": "@jupyter-widgets/controls",
      "model_module_version": "1.5.0",
      "model_name": "IntSliderModel",
      "state": {
       "_dom_classes": [],
       "_model_module": "@jupyter-widgets/controls",
       "_model_module_version": "1.5.0",
       "_model_name": "IntSliderModel",
       "_view_count": null,
       "_view_module": "@jupyter-widgets/controls",
       "_view_module_version": "1.5.0",
       "_view_name": "IntSliderView",
       "continuous_update": true,
       "description": "q2",
       "description_tooltip": null,
       "disabled": false,
       "layout": "IPY_MODEL_8dd7dde10e314ed29ba6a3f4f4464bbb",
       "max": 180,
       "min": -180,
       "orientation": "horizontal",
       "readout": true,
       "readout_format": "d",
       "step": 1,
       "style": "IPY_MODEL_109ef1d8790643a8b66516468392abc9",
       "value": 0
      }
     },
     "30e6a8e926b9441aa1c6668774880db8": {
      "model_module": "@jupyter-widgets/controls",
      "model_module_version": "1.5.0",
      "model_name": "IntSliderModel",
      "state": {
       "_dom_classes": [],
       "_model_module": "@jupyter-widgets/controls",
       "_model_module_version": "1.5.0",
       "_model_name": "IntSliderModel",
       "_view_count": null,
       "_view_module": "@jupyter-widgets/controls",
       "_view_module_version": "1.5.0",
       "_view_name": "IntSliderView",
       "continuous_update": true,
       "description": "q2",
       "description_tooltip": null,
       "disabled": false,
       "layout": "IPY_MODEL_6a50d26e03a74449989c0baca6ed232e",
       "max": 180,
       "min": -180,
       "orientation": "horizontal",
       "readout": true,
       "readout_format": "d",
       "step": 1,
       "style": "IPY_MODEL_bf9abc64cb1d4059a2ad78fa34c18812",
       "value": 0
      }
     },
     "3285b9e93673472286b47d13698daaee": {
      "model_module": "@jupyter-widgets/controls",
      "model_module_version": "1.5.0",
      "model_name": "VBoxModel",
      "state": {
       "_dom_classes": [
        "widget-interact"
       ],
       "_model_module": "@jupyter-widgets/controls",
       "_model_module_version": "1.5.0",
       "_model_name": "VBoxModel",
       "_view_count": null,
       "_view_module": "@jupyter-widgets/controls",
       "_view_module_version": "1.5.0",
       "_view_name": "VBoxView",
       "box_style": "",
       "children": [
        "IPY_MODEL_331029f020ff4fe7a99a3b95295dbc8d",
        "IPY_MODEL_30e6a8e926b9441aa1c6668774880db8",
        "IPY_MODEL_e1fff5e0976e427d85a6533a5e1159bb"
       ],
       "layout": "IPY_MODEL_054af43f0b3e430484d429396aa9357c"
      }
     },
     "331029f020ff4fe7a99a3b95295dbc8d": {
      "model_module": "@jupyter-widgets/controls",
      "model_module_version": "1.5.0",
      "model_name": "IntSliderModel",
      "state": {
       "_dom_classes": [],
       "_model_module": "@jupyter-widgets/controls",
       "_model_module_version": "1.5.0",
       "_model_name": "IntSliderModel",
       "_view_count": null,
       "_view_module": "@jupyter-widgets/controls",
       "_view_module_version": "1.5.0",
       "_view_name": "IntSliderView",
       "continuous_update": true,
       "description": "q1",
       "description_tooltip": null,
       "disabled": false,
       "layout": "IPY_MODEL_f66072674a0145678f3e7ab97bd4ce77",
       "max": 180,
       "min": -180,
       "orientation": "horizontal",
       "readout": true,
       "readout_format": "d",
       "step": 1,
       "style": "IPY_MODEL_0c8d638cd67b40f0834e86e64dda2012",
       "value": 0
      }
     },
     "347f540478a14832973e475fe34d5a84": {
      "model_module": "@jupyter-widgets/controls",
      "model_module_version": "1.5.0",
      "model_name": "VBoxModel",
      "state": {
       "_dom_classes": [
        "widget-interact"
       ],
       "_model_module": "@jupyter-widgets/controls",
       "_model_module_version": "1.5.0",
       "_model_name": "VBoxModel",
       "_view_count": null,
       "_view_module": "@jupyter-widgets/controls",
       "_view_module_version": "1.5.0",
       "_view_name": "VBoxView",
       "box_style": "",
       "children": [
        "IPY_MODEL_9394c911f5e841959e1f2f3f87531efc",
        "IPY_MODEL_1e658e94f30346929c78513a155791cc",
        "IPY_MODEL_8865676149e045f5a5d3f7b67434419d"
       ],
       "layout": "IPY_MODEL_6dc480cb51d64152a83707f29ecf9ce5"
      }
     },
     "46ba35e2fdc542719684a0a895f05554": {
      "model_module": "@jupyter-widgets/base",
      "model_module_version": "1.2.0",
      "model_name": "LayoutModel",
      "state": {
       "_model_module": "@jupyter-widgets/base",
       "_model_module_version": "1.2.0",
       "_model_name": "LayoutModel",
       "_view_count": null,
       "_view_module": "@jupyter-widgets/base",
       "_view_module_version": "1.2.0",
       "_view_name": "LayoutView",
       "align_content": null,
       "align_items": null,
       "align_self": null,
       "border": null,
       "bottom": null,
       "display": null,
       "flex": null,
       "flex_flow": null,
       "grid_area": null,
       "grid_auto_columns": null,
       "grid_auto_flow": null,
       "grid_auto_rows": null,
       "grid_column": null,
       "grid_gap": null,
       "grid_row": null,
       "grid_template_areas": null,
       "grid_template_columns": null,
       "grid_template_rows": null,
       "height": null,
       "justify_content": null,
       "justify_items": null,
       "left": null,
       "margin": null,
       "max_height": null,
       "max_width": null,
       "min_height": null,
       "min_width": null,
       "object_fit": null,
       "object_position": null,
       "order": null,
       "overflow": null,
       "overflow_x": null,
       "overflow_y": null,
       "padding": null,
       "right": null,
       "top": null,
       "visibility": null,
       "width": null
      }
     },
     "5c61c13d0a7d4513b3e137973c615a13": {
      "model_module": "@jupyter-widgets/controls",
      "model_module_version": "1.5.0",
      "model_name": "VBoxModel",
      "state": {
       "_dom_classes": [
        "widget-interact"
       ],
       "_model_module": "@jupyter-widgets/controls",
       "_model_module_version": "1.5.0",
       "_model_name": "VBoxModel",
       "_view_count": null,
       "_view_module": "@jupyter-widgets/controls",
       "_view_module_version": "1.5.0",
       "_view_name": "VBoxView",
       "box_style": "",
       "children": [
        "IPY_MODEL_be2fb7337fc84a8e93902e25ff73b25e",
        "IPY_MODEL_f9e85c5e25f64372a9f557f560073a3a"
       ],
       "layout": "IPY_MODEL_0a6098d25fc647168f13ecf72a555951"
      }
     },
     "60a7175fc09f46c4857bbf18c8b40107": {
      "model_module": "@jupyter-widgets/controls",
      "model_module_version": "1.5.0",
      "model_name": "SliderStyleModel",
      "state": {
       "_model_module": "@jupyter-widgets/controls",
       "_model_module_version": "1.5.0",
       "_model_name": "SliderStyleModel",
       "_view_count": null,
       "_view_module": "@jupyter-widgets/base",
       "_view_module_version": "1.2.0",
       "_view_name": "StyleView",
       "description_width": "",
       "handle_color": null
      }
     },
     "6a50d26e03a74449989c0baca6ed232e": {
      "model_module": "@jupyter-widgets/base",
      "model_module_version": "1.2.0",
      "model_name": "LayoutModel",
      "state": {
       "_model_module": "@jupyter-widgets/base",
       "_model_module_version": "1.2.0",
       "_model_name": "LayoutModel",
       "_view_count": null,
       "_view_module": "@jupyter-widgets/base",
       "_view_module_version": "1.2.0",
       "_view_name": "LayoutView",
       "align_content": null,
       "align_items": null,
       "align_self": null,
       "border": null,
       "bottom": null,
       "display": null,
       "flex": null,
       "flex_flow": null,
       "grid_area": null,
       "grid_auto_columns": null,
       "grid_auto_flow": null,
       "grid_auto_rows": null,
       "grid_column": null,
       "grid_gap": null,
       "grid_row": null,
       "grid_template_areas": null,
       "grid_template_columns": null,
       "grid_template_rows": null,
       "height": null,
       "justify_content": null,
       "justify_items": null,
       "left": null,
       "margin": null,
       "max_height": null,
       "max_width": null,
       "min_height": null,
       "min_width": null,
       "object_fit": null,
       "object_position": null,
       "order": null,
       "overflow": null,
       "overflow_x": null,
       "overflow_y": null,
       "padding": null,
       "right": null,
       "top": null,
       "visibility": null,
       "width": null
      }
     },
     "6c240ad12aac4fdab7dc3619723e360e": {
      "model_module": "@jupyter-widgets/base",
      "model_module_version": "1.2.0",
      "model_name": "LayoutModel",
      "state": {
       "_model_module": "@jupyter-widgets/base",
       "_model_module_version": "1.2.0",
       "_model_name": "LayoutModel",
       "_view_count": null,
       "_view_module": "@jupyter-widgets/base",
       "_view_module_version": "1.2.0",
       "_view_name": "LayoutView",
       "align_content": null,
       "align_items": null,
       "align_self": null,
       "border": null,
       "bottom": null,
       "display": null,
       "flex": null,
       "flex_flow": null,
       "grid_area": null,
       "grid_auto_columns": null,
       "grid_auto_flow": null,
       "grid_auto_rows": null,
       "grid_column": null,
       "grid_gap": null,
       "grid_row": null,
       "grid_template_areas": null,
       "grid_template_columns": null,
       "grid_template_rows": null,
       "height": null,
       "justify_content": null,
       "justify_items": null,
       "left": null,
       "margin": null,
       "max_height": null,
       "max_width": null,
       "min_height": null,
       "min_width": null,
       "object_fit": null,
       "object_position": null,
       "order": null,
       "overflow": null,
       "overflow_x": null,
       "overflow_y": null,
       "padding": null,
       "right": null,
       "top": null,
       "visibility": null,
       "width": null
      }
     },
     "6dc480cb51d64152a83707f29ecf9ce5": {
      "model_module": "@jupyter-widgets/base",
      "model_module_version": "1.2.0",
      "model_name": "LayoutModel",
      "state": {
       "_model_module": "@jupyter-widgets/base",
       "_model_module_version": "1.2.0",
       "_model_name": "LayoutModel",
       "_view_count": null,
       "_view_module": "@jupyter-widgets/base",
       "_view_module_version": "1.2.0",
       "_view_name": "LayoutView",
       "align_content": null,
       "align_items": null,
       "align_self": null,
       "border": null,
       "bottom": null,
       "display": null,
       "flex": null,
       "flex_flow": null,
       "grid_area": null,
       "grid_auto_columns": null,
       "grid_auto_flow": null,
       "grid_auto_rows": null,
       "grid_column": null,
       "grid_gap": null,
       "grid_row": null,
       "grid_template_areas": null,
       "grid_template_columns": null,
       "grid_template_rows": null,
       "height": null,
       "justify_content": null,
       "justify_items": null,
       "left": null,
       "margin": null,
       "max_height": null,
       "max_width": null,
       "min_height": null,
       "min_width": null,
       "object_fit": null,
       "object_position": null,
       "order": null,
       "overflow": null,
       "overflow_x": null,
       "overflow_y": null,
       "padding": null,
       "right": null,
       "top": null,
       "visibility": null,
       "width": null
      }
     },
     "8865676149e045f5a5d3f7b67434419d": {
      "model_module": "@jupyter-widgets/output",
      "model_module_version": "1.0.0",
      "model_name": "OutputModel",
      "state": {
       "_dom_classes": [],
       "_model_module": "@jupyter-widgets/output",
       "_model_module_version": "1.0.0",
       "_model_name": "OutputModel",
       "_view_count": null,
       "_view_module": "@jupyter-widgets/output",
       "_view_module_version": "1.0.0",
       "_view_name": "OutputView",
       "layout": "IPY_MODEL_96b073d4bc924e6197ef6e6394faaa64",
       "msg_id": "",
       "outputs": [
        {
         "name": "stdout",
         "output_type": "stream",
         "text": "[[-3  2  1]]\n"
        },
        {
         "data": {
          "image/png": "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\n",
          "text/plain": "<Figure size 432x288 with 1 Axes>"
         },
         "metadata": {
          "needs_background": "light"
         },
         "output_type": "display_data"
        }
       ]
      }
     },
     "8dd7dde10e314ed29ba6a3f4f4464bbb": {
      "model_module": "@jupyter-widgets/base",
      "model_module_version": "1.2.0",
      "model_name": "LayoutModel",
      "state": {
       "_model_module": "@jupyter-widgets/base",
       "_model_module_version": "1.2.0",
       "_model_name": "LayoutModel",
       "_view_count": null,
       "_view_module": "@jupyter-widgets/base",
       "_view_module_version": "1.2.0",
       "_view_name": "LayoutView",
       "align_content": null,
       "align_items": null,
       "align_self": null,
       "border": null,
       "bottom": null,
       "display": null,
       "flex": null,
       "flex_flow": null,
       "grid_area": null,
       "grid_auto_columns": null,
       "grid_auto_flow": null,
       "grid_auto_rows": null,
       "grid_column": null,
       "grid_gap": null,
       "grid_row": null,
       "grid_template_areas": null,
       "grid_template_columns": null,
       "grid_template_rows": null,
       "height": null,
       "justify_content": null,
       "justify_items": null,
       "left": null,
       "margin": null,
       "max_height": null,
       "max_width": null,
       "min_height": null,
       "min_width": null,
       "object_fit": null,
       "object_position": null,
       "order": null,
       "overflow": null,
       "overflow_x": null,
       "overflow_y": null,
       "padding": null,
       "right": null,
       "top": null,
       "visibility": null,
       "width": null
      }
     },
     "9394c911f5e841959e1f2f3f87531efc": {
      "model_module": "@jupyter-widgets/controls",
      "model_module_version": "1.5.0",
      "model_name": "IntSliderModel",
      "state": {
       "_dom_classes": [],
       "_model_module": "@jupyter-widgets/controls",
       "_model_module_version": "1.5.0",
       "_model_name": "IntSliderModel",
       "_view_count": null,
       "_view_module": "@jupyter-widgets/controls",
       "_view_module_version": "1.5.0",
       "_view_name": "IntSliderView",
       "continuous_update": true,
       "description": "q1",
       "description_tooltip": null,
       "disabled": false,
       "layout": "IPY_MODEL_ca4cce798839434f984b8f613948eb97",
       "max": 180,
       "min": -180,
       "orientation": "horizontal",
       "readout": true,
       "readout_format": "d",
       "step": 1,
       "style": "IPY_MODEL_9aea2fbd36f349b4bc7ab046b8ad2663",
       "value": 0
      }
     },
     "96b073d4bc924e6197ef6e6394faaa64": {
      "model_module": "@jupyter-widgets/base",
      "model_module_version": "1.2.0",
      "model_name": "LayoutModel",
      "state": {
       "_model_module": "@jupyter-widgets/base",
       "_model_module_version": "1.2.0",
       "_model_name": "LayoutModel",
       "_view_count": null,
       "_view_module": "@jupyter-widgets/base",
       "_view_module_version": "1.2.0",
       "_view_name": "LayoutView",
       "align_content": null,
       "align_items": null,
       "align_self": null,
       "border": null,
       "bottom": null,
       "display": null,
       "flex": null,
       "flex_flow": null,
       "grid_area": null,
       "grid_auto_columns": null,
       "grid_auto_flow": null,
       "grid_auto_rows": null,
       "grid_column": null,
       "grid_gap": null,
       "grid_row": null,
       "grid_template_areas": null,
       "grid_template_columns": null,
       "grid_template_rows": null,
       "height": null,
       "justify_content": null,
       "justify_items": null,
       "left": null,
       "margin": null,
       "max_height": null,
       "max_width": null,
       "min_height": null,
       "min_width": null,
       "object_fit": null,
       "object_position": null,
       "order": null,
       "overflow": null,
       "overflow_x": null,
       "overflow_y": null,
       "padding": null,
       "right": null,
       "top": null,
       "visibility": null,
       "width": null
      }
     },
     "98d901a000684c50bd335a93cc37719a": {
      "model_module": "@jupyter-widgets/base",
      "model_module_version": "1.2.0",
      "model_name": "LayoutModel",
      "state": {
       "_model_module": "@jupyter-widgets/base",
       "_model_module_version": "1.2.0",
       "_model_name": "LayoutModel",
       "_view_count": null,
       "_view_module": "@jupyter-widgets/base",
       "_view_module_version": "1.2.0",
       "_view_name": "LayoutView",
       "align_content": null,
       "align_items": null,
       "align_self": null,
       "border": null,
       "bottom": null,
       "display": null,
       "flex": null,
       "flex_flow": null,
       "grid_area": null,
       "grid_auto_columns": null,
       "grid_auto_flow": null,
       "grid_auto_rows": null,
       "grid_column": null,
       "grid_gap": null,
       "grid_row": null,
       "grid_template_areas": null,
       "grid_template_columns": null,
       "grid_template_rows": null,
       "height": null,
       "justify_content": null,
       "justify_items": null,
       "left": null,
       "margin": null,
       "max_height": null,
       "max_width": null,
       "min_height": null,
       "min_width": null,
       "object_fit": null,
       "object_position": null,
       "order": null,
       "overflow": null,
       "overflow_x": null,
       "overflow_y": null,
       "padding": null,
       "right": null,
       "top": null,
       "visibility": null,
       "width": null
      }
     },
     "9aea2fbd36f349b4bc7ab046b8ad2663": {
      "model_module": "@jupyter-widgets/controls",
      "model_module_version": "1.5.0",
      "model_name": "SliderStyleModel",
      "state": {
       "_model_module": "@jupyter-widgets/controls",
       "_model_module_version": "1.5.0",
       "_model_name": "SliderStyleModel",
       "_view_count": null,
       "_view_module": "@jupyter-widgets/base",
       "_view_module_version": "1.2.0",
       "_view_name": "StyleView",
       "description_width": "",
       "handle_color": null
      }
     },
     "be2fb7337fc84a8e93902e25ff73b25e": {
      "model_module": "@jupyter-widgets/controls",
      "model_module_version": "1.5.0",
      "model_name": "IntSliderModel",
      "state": {
       "_dom_classes": [],
       "_model_module": "@jupyter-widgets/controls",
       "_model_module_version": "1.5.0",
       "_model_name": "IntSliderModel",
       "_view_count": null,
       "_view_module": "@jupyter-widgets/controls",
       "_view_module_version": "1.5.0",
       "_view_name": "IntSliderView",
       "continuous_update": true,
       "description": "q1",
       "description_tooltip": null,
       "disabled": false,
       "layout": "IPY_MODEL_6c240ad12aac4fdab7dc3619723e360e",
       "max": 180,
       "min": -180,
       "orientation": "horizontal",
       "readout": true,
       "readout_format": "d",
       "step": 2,
       "style": "IPY_MODEL_60a7175fc09f46c4857bbf18c8b40107",
       "value": 0
      }
     },
     "bf9abc64cb1d4059a2ad78fa34c18812": {
      "model_module": "@jupyter-widgets/controls",
      "model_module_version": "1.5.0",
      "model_name": "SliderStyleModel",
      "state": {
       "_model_module": "@jupyter-widgets/controls",
       "_model_module_version": "1.5.0",
       "_model_name": "SliderStyleModel",
       "_view_count": null,
       "_view_module": "@jupyter-widgets/base",
       "_view_module_version": "1.2.0",
       "_view_name": "StyleView",
       "description_width": "",
       "handle_color": null
      }
     },
     "ca4cce798839434f984b8f613948eb97": {
      "model_module": "@jupyter-widgets/base",
      "model_module_version": "1.2.0",
      "model_name": "LayoutModel",
      "state": {
       "_model_module": "@jupyter-widgets/base",
       "_model_module_version": "1.2.0",
       "_model_name": "LayoutModel",
       "_view_count": null,
       "_view_module": "@jupyter-widgets/base",
       "_view_module_version": "1.2.0",
       "_view_name": "LayoutView",
       "align_content": null,
       "align_items": null,
       "align_self": null,
       "border": null,
       "bottom": null,
       "display": null,
       "flex": null,
       "flex_flow": null,
       "grid_area": null,
       "grid_auto_columns": null,
       "grid_auto_flow": null,
       "grid_auto_rows": null,
       "grid_column": null,
       "grid_gap": null,
       "grid_row": null,
       "grid_template_areas": null,
       "grid_template_columns": null,
       "grid_template_rows": null,
       "height": null,
       "justify_content": null,
       "justify_items": null,
       "left": null,
       "margin": null,
       "max_height": null,
       "max_width": null,
       "min_height": null,
       "min_width": null,
       "object_fit": null,
       "object_position": null,
       "order": null,
       "overflow": null,
       "overflow_x": null,
       "overflow_y": null,
       "padding": null,
       "right": null,
       "top": null,
       "visibility": null,
       "width": null
      }
     },
     "e1fff5e0976e427d85a6533a5e1159bb": {
      "model_module": "@jupyter-widgets/output",
      "model_module_version": "1.0.0",
      "model_name": "OutputModel",
      "state": {
       "_dom_classes": [],
       "_model_module": "@jupyter-widgets/output",
       "_model_module_version": "1.0.0",
       "_model_name": "OutputModel",
       "_view_count": null,
       "_view_module": "@jupyter-widgets/output",
       "_view_module_version": "1.0.0",
       "_view_name": "OutputView",
       "layout": "IPY_MODEL_46ba35e2fdc542719684a0a895f05554",
       "msg_id": "",
       "outputs": [
        {
         "name": "stdout",
         "output_type": "stream",
         "text": "[[-3  2  1]]\n"
        },
        {
         "data": {
          "image/png": "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\n",
          "text/plain": "<Figure size 432x288 with 1 Axes>"
         },
         "metadata": {
          "needs_background": "light"
         },
         "output_type": "display_data"
        }
       ]
      }
     },
     "f66072674a0145678f3e7ab97bd4ce77": {
      "model_module": "@jupyter-widgets/base",
      "model_module_version": "1.2.0",
      "model_name": "LayoutModel",
      "state": {
       "_model_module": "@jupyter-widgets/base",
       "_model_module_version": "1.2.0",
       "_model_name": "LayoutModel",
       "_view_count": null,
       "_view_module": "@jupyter-widgets/base",
       "_view_module_version": "1.2.0",
       "_view_name": "LayoutView",
       "align_content": null,
       "align_items": null,
       "align_self": null,
       "border": null,
       "bottom": null,
       "display": null,
       "flex": null,
       "flex_flow": null,
       "grid_area": null,
       "grid_auto_columns": null,
       "grid_auto_flow": null,
       "grid_auto_rows": null,
       "grid_column": null,
       "grid_gap": null,
       "grid_row": null,
       "grid_template_areas": null,
       "grid_template_columns": null,
       "grid_template_rows": null,
       "height": null,
       "justify_content": null,
       "justify_items": null,
       "left": null,
       "margin": null,
       "max_height": null,
       "max_width": null,
       "min_height": null,
       "min_width": null,
       "object_fit": null,
       "object_position": null,
       "order": null,
       "overflow": null,
       "overflow_x": null,
       "overflow_y": null,
       "padding": null,
       "right": null,
       "top": null,
       "visibility": null,
       "width": null
      }
     },
     "f9e85c5e25f64372a9f557f560073a3a": {
      "model_module": "@jupyter-widgets/output",
      "model_module_version": "1.0.0",
      "model_name": "OutputModel",
      "state": {
       "_dom_classes": [],
       "_model_module": "@jupyter-widgets/output",
       "_model_module_version": "1.0.0",
       "_model_name": "OutputModel",
       "_view_count": null,
       "_view_module": "@jupyter-widgets/output",
       "_view_module_version": "1.0.0",
       "_view_name": "OutputView",
       "layout": "IPY_MODEL_98d901a000684c50bd335a93cc37719a",
       "msg_id": "",
       "outputs": [
        {
         "data": {
          "image/png": "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\n",
          "text/plain": "<Figure size 432x288 with 1 Axes>"
         },
         "metadata": {
          "needs_background": "light"
         },
         "output_type": "display_data"
        },
        {
         "data": {
          "image/png": "iVBORw0KGgoAAAANSUhEUgAAAEwAAAAVCAYAAADsFggUAAAACXBIWXMAAA7EAAAOxAGVKw4bAAACe0lEQVRYCe2Y7VECMRCGwaEARjvADvyoQEsQrEDpQMZf8Fc70Ba0A+1ApQQ6EOlAnxdvmXDHcfk4RpxhZ0I2m/1IXnYvuWsOh8ObRqPRp4m6o9Fo/MvufoUAeCzh0wSwO+QvTLzuICpHAHzmOLXKVZZnMDhC0qe3bFxWWDHKgmjmk3ZIu0M2kaBOSo0TYr8XsPAndPd99VnEB7pv9APaPfyApkzu+Prw0UuNE2rvBRhOVcfehP41ym36ZzOCn8Fr/GCy1D41Tox9JWA4VSlqs2q+1EVx1eHxhvwcn21fRxV6qXGC7SsBY8GXbPCxYuH56XME07yQsYGu+TooNU6w/VrAAEqlGFRCntnj/SwsQzU1Tqx9KWA47LDYGX3oqWZgWDa5e7asq6MkU+NE2ZcCxi51hQgtRRecdfzBuska51LjFOxXAgZQOuWCStHZpGWRI1qw9q/qXpZKqXGi7AuAZaWoK0FoKc4BwM5KcVXZmSzKt4twapxY+5a7iIzXs+sUh7qounTEoJPJJ/S6iJaRXrPkJ0+WYXW9hqXGCbYvAAYQclLYEPIvyel1d6kiga13rzwdIxjjw7KwAa9sXozzBhVj7zglfoLtCyVZ4lhilZOV1Fwt2+w3vV6DFsRYh8WU/sKE0oXv0a5ysq+8vc1X9SFx0I1ep7uOQoa5k+IJpIf/SSbXLf0FXu+E9zS7drxn826nbLpFx0rzlPEZ47EpOfbKsthMC4kTtU5br/qt+LwDWMpElXtsabp72gjP2uafd0JKciMLyZzqkNlasNyN/zlgAKVnWx33MndfG+P/HDB21gM0fS/7F2TPMDvNdt/0c38bf6Z909cdsvsD2Tc2pCwBP74AAAAASUVORK5CYII=\n",
          "text/latex": "$\\displaystyle \\left[ 4.0, \\  0.0\\right]$",
          "text/plain": "[4.0, 0.0]"
         },
         "metadata": {},
         "output_type": "display_data"
        }
       ]
      }
     }
    },
    "version_major": 2,
    "version_minor": 0
   }
  }
 },
 "nbformat": 4,
 "nbformat_minor": 4
}