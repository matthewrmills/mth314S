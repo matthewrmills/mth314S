{
 "cells": [
  {
   "cell_type": "markdown",
   "metadata": {},
   "source": []
  },
  {
   "cell_type": "markdown",
   "metadata": {},
   "source": [
    "# 106 Pre-Class Assignment: Diagonalization & Linear Dynamical Systems "
   ]
  },
  {
   "cell_type": "markdown",
   "metadata": {},
   "source": [
    "### Readings for Diagonalization\n",
    " * [Heffron Chapter 5 II1-2 pg 388-396](http://joshua.smcvt.edu/linearalgebra/book.pdf)\n",
    " * [**_Beezer Section SD pg 403-415_**](http://linear.ups.edu/download/fcla-3.50-tablet.pdf)\n",
    "\n",
    "\n",
    "### Readings for Linear Dynamical Systems\n",
    " * [**_Boyd Chapter 9 pg 163-173_**](http://vmls-book.stanford.edu/vmls.pdf)\n"
   ]
  },
  {
   "cell_type": "markdown",
   "metadata": {
    "slideshow": {
     "slide_type": "-"
    }
   },
   "source": [
    "\n",
    "### Goals for today's pre-class assignment \n",
    "\n",
    "1. [Eigenvalues and eigenvectors review](#Eigenvalues_and_eigenvectors_review)\n",
    "1. [Diagonalizable Matrix](#Diagonalizable_Matrix)\n",
    "1. [Linear Dynamical Systems](#Linear-Dynamical-Systems)\n",
    "2. [Markov Models](#Markov-Models)\n",
    "3. [Ordinary Differential Equations](#Ordinary-Differential-Equations)\n",
    "4. [Assignment wrap up](#Assignment-wrap-up)\n"
   ]
  },
  {
   "cell_type": "markdown",
   "metadata": {},
   "source": [
    "----\n",
    "<a name=\"Eigenvalues_and_eigenvectors_review\"></a>\n",
    "## 1. Eigenvalues and eigenvectors review\n",
    "\n",
    "**Definition**: A non-zero vector $x$ in $R^n$ is called an *eigenvector* of a $n\\times n$ matrix $A$ if $Ax$ is a scalar multiple of $x$. If $Ax = \\lambda x$, then $\\lambda$ is called the *eigenvalue* of $A$ corresponding to $x$.\n",
    "\n",
    "### Steps for finding the eigenvalues and eigenvectors\n",
    "\n",
    "We want to find $\\lambda$ and non-zero vector $x$ such that $Ax=\\lambda x$ for a $n\\times n$ matrix. \n",
    "1. We introduce an identity matrix $I$ of $n\\times n$. Then the equation becomes\n",
    "$$Ax = \\lambda I x$$\n",
    "$$Ax-\\lambda I x = 0$$\n",
    "$$(A-\\lambda I)x = 0$$\n",
    "2. This suggests that we want to find $\\lambda$ such that $(A-\\lambda I)x=0$ has a non-trivial solution. \n",
    "It is equivalent to that the matrix $A-\\lambda I$ is singular, i.e., has a determinant of $0$.\n",
    "$$|A-\\lambda I|=0$$\n",
    "3. The determinant is polynomial in $\\lambda$ (called the characteristic polynomial of $A$) with degree $n$. We solve this equation (called the characteristic equation) for all possible $\\lambda$ (eigenvalues).\n",
    "4. After finding the eigenvalues, we substitute them back into \n",
    "$$(A-\\lambda I)x=0$$\n",
    "and find the eigenvectors $x$. \n",
    "\n",
    "Let's calculate eigenvalues for the following matrix: \n",
    "\n",
    "$$ A=\\begin{bmatrix} 0 & 0 & -2 \\\\ 1 & 2 & 1 \\\\ 1 & 0 & 3 \\end{bmatrix}$$\n",
    "\n",
    "#### Find eigenvalues\n",
    "Looking at the above recipe, let's solve the problem symbollically using `sympy`. First lets create a matrix $B$ such that:\n",
    "\n",
    "$$B = A-\\lambda I$$"
   ]
  },
  {
   "cell_type": "code",
   "execution_count": 1,
   "metadata": {},
   "outputs": [],
   "source": [
    "%matplotlib inline\n",
    "import matplotlib.pylab as plt\n",
    "import numpy as np\n",
    "import sympy as sym\n",
    "sym.init_printing()"
   ]
  },
  {
   "cell_type": "code",
   "execution_count": 2,
   "metadata": {},
   "outputs": [
    {
     "data": {
      "image/png": "[encoded data removed]",
      "text/latex": [
       "$\\displaystyle \\left[\\begin{matrix}- \\lambda & 0 & -2\\\\1 & 2 - \\lambda & 1\\\\1 & 0 & 3 - \\lambda\\end{matrix}\\right]$"
      ],
      "text/plain": [
       "⎡-λ    0     -2  ⎤\n",
       "⎢                ⎥\n",
       "⎢1   2 - λ    1  ⎥\n",
       "⎢                ⎥\n",
       "⎣1     0    3 - λ⎦"
      ]
     },
     "execution_count": 2,
     "metadata": {
      "filenames": {
       "image/png": "/Users/matt/Dropbox/MTH314S/mth314S/bookfiles/_build/jupyter_execute/106--Diagonalization_Linear_Dynamical_Systems_pre-class-assignment_6_0.png"
      }
     },
     "output_type": "execute_result"
    }
   ],
   "source": [
    "#Most sympy requires defeing the variables as \"symbols\"\n",
    "#Once we do this we can use the variables in place of numbers\n",
    "lam = sym.symbols('lambda')\n",
    "\n",
    "A = sym.Matrix([[0, 0 ,-2], [1, 2, 1], [1, 0, 3]])\n",
    "I = sym.eye(3)\n",
    "\n",
    "B = A - lam*I\n",
    "\n",
    "B"
   ]
  },
  {
   "cell_type": "markdown",
   "metadata": {},
   "source": [
    "Now, per step 2, the determinant of $B$ must be zero. Note that `sympy` calculates the determinate symbollically as follows:"
   ]
  },
  {
   "cell_type": "code",
   "execution_count": 3,
   "metadata": {},
   "outputs": [
    {
     "data": {
      "image/png": "[encoded data removed]",
      "text/latex": [
       "$\\displaystyle - \\lambda^{3} + 5 \\lambda^{2} - 8 \\lambda + 4$"
      ],
      "text/plain": [
       "   3      2          \n",
       "- λ  + 5⋅λ  - 8⋅λ + 4"
      ]
     },
     "execution_count": 3,
     "metadata": {
      "filenames": {
       "image/png": "/Users/matt/Dropbox/MTH314S/mth314S/bookfiles/_build/jupyter_execute/106--Diagonalization_Linear_Dynamical_Systems_pre-class-assignment_8_0.png"
      }
     },
     "output_type": "execute_result"
    }
   ],
   "source": [
    "B.det()"
   ]
  },
  {
   "cell_type": "markdown",
   "metadata": {},
   "source": [
    "&#9989; **<font color=red>Do This:</font>**  Using the ```sympy.solve``` function on the determinate of $B$ to solve for ```lam``` ($\\lambda$). Verify that the solution to the last question produces the same eigenvalues as above. "
   ]
  },
  {
   "cell_type": "code",
   "execution_count": 4,
   "metadata": {},
   "outputs": [],
   "source": [
    "# Put your code to solve for det(B) = 0 here"
   ]
  },
  {
   "cell_type": "markdown",
   "metadata": {},
   "source": [
    "&#9989; **<font color=red>Do This:</font>**  First, let's use the built in funciton ```eigenvals``` function in ```sympy``` to calculate the eigenvalues. Find out the meaning of the output."
   ]
  },
  {
   "cell_type": "code",
   "execution_count": 5,
   "metadata": {},
   "outputs": [],
   "source": [
    "# Put your code here"
   ]
  },
  {
   "cell_type": "markdown",
   "metadata": {},
   "source": [
    "Explain your output here.\n",
    "\n",
    "#### Find eigenvectors\n",
    "Now we know the eigenvalues, we can substitue them back into the equation to find the eigenvectors.  \n",
    "We solve this symbollically using `sympy`. First let's make a vector of our eigenvalues (from above):"
   ]
  },
  {
   "cell_type": "code",
   "execution_count": 6,
   "metadata": {},
   "outputs": [],
   "source": [
    "eig = [1,2]"
   ]
  },
  {
   "cell_type": "markdown",
   "metadata": {},
   "source": [
    "Now (per step 4 above) we need to solve the equation $(A-\\lambda I)x=0$. One way to do this in `sympy` is as follows:"
   ]
  },
  {
   "cell_type": "code",
   "execution_count": 7,
   "metadata": {},
   "outputs": [
    {
     "data": {
      "image/png": "[encoded data removed]",
      "text/latex": [
       "$\\displaystyle \\left[\\begin{matrix}x_{1}\\\\x_{2}\\\\x_{3}\\end{matrix}\\right]$"
      ],
      "text/plain": [
       "⎡x₁⎤\n",
       "⎢  ⎥\n",
       "⎢x₂⎥\n",
       "⎢  ⎥\n",
       "⎣x₃⎦"
      ]
     },
     "execution_count": 7,
     "metadata": {
      "filenames": {
       "image/png": "/Users/matt/Dropbox/MTH314S/mth314S/bookfiles/_build/jupyter_execute/106--Diagonalization_Linear_Dynamical_Systems_pre-class-assignment_16_0.png"
      }
     },
     "output_type": "execute_result"
    }
   ],
   "source": [
    "x1,x2,x3 = sym.symbols(['x_1','x_2','x_3'])\n",
    "\n",
    "x = sym.Matrix([[x1],[x2],[x3]])\n",
    "x"
   ]
  },
  {
   "cell_type": "code",
   "execution_count": 8,
   "metadata": {},
   "outputs": [
    {
     "name": "stdout",
     "output_type": "stream",
     "text": [
      "{x_1: -2*x_3, x_2: x_3}\n",
      "{x_1: -x_3}\n"
     ]
    }
   ],
   "source": [
    "for lam in eig:\n",
    "    vec = sym.solve((A - lam*I)*x,x)\n",
    "    print(vec)"
   ]
  },
  {
   "cell_type": "markdown",
   "metadata": {},
   "source": [
    "&#9989; **<font color=red>QUESTION:</font>**  Explain your output here. (Hint, you can also try the `rref` to find the solutions)"
   ]
  },
  {
   "cell_type": "markdown",
   "metadata": {},
   "source": [
    "Put your answer here"
   ]
  },
  {
   "cell_type": "markdown",
   "metadata": {},
   "source": [
    "&#9989; **<font color=red>Do This:</font>**  Next, let's use the ```eigenvects```  function in ```sympy``` to find three linear independent eigenvectors for the matrix $A$?"
   ]
  },
  {
   "cell_type": "code",
   "execution_count": 9,
   "metadata": {},
   "outputs": [],
   "source": [
    "# Put your answer to the above question here"
   ]
  },
  {
   "cell_type": "markdown",
   "metadata": {},
   "source": [
    "&#9989; **<font color=red>QUESTION:</font>**  Compare this answer to the eigenvectors we calculated above. Does this answer make sense?  What does the syntax tell us? "
   ]
  },
  {
   "cell_type": "markdown",
   "metadata": {},
   "source": [
    "Put your answer here"
   ]
  },
  {
   "cell_type": "markdown",
   "metadata": {},
   "source": [
    "&#9989; **<font color=red>DO THIS:</font>** Find the eigenvalues and eigenvectors of the following matrix:\n",
    "$$ A2=\\begin{bmatrix} 2 & 1 \\\\ 0 & 2 \\end{bmatrix}$$"
   ]
  },
  {
   "cell_type": "code",
   "execution_count": 10,
   "metadata": {},
   "outputs": [],
   "source": [
    "#do work here"
   ]
  },
  {
   "cell_type": "markdown",
   "metadata": {},
   "source": [
    "&#9989; **<font color=red>QUESTION:</font>**  What are the eigenvalues for the matrix $A2$?"
   ]
  },
  {
   "cell_type": "markdown",
   "metadata": {},
   "source": [
    "Put your answer to the above question here"
   ]
  },
  {
   "cell_type": "markdown",
   "metadata": {},
   "source": [
    "&#9989; **<font color=red>QUESTION:</font>**  What are the eigenvectors for the matrix $A2$?"
   ]
  },
  {
   "cell_type": "markdown",
   "metadata": {},
   "source": [
    "Put your answer to the above question here"
   ]
  },
  {
   "cell_type": "markdown",
   "metadata": {},
   "source": [
    "----\n",
    "<a name=\"Diagonalizable_Matrix\"></a>\n",
    "## 2. Diagonalizable Matrix\n",
    "\n",
    "In class we will be using matrix diagonalization to solve some problems.  \n",
    "\n",
    "Matrix $A$ is diagonalizable if there exists a diagonal matrix $D$ that is similar similar to $A$:\n",
    "\n",
    "$$ D = C^{-1}AC$$\n",
    "\n",
    "If matrix $A$ has linearly independent eigenvectors ($v_1, \\ldots v_n$) then $A$ is diagonalizable with the following solution:\n",
    "\n",
    "$$C = \\left[ v_1^T, \\ldots, v_n^T \\right]$$\n",
    "\n",
    "In other words, each column of $C$ is a linearly independent eigenvector of $A$. The diagonal matrix $D$ is\n",
    "\n",
    "$$ D = \n",
    "\\left[\n",
    "\\begin{matrix}\n",
    "    \\lambda_1  & 0  & 0 \\\\\n",
    "    0   & \\ddots & 0  \\\\\n",
    "    0   & 0 & \\lambda_n \n",
    "\\end{matrix}\n",
    "\\right] \n",
    "$$\n",
    "\n",
    "In other-other words, $D$ consists of the corresponding eigenvalues."
   ]
  },
  {
   "cell_type": "code",
   "execution_count": 11,
   "metadata": {},
   "outputs": [],
   "source": [
    "%matplotlib inline\n",
    "import matplotlib.pylab as plt\n",
    "import numpy as np\n",
    "import sympy as sym\n",
    "sym.init_printing(use_unicode=True)"
   ]
  },
  {
   "cell_type": "markdown",
   "metadata": {},
   "source": [
    "&#9989; **<font color=red>DO THIS:</font>** Using ```numpy```, Diagonalize (i.e. calculate  C and D) the following matrix:"
   ]
  },
  {
   "cell_type": "code",
   "execution_count": 12,
   "metadata": {},
   "outputs": [
    {
     "data": {
      "image/png": "[encoded data removed]",
      "text/latex": [
       "$\\displaystyle \\left[\\begin{matrix}5 & -2 & 2\\\\4 & -3 & 4\\\\4 & -6 & 7\\end{matrix}\\right]$"
      ],
      "text/plain": [
       "⎡5  -2  2⎤\n",
       "⎢        ⎥\n",
       "⎢4  -3  4⎥\n",
       "⎢        ⎥\n",
       "⎣4  -6  7⎦"
      ]
     },
     "execution_count": 12,
     "metadata": {
      "filenames": {
       "image/png": "/Users/matt/Dropbox/MTH314S/mth314S/bookfiles/_build/jupyter_execute/106--Diagonalization_Linear_Dynamical_Systems_pre-class-assignment_33_0.png"
      }
     },
     "output_type": "execute_result"
    }
   ],
   "source": [
    "A = np.matrix([[5, -2, 2], [4, -3, 4], [4,-6,7]])\n",
    "sym.Matrix(A)"
   ]
  },
  {
   "cell_type": "code",
   "execution_count": 13,
   "metadata": {},
   "outputs": [],
   "source": [
    "# Put your answer here"
   ]
  },
  {
   "cell_type": "code",
   "execution_count": 14,
   "metadata": {},
   "outputs": [
    {
     "ename": "ModuleNotFoundError",
     "evalue": "No module named 'answercheck'",
     "output_type": "error",
     "traceback": [
      "\u001b[0;31m---------------------------------------------------------------------------\u001b[0m",
      "\u001b[0;31mModuleNotFoundError\u001b[0m                       Traceback (most recent call last)",
      "\u001b[0;32m<ipython-input-14-a2676c2ec55a>\u001b[0m in \u001b[0;36m<module>\u001b[0;34m\u001b[0m\n\u001b[0;32m----> 1\u001b[0;31m \u001b[0;32mfrom\u001b[0m \u001b[0manswercheck\u001b[0m \u001b[0;32mimport\u001b[0m \u001b[0mcheckanswer\u001b[0m\u001b[0;34m\u001b[0m\u001b[0;34m\u001b[0m\u001b[0m\n\u001b[0m\u001b[1;32m      2\u001b[0m \u001b[0mcheckanswer\u001b[0m\u001b[0;34m.\u001b[0m\u001b[0mmatrix\u001b[0m\u001b[0;34m(\u001b[0m\u001b[0mD\u001b[0m\u001b[0;34m,\u001b[0m\u001b[0;34m'56821475223b52e0b6e751da444a1441'\u001b[0m\u001b[0;34m)\u001b[0m\u001b[0;34m;\u001b[0m\u001b[0;34m\u001b[0m\u001b[0;34m\u001b[0m\u001b[0m\n",
      "\u001b[0;31mModuleNotFoundError\u001b[0m: No module named 'answercheck'"
     ]
    }
   ],
   "source": [
    "from answercheck import checkanswer\n",
    "checkanswer.matrix(D,'56821475223b52e0b6e751da444a1441');"
   ]
  },
  {
   "cell_type": "markdown",
   "metadata": {},
   "source": [
    "&#9989; **<font color=red>DO THIS:</font>** Verify that $A$ is in fact Diagonalizable by calculating $D2 = C^{-1}AC$ and comparing it to your original $D$ using ```np.allclose```."
   ]
  },
  {
   "cell_type": "code",
   "execution_count": null,
   "metadata": {},
   "outputs": [],
   "source": [
    "#Put your verificaiton code here."
   ]
  },
  {
   "cell_type": "code",
   "execution_count": null,
   "metadata": {},
   "outputs": [],
   "source": [
    "np.allclose(D,D2)"
   ]
  },
  {
   "cell_type": "markdown",
   "metadata": {},
   "source": [
    "### Diagonalization of Symmetric Matrices\n",
    "\n",
    "One special case is Symmetric Matrices.  It can be shown that symmetric Matrices are Diagonalizable and the resulting eigenvectors are not only linearly independent but also orthogonal.    Since this is true, the equation changes to: \n",
    "\n",
    "\n",
    "$$ D = C^{T}AC$$\n",
    "\n",
    "&#9989; **<font color=red>QUESTION:</font>** Why do we care if $C$ is orthogonal?  What advantages does the above equation give us?"
   ]
  },
  {
   "cell_type": "markdown",
   "metadata": {},
   "source": [
    "Put your answer to the above question here."
   ]
  },
  {
   "cell_type": "markdown",
   "metadata": {},
   "source": [
    "\n",
    "\n",
    "---\n",
    "<a name=Linear-Dynamical-Systems></a>\n",
    "## 3. Linear Dynamical Systems\n",
    "\n",
    "\n",
    "\n",
    "\n",
    "A linear dynamical system is a simple model of how a system changes with time.  These systems can be represented by the following \"dynamics\" or \"update equation\":\n",
    "\n",
    "$$x_{(t+1)} = A_tx_t$$\n",
    "\n",
    "Where $t$ is an integer representing th progress of time and $A_t$ are an $n \\times n$ matrix called the dynamics matrices. Often the above matrix does not change with $t$. In this case the system is called \"time-invariant\". \n",
    "\n",
    "We have seen a few \"time-invarient\" examples in class. \n",
    "\n",
    "\n",
    "&#9989; **<font color=red>DO THIS:</font>**  Review **_Chapter 9 in the Boyd and Vandenberghe_** text and become familiar with the contents and the basic terminology. "
   ]
  },
  {
   "cell_type": "markdown",
   "metadata": {},
   "source": [
    "\n",
    "---\n",
    "<a name=Markov-Models></a>\n",
    "## 4. Markov Models\n",
    "\n",
    "We breifly discussed Markov models in the previous class. These are just one example of Linear Dynamical Systems."
   ]
  },
  {
   "cell_type": "markdown",
   "metadata": {},
   "source": [
    "\n",
    "### Example\n",
    "\n",
    "The dynamics of infection and the spread of an epidemic can be modeled as a linear dynamical system. \n",
    "\n",
    "We count the fraction of the population in the following four groups:\n",
    "+ Susceptible: the individuals can be infected next day\n",
    "+ Infected: the infected individuals \n",
    "+ Recovered (and immune): recovered individuals from the disease and will not be infected again\n",
    "+ Decreased: the individuals died from the disease\n",
    "\n",
    "We denote the fractions of these four groups in $x(t)$. For example $x(t)=(0.8,0.1,0.05,0.05)$ means that at day $t$, 80\\% of the population are susceptible, 10% are infected, 5% are recovered and immuned, and 5% died.\n",
    "\n",
    "We choose a simple model here. After each day,\n",
    "\n",
    "+ 5% of the susceptible individuals will get infected \n",
    "+ 3% of infected inviduals will die\n",
    "+ 10% of infected inviduals will recover and immuned to the disease\n",
    "+ 4% of infected inviduals will recover but not immuned to the disease\n",
    "+ 83% of the infected inviduals will remain\n"
   ]
  },
  {
   "cell_type": "markdown",
   "metadata": {},
   "source": [
    "&#9989;  **<font color=red>Do this:</font>** Write the dynamics matrix for the above markov linear dynamical system. Come to class ready to discuss the matrix. (hint the columns of the matrix should add to 1). "
   ]
  },
  {
   "cell_type": "code",
   "execution_count": null,
   "metadata": {},
   "outputs": [],
   "source": [
    "# Put your matrix here"
   ]
  },
  {
   "cell_type": "markdown",
   "metadata": {},
   "source": [
    "&#9989;  **<font color=red>Do this:</font>** Review how we solved for the long term steady state of the markov system.  See if you can find these probabilities for your dyamics matrix.\n"
   ]
  },
  {
   "cell_type": "code",
   "execution_count": null,
   "metadata": {},
   "outputs": [],
   "source": [
    "# Put your matrix here"
   ]
  },
  {
   "cell_type": "markdown",
   "metadata": {},
   "source": [
    "\n",
    "\n",
    "---\n",
    "<a name=Ordinary-Differential-Equations></a>\n",
    "## 5. Ordinary Differential Equations\n",
    "\n",
    "\n",
    "\n",
    "\n",
    "Ordinary Differential Equations (ODEs) are yet another for of linear dynamical systems and are a scientific model used in a wide range of problems of the basic form:\n",
    "\n",
    "### $$\\dot{x} = A x$$\n",
    "\n",
    "These are equations such that the is the instantaneous rate of change in $x$ (i.e. $\\dot{x}$ is the derivative of $x$) is dependent on $x$.  Many systems can be modeled with these types of equations. \n",
    "\n",
    "Here is a quick video that introduces the concepts of Differential Equations. The following is a good review of general ODEs.  "
   ]
  },
  {
   "cell_type": "code",
   "execution_count": null,
   "metadata": {},
   "outputs": [],
   "source": [
    "from IPython.display import YouTubeVideo\n",
    "YouTubeVideo(\"8QeCQn7uxnE\",width=640,height=360, cc_load_policy=True)"
   ]
  },
  {
   "cell_type": "markdown",
   "metadata": {},
   "source": [
    "Now consider an ODE as a system of linear equations:\n",
    "\n",
    "$$\\dot{x_t} = A x_t$$\n",
    "\n",
    "Based on the current $x$ vector at time $t$ and the matrix $A$, we can calculate the derivative at $\\dot{x}$ at time $t$.  Once we know the derivative, we can increment the time to by some small amount $dt$ and calculate a new value of $x$ as follows:\n",
    "\n",
    "$$x_{t+1} = x_t + \\dot{x_t}dt$$\n",
    "\n",
    "Then we can do the exact sequence of calculations again for $t+2$. The following function has the transition matrix ($A$), the starting state vector ($x_0$) and a number of time steps ($N$) and uses the above equations to calculate each state and return all of the $x$ statues:"
   ]
  },
  {
   "cell_type": "markdown",
   "metadata": {},
   "source": [
    "\n",
    "The following code generates a trajectory of points starting from `x_0`, applying the matrix $A$ to get $x_1$ and then applying $A$ again to see how the system progresses from the start state. \n"
   ]
  },
  {
   "cell_type": "code",
   "execution_count": null,
   "metadata": {},
   "outputs": [],
   "source": [
    "%matplotlib inline\n",
    "import matplotlib.pylab as plt\n",
    "import numpy as np\n",
    "import sympy as sym\n",
    "sym.init_printing()"
   ]
  },
  {
   "cell_type": "code",
   "execution_count": null,
   "metadata": {},
   "outputs": [],
   "source": [
    "def traj(A, x, n):\n",
    "    dt = 0.01\n",
    "    x_all = np.matrix(np.zeros((len(x),n)))   # Store all points on the trajectory\n",
    "    for i in range(n):  \n",
    "        x_dot = A*x         # First we transform x into the derrivative\n",
    "        x = x + x_dot*dt    # Then we estimate x based on the previous value and a small increment of time.\n",
    "        x_all[:,i] = x[:,0] \n",
    "    return x_all"
   ]
  },
  {
   "cell_type": "markdown",
   "metadata": {},
   "source": [
    "For example the following code uses the matrix $A= \\begin{bmatrix}1 & 1 \\\\ 1 & -2\\end{bmatrix}$ and the starting point (0,0) over 50 timesteps to get a graph:"
   ]
  },
  {
   "cell_type": "code",
   "execution_count": null,
   "metadata": {},
   "outputs": [],
   "source": [
    "A = np.matrix([[1,1],[1,-2]])\n",
    "x0 = np.matrix([[1],[1]])\n",
    "\n",
    "x_all = traj(A, x0, 50)\n",
    "plt.scatter(np.asarray(x_all[0,:]),np.asarray(x_all[1,:]))\n",
    "\n",
    "plt.scatter(list(x0[0,:]),list(x0[1,:])) #Plot the start point as a refernce"
   ]
  },
  {
   "cell_type": "markdown",
   "metadata": {},
   "source": [
    "&#9989;  **<font color=red>Do this:</font>** Let \n",
    "$$A= \\begin{bmatrix}2 & 3 \\\\ 4 & -2\\end{bmatrix}$$\n",
    "\n",
    "Write a loop over the points $(1.5,1)$, $(-1.5,-1)$, $(-1,2)$ and plot the results of the ```traj``` function: "
   ]
  },
  {
   "cell_type": "code",
   "execution_count": null,
   "metadata": {},
   "outputs": [],
   "source": [
    "A = np.matrix([[2,3],[4,-2]])\n",
    "x0 = np.matrix([[1.5, -1.5, -1, 1, 2],[1, -1, 2, -2, -2]])"
   ]
  },
  {
   "cell_type": "code",
   "execution_count": null,
   "metadata": {},
   "outputs": [],
   "source": [
    "# Put your code here"
   ]
  },
  {
   "cell_type": "markdown",
   "metadata": {},
   "source": [
    "&#9989;  **<font color=red>Do this:</font>** Let \n",
    "$$A= \\begin{bmatrix}6 & -1 \\\\ 1 & 4\\end{bmatrix}$$\n",
    "\n",
    "Write a loop over the points $(1.5,1)$, $(-1.5,-1)$, $(-1,2)$, $(1,-2)$ and $(2,-2)$ and plot the results of the ```traj``` function: "
   ]
  },
  {
   "cell_type": "code",
   "execution_count": null,
   "metadata": {},
   "outputs": [],
   "source": [
    "# Put your code here"
   ]
  },
  {
   "cell_type": "markdown",
   "metadata": {},
   "source": [
    "&#9989;  **<font color=red>Do this:</font>** Let \n",
    "$$A= \\begin{bmatrix}5 & 2 \\\\ -4 & 1\\end{bmatrix}$$\n",
    "\n",
    "Write a loop over the points $(1.5,1)$, $(-1.5,-1)$, $(-1,2)$, $(1,-2)$ and $(2,-2)$ and plot the results of the ```traj``` function: "
   ]
  },
  {
   "cell_type": "code",
   "execution_count": null,
   "metadata": {},
   "outputs": [],
   "source": [
    "# Put your code here"
   ]
  },
  {
   "cell_type": "markdown",
   "metadata": {},
   "source": [
    "---\n",
    "<a name=Assignment-wrap-up></a>\n",
    "## 6. Assignment wrap up\n",
    "\n",
    "\n",
    "Please fill out the form that appears when you run the code below.  **You must completely fill this out in order to receive credit for the assignment!** If you cannont load the form below please try logging in to [spartan365.msu.edu](http://spartan365.msu.edu/) and try running it again, or simply use the direct link provided below. \n",
    "\n",
    "[Direct Link to Microsoft Form](https://forms.office.com/r/n0PEF9xt59)\n",
    "\n"
   ]
  },
  {
   "cell_type": "markdown",
   "metadata": {},
   "source": [
    "&#9989; **<font color=red>Assignment-Specific QUESTION:</font>** Were you able to get the ODE code working in the above example.  If not, where did you get stuck?"
   ]
  },
  {
   "cell_type": "markdown",
   "metadata": {},
   "source": [
    "Put your answer to the above question here"
   ]
  },
  {
   "cell_type": "markdown",
   "metadata": {},
   "source": [
    "&#9989; **<font color=red>Assignment-Specific QUESTION:</font>** Why do we care if $C$ is orthogonal?  What advantages does the above equation give us?"
   ]
  },
  {
   "cell_type": "markdown",
   "metadata": {},
   "source": [
    "Put your answer to the above question here"
   ]
  },
  {
   "cell_type": "code",
   "execution_count": null,
   "metadata": {},
   "outputs": [],
   "source": [
    "from IPython.display import HTML\n",
    "HTML(\n",
    "\"\"\"\n",
    "<iframe width=\"640px\" height= \"480px\" src= \"https://forms.office.com/Pages/ResponsePage.aspx?id=MHEXIi9k2UGSEXQjetVofSS1ePbivlBPgYEBiz_zsf1UOTk3QU5VVEo1SVpKWlpaWlU4WTlDUlQwWi4u&embed=true\" frameborder= \"0\" marginwidth= \"0\" marginheight= \"0\" style= \"border: none; max-width:100%; max-height:100vh\" allowfullscreen webkitallowfullscreen mozallowfullscreen msallowfullscreen> </iframe>\n",
    "\"\"\"\n",
    ")"
   ]
  },
  {
   "cell_type": "markdown",
   "metadata": {},
   "source": [
    "---------\n",
    "### Congratulations, we're done!\n",
    "\n",
    "###EndPreClass###`"
   ]
  },
  {
   "cell_type": "markdown",
   "metadata": {},
   "source": [
    "---\n",
    "Written by Dr. Dirk Colbry, Michigan State University\n",
    "<a rel=\"license\" href=\"http://creativecommons.org/licenses/by-nc/4.0/\"><img alt=\"Creative Commons License\" style=\"border-width:0\" src=\"https://i.creativecommons.org/l/by-nc/4.0/88x31.png\" /></a><br />This work is licensed under a <a rel=\"license\" href=\"http://creativecommons.org/licenses/by-nc/4.0/\">Creative Commons Attribution-NonCommercial 4.0 International License</a>.\n",
    "\n",
    "----"
   ]
  },
  {
   "cell_type": "markdown",
   "metadata": {},
   "source": [
    "\n"
   ]
  }
 ],
 "metadata": {
  "anaconda-cloud": {},
  "kernelspec": {
   "display_name": "Python 3",
   "language": "python",
   "name": "python3"
  },
  "language_info": {
   "codemirror_mode": {
    "name": "ipython",
    "version": 3
   },
   "file_extension": ".py",
   "mimetype": "text/x-python",
   "name": "python",
   "nbconvert_exporter": "python",
   "pygments_lexer": "ipython3",
   "version": "3.7.6"
  }
 },
 "nbformat": 4,
 "nbformat_minor": 4
}