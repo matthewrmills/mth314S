{
 "cells": [
  {
   "cell_type": "markdown",
   "metadata": {},
   "source": []
  },
  {
   "cell_type": "markdown",
   "metadata": {},
   "source": [
    "# 104 In-Class Assignment: Transformations & Robotics\n",
    "\n",
    "<img src=\"https://people.gnome.org/~mathieu/libart/art-affines.png\">\n",
    "\n",
    "Image from: https://people.gnome.org/~mathieu/libart/libart-affine-transformation-matrices.html\n",
    "    "
   ]
  },
  {
   "cell_type": "markdown",
   "metadata": {},
   "source": [
    "### Agenda for today's class\n",
    "\n",
    "1. Review of Pre-Class Assignment\n",
    "1. Homework 1 Review\n",
    "1. [Affine Transform Review](#Affine_Transforms)\n",
    "1. [Fractals](#Fractals)\n",
    "1. [Robot 1: Pick and Place](#Pick_and_Place)\n",
    "1. [Robot 2: Odd Clock](#Odd_Clock)\n"
   ]
  },
  {
   "cell_type": "markdown",
   "metadata": {},
   "source": [
    "----\n",
    "<a name=\"Affine_Transforms\"></a>\n",
    "## 3. Affine Transforms\n",
    "\n",
    "In this section, we are going to explore different types of transformation matrices. \n",
    "The following code is designed to demonstrate the properties of some different transformation matrices.  \n",
    "\n",
    "&#9989; **<font color=red>DO THIS:</font>** Review the following code.  "
   ]
  },
  {
   "cell_type": "code",
   "execution_count": null,
   "metadata": {},
   "outputs": [],
   "source": [
    "#Some python packages we will be using\n",
    "%matplotlib inline\n",
    "import numpy as np\n",
    "import matplotlib.pylab as plt\n",
    "from mpl_toolkits.mplot3d import Axes3D #Lets us make 3D plots\n",
    "import numpy as np\n",
    "import sympy as sym\n",
    "sym.init_printing(use_unicode=True) # Trick to make matrixes look nice in jupyter"
   ]
  },
  {
   "cell_type": "code",
   "execution_count": null,
   "metadata": {},
   "outputs": [],
   "source": [
    "# Define some points\n",
    "x = [0.0,  0.0,  2.0,  8.0, 10.0, 10.0, 8.0, 4.0, 3.0, 3.0, 4.0, 6.0, 7.0, 7.0, 10.0, \n",
    "     10.0,  8.0,  2.0, 0.0, 0.0, 2.0, 6.0, 7.0,  7.0,  6.0,  4.0,  3.0, 3.0, 0.0]\n",
    "y = [0.0, -2.0, -4.0, -4.0, -2.0,  2.0, 4.0, 4.0, 5.0, 7.0, 8.0, 8.0, 7.0, 6.0,  6.0,\n",
    "     8.0, 10.0, 10.0, 8.0, 4.0, 2.0, 2.0, 1.0, -1.0, -2.0, -2.0, -1.0, 0.0, 0.0]\n",
    "con = [ 1.0 for i in range(len(x))] \n",
    "\n",
    "p = np.matrix([x,y,con])\n",
    "\n",
    "\n",
    "mp = p.copy()\n",
    "\n",
    "#Plot Points\n",
    "plt.plot(mp[0,:].tolist()[0],mp[1,:].tolist()[0], color='green');\n",
    "plt.axis('scaled');\n",
    "plt.axis([-10,20,-15,15]);\n",
    "plt.title('Start Location');"
   ]
  },
  {
   "cell_type": "markdown",
   "metadata": {},
   "source": [
    "### Example Scaling Matrix"
   ]
  },
  {
   "cell_type": "code",
   "execution_count": null,
   "metadata": {},
   "outputs": [],
   "source": [
    "#Example Scaling Matrix\n",
    "\n",
    "#Define Matrix\n",
    "scale = 0.5  #The amount that coordinates are scaled.\n",
    "S = np.matrix([[scale,0,0], [0,scale,0], [0,0,1]])\n",
    "\n",
    "#Apply matrix\n",
    "\n",
    "mp = p.copy()\n",
    "mp = S*mp\n",
    "\n",
    "#Plot points after transform\n",
    "plt.plot(mp[0,:].tolist()[0],mp[1,:].tolist()[0], color='green')\n",
    "plt.axis('scaled')\n",
    "plt.axis([-10,20,-15,15])\n",
    "plt.title('After Scaling')\n",
    "\n",
    "#Uncomment the next line if you want to see the original.\n",
    "# plt.plot(p[0,:].tolist()[0],p[1,:].tolist()[0], color='blue',alpha=0.3);\n",
    "\n",
    "sym.Matrix(S)"
   ]
  },
  {
   "cell_type": "markdown",
   "metadata": {},
   "source": [
    "### Example Translation Matrix"
   ]
  },
  {
   "cell_type": "code",
   "execution_count": null,
   "metadata": {},
   "outputs": [],
   "source": [
    "#Example Translation Matrix\n",
    "\n",
    "#Define Matrix\n",
    "dx = 1  #The amount shifted in the x-direction\n",
    "dy = 1  #The amount shifted in the y-direction\n",
    "T = np.matrix([[1,0,dx], [0,1,dy], [0,0,1]])\n",
    "\n",
    "#Apply matrix\n",
    "\n",
    "mp = p.copy()\n",
    "\n",
    "mp = T*mp\n",
    "\n",
    "#Plot points after transform\n",
    "plt.plot(mp[0,:].tolist()[0],mp[1,:].tolist()[0], color='green')\n",
    "plt.axis('scaled')\n",
    "plt.axis([-10,20,-15,15])\n",
    "plt.title('After Translation')\n",
    "\n",
    "#Uncomment the next line if you want to see the original.\n",
    "# plt.plot(p[0,:].tolist()[0],p[1,:].tolist()[0], color='blue',alpha=0.3);\n",
    "\n",
    "sym.Matrix(T)"
   ]
  },
  {
   "cell_type": "markdown",
   "metadata": {},
   "source": [
    "### Example Reflection Matrix"
   ]
  },
  {
   "cell_type": "code",
   "execution_count": null,
   "metadata": {},
   "outputs": [],
   "source": [
    "#Example Reflection Matrix\n",
    "\n",
    "#Define Matrix\n",
    "Re = np.matrix([[1,0,0],[0,-1,0],[0,0,1]]) ## Makes all y-values opposite so it reflects over the x-axis.\n",
    "\n",
    "#Apply matrix\n",
    "\n",
    "mp = p.copy()\n",
    "\n",
    "mp = Re*mp\n",
    "\n",
    "#Plot points after transform\n",
    "plt.plot(mp[0,:].tolist()[0],mp[1,:].tolist()[0], color='green')\n",
    "plt.axis('scaled')\n",
    "plt.axis([-10,20,-15,15])\n",
    "\n",
    "#Uncomment the next line if you want to see the original.\n",
    "# plt.plot(p[0,:].tolist()[0],p[1,:].tolist()[0], color='blue',alpha=0.3);\n",
    "\n",
    "sym.Matrix(Re)"
   ]
  },
  {
   "cell_type": "markdown",
   "metadata": {},
   "source": [
    "### Example Rotation Matrix"
   ]
  },
  {
   "cell_type": "code",
   "execution_count": null,
   "metadata": {},
   "outputs": [],
   "source": [
    "#Example Rotation Matrix\n",
    "\n",
    "#Define Matrix\n",
    "degrees = 30\n",
    "theta = degrees * np.pi / 180  ##Make sure to always convert from degrees to radians. \n",
    "\n",
    "# Rotates the points 30 degrees counterclockwise.\n",
    "R = np.matrix([[np.cos(theta),-np.sin(theta),0],[np.sin(theta), np.cos(theta),0],[0,0,1]]) \n",
    "\n",
    "#Apply matrix\n",
    "mp = p.copy()\n",
    "\n",
    "mp = R*mp\n",
    "\n",
    "#Plot points after transform\n",
    "plt.plot(mp[0,:].tolist()[0],mp[1,:].tolist()[0], color='green')\n",
    "plt.axis('scaled')\n",
    "plt.axis([-10,20,-15,15])\n",
    "\n",
    "#Uncomment the next line if you want to see the original.\n",
    "# plt.plot(p[0,:].tolist()[0],p[1,:].tolist()[0], color='blue',alpha=0.3);\n",
    "\n",
    "sym.Matrix(R)"
   ]
  },
  {
   "cell_type": "markdown",
   "metadata": {},
   "source": [
    "### Example Shear Matrix"
   ]
  },
  {
   "cell_type": "code",
   "execution_count": null,
   "metadata": {},
   "outputs": [],
   "source": [
    "#Example Shear Matrix\n",
    "\n",
    "#Define Matrix\n",
    "shx = 0.1\n",
    "shy = -0.5\n",
    "SH = np.matrix([[1,shx,0], [shy,1,0], [0,0,1]])\n",
    "\n",
    "#Apply matrix\n",
    "\n",
    "mp = p.copy()\n",
    "\n",
    "mp = SH*mp\n",
    "\n",
    "#Plot points after transform\n",
    "plt.plot(mp[0,:].tolist()[0],mp[1,:].tolist()[0], color='green')\n",
    "plt.axis('scaled')\n",
    "plt.axis([-10,20,-15,15])\n",
    "\n",
    "sym.Matrix(SH)"
   ]
  },
  {
   "cell_type": "markdown",
   "metadata": {},
   "source": [
    "### Combine Transforms\n",
    "\n",
    "We have five transforms $R$, $S$, $T$, $Re$, and $SH$ \n",
    "\n",
    "&#9989; **<font color=red>DO THIS:</font>** Construct a ($3 \\times 3$) transformation Matrix (called $M$) which combines these five transforms into a single matrix. You can choose different orders for these five matrix, then compare your result with other students. "
   ]
  },
  {
   "cell_type": "markdown",
   "metadata": {},
   "source": [
    "Put your answer here"
   ]
  },
  {
   "cell_type": "code",
   "execution_count": null,
   "metadata": {},
   "outputs": [],
   "source": [
    "#put your code for your answer here."
   ]
  },
  {
   "cell_type": "markdown",
   "metadata": {},
   "source": [
    "### Interactive Example"
   ]
  },
  {
   "cell_type": "code",
   "execution_count": null,
   "metadata": {},
   "outputs": [],
   "source": [
    "from ipywidgets import interact,interact_manual\n",
    "\n",
    "def affine_image(angle=0,scale=1.0,dx=0,dy=0, shx=0, shy=0):\n",
    "    theta = -angle/180  * np.pi\n",
    "    \n",
    "    plt.plot(p[0,:].tolist()[0],p[1,:].tolist()[0], color='green')\n",
    "    \n",
    "    S = np.matrix([[scale,0,0], [0,scale,0], [0,0,1]])\n",
    "    SH = np.matrix([[1,shx,0], [shy,1,0], [0,0,1]])\n",
    "    T = np.matrix([[1,0,dx], [0,1,dy], [0,0,1]])\n",
    "    R = np.matrix([[np.cos(theta),-np.sin(theta),0],[np.sin(theta), np.cos(theta),0],[0,0,1]])\n",
    "    \n",
    "    #Full Transform\n",
    "    FT = T*SH*R*S;\n",
    "    #Apply Transforms\n",
    "    p2 =  FT*p;\n",
    "    \n",
    "    #Plot Output\n",
    "    plt.plot(p2[0,:].tolist()[0],p2[1,:].tolist()[0], color='black')\n",
    "    plt.axis('scaled')\n",
    "    plt.axis([-10,20,-15,15])\n",
    "    return sym.Matrix(FT)"
   ]
  },
  {
   "cell_type": "code",
   "execution_count": null,
   "metadata": {},
   "outputs": [],
   "source": [
    "interact_manual(affine_image, angle=(-180,180), scale_manual=(0.01,2), dx=(-5,15,0.5), dy=(-15,15,0.5), shx = (-1,1,0.1), shy = (-1,1,0.1)); ##TODO: Modify this line of code"
   ]
  },
  {
   "cell_type": "markdown",
   "metadata": {},
   "source": [
    "The following command can also be used but it may be slow on some peoples computers."
   ]
  },
  {
   "cell_type": "code",
   "execution_count": null,
   "metadata": {},
   "outputs": [],
   "source": [
    "#interact(affine_image, angle=(-180,180), scale=(0.01,2), dx=(-5,15,0.5), dy=(-15,15,0.5), shx = (-1,1,0.1), shy = (-1,1,0.1)); ##TODO: Modify this line of code"
   ]
  },
  {
   "cell_type": "markdown",
   "metadata": {},
   "source": [
    "&#9989; **<font color=red>DO THIS:</font>**  Using the above interactive enviornment to see if you can figure out the transformation matrix to make the following image:\n",
    "\n",
    "<img src=\"https://lh6.googleusercontent.com/_0-jr5Z0DQzqVM3TD3Xa3QWC43PBT6ru5M-B-_7dfbib2SSvkNkxtioBFaU__jTvEJMMG9SAVg=w380\">"
   ]
  },
  {
   "cell_type": "markdown",
   "metadata": {},
   "source": [
    "&#9989; **<font color=red>Questions:</font>** What where the input values?"
   ]
  },
  {
   "cell_type": "markdown",
   "metadata": {},
   "source": [
    "\n",
    "Put your answer here:\n",
    "\n",
    "r = \n",
    "\n",
    "scale = \n",
    "\n",
    "dx = \n",
    "\n",
    "dy = \n",
    "\n",
    "shx = \n",
    "\n",
    "shy = "
   ]
  },
  {
   "cell_type": "markdown",
   "metadata": {},
   "source": [
    "----\n",
    "<a name=\"Fractals\"></a>\n",
    "## 3. Fractals\n"
   ]
  },
  {
   "cell_type": "markdown",
   "metadata": {},
   "source": [
    "In this section we are going to explore using transformations to generate fractals.  Consider the following set of linear equations.  Each one takes a 2D point as input, applies a $2 \\times 2$ transform, and then also translates by a $2 \\times 1$ translation matrix"
   ]
  },
  {
   "cell_type": "markdown",
   "metadata": {},
   "source": [
    "$$ \n",
    "T_1:\\left[ \\begin{matrix}\n",
    "    x_1 \\\\\n",
    "    y_1 \n",
    " \\end{matrix}\n",
    "\\right] \n",
    "=\n",
    "\\left[ \\begin{matrix}\n",
    "    0.86 & 0.03  \\\\\n",
    "    -0.03 & 0.86 \n",
    " \\end{matrix}\n",
    "\\right] \n",
    "\\left[ \\begin{matrix}\n",
    "    x_0 \\\\\n",
    "    y_0 \n",
    " \\end{matrix}\n",
    "\\right] +\n",
    "\\left[\\begin{matrix}\n",
    "0\\\\\n",
    "1.5\n",
    "\\end{matrix}\n",
    "\\right]\n",
    ": probability =  0.83 $$ "
   ]
  },
  {
   "cell_type": "markdown",
   "metadata": {},
   "source": [
    "$$ \n",
    "T_2: \\left[ \\begin{matrix}\n",
    "    x_1 \\\\\n",
    "    y_1 \n",
    " \\end{matrix}\n",
    "\\right] \n",
    "=\n",
    "\\left[ \\begin{matrix}\n",
    "    0.2 & -0.25  \\\\\n",
    "    0.21 & 0.23 \n",
    " \\end{matrix}\n",
    "\\right] \n",
    "\\left[ \\begin{matrix}\n",
    "    x_0 \\\\\n",
    "    y_0 \n",
    " \\end{matrix}\n",
    "\\right] +\n",
    "\\left[\\begin{matrix}\n",
    "0\\\\\n",
    "1.5\n",
    "\\end{matrix}\n",
    "\\right]\n",
    ": probability =  0.08 $$ "
   ]
  },
  {
   "cell_type": "markdown",
   "metadata": {},
   "source": [
    "$$ \n",
    "T_3 : \\left[ \\begin{matrix}\n",
    "    x_1 \\\\\n",
    "    y_1 \n",
    " \\end{matrix}\n",
    "\\right] \n",
    "=\n",
    "\\left[ \\begin{matrix}\n",
    "    0.15 & 0.27  \\\\\n",
    "    0.25 & 0.26 \n",
    " \\end{matrix}\n",
    "\\right] \n",
    "\\left[ \\begin{matrix}\n",
    "    x_0 \\\\\n",
    "    y_0 \n",
    " \\end{matrix}\n",
    "\\right] +\n",
    "\\left[\\begin{matrix}\n",
    "0\\\\\n",
    "0.45\n",
    "\\end{matrix}\n",
    "\\right]\n",
    ": probability =  0.08 $$ "
   ]
  },
  {
   "cell_type": "markdown",
   "metadata": {},
   "source": [
    "$$ \n",
    "T_4: \\left[ \\begin{matrix}\n",
    "    x_1 \\\\\n",
    "    y_1 \n",
    " \\end{matrix}\n",
    "\\right] \n",
    "=\n",
    "\\left[ \\begin{matrix}\n",
    "    0 & 0  \\\\\n",
    "    0 & 0.17 \n",
    " \\end{matrix}\n",
    "\\right] \n",
    "\\left[ \\begin{matrix}\n",
    "    x_0 \\\\\n",
    "    y_0 \n",
    " \\end{matrix}\n",
    "\\right] +\n",
    "\\left[\\begin{matrix}\n",
    "0\\\\\n",
    "0\n",
    "\\end{matrix}\n",
    "\\right] : probability =  0.01 $$"
   ]
  },
  {
   "cell_type": "markdown",
   "metadata": {},
   "source": [
    "We want to write a program that use the above transformations to \"randomly\" generate an image.  We start with a point at the origin (0,0) and then randomly pick one of the above transformation based on their probability, update the point position and then randomly pick another point.  Each matrix adds a bit of rotation and translation with $T_4$ as a kind of restart.    \n"
   ]
  },
  {
   "cell_type": "markdown",
   "metadata": {},
   "source": [
    "To try to make our program a little easier, lets rewrite the above equations to make a system of  \"equivelent\" equations of the form $Ax=b$ with only one matrix.   We do this by adding an additional variable variable $z=1$.  For example, verify that the following equation is the same as equation for $T1$ above:\n",
    "\n",
    "$$ \n",
    "T_1: \\left[ \\begin{matrix}\n",
    "    x_1 \\\\\n",
    "    y_1 \n",
    " \\end{matrix}\n",
    "\\right] \n",
    "=\n",
    "\\left[ \\begin{matrix}\n",
    "    0.86 & 0.03 & 0 \\\\\n",
    "    -0.03 & 0.86 & 1.5\n",
    " \\end{matrix}\n",
    "\\right] \n",
    "\\left[ \\begin{matrix}\n",
    "    x_0 \\\\\n",
    "    y_0 \\\\\n",
    "    1\n",
    " \\end{matrix}\n",
    "\\right] \n",
    "$$ \n",
    "Please NOTE that we do not change the value for $z$, and it is always be $1$."
   ]
  },
  {
   "cell_type": "markdown",
   "metadata": {},
   "source": [
    "&#9989; **<font color=red>DO THIS:</font>** Verify the $Ax=b$ format will generate the same answer as the $T1$ equation above."
   ]
  },
  {
   "cell_type": "markdown",
   "metadata": {},
   "source": [
    "The following is some pseudocode that we will be using to generate the Fractals:\n",
    "\n",
    "1. Let $x = 0$, $y = 0$, $z=1$\n",
    "2. Use a random generator to select one of the affine transformations $T_i$ according to the given probabilities.\n",
    "3. Let $(x',y') = T_i(x,y,z)$.\n",
    "4. Plot $(x', y')$\n",
    "5. Let $(x,y) = (x',y')$\n",
    "6. Repeat Steps 2, 3, 4, and 5 one thousand times. "
   ]
  },
  {
   "cell_type": "markdown",
   "metadata": {},
   "source": [
    "The following python code implements the above pseudocode with only the $T1$ matrix:"
   ]
  },
  {
   "cell_type": "code",
   "execution_count": null,
   "metadata": {},
   "outputs": [],
   "source": [
    "%matplotlib inline\n",
    "\n",
    "import numpy as np\n",
    "import matplotlib.pylab as plt\n",
    "import sympy as sym\n",
    "sym.init_printing(use_unicode=True) # Trick to make matrixes look nice in jupyter\n",
    "\n",
    "T1 = np.matrix([[0.86, 0.03, 0],[-0.03, 0.86, 1.5]])\n",
    "#####Start your code here #####\n",
    "T2 = T1 \n",
    "T3 = T1\n",
    "T4 = T1\n",
    "#####End of your code here#####       \n",
    "\n",
    "prob = [0.83,0.08,0.08,0.01]\n",
    "\n",
    "I = np.matrix([[1,0,0],[0,1,0],[0,0,1]])\n",
    "\n",
    "fig = plt.figure(figsize=[10,10])\n",
    "p = np.matrix([[0.],[0],[1]])\n",
    "plt.plot(p[0],p[1], 'go');\n",
    "for i in range(1,1000):\n",
    "    ticket = np.random.random();\n",
    "    if (ticket < prob[0]):\n",
    "        T = T1\n",
    "    elif (ticket < sum(prob[0:2])):\n",
    "        T = T2\n",
    "    elif (ticket < sum(prob[0:3])):\n",
    "        T = T3\n",
    "    else:\n",
    "        T = T4\n",
    "    p[0:2,0] = T*p    \n",
    "    plt.plot(p[0],p[1], 'go');\n",
    "plt.axis('scaled');"
   ]
  },
  {
   "cell_type": "markdown",
   "metadata": {},
   "source": [
    "&#9989; **<font color=red>DO THIS:</font>** Modify the above code to add in the $T2$, $T3$ and $T4$ transforms.  "
   ]
  },
  {
   "cell_type": "markdown",
   "metadata": {},
   "source": [
    "&#9989; **<font color=red>QUESTION:</font>**  Describe in words for the actions performed by $T_1$, $T_2$, $T_3$, and $T_4$. "
   ]
  },
  {
   "cell_type": "markdown",
   "metadata": {},
   "source": [
    "$T_1$: Put your answer here"
   ]
  },
  {
   "cell_type": "markdown",
   "metadata": {},
   "source": [
    "$T_2$: Put your answer here"
   ]
  },
  {
   "cell_type": "markdown",
   "metadata": {},
   "source": [
    "$T_3$: Put your answer here"
   ]
  },
  {
   "cell_type": "markdown",
   "metadata": {},
   "source": [
    "\n",
    "$T_4$: Put your answer here"
   ]
  },
  {
   "cell_type": "markdown",
   "metadata": {},
   "source": [
    "&#9989; **<font color=red>DO THIS:</font>** Using the same ideas to design and build your own fractal.  You are welcome to get inspiration from the internet. Make sure you document where your inspiration comes from.  Try to build something fun, unique and different.  Show what you come up with with your instructors. "
   ]
  },
  {
   "cell_type": "code",
   "execution_count": null,
   "metadata": {},
   "outputs": [],
   "source": []
  },
  {
   "cell_type": "markdown",
   "metadata": {},
   "source": [
    "&#9989; **<font color=red>Questions:</font>** Did you get the same result with others? You can compare the matrix $M$ to see the difference. If not, can you explain why it happens?"
   ]
  },
  {
   "cell_type": "markdown",
   "metadata": {},
   "source": [
    "## The Kinematics of Robotics\n",
    "\n",
    "<img src=\"https://cdn.pixabay.com/photo/2013/07/13/12/04/android-159109__340.png\" alt=\"Cartoon Robot\" width=20%>\n",
    "\n",
    "Image from: https://pixabay.com/images/search/toy%20robot/\n",
    "\n",
    "Today, we will calculate the forward kinematics of some 3D robots. This means we would like to come up with a set of transformations such that we can know the $x,~y,~z$ coordinates of the end effector with respect to the world coordinate system which is at the base of the robot.  "
   ]
  },
  {
   "cell_type": "markdown",
   "metadata": {},
   "source": [
    "----\n",
    "<a name=\"Pick_and_Place\"></a>\n",
    "## 2. Robot 1: Pick and Place \n",
    "\n",
    "Consider the robot depicted in the following image. \n",
    "\n",
    "<img alt=\"Picture of a pick-and-place robot (see text)\" src=\"http://cfnewsads.thomasnet.com/images/large/489/489457.jpg\" width=\"50%\">\n",
    "   \n",
    "This style of robot is often called a \"pick-and-place\" robot. \n",
    "It has two motors that rotate around the z-axis to move the end effector in the $x-y$-plane; one \"linear actuator\" which moves up-and-down in the $z$-direction; and then finally a third rotating \"wrist\" joint that turns the \"hand\" of the robot.\n",
    "Let's model our robot using the following system diagram:\n",
    "\n",
    "\n",
    "<img alt=\"System diagram of pick-and-place robot\" src=\"https://lh4.googleusercontent.com/z5P5JHOmmn3GzXulvHwtqKeLSeUILEHe_9yndHp33gZ1m2mqblR8nmHgNDDzHq3W38jJBdh-Tg=w740\" width=\"35%\">\n",
    "\n",
    "**NOTE:** The origin for this robot is located at the base of the first \"tower\" and is in-line with the first joint.  The $x$-direction goes from the origin to the right and the $z$-axis goes from the origin upwards. \n",
    "\n",
    "This is a little more tricky than the 2D case where everything was rotating around the axes that projects out of the $x-y$ plane.  \n",
    "In 2D we only really worry about one axis of rotation. \n",
    "However in 3D we can rotate around the $x$, $y$, and $z$ axis. \n",
    "The following are the 3D transformation matrices that combine rotation and translations:\n",
    "\n",
    "\n",
    "\n",
    "## X-Axis rotation\n",
    "\n",
    "$$ \n",
    "\\left[ \\begin{matrix}\n",
    "    x' \\\\\n",
    "    y' \\\\\n",
    "    z' \\\\\n",
    "    1 \n",
    " \\end{matrix}\n",
    "\\right] \n",
    "=\n",
    "\\left[ \\begin{matrix}\n",
    "    1 & 0 & 0 & dx \\\\\n",
    "    0 & cos(q) & -sin(q)  & dy \\\\\n",
    "    0 & sin(q) & cos(q)  & dz \\\\\n",
    "    0 & 0 & 0 & 1\n",
    " \\end{matrix}\n",
    "\\right] \n",
    "\\left[ \\begin{matrix}\n",
    "    x \\\\\n",
    "    y \\\\\n",
    "    z \\\\\n",
    "    1 \n",
    " \\end{matrix}\n",
    "\\right] \n",
    "$$ \n",
    "\n",
    "\n",
    "\n",
    "## Y-Axis rotation\n",
    "\n",
    "$$ \n",
    "\\left[ \\begin{matrix}\n",
    "    x' \\\\\n",
    "    y' \\\\\n",
    "    z' \\\\\n",
    "    1 \n",
    " \\end{matrix}\n",
    "\\right] \n",
    "=\n",
    "\\left[ \\begin{matrix}\n",
    "    cos(q) & 0 & sin(q) & dx \\\\\n",
    "    0 & 1 & 0 & dy \\\\\n",
    "    -sin(q) & 0 & cos(q) & dz \\\\\n",
    "    0 & 0 & 0 & 1\n",
    " \\end{matrix}\n",
    "\\right] \n",
    "\\left[ \\begin{matrix}\n",
    "    x \\\\\n",
    "    y \\\\\n",
    "    z \\\\\n",
    "    1 \n",
    " \\end{matrix}\n",
    "\\right] \n",
    "$$ \n",
    "\n",
    "\n",
    "\n",
    "## Z-Axis rotation\n",
    "\n",
    "$$ \n",
    "\\left[ \\begin{matrix}\n",
    "    x' \\\\\n",
    "    y' \\\\\n",
    "    z' \\\\\n",
    "    1 \n",
    " \\end{matrix}\n",
    "\\right] \n",
    "=\n",
    "\\left[ \\begin{matrix}\n",
    "    cos(q) & -sin(q) & 0 & dx \\\\\n",
    "    sin(q) & cos(q) & 0 & dy \\\\\n",
    "    0 & 0 & 1 & dz \\\\\n",
    "    0 & 0 & 0 & 1\n",
    " \\end{matrix}\n",
    "\\right] \n",
    "\\left[ \\begin{matrix}\n",
    "    x \\\\\n",
    "    y \\\\\n",
    "    z \\\\\n",
    "    1 \n",
    " \\end{matrix}\n",
    "\\right] \n",
    "$$ "
   ]
  },
  {
   "cell_type": "markdown",
   "metadata": {},
   "source": [
    "**<font color=red>Question:</font>** Construct a joint transformation matrix called $J_1$, which represents a coordinate system that is located at the top of the first \"tower\" (robot's sholder) and moves by rotating around the $z$-axis by $\\theta_1$ degrees. Represent your matrix using ```sympy``` and the provided symbols:"
   ]
  },
  {
   "cell_type": "code",
   "execution_count": null,
   "metadata": {},
   "outputs": [],
   "source": [
    "# Here are some libraries you may need to use\n",
    "%matplotlib inline\n",
    "import matplotlib.pylab as plt\n",
    "import numpy as np\n",
    "import sympy as sym\n",
    "sym.init_printing()"
   ]
  },
  {
   "cell_type": "code",
   "execution_count": null,
   "metadata": {},
   "outputs": [],
   "source": [
    "#Use the following symbols\n",
    "\n",
    "q1,q2,d4,q4,v1,v2,a1,a2 = sym.symbols('\\Theta_1, \\Theta_2, d_4, \\Theta_4, V_1, V_2,A_1,A_2', negative=False)"
   ]
  },
  {
   "cell_type": "code",
   "execution_count": null,
   "metadata": {},
   "outputs": [],
   "source": [
    "#put your answer here\n",
    "q1"
   ]
  },
  {
   "cell_type": "markdown",
   "metadata": {},
   "source": [
    "**<font color=red>Question:</font>** Construct a joint transformation matrix called $J_2$, which represents a coordinate system that is located at the \"elbow\" joint between the two rotating arms and rotates with the second arm around the $z$-axis by $\\theta_2$ degrees. Represent your matrix using ```sympy``` and the symbols provided in question a:"
   ]
  },
  {
   "cell_type": "code",
   "execution_count": null,
   "metadata": {},
   "outputs": [],
   "source": [
    "#put your answer here"
   ]
  },
  {
   "cell_type": "markdown",
   "metadata": {},
   "source": [
    "**<font color=red>Question:</font>** Construct a joint transformation matrix called $J_3$, which represents a coordinate translation from the \"elbow\" joint all the way to the horizontal end of the robot arm above the wrist joint.  Note: there is no rotation in this transformation.  Represent your matrix using ```sympy``` and the symbols provided in question a:"
   ]
  },
  {
   "cell_type": "code",
   "execution_count": null,
   "metadata": {},
   "outputs": [],
   "source": [
    "#put your answer here"
   ]
  },
  {
   "cell_type": "markdown",
   "metadata": {},
   "source": [
    "**<font color=red>Question:</font>** Construct a joint transformation matrix called $J_4$, which represents a coordinate system that is located at the tip of the robot's \"hand\" and rotates around the $z$-axis by $\\theta_4$. This one is a little different, the configuration is such that the hand touches the table when $d_4=0$ so the translation component for the matrix in the z axis is $d_4-V_1-V_2$. "
   ]
  },
  {
   "cell_type": "code",
   "execution_count": null,
   "metadata": {},
   "outputs": [],
   "source": [
    "\n",
    "#Put your code here\n"
   ]
  },
  {
   "cell_type": "code",
   "execution_count": null,
   "metadata": {},
   "outputs": [],
   "source": [
    "#Plot combined transformed points\n",
    "mp = p.copy()\n",
    "mp = M*mp\n",
    "plt.plot(mp[0,:].tolist()[0],mp[1,:].tolist()[0], color='green');\n",
    "plt.axis('scaled');\n",
    "plt.axis([-10,20,-15,15]);\n",
    "plt.title('Start Location');"
   ]
  },
  {
   "cell_type": "markdown",
   "metadata": {},
   "source": [
    "**<font color=red>Question:</font>** Rewrite the joint transformation matrices from questions a - d as numpy matrices with discrete (instead of symbolic) values.  Plug in your transformations in the code below and use this to simulate the robot:\n",
    "\n",
    "**Hint.** If you copy an paste from above you need to convert all of the ``sympy`` syntax into ``numpy`` syntax."
   ]
  },
  {
   "cell_type": "code",
   "execution_count": null,
   "metadata": {},
   "outputs": [],
   "source": [
    "from ipywidgets import interact, interact_manual\n",
    "from mpl_toolkits.mplot3d import Axes3D\n",
    "\n",
    "def Robot_Simulator(theta1=0,theta2=-0,d4=0,theta4=0):\n",
    "\n",
    "    #Convert from degrees to radians\n",
    "    q1 = theta1/180 * np.pi\n",
    "    q2 = theta2/180 * np.pi\n",
    "    q4 = theta4/180 * np.pi\n",
    "\n",
    "    #Define robot geomitry\n",
    "    v1 = 4 \n",
    "    v2 = 0\n",
    "    a1 = 2 \n",
    "    a2 = 2 \n",
    "\n",
    "    #Define your transfomraiton matrices here. \n",
    "    J1 = np.matrix([[1, 0, 0, 0 ], \n",
    "                    [0, 1, 0, 0 ], \n",
    "                    [0, 0, 1, 0],\n",
    "                    [0, 0, 0, 1]])\n",
    "\n",
    "    J2 = np.matrix([[1, 0, 0, 0 ], \n",
    "                    [0, 1, 0, 0 ], \n",
    "                    [0, 0, 1, 0],\n",
    "                    [0, 0, 0, 1]])\n",
    "\n",
    "    J3 = np.matrix([[1, 0, 0, 0 ], \n",
    "                    [0, 1, 0, 0 ], \n",
    "                    [0, 0, 1, 0],\n",
    "                    [0, 0, 0, 1]])\n",
    "\n",
    "    J4 = np.matrix([[1, 0, 0, 0 ], \n",
    "                    [0, 1, 0, 0 ], \n",
    "                    [0, 0, 1, 0],\n",
    "                    [0, 0, 0, 1]])\n",
    "\n",
    "    \n",
    "    #Make the rigid end effector\n",
    "    p = np.matrix([[-0.5,0,0, 1], [-0.5,0,0.5,1], [0.5,0,0.5, 1], [0.5,0,0,1],[0.5,0,0.5, 1], [0,0,0.5,1], [0,0,V1+V2,1]]).T\n",
    "    \n",
    "    #Propogate and add joint points though the simulation\n",
    "    p = np.concatenate((J4*p, np.matrix([0,0,0,1]).T), axis=1 )\n",
    "    p = np.concatenate((J3*p, np.matrix([0,0,0,1]).T), axis=1 )\n",
    "    p = np.concatenate((J2*p, np.matrix([0,0,0,1]).T), axis=1 )\n",
    "    p = np.concatenate((J1*p, np.matrix([0,0,0,1]).T), axis=1 )\n",
    "        \n",
    "    fig = plt.figure()\n",
    "    ax = fig.add_subplot(111, projection='3d')\n",
    "\n",
    "    ax.scatter(p[0,:].tolist()[0],(p[1,:]).tolist()[0], (p[2,:]).tolist()[0], s=20, facecolors='blue', edgecolors='r')\n",
    "    ax.scatter(0,0,0, s=20, facecolors='r', edgecolors='r')\n",
    "    ax.plot(p[0,:].tolist()[0],(p[1,:]).tolist()[0], (p[2,:]).tolist()[0])\n",
    "    ax.set_xlim([-5,5])\n",
    "    ax.set_ylim([-5,5])\n",
    "    ax.set_zlim([0,6])\n",
    "    ax.set_xlabel('x-axis')\n",
    "    ax.set_ylabel('y-axis')    \n",
    "    ax.set_zlabel('z-axis') \n",
    "\n",
    "    plt.show()\n",
    "    \n",
    "target = interact_manual(Robot_Simulator, theta1=(-180,180), theta2=(-180,180), d4=(0,6), theta4=(-180,180)); ##TODO: Modify this line of code"
   ]
  },
  {
   "cell_type": "markdown",
   "metadata": {},
   "source": [
    "&#9989; **<font color=red>Question:</font>** Can we change the order of the transformation matrices? Why? You can try and see what happens."
   ]
  },
  {
   "cell_type": "markdown",
   "metadata": {},
   "source": [
    "Put your answer to the above question here."
   ]
  },
  {
   "cell_type": "markdown",
   "metadata": {},
   "source": [
    "----\n",
    "<a name=\"Odd_Clock\"></a>\n",
    "## 6. Robot 2: Odd Clock \n",
    "\n",
    "Consider the clock depicted in the following image. \n",
    "\n",
    "<img alt=\"Picture of an 'odd clock' with the minute hand attached to the end of the hour hand\" src=\"https://hackaday.com/wp-content/uploads/2015/05/hihclock.jpg\" width=80%>\n",
    "\n",
    "from: [Hackaday](https://hackaday.com/2015/05/26/odd-clock-moves-minute-hand-to-hour-hand/)\n",
    "\n",
    "\n",
    "Instead of a standard clock--which has independent hour and minute hands--this clock connects the minute hand at the end of the hour hand. Here is a video showing the sped-up clock motion: "
   ]
  },
  {
   "cell_type": "code",
   "execution_count": null,
   "metadata": {},
   "outputs": [],
   "source": [
    "from IPython.display import YouTubeVideo\n",
    "YouTubeVideo(\"bowLiSlm_gA\",width=640,height=360, mute=1)"
   ]
  },
  {
   "cell_type": "markdown",
   "metadata": {},
   "source": [
    "The following code is an animated traditional clock which uses the function as a trick to animate things in jupyter:"
   ]
  },
  {
   "cell_type": "code",
   "execution_count": null,
   "metadata": {},
   "outputs": [],
   "source": [
    "%matplotlib inline\n",
    "import matplotlib.pylab as plt\n",
    "from IPython.display import display, clear_output\n",
    "import time\n",
    "def show_animation(delay=0.01):\n",
    "    fig = plt.gcf();\n",
    "    time.sleep(delay)       # Sleep for half a second to slow down the animation\n",
    "    clear_output(wait=True) # Clear output for dynamic display\n",
    "    display(fig)            # Reset display\n",
    "    fig.clear()             # Prevent overlapping and layered plots"
   ]
  },
  {
   "cell_type": "markdown",
   "metadata": {},
   "source": [
    "Lets see a standard analog clock run at high speed"
   ]
  },
  {
   "cell_type": "code",
   "execution_count": null,
   "metadata": {},
   "outputs": [],
   "source": [
    "import numpy as np\n",
    "'''\n",
    "Analog clock plotter with time input as seconds\n",
    "'''\n",
    "def analog_clock(tm=0):\n",
    "\n",
    "    #Convert from time to radians\n",
    "    a_minutes = -tm/(60*60) * np.pi * 2\n",
    "    a_hours = -tm/(60*60*12) * np.pi * 2\n",
    "\n",
    "    #Define clock hand sizees\n",
    "    d_minutes = 4\n",
    "    d_hours = 3 \n",
    "    arrow_width=0.5\n",
    "    arrow_length=1\n",
    "\n",
    "    # Set up figure\n",
    "    fig = plt.gcf()\n",
    "    ax = fig.gca();\n",
    "    ax.set_xlim([-15,15]);\n",
    "    ax.set_ylim([-10,10]);\n",
    "    ax.scatter(0,0, s=15000, color=\"navy\"); #Background Circle\n",
    "    plt.axis('off');\n",
    "        \n",
    "    # Calculation Minute hand transformation matrix\n",
    "    J2 = np.matrix([[np.cos(a_minutes), -np.sin(a_minutes)], \n",
    "                    [np.sin(a_minutes), np.cos(a_minutes)]] )\n",
    "    pm = np.matrix([[0,d_minutes], [-arrow_width,d_minutes], [0,arrow_length+d_minutes], [arrow_width,d_minutes], [0,d_minutes]] ).T;\n",
    "    pm = np.concatenate((J2*pm, np.matrix([0,0]).T), axis=1 );\n",
    "    ax.plot(pm[0,:].tolist()[0],(pm[1,:]).tolist()[0], color='cyan', linewidth=2);\n",
    "\n",
    "    # Calculation Hour hand transformation matrix    \n",
    "    J1 = np.matrix([[np.cos(a_hours), -np.sin(a_hours)], \n",
    "                    [np.sin(a_hours), np.cos(a_hours)]] )\n",
    "    ph = np.matrix([[0,d_hours], [0,d_hours], [-arrow_width,d_hours], [0,arrow_length+d_hours], [arrow_width,d_hours], [0,d_hours]]).T;\n",
    "    ph = np.concatenate((J1*ph, np.matrix([0,0]).T), axis=1 );\n",
    "    ax.plot(ph[0,:].tolist()[0],(ph[1,:]).tolist()[0], color='yellow', linewidth=2);"
   ]
  },
  {
   "cell_type": "code",
   "execution_count": null,
   "metadata": {},
   "outputs": [],
   "source": [
    "#Run the clock for about 5 hours at 100 times speed so we can see the hands move\n",
    "for tm in range(0,60*60*5, 100):\n",
    "    analog_clock(tm);\n",
    "    show_animation();"
   ]
  },
  {
   "cell_type": "markdown",
   "metadata": {},
   "source": [
    "For the following few questions, consider the transformation matrix $J_1$ redefined below with an angle of 5 hours out of 12. "
   ]
  },
  {
   "cell_type": "code",
   "execution_count": null,
   "metadata": {},
   "outputs": [],
   "source": [
    "import sympy as sym\n",
    "import numpy as np\n",
    "sym.init_printing(use_unicode=True)\n",
    "\n",
    "a_hours = 5/12 * 2 * np.pi\n",
    "J1 = np.matrix([[np.cos(a_hours), -np.sin(a_hours)], \n",
    "                [np.sin(a_hours), np.cos(a_hours)]] )\n",
    "\n",
    "sym.Matrix(J1)"
   ]
  },
  {
   "cell_type": "markdown",
   "metadata": {},
   "source": [
    "&#9989; **<font color=red>Question:</font>**  Using code, show that the transpose of $J_1$ is also the inverse of $J_1$, then explain how the code demonstrates the answer. "
   ]
  },
  {
   "cell_type": "code",
   "execution_count": null,
   "metadata": {},
   "outputs": [],
   "source": [
    "#Put your code here. \n"
   ]
  },
  {
   "cell_type": "markdown",
   "metadata": {},
   "source": [
    "**<font color=red>Explain your answer here.</font>**"
   ]
  },
  {
   "cell_type": "markdown",
   "metadata": {},
   "source": [
    "&#9989; **<font color=red>Question:</font>**  Given the trigonometric identity $cos^2(\\theta) + sin^2(\\theta) = 1$, prove by construction--using either Python or $\\LaTeX$/```Markdown``` or ```sympy``` (if you are feeling adventurous)--that the transpose of the $J_1$ matrix is also the inverse for ANY angle ```a_hours``` $\\in [0, 2\\pi]$. "
   ]
  },
  {
   "cell_type": "markdown",
   "metadata": {},
   "source": [
    "**<font color=red>Put your prof here.</font>**"
   ]
  },
  {
   "cell_type": "markdown",
   "metadata": {},
   "source": [
    "Now consider the following code which attempts to connect the hands on the clock together to make the Odd Clock shown in the video above."
   ]
  },
  {
   "cell_type": "code",
   "execution_count": null,
   "metadata": {},
   "outputs": [],
   "source": [
    "%matplotlib inline\n",
    "import matplotlib.pylab as plt\n",
    "from IPython.display import display, clear_output\n",
    "import time\n",
    "def show_animation(delay=0.01):\n",
    "    fig = plt.gcf();\n",
    "    time.sleep(delay)       # Sleep for half a second to slow down the animation\n",
    "    clear_output(wait=True) # Clear output for dynamic display\n",
    "    display(fig)            # Reset display\n",
    "    fig.clear()             # Prevent overlapping and layered plots"
   ]
  },
  {
   "cell_type": "code",
   "execution_count": null,
   "metadata": {},
   "outputs": [],
   "source": [
    "import numpy as np\n",
    "\n",
    "def odd_clock(tm=0):\n",
    "\n",
    "    #Convert from time to radians\n",
    "    #a_seconds = -tm/60 * np.pi * 2\n",
    "    a_minutes = -tm/(60*60) * np.pi * 2\n",
    "    a_hours = -tm/(60*60*12) * np.pi * 2\n",
    "\n",
    "    #Define robot geomitry\n",
    "    #d_seconds = 2.5  \n",
    "    d_minutes = 2\n",
    "    d_hours = 1.5 \n",
    "    arrow_width=0.5\n",
    "    arrow_length=1\n",
    "\n",
    "    # Set up figure\n",
    "    fig = plt.gcf()\n",
    "    ax = fig.gca();\n",
    "    ax.set_xlim([-15,15]);\n",
    "    ax.set_ylim([-10,10]);\n",
    "    plt.axis('off');\n",
    "    \n",
    "    #Define the arrow at the end of the last hand \n",
    "    #p = np.matrix([[0,d_minutes,1], [0,0,1]]).T\n",
    "    p = np.matrix([[0,d_minutes,1], [-arrow_width,d_minutes,1], [0,arrow_length+d_minutes,1], [arrow_width,d_minutes,1 ], [0,d_minutes,1 ], [0,0,1]] ).T;\n",
    "    \n",
    "    # Calculation Second hand transformation matrix     \n",
    "    J2 = np.matrix([[np.cos(a_minutes), -np.sin(a_minutes), 0 ], \n",
    "                    [np.sin(a_minutes), np.cos(a_minutes), d_hours ], \n",
    "                    [0, 0, 1]])\n",
    "    p = np.concatenate((J2*p, np.matrix([0,0,1]).T), axis=1 )\n",
    "    \n",
    "    J1 = np.matrix([[np.cos(a_hours), -np.sin(a_hours), 0 ], \n",
    "                    [np.sin(a_hours), np.cos(a_hours), 0 ], \n",
    "                    [0, 0, 1]])\n",
    "    p = np.concatenate((J1*p, np.matrix([0,0,1]).T), axis=1 )\n",
    "\n",
    "    ax.scatter(0,0, s=20, facecolors='r', edgecolors='r')\n",
    "    ax.plot(p[0,:].tolist()[0],(p[1,:]).tolist()[0])\n"
   ]
  },
  {
   "cell_type": "code",
   "execution_count": null,
   "metadata": {},
   "outputs": [],
   "source": [
    "#Run the clock for about 5 hours at 100 times speed so we can see the hands move\n",
    "for tm in range(0,60*60*5, 100):\n",
    "    odd_clock(tm);\n",
    "    show_animation();"
   ]
  },
  {
   "cell_type": "markdown",
   "metadata": {},
   "source": [
    "&#9989; **<font color=red>Question:</font>** Using the given point ($p$) written in \"minutes\" coordinates (**on line 26 of the above code**) and the above transformation matrices ($J_1,J_2$), write down the equation to transform $p$ into world coordinates $p_w$."
   ]
  },
  {
   "cell_type": "markdown",
   "metadata": {},
   "source": [
    "**<font color=red>Put the answer to the above question here</font>**"
   ]
  },
  {
   "cell_type": "markdown",
   "metadata": {},
   "source": [
    "&#9989; **<font color=red>Question:</font>** Notice the above ```odd_clock``` function has variables ```d_seconds``` and ```a_seconds``` commented out.  Use these variables and modify the above code to add a \"seconds\" hand on the tip of the minute hand such that the seconds hand moves around the minute hand just like the minute hand moves around the hour hand. If you have trouble, use the following cell to explain your thought process and where you are getting stuck."
   ]
  },
  {
   "cell_type": "markdown",
   "metadata": {},
   "source": [
    "\n"
   ]
  }
 ],
 "metadata": {
  "kernelspec": {
   "display_name": "Python 3",
   "language": "python",
   "name": "python3"
  },
  "language_info": {
   "codemirror_mode": {
    "name": "ipython",
    "version": 3
   },
   "file_extension": ".py",
   "mimetype": "text/x-python",
   "name": "python",
   "nbconvert_exporter": "python",
   "pygments_lexer": "ipython3",
   "version": "3.7.6"
  }
 },
 "nbformat": 4,
 "nbformat_minor": 4
}
