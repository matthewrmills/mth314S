{
 "cells": [
  {
   "cell_type": "markdown",
   "metadata": {},
   "source": []
  },
  {
   "cell_type": "markdown",
   "metadata": {},
   "source": [
    "# 109 In-Class Assignment: Least Squares Fit (LSF)\n",
    "\n",
    "<img alt=\"image showing a 3D vector projected onto a 2D plane\" src=\"https://lh5.googleusercontent.com/RFgtgkULxOPzUC8lwl1j265FjpzaD2YIDHjy94VyqOOU7xIQf03bsHDSmxYNOmYDXeLPn7iMTg=w740\" width=\"50%\">\n",
    "</p>\n"
   ]
  },
  {
   "cell_type": "markdown",
   "metadata": {},
   "source": [
    "### Agenda for today's class\n",
    "\n",
    "1. [SIRS Link](#sirs)\n",
    "1. [Finding the best solution in an overdetermined system](#Finding_the_best_solution_in_an_overdetermined_system)\n",
    "1. [Pseudoinverse](#Pseudoinverse)\n",
    "1. [LSF Example: Tracking the Planets](#LSF-Example:-Tracking-the-Planets)\n",
    "2. [LSF Example: Predator Pray Model](#LSF-Example:-Predator-Pray-Model)\n",
    "3. [LSF Example: Estimating the best Ellipses](#LSF-Example:-Estimating-the-best-Ellipses)\n",
    "\n"
   ]
  },
  {
   "cell_type": "markdown",
   "metadata": {},
   "source": [
    "---\n",
    "<a name=\"sirs\"></a>\n",
    "\n",
    "# 1. SIRS\n",
    "\n",
    "* [SIRS](https://sirsonline.msu.edu)"
   ]
  },
  {
   "cell_type": "markdown",
   "metadata": {},
   "source": [
    "----\n",
    "<a name=\"Finding_the_best_solution_in_an_overdetermined_system\"></a>\n",
    "# 2. Finding the best solution in an overdetermined system\n",
    "\n",
    "Let $Ax = y$ be a system of $m$ linear equations in $n$ variables. A *least squares solution* of $Ax = y$ is an solution $\\hat{x}$ in $R^n$ such that:\n",
    "\n",
    "$$ \\min_{\\hat{x}}\\|y - A\\hat{x}\\|.$$\n",
    "\n",
    "Note we substitute $y$ for our typical variable $b$ here because we will use $b$ later to represent the intercept to a line and we want to try and avoid confusion in notation. It also consistent with the picture above. \n",
    "\n",
    "In other words, $\\hat{x}$ is a value of $x$ for which $Ax$ is as close as possible to $y$. From previous lectures, we know this to be true if the vector $$y - A\\hat{x}$$ is orthogonal (perpendicular) to the column space of $A$.\n",
    "\n",
    "We also know that the dot product is zero if two vectors are orthogonal. So we have  \n",
    "$$a \\cdot (Ax - y)  = 0, $$\n",
    "for all vectors $a$ in the column spaces of $A$.\n",
    "\n",
    "The columns of $A$ span the column space of $A$. Denote the columns of $A$ as \n",
    "$$A = [a_1, \\cdots, a_n].$$ \n",
    "Then we have \n",
    "$$a_1^\\top (Ax - y)  = 0, \\\\ a_2^\\top(Ax-y)=0\\\\\\vdots \\\\a_n^\\top(Ax-y)=0.$$\n",
    "It is the same as taking the transpose of $A$ and doing a matrix multiply:\n",
    "$$A^\\top (Ax - y) = 0.$$\n",
    "\n",
    "That is:\n",
    "\n",
    "<font size=40>$$A^\\top Ax = A^\\top y$$</font>\n",
    "\n",
    "The above equation is called the *least squares solution* to the original equation $Ax=y$.  The matrix $A^\\top A$ is symmetric and invertable. Then solving for $\\hat{x}$ can be calculated as follows:\n",
    "\n",
    "$$x = (A^\\top A)^{-1}A^\\top y$$\n",
    "\n",
    "\n",
    "The matrix $(A^\\top A)^{-1}A^\\top$ is also called the left inverse."
   ]
  },
  {
   "cell_type": "markdown",
   "metadata": {},
   "source": [
    "**Example:** A researcher has conducted experiments of a particular Hormone dosage in a population of rats. The table shows the number of fatalities at each dosage level tested. Determine the least squares line and use it to predict the number of rat fatalities at hormone dosage of 22. \n",
    "\n",
    "| Hormone level  | 20 | 25 | 30 | 35 | 40 | 45 | 50  |\n",
    "|---|---|---|---|---|---|---|---|\n",
    "| Fatalities | 101 | 115 | 92 | 64 | 60 | 50 | 49| \n"
   ]
  },
  {
   "cell_type": "code",
   "execution_count": null,
   "metadata": {},
   "outputs": [],
   "source": [
    "%matplotlib inline\n",
    "import matplotlib.pylab as plt\n",
    "import numpy as np\n",
    "import sympy as sym\n",
    "import time\n",
    "sym.init_printing(use_unicode=True)"
   ]
  },
  {
   "cell_type": "code",
   "execution_count": null,
   "metadata": {},
   "outputs": [],
   "source": [
    "H = [20,25,30,35,40,45,50]\n",
    "f = [101,115, 92,64,60,50,49]\n",
    "\n",
    "plt.scatter(H,f)\n",
    "plt.xlabel('Hormone Level')\n",
    "plt.ylabel('Fatalities')\n",
    "f = np.matrix(f).T"
   ]
  },
  {
   "cell_type": "markdown",
   "metadata": {},
   "source": [
    "We want to determine a line that is expressed by the following equation \n",
    "\n",
    "$$f = aH + b,$$\n",
    "\n",
    "to approximate the connection between Hormone dosage ($H$) and Fatalities $f$. \n",
    "That is, we want to find $a$ (slope) and $b$ (y-intercept) for this line. First we define the variable $ \n",
    "x = \\left[\n",
    "\\begin{matrix}\n",
    "    a  \\\\\n",
    "    b  \n",
    "\\end{matrix}\n",
    "\\right] \n",
    "$ as the column vector that needs to be solved.\n",
    "\n",
    "&#9989;**<font color=red>DO THIS:</font>** Rewrite the system of equations to the form $Ax=y$ by defining your ```numpy``` matrices ```A``` and ```y``` using the data from above:"
   ]
  },
  {
   "cell_type": "code",
   "execution_count": null,
   "metadata": {},
   "outputs": [],
   "source": [
    "#put your code here"
   ]
  },
  {
   "cell_type": "markdown",
   "metadata": {},
   "source": [
    "&#9989; **<font color=red>QUESTION:</font>** Calculate the square matrix $C = A^\\top A$ and the modified right hand side vector as $A^\\top y$ (Call it ```Aty```):"
   ]
  },
  {
   "cell_type": "code",
   "execution_count": null,
   "metadata": {},
   "outputs": [],
   "source": [
    "#put your code here"
   ]
  },
  {
   "cell_type": "markdown",
   "metadata": {},
   "source": [
    "&#9989;**<font color=red>QUESTION:</font>** Find the *least squares solution* by solving $Cx=A^\\top y$ for $x$."
   ]
  },
  {
   "cell_type": "code",
   "execution_count": null,
   "metadata": {},
   "outputs": [],
   "source": [
    "# Put your code here"
   ]
  },
  {
   "cell_type": "markdown",
   "metadata": {},
   "source": [
    "&#9989;**<font color=red>QUESTION:</font>** Given the solution above, define the two scalars slope ```a``` and y-intercept ```b```."
   ]
  },
  {
   "cell_type": "code",
   "execution_count": null,
   "metadata": {},
   "outputs": [],
   "source": [
    "#put your code here"
   ]
  },
  {
   "cell_type": "markdown",
   "metadata": {},
   "source": [
    "The following code will Plot the original data and the line estimated by the coefficients found in the above quation."
   ]
  },
  {
   "cell_type": "code",
   "execution_count": null,
   "metadata": {},
   "outputs": [],
   "source": [
    "H = [20,25,30,35,40,45,50]\n",
    "f = [101,115, 92,64,60,50,49]\n",
    "plt.scatter(H,f)\n",
    "\n",
    "H2 = np.linspace(np.min(H), np.max(H))\n",
    "\n",
    "f2 = a * H2 + b\n",
    "\n",
    "plt.plot(H2, f2)\n"
   ]
  },
  {
   "cell_type": "markdown",
   "metadata": {},
   "source": [
    "&#9989;**<font color=red>QUESTION:</font>**  Repeat the above analysis but now with a eight-order polynomial."
   ]
  },
  {
   "cell_type": "markdown",
   "metadata": {},
   "source": [
    "&#9989;**<font color=red>QUESTION:</font>**  Play with the interactive function below by adjusting the degree of the least-squares fit approximation. Then extend the `x_min` and `x_max` parameters. Do you think that an eight-order polynomial is a good model for this dataset? Why or why not?"
   ]
  },
  {
   "cell_type": "code",
   "execution_count": null,
   "metadata": {},
   "outputs": [],
   "source": [
    "from ipywidgets import interact, fixed\n",
    "import ipywidgets as widgets\n",
    "\n",
    "@interact(x=fixed(H), y=fixed(f), degree=widgets.IntSlider(min=1, max=8, step=1, value=8), x_min=widgets.IntSlider(min=min(H)-10, max=min(H), step=1, value=min(H)), x_max=widgets.IntSlider(min=max(H), max=max(H)+10, step=1, value=max(H)))\n",
    "def graphPolyN(x, y, x_min, x_max, degree):\n",
    "    p = np.polyfit(x, y, degree)\n",
    "    f = np.poly1d(p)\n",
    "    \n",
    "    x_pred = np.linspace(x_min, x_max, 1000)\n",
    "    y_pred = f(x_pred)\n",
    "    \n",
    "    plt.scatter(x, y, color=\"red\")\n",
    "    plt.plot(x_pred, y_pred)\n",
    "    "
   ]
  },
  {
   "cell_type": "markdown",
   "metadata": {},
   "source": [
    "Put your answer to the above question here"
   ]
  },
  {
   "cell_type": "markdown",
   "metadata": {},
   "source": [
    "&#9989;**<font color=red>QUESTION:</font>**  Check the rank of $C=A^\\top A$ for the previous case. What do you get? Why?"
   ]
  },
  {
   "cell_type": "markdown",
   "metadata": {},
   "source": [
    "Put your answer to the above question here"
   ]
  },
  {
   "cell_type": "markdown",
   "metadata": {},
   "source": [
    "----\n",
    "<a name=\"Pseudoinverse\"></a>\n",
    "# 3. Pseudoinverse\n",
    "\n",
    "In this class we often talk about solving problems of the form:\n",
    "\n",
    "$$Ax = b$$\n",
    "\n",
    "Currently we have determined that this problem becomes very nice when the $n \\times n$ matrix $A$ has an inverse. We can easily multiply each side by the inverse:\n",
    "\n",
    "$$A^{-1}Ax = A^{-1}b$$\n",
    "\n",
    "Since $A^{-1}A = I$ the solution for $x$ is simply:\n",
    "\n",
    "$$x = A^{-1}b$$\n",
    "\n",
    "Now, let us consider a a more general problem where the $m \\times n$ matrix $A$ is not square, i.e. $m \\neq n$ and its rank $r$ maybe less than $m$ and/or $n$.  In this case we want to find a Pseudoinverse (which we denote as $A^+$) which acts like an inverse for a non-square matrix. In other words we want to find an $A^+$ for $A$ such that:\n",
    "\n",
    "$$A^+A \\approx I$$\n",
    "\n",
    "Assuming we can find the $n \\times m$ matrix $A^+$, we should then be able to solve for $x$ as follows:\n",
    "\n",
    "$$Ax = b$$\n",
    "$$A^+Ax = A^+b$$\n",
    "$$x \\approx A^+b$$\n",
    "\n",
    "## How do we know there is a Psudoinverse\n",
    "Assuming the general case of a $m\\times n$ matrix $A$ where its rank $r$ maybe less than $m$ and/or $n$ ($r\\leq m$ and $r\\leq n$). We can conclude the following about the fundamental spaces of $A$:\n",
    "- The rowspace of $A$ is in $R^n$ with dimension $r$ \n",
    "- The columnspace of $A$ is in $R^m$ also with dimension $r$.\n",
    "- The nullspace of $A$ is in $R^n$ with dimension $n-r$\n",
    "- The nullspace of $A^T$ is in $R^m$ with dimension $m-r$.\n",
    "\n",
    "Because the rowspace of $A$ and the column space $A$ have the same dimension then $A$ is a the one-to-one mapping from the row space to the columnspace. In other words:\n",
    "- For any $x$ in the rowspace, we have that $Ax$ is one point in the columnspace. If $x'$ is another point in the row space different from $x$, we have $Ax\\neq Ax'$ (The mapping is one-to-one). \n",
    "- For any $y$ in the columnspace, we can find $x$ in the rowspace such that $Ax=y$ (The mapping is onto). \n",
    "\n",
    "The above is not really a proof but hopefully there is sufficient information to convince yourself that this is true. "
   ]
  },
  {
   "cell_type": "markdown",
   "metadata": {},
   "source": [
    "**Example 1:** Let $$A=[1,2]$$\n",
    "we know that \n",
    "$r=m=1$ and $n=2$."
   ]
  },
  {
   "cell_type": "code",
   "execution_count": null,
   "metadata": {},
   "outputs": [],
   "source": [
    "A = np.matrix([[1,2]])"
   ]
  },
  {
   "cell_type": "markdown",
   "metadata": {},
   "source": [
    "&#9989;**<font color=red>TODO:</font>**  Calculate the pseudoinverse $A^+$ of $A$ using the ```numpy.linalg``` function ```pinv```:"
   ]
  },
  {
   "cell_type": "code",
   "execution_count": null,
   "metadata": {},
   "outputs": [],
   "source": [
    "#put your code here"
   ]
  },
  {
   "cell_type": "markdown",
   "metadata": {},
   "source": [
    "&#9989;**<font color=red>DO THIS:</font>**  Compute $AA^+$ and $A^+A$"
   ]
  },
  {
   "cell_type": "code",
   "execution_count": null,
   "metadata": {},
   "outputs": [],
   "source": [
    "#put your code here"
   ]
  },
  {
   "cell_type": "markdown",
   "metadata": {},
   "source": [
    "&#9989;**<font color=red>QUESTION:</font>** If $x$ is in the nullspace of $A$ what is the effect of $A^+Ax$?"
   ]
  },
  {
   "cell_type": "markdown",
   "metadata": {},
   "source": [
    "Put your answer to the above question here"
   ]
  },
  {
   "cell_type": "markdown",
   "metadata": {},
   "source": [
    "&#9989;**<font color=red>QUESTION:</font>**  If $x$ is in the rowspace of $A$ what is the effect of $A^+Ax$?"
   ]
  },
  {
   "cell_type": "markdown",
   "metadata": {},
   "source": [
    "Put your answer to the above question here"
   ]
  },
  {
   "cell_type": "markdown",
   "metadata": {},
   "source": [
    "**Example 2:** Let $$A=\\begin{bmatrix}1\\\\2\\end{bmatrix}$$\n",
    "we know that \n",
    "$r=n=1$ and $m=2$. Then we have the left inverse."
   ]
  },
  {
   "cell_type": "code",
   "execution_count": null,
   "metadata": {},
   "outputs": [],
   "source": [
    "A = np.matrix([[1],[2]])\n",
    "A"
   ]
  },
  {
   "cell_type": "markdown",
   "metadata": {},
   "source": [
    "&#9989;**<font color=red>DO THIS:</font>** Calculate the pseudoinverse $A^+$ of $A$."
   ]
  },
  {
   "cell_type": "markdown",
   "metadata": {},
   "source": [
    "Put your answer to the above question here"
   ]
  },
  {
   "cell_type": "markdown",
   "metadata": {},
   "source": [
    "\n",
    "&#9989;**<font color=red>DO THIS:</font>**  Calculate the left inverse of $A$, and verify that it is the same as $A^+$."
   ]
  },
  {
   "cell_type": "markdown",
   "metadata": {},
   "source": [
    "Put your answer to the above question here"
   ]
  },
  {
   "cell_type": "markdown",
   "metadata": {},
   "source": [
    "\n",
    "\n",
    "---\n",
    "<a name=LSF-Example:-Tracking-the-Planets></a>\n",
    "## 4. LSF Example: Tracking the Planets\n",
    "\n",
    "\n",
    "\n",
    "\n",
    "<img alt=\"composit image of the planets (and sun) in our solar system\" src=\"https://images.squarespace-cdn.com/content/v1/537a20bce4b0c4a5e913ae77/1533010529325-0H1VQX4W19MAJCRGSTQF/ke17ZwdGBToddI8pDm48kJokDDWUnHQ7jYDwh9g9o2tZw-zPPgdn4jUwVcJE1ZvWQUxwkmyExglNqGp0IvTJZUJFbgE-7XRK3dMEBRBhUpy5LokhjEjEjl7mG0bnsgbfHG96R3ZWfXdsfqmd9qx-1I79M1PjxisoyjE5_sBXuWQ/solar-system-439046_640.jpg?format=1500w\" width=\"100%\">\n",
    "  \n",
    "The following table lists the average distance from the sun to each of the first seven planets, using Earth's distance as a unit of measure (AUs). \n",
    "\n",
    "| Mercury | Venus | Earth | Mars | Jupiter | Satern | Uranus | \n",
    "|---------|-------|-------|------|---------|--------|--------|\n",
    "| 0.39    | 0.72  | 1.00  | 1.52 | 5.20    | 9.54   | 19.2   |\n",
    "\n",
    "The following is a plot of the data:"
   ]
  },
  {
   "cell_type": "code",
   "execution_count": null,
   "metadata": {},
   "outputs": [],
   "source": [
    "%matplotlib inline\n",
    "import matplotlib.pylab as plt\n",
    "import numpy as np\n",
    "import sympy as sym\n",
    "import math\n",
    "sym.init_printing()"
   ]
  },
  {
   "cell_type": "code",
   "execution_count": null,
   "metadata": {},
   "outputs": [],
   "source": [
    "distances = [0.39, 0.72, 1.00, 1.52, 5.20, 9.54, 19.2]\n",
    "planets = ['Mercury', 'Venus', 'Earth', 'Mars', 'Jupiter', 'Satern','Uranus']\n",
    "ind = [1.0,2.0,3.0,4.0,5.0,6.0,7.0]\n",
    "\n",
    "plt.scatter(ind, distances);\n",
    "plt.xticks(ind,planets)\n",
    "plt.ylabel('Distance (AU)')"
   ]
  },
  {
   "cell_type": "markdown",
   "metadata": {},
   "source": [
    "**Note** that the above plot does not look like a line, and so finding the line of best fit is not fruitful.  It does, however look like an exponential curve (maybe a polynomial?). The following step transforms the distances using the numpy **```log```** function and generates a plot that looks much more linear. "
   ]
  },
  {
   "cell_type": "code",
   "execution_count": null,
   "metadata": {},
   "outputs": [],
   "source": [
    "log_distances = np.log(distances)\n",
    "\n",
    "plt.scatter(ind,log_distances)\n",
    "plt.xticks(ind,planets)\n",
    "plt.ylabel('Distance (log(AU))')"
   ]
  },
  {
   "cell_type": "markdown",
   "metadata": {},
   "source": [
    "For this question we are going to find the coefficients ($c$) for the best fit line of the form $c_1 + c_2i= \\log{d}$, where $i$ is the index of the planet and $d$ is the distance.  \n",
    "\n",
    "The following code constructs this problem in the form $Ax=b$ and define the $A$ matrix and the $b$ matrix as numpy matrices"
   ]
  },
  {
   "cell_type": "code",
   "execution_count": null,
   "metadata": {},
   "outputs": [],
   "source": [
    "A = np.matrix(np.vstack((np.ones(len(ind)),ind))).T\n",
    "b = np.matrix(log_distances).T\n",
    "sym.Matrix(A)"
   ]
  },
  {
   "cell_type": "code",
   "execution_count": null,
   "metadata": {},
   "outputs": [],
   "source": [
    "sym.Matrix(b)"
   ]
  },
  {
   "cell_type": "markdown",
   "metadata": {},
   "source": [
    "&#9989; **<font color=red>DO THIS:</font>** Solve for the best fit of $Ax=b$ and define a new variable $c$ which consists of the of the two coefficients used to define the line $(\\log{d} = c_1 + c_2i)$"
   ]
  },
  {
   "cell_type": "code",
   "execution_count": null,
   "metadata": {},
   "outputs": [],
   "source": [
    "##Put your answer here:"
   ]
  },
  {
   "cell_type": "markdown",
   "metadata": {},
   "source": [
    "&#9989; **<font color=red>DO THIS:</font>** Modify the following code (as needed) to plot your best estimates of $c_1$ and $c_2$ against the provided data.  "
   ]
  },
  {
   "cell_type": "code",
   "execution_count": null,
   "metadata": {},
   "outputs": [],
   "source": [
    "## Modify the following code\n",
    "\n",
    "est_log_distances = (c[0] + c[1]*np.matrix(ind)).tolist()[0]\n",
    "plt.plot(ind,est_log_distances)\n",
    "\n",
    "plt.scatter(ind,log_distances)\n",
    "plt.xticks(ind,planets)\n",
    "plt.ylabel('Distance (log(AU))')"
   ]
  },
  {
   "cell_type": "markdown",
   "metadata": {},
   "source": [
    "We can determine the quality of this line fit by calculating the root mean squared error between the estimate and the actual data:"
   ]
  },
  {
   "cell_type": "code",
   "execution_count": null,
   "metadata": {},
   "outputs": [],
   "source": [
    "rmse = np.sqrt(((np.array(log_distances)  - np.array(est_log_distances)) ** 2).mean())\n",
    "rmse"
   ]
  },
  {
   "cell_type": "markdown",
   "metadata": {},
   "source": [
    "Finally, we can also make the plot on the original axis using the inverse of the log (i.e. the exp function):"
   ]
  },
  {
   "cell_type": "code",
   "execution_count": null,
   "metadata": {},
   "outputs": [],
   "source": [
    "est_distances = np.exp(est_log_distances)\n",
    "plt.scatter(ind,distances)\n",
    "plt.plot(ind,est_distances)\n",
    "plt.xticks(ind,planets)\n",
    "plt.ylabel('Distance (AU)')"
   ]
  },
  {
   "cell_type": "markdown",
   "metadata": {},
   "source": [
    "The asteroid belt between Mars and Jupiter is what is left of a planet that broke apart.  Let's the above calculation again but renumber so that  the index of Jupyter is 6, Saturn is 7 and Uranus is 8 as follows:"
   ]
  },
  {
   "cell_type": "code",
   "execution_count": null,
   "metadata": {},
   "outputs": [],
   "source": [
    "distances = [0.39, 0.72, 1.00, 1.52, 5.20, 9.54, 19.2]\n",
    "planets = ['Mercury', 'Venus', 'Earth', 'Mars', 'Jupiter', 'Satern','Uranus']\n",
    "ind = [1,2,3,4,6,7,8]\n",
    "\n",
    "log_distances = np.log(distances)"
   ]
  },
  {
   "cell_type": "markdown",
   "metadata": {},
   "source": [
    "&#9989; **<font color=red>DO THIS:</font>** Repeat the calculations from above with the updated model.  Plot the results and compare the RMSE."
   ]
  },
  {
   "cell_type": "code",
   "execution_count": null,
   "metadata": {},
   "outputs": [],
   "source": [
    "## Copy and Paste code from above"
   ]
  },
  {
   "cell_type": "code",
   "execution_count": null,
   "metadata": {},
   "outputs": [],
   "source": [
    "## Copy and Paste code from above\n",
    "est_log_distances = (c[0] + c[1]*np.matrix(ind)).tolist()[0]\n",
    "\n",
    "est_distances = np.exp(est_log_distances)\n",
    "plt.scatter(ind,distances)\n",
    "plt.plot(ind,est_distances)\n",
    "plt.xticks(ind,planets)\n",
    "plt.ylabel('Distance (AU)')\n",
    "\n",
    "rmse = np.sqrt(((np.array(log_distances)  - np.array(est_log_distances)) ** 2).mean())\n",
    "rmse\n",
    "## Copy and Paste code from above"
   ]
  },
  {
   "cell_type": "markdown",
   "metadata": {},
   "source": [
    "This model of planet location was used to help discover Neptune and prompted people to look for the \"missing planet\" in position 5 which resulted in the discovery of the asteroid belt.  Based on the above model, what is the estimated  distance of the asteroid belt and Neptune (index 9) from the sun in AUs? (**Hint:** you can check your answer by searching for the answer on-line)."
   ]
  },
  {
   "cell_type": "code",
   "execution_count": null,
   "metadata": {},
   "outputs": [],
   "source": [
    "#Put your prediction calcluation here"
   ]
  },
  {
   "cell_type": "markdown",
   "metadata": {},
   "source": [
    "\n",
    "---\n",
    "<a name=LSF-Example:-Predator-Pray-Model></a>\n",
    "## 5. LSF Example: Predator Pray Model\n",
    "\n",
    "\n",
    "\n",
    "<img alt=\"Cartoon image of a cat chasing a wind up mouse\" src=\"https://cdn.pixabay.com/photo/2016/06/14/15/46/cat-1456878_1280.png\" width=30%>\n",
    "\n",
    "The following example example data comes from https://mathematica.stackexchange.com/questions/34761/find-parameters-of-odes-to-fit-solution-data and represents some experimental data ```time```, ```x``` and ```y```.\n",
    "\n",
    "$$dx = ax - bxy$$\n",
    "$$dy = -cy + dxy$$\n",
    "\n",
    "The following code plots the data"
   ]
  },
  {
   "cell_type": "code",
   "execution_count": null,
   "metadata": {},
   "outputs": [],
   "source": [
    "# (* The first column is time 't', the second column is coordinate 'x', and the last column is coordinate 'y'. *)\n",
    "%matplotlib inline\n",
    "import matplotlib.pylab as plt\n",
    "import numpy as np\n",
    "\n",
    "data=[[11,45.79,41.4],\n",
    "      [12,53.03,38.9],[13,64.05,36.78],\n",
    "      [14,75.4,36.04],[15,90.36,33.78],\n",
    "      [16,107.14,35.4],[17,127.79,34.68],\n",
    "      [18,150.77,36.61], [19,179.65,37.71],\n",
    "      [20,211.82,41.98],[21,249.91,45.72],\n",
    "      [22,291.31,53.1],[23,334.95,65.44],\n",
    "      [24,380.67,83.],[25,420.28,108.74],\n",
    "      [26,445.56,150.01],[27,447.63,205.61],\n",
    "      [28,414.04,281.6],[29,347.04,364.56],\n",
    "      [30,265.33,440.3],[31,187.57,489.68],\n",
    "      [32,128.,512.95],[33,85.25,510.01],\n",
    "      [34,57.17,491.06],[35,39.96,462.22],\n",
    "      [36,29.22,430.15],[37,22.3,396.95],\n",
    "      [38,16.52,364.87],[39,14.41,333.16],\n",
    "      [40,11.58,304.97],[41,10.41,277.73],\n",
    "      [42,10.17,253.16],[43,7.86,229.66],\n",
    "      [44,9.23,209.53],[45,8.22,190.07],\n",
    "      [46,8.76,173.58],[47,7.9,156.4],\n",
    "      [48,8.38,143.05],[49,9.53,130.75],\n",
    "      [50,9.33,117.49],[51,9.72,108.16],\n",
    "      [52,10.55,98.08],[53,13.05,88.91],\n",
    "      [54,13.58,82.28],[55,16.31,75.42],\n",
    "      [56,17.75,69.58],[57,20.11,62.58],\n",
    "      [58,23.98,59.22],[59,28.51,54.91],\n",
    "      [60,31.61,49.79],[61,37.13,45.94],\n",
    "      [62,45.06,43.41],[63,53.4,41.3],\n",
    "      [64,62.39,40.28],[65,72.89,37.71],\n",
    "      [66,86.92,36.58],[67,103.32,36.98],\n",
    "      [68,121.7,36.65],[69,144.86,37.87],\n",
    "      [70,171.92,39.63],[71,202.51,42.97],\n",
    "      [72,237.69,46.95],[73,276.77,54.93],\n",
    "      [74,319.76,64.61],[75,362.05,81.28],\n",
    "      [76,400.11,105.5],[77,427.79,143.03],\n",
    "      [78,434.56,192.45],[79,410.31,260.84],\n",
    "      [80,354.18,339.39],[81,278.49,413.79],\n",
    "      [82,203.72,466.94],[83,141.06,494.72],\n",
    "      [84,95.08,499.37],[85,66.76,484.58],\n",
    "      [86,45.41,460.63],[87,33.13,429.79],\n",
    "      [88,25.89,398.77],[89,20.51,366.49],\n",
    "      [90,17.11,336.56],[91,12.69,306.39],\n",
    "      [92,11.76,279.53],[93,11.22,254.95],\n",
    "      [94,10.29,233.5],[95,8.82,212.74],\n",
    "      [96,9.51,193.61],[97,8.69,175.01],\n",
    "      [98,9.53,160.59],[99,8.68,146.12],[100,10.82,131.85]]\n",
    "data = np.array(data)\n",
    "t = data[:,0]\n",
    "x = data[:,1]\n",
    "y = data[:,2]\n",
    "plt.scatter(t,x)\n",
    "plt.scatter(t,y)\n",
    "plt.legend(('prey', 'preditor'))\n",
    "plt.xlabel('Time')\n",
    "plt.title('Population');"
   ]
  },
  {
   "cell_type": "markdown",
   "metadata": {},
   "source": [
    "&#9989; **<font color=red>QUESTION</font>** What is the formula for numerical differentiation?\n",
    "\n",
    "**Hint.** Think slope.\n"
   ]
  },
  {
   "cell_type": "markdown",
   "metadata": {},
   "source": [
    "&#9989; **<font color=red>DO THIS</font>** Use Numerical Differentiation to calculate $dx$ and $dy$ from $x$ and $y$. See if you can plot $x,dx$ nad $y,dy$ on a couple of plots. Use the plots to try and check to make sure your results make senes.  "
   ]
  },
  {
   "cell_type": "code",
   "execution_count": null,
   "metadata": {},
   "outputs": [],
   "source": [
    "# Put your answer here"
   ]
  },
  {
   "cell_type": "markdown",
   "metadata": {},
   "source": [
    "&#9989; **<font color=red>DO THIS</font>**  Formulate two linear systems ($Ax=b$) and solve them using LSF as we did in the pre-class. Use one to solve the first ODE and the second to solve the second ODE.  Remember, we are trying to estimate values for $a,b,c,d$ "
   ]
  },
  {
   "cell_type": "code",
   "execution_count": null,
   "metadata": {},
   "outputs": [],
   "source": [
    "#Put your answer here."
   ]
  },
  {
   "cell_type": "markdown",
   "metadata": {},
   "source": [
    "Assuming everything worked the following should plot the result."
   ]
  },
  {
   "cell_type": "code",
   "execution_count": null,
   "metadata": {},
   "outputs": [],
   "source": [
    "from scipy.integrate import odeint\n",
    "# The above ODE model sutiable for ODEINT\n",
    "def deriv(position,t,a,b,c,d):\n",
    "    x = position[0]\n",
    "    y = position[1]\n",
    "    dx = a*x - b*x*y\n",
    "    dy = -c*y + d*x*y\n",
    "    return (dx,dy)\n",
    "\n",
    "# Integrate equations over the time grid, t.\n",
    "ret = odeint(deriv, (data[0,1],data[0,2]), t, args=(a,b,c,d))\n",
    "\n",
    "#Plot the model on the data\n",
    "plt.plot(t,ret)\n",
    "plt.scatter(t, data[:,1])\n",
    "plt.scatter(t, data[:,2]);\n",
    "plt.legend(('x est', 'y est', 'x', 'y'))\n",
    "plt.xlabel('Time');"
   ]
  },
  {
   "cell_type": "markdown",
   "metadata": {},
   "source": [
    "\n",
    "\n",
    "---\n",
    "<a name=LSF-Example:-Estimating-the-best-Ellipses></a>\n",
    "## 6. LSF Example: Estimating the best Ellipses\n",
    "\n",
    "   \n",
    "<img alt=\"Animated image of planets revolving around the sun\" src=\"https://thumbs.gfycat.com/WhimsicalUnequaledBuzzard-max-1mb.gif\" width=\"30%\">\n",
    "  "
   ]
  },
  {
   "cell_type": "code",
   "execution_count": null,
   "metadata": {},
   "outputs": [],
   "source": [
    "%matplotlib inline\n",
    "import matplotlib.pylab as plt\n",
    "import numpy as np\n",
    "import sympy as sym\n",
    "sym.init_printing(use_unicode=True)"
   ]
  },
  {
   "cell_type": "markdown",
   "metadata": {},
   "source": [
    "Now consider the following sets of points. Think of these as observations of planet moving in an elliptical orbit. "
   ]
  },
  {
   "cell_type": "code",
   "execution_count": null,
   "metadata": {},
   "outputs": [],
   "source": [
    "x=[0, 1.0, 1.1, -1.1, -1.2, 1.3]\n",
    "y =[2*1.5, 2*1.0, 2*-0.99, 2*-1.02, 2*1.2, 2*0]\n",
    "\n",
    "plt.scatter(x,y)\n",
    "plt.axis('equal')"
   ]
  },
  {
   "cell_type": "markdown",
   "metadata": {},
   "source": [
    "In this problem we want to try to fit an ellipse to the above data.  First lets look at a general equation for an ellipse:\n",
    "    \n",
    "    $$ \\frac{(u+x)^2}{a^2} + \\frac{(v+y)^2}{b^2} = 1 \\qquad \\qquad \\text{    (1)}$$\n",
    "    \n",
    "Where $u$ and $v$ are the $x$ and $y$ coordinates for the center of the ellipse and $a$ and $b$ are the lengths of the axes sizes of the ellipse.  A quick search on how to plot an ellipse in python comes up with the following example:"
   ]
  },
  {
   "cell_type": "code",
   "execution_count": null,
   "metadata": {},
   "outputs": [],
   "source": [
    "# Code from: https://stackoverflow.com/questions/10952060/plot-ellipse-with-matplotlib-pyplot-python\n",
    "\n",
    "u=1.     #x-position of the center\n",
    "v=0.5    #y-position of the center\n",
    "a=2.     #radius on the x-axis\n",
    "b=1.5    #radius on the y-axis\n",
    "\n",
    "t = np.linspace(0, 2*np.pi, 100)\n",
    "plt.plot( u+a*np.cos(t) , v+b*np.sin(t) )\n",
    "plt.grid(color='lightgray',linestyle='--')\n",
    "plt.show()"
   ]
  },
  {
   "cell_type": "markdown",
   "metadata": {},
   "source": [
    "Notice this example uses equations of the form:\n",
    "\n",
    "$$t = [0, \\dots, 2\\pi]$$\n",
    "$$x = u+a\\cos(t)$$\n",
    "$$y = v+b\\sin(t)$$\n",
    "\n",
    "Turns out that this form of the equation is easier to plot and the variables $u,v,a,b$ are the same as our original equation. \n",
    "\n",
    "Now lets expand the original equation (equation 1 from above) and we get the following:\n",
    "\n",
    "$$x^2−2ux-u^2+y^2−2vy+v^2=r^2 \\qquad \\qquad \\text{    (2)}$$"
   ]
  },
  {
   "cell_type": "markdown",
   "metadata": {},
   "source": [
    "&#9989; **<font color=red>QUESTION:</font>** Why can't we convert equation 2 into the form $Ax=b$ and solve using Least Squares Fit? Discuss with your group and be prepared to share your thought with the class."
   ]
  },
  {
   "cell_type": "markdown",
   "metadata": {},
   "source": [
    "Put your answer to the above question here."
   ]
  },
  {
   "cell_type": "markdown",
   "metadata": {},
   "source": [
    "If we look at our data more closely we can simplify equations 1 and 2 by assuming the the centroid (u,v) is at the origin.  This assumption results in the following equation:\n",
    "\n",
    "$$ \\frac{x^2}{a^2} + \\frac{y^2}{b^2} = 1 $$\n",
    "\n",
    "Notice we can rewrite this into a standard linear set of equations by defining $c_o = \\frac{1}{a^2}$ and $c_1 = \\frac{1}{b^2}$ and rewriting the equation as follows:\n",
    "\n",
    "\n",
    "$$ c_0x^2 + c_1y^2 = 1 $$"
   ]
  },
  {
   "cell_type": "markdown",
   "metadata": {},
   "source": [
    "&#9989; **<font color=red>DO THIS</font>** Given that we know the $x$ and $y$ values of our point observations, equation 4 is now linear and can be solved using Least Squares Fit.  Using the observation points from above construct  ```A``` and ```b``` as numpy matrixes for the overdefined system $Ax=b$"
   ]
  },
  {
   "cell_type": "markdown",
   "metadata": {},
   "source": [
    "Put your answer to the above question here."
   ]
  },
  {
   "cell_type": "code",
   "execution_count": null,
   "metadata": {},
   "outputs": [],
   "source": [
    "sym.Matrix(A)"
   ]
  },
  {
   "cell_type": "code",
   "execution_count": null,
   "metadata": {},
   "outputs": [],
   "source": [
    "sym.Matrix(b)"
   ]
  },
  {
   "cell_type": "markdown",
   "metadata": {},
   "source": [
    "&#9989; **<font color=red>DO THIS:</font>** Solve the above over defined system of linear equations for $c_0$ and $c_1$ using LSF."
   ]
  },
  {
   "cell_type": "code",
   "execution_count": null,
   "metadata": {},
   "outputs": [],
   "source": [
    "# Put your answer to the above question here"
   ]
  },
  {
   "cell_type": "markdown",
   "metadata": {},
   "source": [
    "Assuming we have $c$ in the correct format, we can now calculate $a$ and $b$ from the solution for $c_o$ and $c_1$ calculated in the previous step and plot using our plotting code:"
   ]
  },
  {
   "cell_type": "code",
   "execution_count": null,
   "metadata": {},
   "outputs": [],
   "source": [
    "c = 1/np.sqrt(np.abs(c))\n",
    "b=c[1,0] \n",
    "a=c[0,0]\n",
    "print(a,b)"
   ]
  },
  {
   "cell_type": "code",
   "execution_count": null,
   "metadata": {},
   "outputs": [],
   "source": [
    "u=0     #x-position of the center\n",
    "v=0     #y-position of the center\n",
    "\n",
    "t = np.linspace(0, 2*np.pi, 100)\n",
    "plt.plot(u+a*np.cos(t) , v+b*np.sin(t) )\n",
    "plt.scatter(x,y)\n",
    "plt.grid(color='lightgray',linestyle='--')\n",
    "plt.axis('equal');"
   ]
  },
  {
   "cell_type": "markdown",
   "metadata": {},
   "source": [
    "\n"
   ]
  }
 ],
 "metadata": {
  "kernelspec": {
   "display_name": "Python 3",
   "language": "python",
   "name": "python3"
  },
  "language_info": {
   "codemirror_mode": {
    "name": "ipython",
    "version": 3
   },
   "file_extension": ".py",
   "mimetype": "text/x-python",
   "name": "python",
   "nbconvert_exporter": "python",
   "pygments_lexer": "ipython3",
   "version": "3.7.6"
  }
 },
 "nbformat": 4,
 "nbformat_minor": 1
}
