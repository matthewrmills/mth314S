{
 "cells": [
  {
   "cell_type": "markdown",
   "metadata": {},
   "source": []
  },
  {
   "cell_type": "markdown",
   "metadata": {},
   "source": [
    "# 107 Pre-Class Assignment: Vector Spaces"
   ]
  },
  {
   "cell_type": "markdown",
   "metadata": {},
   "source": [
    "### Readings for this topic (Recommended in bold)\n",
    " * [**_Heffron Chapter  2 II pg 77-86_**](http://joshua.smcvt.edu/linearalgebra/book.pdf)\n",
    " * [Beezer Chapter VS pg 257-269](http://linear.ups.edu/download/fcla-3.50-tablet.pdf)\n"
   ]
  },
  {
   "cell_type": "markdown",
   "metadata": {},
   "source": [
    "### Goals for today's pre-class assignment \n",
    "\n",
    "1. [Vector Spaces](#Vector_Spaces)\n",
    "1. [Basis Vectors](#Basis_Vectors)\n",
    "1. [Lots of Things Can Be Vector Spaces](#Examples)\n",
    "1. [Subspaces](#subspaces)\n",
    "1. [Orthogonal_Complement](#Orthogonal_Complement)\n",
    "1. [Assignment Wrap-up](#Assignment_Wrap-up)"
   ]
  },
  {
   "cell_type": "markdown",
   "metadata": {},
   "source": [
    "----\n",
    "\n",
    "<a name=\"Vector_Spaces\"></a>\n",
    "## 1.  Vector Spaces\n",
    "\n",
    "Vector spaces are an abstract concept used in math. So far we have talked about vectors of real numbers ($R^n$). However, there are other types of vectors as well.  A vector space is a formal definition. If you can define a concept as a vector space then you can use the tools of linear algebra to work with those concepts.  \n",
    "\n",
    "A **Vector Space** is a set $V$ of elements called **vectors**, having operations of addition and scalar multiplication defined on it that satisfy the following conditions ($u$, $v$, and $w$ are arbitrary elements of $V$, and $c$ and $d$ are scalars.)\n",
    "\n",
    "### Closure Axioms\n",
    "\n",
    "1. The sum $u + v$ exists and is an element of $V$. ($V$ is closed under addition.)\n",
    "2. $cu$ is an element of $V$. ($V$ is closed under multiplication.)\n",
    "\n",
    "### Addition Axioms\n",
    "\n",
    "3. $u + v = v + u$ (commutative property)\n",
    "4. $u + (v + w) = (u + v) + w$ (associative property)\n",
    "5. There exists an element of $V$, called a **zero vector**, denoted $0$, such that $u+0 = u$\n",
    "6. For every element $u$ of $V$, there exists an element called a **negative** of $u$, denoted $-u$, such that $u + (-u) = 0$.\n",
    "\n",
    "### Scalar Multiplication Axioms\n",
    "\n",
    "7. $c(u+v) = cu + cv$\n",
    "8. $(c + d)u = cu + du$\n",
    "9.  $c(du) = (cd)u$\n",
    "10. $1u = u$\n",
    "\n"
   ]
  },
  {
   "cell_type": "markdown",
   "metadata": {},
   "source": [
    "### Examples\n",
    "\n",
    "Below are a list of the standard examples of vector spaces. Take a second to think about how they satisfy the list of axioms above. \n",
    "\n",
    "- The set of all length 3 vectors form a vector space. Notice that all of the addition and scalar axioms are exactly what we defined previously in the first notebook on vectors. \n",
    "- The symbol $\\mathbb R$ means the set of all real numbers, and $\\mathbb R ^n$ is the set of all length $n$ vectors whose entries are real numbers. $\\mathbb{R}^n$ is a vector space for all $n$.\n",
    "- The symbol $\\textrm{Mat}_{m \\times n}$ represents the set of all $m \\times n$ matrices. These also form a vector space. \n",
    "- Vector spaces don't have to necesarily involve matrices and vectors. The set of all 2nd degree polynomials also forms a vector space. Notice that if you have two polynomials $u = 5x^2+3x+1$ and $v = x^2 - x +2$ then $u+v$ is again a 2nd degree polynomial so we satisfy the closue axiom. The others are easily verified aswell. \n",
    "\n",
    "So now that we have some examples of vector spaces. How can we work with the elements in the vector space (=vectors)?"
   ]
  },
  {
   "cell_type": "markdown",
   "metadata": {},
   "source": [
    "----\n",
    "<a name=\"Basis_Vectors\"></a>\n",
    "## 1. Basis Vectors\n",
    "\n",
    "In order to begin answering the question posed above we need to review/define some concepts.\n",
    "\n",
    "Below is a really good video that discusses the concepts of Linear combinations, span, and basis vectors. "
   ]
  },
  {
   "cell_type": "code",
   "execution_count": null,
   "metadata": {},
   "outputs": [],
   "source": [
    "from IPython.display import YouTubeVideo\n",
    "YouTubeVideo(\"k7RM-ot2NWY\",width=640,height=360, cc_load_policy=True)"
   ]
  },
  {
   "cell_type": "markdown",
   "metadata": {},
   "source": [
    "&#9989; **<font color=red>QUESTION:</font>** Write three vectors that span $R^3$.\n"
   ]
  },
  {
   "cell_type": "markdown",
   "metadata": {},
   "source": [
    "Put your answer to the above question here"
   ]
  },
  {
   "cell_type": "markdown",
   "metadata": {},
   "source": [
    "From the above video two terms we want you to really understand are _**Span**_ and **_Linear Independence_**. Understanding these two concepts are fundamentally important in describing a basis.  Make sure you watch the video and try to answer the following questions as best you can using your own words.  "
   ]
  },
  {
   "cell_type": "markdown",
   "metadata": {},
   "source": [
    "&#9989; **<font color=red>QUESTION:</font>** Describe what the _**Span**_ of two vectors is.\n"
   ]
  },
  {
   "cell_type": "markdown",
   "metadata": {},
   "source": [
    "Put your answer to the above question here"
   ]
  },
  {
   "cell_type": "markdown",
   "metadata": {},
   "source": [
    "&#9989; **<font color=red>QUESTION:</font>** What is the span of two vectors that point in the same direction?\n"
   ]
  },
  {
   "cell_type": "markdown",
   "metadata": {},
   "source": [
    "Put your answer to the above question here"
   ]
  },
  {
   "cell_type": "markdown",
   "metadata": {},
   "source": [
    "&#9989; **<font color=red>QUESTION:</font>** Can the following vectors span $R^3$? Why?\n",
    "$$(1,-2,3),\\quad (-2,4,-6),\\quad (0,6,4)$$"
   ]
  },
  {
   "cell_type": "markdown",
   "metadata": {},
   "source": [
    "Put your answer to the above question here"
   ]
  },
  {
   "cell_type": "markdown",
   "metadata": {},
   "source": [
    "&#9989; **<font color=red>QUESTION:</font>** What is the **technical definition** of linear independence of vectors?"
   ]
  },
  {
   "cell_type": "markdown",
   "metadata": {},
   "source": [
    "Put your answer to the above question here"
   ]
  },
  {
   "cell_type": "markdown",
   "metadata": {},
   "source": [
    "**Definition.** A **_Basis_** for a vector space $V$ is any set of vectors in $V$ that are linearly independent and span the vector space $V$."
   ]
  },
  {
   "cell_type": "markdown",
   "metadata": {},
   "source": [
    "----\n",
    "<a name=\"Examples\"></a>\n",
    "## 3. Lots of Things Can Be Vector Spaces"
   ]
  },
  {
   "cell_type": "code",
   "execution_count": null,
   "metadata": {},
   "outputs": [],
   "source": [
    "from IPython.display import YouTubeVideo\n",
    "YouTubeVideo(\"YmGWj9RrNMI\",width=640,height=360, cc_load_policy=True)"
   ]
  },
  {
   "cell_type": "markdown",
   "metadata": {},
   "source": [
    "Consider the following two matrices $A\\in \\textrm{Mat}_{3x3}$ and $B\\in \\textrm{Mat}_{3x3}$, which consist of real numbers:"
   ]
  },
  {
   "cell_type": "code",
   "execution_count": null,
   "metadata": {},
   "outputs": [],
   "source": [
    "%matplotlib inline\n",
    "import matplotlib.pylab as plt\n",
    "import numpy as np\n",
    "import sympy as sym\n",
    "sym.init_printing()\n",
    "\n",
    "a11,a12,a13,a21,a22,a23,a31,a32,a33 = sym.symbols('a_{11},a_{12}, a_{13},a_{21},a_{22},a_{23},a_{31},a_{32},a_{33}', negative=False)\n",
    "A = sym.Matrix([[a11,a12,a13],[a21,a22,a23],[a31,a32,a33]])\n",
    "A"
   ]
  },
  {
   "cell_type": "code",
   "execution_count": null,
   "metadata": {},
   "outputs": [],
   "source": [
    "b11,b12,b13,b21,b22,b23,b31,b32,b33 = sym.symbols('b_{11},b_{12}, b_{13},b_{21},b_{22},b_{23},b_{31},b_{32},b_{33}', negative=False)\n",
    "B = sym.Matrix([[b11,b12,b13],[b21,b22,b23],[b31,b32,b33]])\n",
    "B"
   ]
  },
  {
   "cell_type": "markdown",
   "metadata": {},
   "source": [
    "&#9989; **<font color=red>QUESTION:</font>** What properties do we need to show all $3\\times 3$ matrices of real numbers form a vector space. "
   ]
  },
  {
   "cell_type": "markdown",
   "metadata": {},
   "source": [
    "Put your answer here"
   ]
  },
  {
   "cell_type": "markdown",
   "metadata": {},
   "source": [
    "&#9989; **<font color=red>DO THIS:</font>** Demonstrate a few of these properties using **sympy**."
   ]
  },
  {
   "cell_type": "code",
   "execution_count": null,
   "metadata": {},
   "outputs": [],
   "source": [
    "#Put your answer here. "
   ]
  },
  {
   "cell_type": "markdown",
   "metadata": {},
   "source": [
    "&#9989; **<font color=red>QUESTION (assignment specific):</font>** Determine whether $A$ is a linear combination of $B$, $C$, and $D$?\n",
    "\n",
    "$$ A=\n",
    "\\left[\n",
    "\\begin{matrix}\n",
    "    7 & 6 \\\\\n",
    "    -5 & -3 \n",
    "\\end{matrix}\n",
    "\\right],\n",
    "B=\n",
    "\\left[\n",
    "\\begin{matrix}\n",
    "    3 & 0 \\\\\n",
    "    1 & 1 \n",
    "\\end{matrix}\n",
    "\\right],\n",
    "C=\n",
    "\\left[\n",
    "\\begin{matrix}\n",
    "    0 & 1 \\\\\n",
    "    3 & 4 \n",
    "\\end{matrix}\n",
    "\\right],\n",
    "D=\n",
    "\\left[\n",
    "\\begin{matrix}\n",
    "    1 & 2 \\\\\n",
    "    0 & 1 \n",
    "\\end{matrix}\n",
    "\\right]\n",
    "$$\n",
    "\n",
    "**Hint.** This is equivalent to solving a certain system of equations. Use the definition of linear combination to get started."
   ]
  },
  {
   "cell_type": "code",
   "execution_count": null,
   "metadata": {},
   "outputs": [],
   "source": [
    "#Put your answer to the above question here"
   ]
  },
  {
   "cell_type": "markdown",
   "metadata": {},
   "source": [
    "&#9989; **<font color=red>QUESTION:</font>**  Write a basis for all $2\\times 3$ matrices."
   ]
  },
  {
   "cell_type": "markdown",
   "metadata": {},
   "source": [
    "Put your answer to the above question here."
   ]
  },
  {
   "cell_type": "markdown",
   "metadata": {},
   "source": [
    "&#9989; **<font color=red>QUESTION:</font>**  How many elements are in your basis above?"
   ]
  },
  {
   "cell_type": "markdown",
   "metadata": {},
   "source": [
    "Put your answer to the above question here."
   ]
  },
  {
   "cell_type": "markdown",
   "metadata": {},
   "source": [
    "**Definition/Theorem.** Any basis for a vector space $V$ will have the same number of elements. The number of elements in a basis for a vector space $V$ is called the dimension of $V$. "
   ]
  },
  {
   "cell_type": "markdown",
   "metadata": {},
   "source": [
    "----\n",
    "<a name=\"subspaces\"> </a>\n",
    "## 4. Subspaces\n",
    "\n",
    "Fundamentally vector spaces are just sets that we embue with the additional structure of addition and scalar multiplication. In light of the fact that they are both sets we have the following definition. \n",
    "\n",
    "**Definition** Let $V$ be a vector space. If $W$ is a subset of $V$ and a vector space we say that $W$ is a subspace of $V$. \n",
    "\n",
    "Think about $V = \\mathbb R ^3$. There are (infinitely) many different planes (2-dimensional vector spaces) that sit inside of $V$. For example the $xy$-plane, $xz$-plane, and $yz$-plane are three examples of 2-dimensional subspaces of $\\mathbb{R}^3$.\n",
    "\n",
    "The set of vectors $$W = \\textrm{span}\\left(\\begin{bmatrix} 1 \\\\ 0 \\\\1  \\end{bmatrix}, \\begin{bmatrix} -1 \\\\ 1 \\\\ 0 \\end{bmatrix} \\right)$$ is a fourth example of a 2-dimensional subspace of $\\mathbb{R}^3$. (Notice there are two basis vectors of length 3 in the definition of $W$.)\n",
    "\n",
    "**Theorem** If $W$ is a subset of a vector space $V$ then $W$ is a subspace of $V$ if\n",
    "\n",
    "1. The vectors in $W$ are closed under addition. This means for any $w_1$ and $w_2$ in $W$ we have that $w_1+w_2$ is in $W$.\n",
    "1. The vectors in $W$ are closed under scalar multiplication. This means for any $w$ in $W$ and $c$ in $\\mathbb R$ we have that $cw$ is in $W$.\n",
    "1. $W$ contains the zero vector."
   ]
  },
  {
   "cell_type": "markdown",
   "metadata": {},
   "source": [
    "----\n",
    "<a name=\"Orthogonal_Complement\"></a>\n",
    "## 5. Orthogonal Complement\n",
    "\n",
    "**Definition**: A vector $u$ is **orthogonal to a subspace** $W$ of $R^n$ if $u$ is orthogonal to any $w$ in $W$ ($u\\cdot w=0$ for all $w\\in W$).\n",
    "\n",
    "For example, consider the following figure, if we consider the plane to be a subspace then the perpendicular vector comming out of the plane is is orthoginal to any vector in the plane:\n",
    "\n",
    "<img alt=\"Image of a 2D plane with a vector pointing directly out of the surface.\" src=\"https://lh5.googleusercontent.com/KC1bkJgC9ihevnOCqeMn_efEdkvgcx5TeBkEVYniwo7T_KxmBu76irZKluAj5PNor9SWdCg4RMS6BZDpNSJOmmz6l6cY0mEc5pq6iR9Qu8AzvWb12lgOO-YUBqiu=w416\">\n",
    "\n",
    "**Definition**: The **orthogonal complement** of $W$ is the set of all vectors that are orthogonal to $W$. The set is denoted as $W_{\\bot}$. \n",
    "\n",
    "For example, if we take $W$ to be the $xy$-plane in $\\mathbb R ^3$ then the $z$-axis is its orthogonal complement."
   ]
  },
  {
   "cell_type": "markdown",
   "metadata": {},
   "source": [
    "&#9989; **<font color=red>QUESTION:</font>** Is $W_\\bot$ a subspace of $R^n$? Justify your answer briefly."
   ]
  },
  {
   "cell_type": "markdown",
   "metadata": {},
   "source": [
    "Put your answer to the above question here"
   ]
  },
  {
   "cell_type": "markdown",
   "metadata": {},
   "source": [
    "&#9989; **<font color=red>QUESTION:</font>** What are the vectors in both $W$ and $W_\\bot$?"
   ]
  },
  {
   "cell_type": "markdown",
   "metadata": {},
   "source": [
    "Put your answer to the above question here"
   ]
  },
  {
   "cell_type": "markdown",
   "metadata": {},
   "source": [
    "---\n",
    "<a name=Assignment-wrap-up></a>\n",
    "## 6. Assignment wrap up\n",
    "\n",
    "\n",
    "Please fill out the form that appears when you run the code below.  **You must completely fill this out in order to receive credit for the assignment!** If you cannont load the form below please try logging in to [spartan365.msu.edu](http://spartan365.msu.edu/) and try running it again, or simply use the direct link provided below. \n",
    "\n",
    "[Direct Link to Microsoft Form](https://forms.office.com/r/n0PEF9xt59)\n",
    "\n",
    "\n"
   ]
  },
  {
   "cell_type": "code",
   "execution_count": null,
   "metadata": {},
   "outputs": [],
   "source": []
  },
  {
   "cell_type": "code",
   "execution_count": null,
   "metadata": {},
   "outputs": [],
   "source": [
    "from IPython.display import HTML\n",
    "HTML(\n",
    "\"\"\"\n",
    "<iframe width=\"640px\" height= \"480px\" src= \"https://forms.office.com/Pages/ResponsePage.aspx?id=MHEXIi9k2UGSEXQjetVofSS1ePbivlBPgYEBiz_zsf1UOTk3QU5VVEo1SVpKWlpaWlU4WTlDUlQwWi4u&embed=true\" frameborder= \"0\" marginwidth= \"0\" marginheight= \"0\" style= \"border: none; max-width:100%; max-height:100vh\" allowfullscreen webkitallowfullscreen mozallowfullscreen msallowfullscreen> </iframe>\n",
    "\"\"\"\n",
    ")"
   ]
  },
  {
   "cell_type": "markdown",
   "metadata": {},
   "source": [
    "---------\n",
    "### Congratulations, we're done!\n",
    "\n",
    "###EndPreClass###"
   ]
  },
  {
   "cell_type": "markdown",
   "metadata": {},
   "source": [
    "---\n",
    "Written by Dr. Dirk Colbry, and Dr. Matthew Mills Michigan State University\n",
    "<a rel=\"license\" href=\"http://creativecommons.org/licenses/by-nc/4.0/\"><img alt=\"Creative Commons License\" style=\"border-width:0\" src=\"https://i.creativecommons.org/l/by-nc/4.0/88x31.png\" /></a><br />This work is licensed under a <a rel=\"license\" href=\"http://creativecommons.org/licenses/by-nc/4.0/\">Creative Commons Attribution-NonCommercial 4.0 International License</a>.\n",
    "\n",
    "----"
   ]
  },
  {
   "cell_type": "markdown",
   "metadata": {},
   "source": [
    "\n"
   ]
  }
 ],
 "metadata": {
  "anaconda-cloud": {},
  "kernelspec": {
   "display_name": "Python 3",
   "language": "python",
   "name": "python3"
  },
  "language_info": {
   "codemirror_mode": {
    "name": "ipython",
    "version": 3
   },
   "file_extension": ".py",
   "mimetype": "text/x-python",
   "name": "python",
   "nbconvert_exporter": "python",
   "pygments_lexer": "ipython3",
   "version": "3.7.6"
  }
 },
 "nbformat": 4,
 "nbformat_minor": 4
}
