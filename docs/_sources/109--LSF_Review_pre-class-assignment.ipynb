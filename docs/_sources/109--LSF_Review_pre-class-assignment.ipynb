{
 "cells": [
  {
   "cell_type": "markdown",
   "metadata": {},
   "source": []
  },
  {
   "cell_type": "markdown",
   "metadata": {},
   "source": [
    "# 109 Pre-Class Assignment: Least Squares Fit (Regression) and Review"
   ]
  },
  {
   "cell_type": "markdown",
   "metadata": {},
   "source": [
    "### Readings for this topic (Recommended in bold)\n",
    " * [Heffron Chapter 3 pg 287-292](http://joshua.smcvt.edu/linearalgebra/book.pdf)\n",
    " * [**_Boyd Chapter 13 pg 225-239_**](http://vmls-book.stanford.edu/vmls.pdf)\n"
   ]
  },
  {
   "cell_type": "markdown",
   "metadata": {},
   "source": [
    "\n",
    "# Goals for today's pre-class assignment \n",
    "\n",
    "</p>\n",
    "\n",
    "1. [Least Squares Fit](#Least_Squares_Fit)\n",
    "1. [Linear Regression](#Linear_Regression)\n",
    "1. [One-to-oneand Inverse transform](#One-to-one_and_Inverse_transform)\n",
    "1. [Inverse of a Matrix](#Inverse_of_a_Matrix)\n",
    "1. [Review](#review)\n",
    "    1. [Linear Systems](#Linear-Systems)\n",
    "    2. [Under Defined Systems](#Under-Defined-Systems)\n",
    "    3. [Invertible Systems](#Invertible-Systems)\n",
    "    4. [Overdefined systems](#Overdefined-systems)\n",
    "    5. [System Properties](#System-Properties)\n",
    "6. [Assignment wrap up](#Assignment-wrap-up)"
   ]
  },
  {
   "cell_type": "markdown",
   "metadata": {},
   "source": [
    "----\n",
    "<a name=\"Least_Squares_Fit\"></a>\n",
    "# 1. Least Squares Fit\n",
    "\n",
    "**Review Chapters Chapter 13 pg 225-239 of the Boyd textbook.**\n",
    "\n",
    "In this first part of this course, we try to solve the system of linear equations $Ax=b$ with an $m\\times n$ matrix $A$ and a column vector $b$. \n",
    "\n",
    "There are three possible outcomes: an unique solution, no solution, and infinite many solutions. \n",
    "(Review the material on this part if you are no familiar with when the three types of outcomes happen.)\n",
    "\n",
    "When $m<n$, we call the matrix $A$ underdeterminated, because we can not have an unique solution for it. \n",
    "When $m>n$, we call the matrix $A$ overdeterminated, becasue we may not have a solution with high probability. \n",
    "\n",
    "However, if we still need to find a best $x$, even when there is no solution or infinite many solutions we use a technique called least squares fit (LSF). Least squares fit find $x$ such that $\\|Ax-b\\|$ is the smallest (i.e. we try to minimize the estimation error)."
   ]
  },
  {
   "cell_type": "markdown",
   "metadata": {},
   "source": [
    "+ When there is no solution, we want to find $x$ such that $Ax-b$ is small (here, we want $\\|Ax-b\\|$ to be small). \n",
    "+ If the null space of $A$ is just $\\{0\\}$, we can find an unique $x$ to obtain the smallest $\\|Ax-b\\|$.\n",
    "    + If there is a unique solution $x^*$ for $Ax=b$, then $x^*$ is the optimal $x$ to obtain the smallest $\\|Ax-b\\|$, which is 0.\n",
    "    + Because the null space of $A$ is just $\\{0\\}$, you can not have infinite many solutions for $Ax=b$.\n",
    "+ If the null space of $A$ is not just $\\{0\\}$, we know that we can always add a nonzero point $x_0$ in the null space of $A$ to a best $x^*$, and $\\|A(x^*+x_0)-b\\|=\\|Ax^*-b\\|$. Therefore, when we have multiple best solutions, we choose to find the $x$ in the rowspace of $A$, and this is unique. "
   ]
  },
  {
   "cell_type": "markdown",
   "metadata": {},
   "source": [
    "**<font color=red>QUESTION 1:</font>** Let $$A=\\begin{bmatrix}1\\\\2\\end{bmatrix},\\quad b=\\begin{bmatrix}1.5 \\\\ 2\\end{bmatrix}$$\n",
    "Find the best $x$ such that $\\|Ax-b\\|$ has the smallest value."
   ]
  },
  {
   "cell_type": "markdown",
   "metadata": {},
   "source": [
    "Put your answer to the above question here."
   ]
  },
  {
   "cell_type": "markdown",
   "metadata": {},
   "source": [
    "**<font color=red>QUESTION 2:</font>** Compute $(A^\\top A)^{-1}A^\\top b$."
   ]
  },
  {
   "cell_type": "markdown",
   "metadata": {},
   "source": [
    "Put your answer to the above question here."
   ]
  },
  {
   "cell_type": "markdown",
   "metadata": {},
   "source": [
    "----\n",
    "<a name=\"Linear_Regression\"></a>\n",
    "# 2. Linear Regression\n",
    "\n",
    "Watch the video for using Least Squares to do linear regression."
   ]
  },
  {
   "cell_type": "code",
   "execution_count": null,
   "metadata": {},
   "outputs": [],
   "source": [
    "from IPython.display import YouTubeVideo\n",
    "YouTubeVideo(\"Lx6CfgKVIuE\",width=640,height=360, cc_load_policy=True)"
   ]
  },
  {
   "cell_type": "markdown",
   "metadata": {},
   "source": [
    "**<font color=red>QUESTION 3:</font>** How to tell it is a good fit or a bad one?"
   ]
  },
  {
   "cell_type": "markdown",
   "metadata": {},
   "source": [
    "Put your answer to the above question here."
   ]
  },
  {
   "cell_type": "markdown",
   "metadata": {},
   "source": [
    "----\n",
    "<a name=\"One-to-one_and_Inverse_transform\"></a>\n",
    "# 3. One-to-one and Inverse transform\n",
    "\n",
    "Read Section 4.9 of the textbook if you are not familiar with this part. \n",
    "\n",
    "**Definition:** A transformation $T:U\\mapsto V$ is said to be *one-to-one* if each element in the range is the image of just one element in the domain. That is, for two elements ($x$ and $y$) in $U$. $T(x)=T(y)$ happens only when $x=y$.\n",
    "\n",
    "**Theorem:** Let $T:U\\mapsto V$ be a one-to-one linear transformation. If $\\{u_1,\\dots,u_n\\}$ is linearly independent in $U$, then $\\{T(u_1),\\dots,T(u_n)\\}$ is linearly independent in $V$. \n",
    "\n",
    "**Definition:** A linear transformation $T:U\\mapsto V$ is said to be *invertible* if there exists a transformation $S:V\\mapsto U$, such that \n",
    "$$S(T(u))=u,\\qquad T(S(v))=v,$$\n",
    "for any $v$ in $V$ and any $u$ in $U$."
   ]
  },
  {
   "cell_type": "markdown",
   "metadata": {},
   "source": [
    "**<font color=red>QUESTION 4:</font>** If linear transformation $T:U\\mapsto V$ is invertible, and the dimension of $U$ is 2, what is the dimension of $V$? Why?"
   ]
  },
  {
   "cell_type": "markdown",
   "metadata": {},
   "source": [
    "Put your answer to the above question here."
   ]
  },
  {
   "cell_type": "markdown",
   "metadata": {},
   "source": [
    "----\n",
    "<a name=\"Inverse_of_a_Matrix\"></a>\n",
    "# 4. Inverse of a Matrix\n",
    "\n",
    "+ Recall the four fundamental subspaces of a $m\\times n$ matrix $A$\n",
    "    + The rowspace and nullspace of $A$ in $R^n$\n",
    "    + The columnspace and the nullspace of $A^\\top$ in $R^m$"
   ]
  },
  {
   "cell_type": "markdown",
   "metadata": {},
   "source": [
    "+ The two-sided inverse gives us the following\n",
    "$$ {A}{A}^{-1}=I={A}^{-1}{A} $$\n",
    "    + For this we need $r = m = n$, here $r$ is the rank of the matrix."
   ]
  },
  {
   "cell_type": "markdown",
   "metadata": {},
   "source": [
    "+ For a left-inverse, we have the following\n",
    "    + Full column rank, with $r = n \\leq m$ (but possibly more rows)\n",
    "    + The nullspace contains just the zero vector (columns are independent)\n",
    "    + The rows might not all be independent\n",
    "    + We thus have either no or only a single solution to $Ax=b$.\n",
    "    + $A^\\top $ will now also have full row rank\n",
    "    + From $(A^\\top A)^{-1}A^\\top A = I$ follows the fact that $(A^\\top A)^{-1}A^\\top$ is a left-sided inverse\n",
    "    + Note that $(A^\\top A)^{-1}A^\\top$ is a $n\\times m$ matrix and $A$ is of size $m\\times n$, theire mulitiplication $(A^\\top A)^{-1}A^\\top A$ results in a $n\\times n$ identity matrix\n",
    "    + The $A(A^\\top A)^{-1}A^\\top$ is a $m\\times m$ matrix. BUT $A(A^\\top A)^{-1}A^\\top\\neq I$ if $m\\neq n$. The matrix $A(A^\\top A)^{-1}A^\\top$ is the projection matrix onto the column space of $A$. "
   ]
  },
  {
   "cell_type": "markdown",
   "metadata": {},
   "source": [
    "**<font color=red>QUESTION 5:</font>** What is the projection matrix that projects any vector onto the subspace spanned by $[1,2]^\\top$. (What matrix will give the same result as projecting any point onto the vector $[1,2]^\\top$.)"
   ]
  },
  {
   "cell_type": "markdown",
   "metadata": {},
   "source": [
    "Put your answer to the above question here."
   ]
  },
  {
   "cell_type": "markdown",
   "metadata": {},
   "source": [
    "**<font color=red>QUESTION 6:</font>** If $m=n$, is the left inverse the same as the inverse?"
   ]
  },
  {
   "cell_type": "markdown",
   "metadata": {},
   "source": [
    "Put your answer to the above question here."
   ]
  },
  {
   "cell_type": "markdown",
   "metadata": {},
   "source": [
    "**Theorem:** For a matrix $A$ with $r=n<m$, the columnspace of $A$ has dimension $r(=n)$. The linear transfrom $A: R^n\\mapsto R^m$ is one-to-one. In addition, the linear transformation $A$ from $R^n$ to the columnspace of $A$ is one-to-one and onto (it means that for any element in the columnspace of $A$, we can find $x$ in $R^n$ such that it equals $Ax$.) \n",
    "Then the left inverse of $A$ is a one-to-one mapping from the columnspace of $A$ to $R^n$, and it can be considered as an inverse transform of $A$. "
   ]
  },
  {
   "cell_type": "markdown",
   "metadata": {},
   "source": [
    "----\n",
    "<a name=review></a>\n",
    "# 5. Review\n",
    "Everything below here is a review."
   ]
  },
  {
   "cell_type": "markdown",
   "metadata": {},
   "source": [
    "<a name=Linear-Systems></a>\n",
    "## A. Linear Systems\n",
    "\n",
    "In this course, we learned how to represent linear systems which basically consists of equations added sums of multiple numbers in the form:\n",
    "\n",
    "$$b = a_1x_1+a_2x_2+a_3x_3 + \\ldots a_mx_m$$\n",
    "\n",
    "Systems of linear equations are multiple equations of the above form with basically the same unknowns but different values of $a$ and $b$. \n",
    "\n",
    "$$b_1 = a_{11}x_1+a_{12}x_2+a_{13}x_3 + \\ldots a_{1n}x_n$$\n",
    "$$b_2 = a_{21}x_1+a_{22}x_2+a_{23}x_3 + \\ldots a_{2n}x_n$$\n",
    "$$b_3 = a_{31}x_1+a_{32}x_2+a_{33}x_3 + \\ldots a_{3n}x_n$$\n",
    "$$\\vdots$$\n",
    "$$b_m = a_{m1}x_1+a_{m2}x_2+a_{m3}x_3 + \\ldots a_{mn}x_n$$\n",
    "\n",
    "The above equations can be represented in matrix form as follows:\n",
    "\n",
    "$$ \n",
    "\\left[ \n",
    "\\begin{matrix}\n",
    "    b_1 \\\\ \n",
    "    b_2 \\\\\n",
    "    b_3 \\\\\n",
    "    \\vdots \\\\\n",
    "    b_m\n",
    " \\end{matrix}\n",
    "\\right] \n",
    "=\n",
    "\\left[ \n",
    "\\begin{matrix}\n",
    " a_{11} & a_{12} & a_{13} &   & a_{1n} \\\\ \n",
    " a_{21} & a_{22} & a_{23} &  \\ldots & a_{2n} \\\\ \n",
    "  a_{31} & a_{32} & a_{33} &   & a_{3n} \\\\ \n",
    "  & \\vdots &   & \\ddots & \\vdots \\\\ \n",
    " a_{m1} & a_{m2} & a_{m3} &   & a_{mn} \n",
    "\\end{matrix}\n",
    "\\right] \n",
    "\\left[ \n",
    "\\begin{matrix}\n",
    "    x_1 \\\\ \n",
    "    x_2 \\\\\n",
    "    x_3 \\\\\n",
    "    \\vdots \\\\\n",
    "    x_n\n",
    "\\end{matrix}\n",
    "\\right] \n",
    "$$\n",
    "\n",
    "Which can also be represented in \"augmented\" form as follows:\n",
    "\n",
    "$$ \n",
    "\\left[ \n",
    "\\begin{matrix}\n",
    " a_{11} & a_{12} & a_{13} &   & a_{1n} \\\\ \n",
    " a_{21} & a_{22} & a_{23} &  \\ldots & a_{2n} \\\\ \n",
    "  a_{31} & a_{32} & a_{33} &   & a_{3n} \\\\ \n",
    "  & \\vdots &   & \\ddots & \\vdots \\\\ \n",
    " a_{m1} & a_{m2} & a_{m3} &   & a_{mn} \n",
    "\\end{matrix}\n",
    " \\, \\middle\\vert \\,\n",
    "\\begin{matrix}\n",
    "    b_1 \\\\ \n",
    "    b_2 \\\\\n",
    "    b_3 \\\\\n",
    "    \\vdots \\\\\n",
    "    b_m\n",
    "\\end{matrix}\n",
    "\\right] \n",
    "$$"
   ]
  },
  {
   "cell_type": "markdown",
   "metadata": {},
   "source": [
    "The above systems can be modified into equivelent systems using combinations of the following operators. \n",
    "\n",
    "1. Multiply any row of a matrix by a constant\n",
    "2. Add the contents of one row by another row.\n",
    "3. Swap any two rows. \n",
    "\n",
    "Often the 1st and 2nd operator can be combined where a row is multipled by a constanet and then added (or subtracted) from another row. "
   ]
  },
  {
   "cell_type": "markdown",
   "metadata": {},
   "source": [
    "&#9989; **<font color=red>QUESTION:</font>**  Consider the matrix $A= \\left[ \n",
    "\\begin{matrix} 1 & 3 \\\\ 0 & 2 \\end{matrix}\\right]$. What operators can you use to put the above equation into it's reduced row echelon form? "
   ]
  },
  {
   "cell_type": "markdown",
   "metadata": {},
   "source": [
    "Put your answer to the above question here."
   ]
  },
  {
   "cell_type": "markdown",
   "metadata": {},
   "source": [
    "---\n",
    "<a name=Under-Defined-Systems></a>\n",
    "## B. Under Defined Systems\n",
    "\n",
    "\n",
    "\n",
    "\n",
    "An under-defined system is one that is non-invertible and the number of unknowns is more than the number of knowns. These system often have infinite numbers of possible solutions and solving them involves finding a set of simplified equations that represent all solutions. \n",
    "\n",
    "Often the simplest way to solve an under-defined systems of equations is to extract the solution directly from the reduced row echelon form.  "
   ]
  },
  {
   "cell_type": "markdown",
   "metadata": {},
   "source": [
    "&#9989; **<font color=red>QUESTION:</font>**  What is the reduced row echelon form of the matrix $A= \\left[ \n",
    "\\begin{matrix} 1 & 3 \\\\ 2 & 6 \\end{matrix}\\right]$."
   ]
  },
  {
   "cell_type": "code",
   "execution_count": null,
   "metadata": {},
   "outputs": [],
   "source": []
  },
  {
   "cell_type": "markdown",
   "metadata": {},
   "source": [
    "&#9989; **<font color=red>QUESTION:</font>**  What are the solutions to the above systems of equations if $b= \\left[ \n",
    "\\begin{matrix} 10\\\\ 3 \\end{matrix}\\right]$?"
   ]
  },
  {
   "cell_type": "code",
   "execution_count": null,
   "metadata": {},
   "outputs": [],
   "source": []
  },
  {
   "cell_type": "markdown",
   "metadata": {},
   "source": [
    "&#9989; **<font color=red>QUESTION: (assignment specific)</font>**   Write the set of all possible solutions to the below system of linear equations as the sum of two vectors.\n",
    "\n",
    "$$ x + 3y -z = -3 $$\n",
    "$$ 2x -3y + 4z = 12$$\n",
    "$$ 4x + 3y + 2z = 6$$\n",
    "\n"
   ]
  },
  {
   "cell_type": "code",
   "execution_count": null,
   "metadata": {},
   "outputs": [],
   "source": [
    "##your work"
   ]
  },
  {
   "cell_type": "markdown",
   "metadata": {},
   "source": [
    "Latex your vectors here."
   ]
  },
  {
   "cell_type": "markdown",
   "metadata": {},
   "source": [
    "\n",
    "---\n",
    "<a name=Invertible-Systems></a>\n",
    "## C. Invertible Systems\n",
    "\n",
    "An invertible system has a square $A$ that is invertible such that all the following properties are true:\n",
    "\n",
    "1. $ A^{-1}A = AA^{-1} = I $\n",
    "1. $(A^{-1})^{-1} = A$\n",
    "2. $(cA)^{-1} = \\frac{1}{c}A^{-1}$\n",
    "3. $(AB)^{-1} = B^{-1}A^{-1}$\n",
    "4. $(A^n)^{-1} = (A^{-1})^n$\n",
    "1. $(A^\\top)^{-1} = (A^{-1})^\\top$  here $A^\\top$ is the transpose of the matrix $A$."
   ]
  },
  {
   "cell_type": "markdown",
   "metadata": {},
   "source": [
    "Consider the following system of equations:\n",
    "\n",
    "$$\\begin{bmatrix}5&-2&2 \\\\ 4 & -3 &4 \\\\ 4& -6 &7 \\end{bmatrix}\\begin{bmatrix}x_1\\\\x_2\\\\x_3\\end{bmatrix}=\\begin{bmatrix}1\\\\2\\\\3\\end{bmatrix}$$\n",
    "\n",
    "\n"
   ]
  },
  {
   "cell_type": "code",
   "execution_count": null,
   "metadata": {},
   "outputs": [],
   "source": [
    "import numpy as np\n",
    "import sympy as sym"
   ]
  },
  {
   "cell_type": "code",
   "execution_count": null,
   "metadata": {},
   "outputs": [],
   "source": [
    "A = np.matrix([[5, -2, 2], [4, -3, 4], [4,-6,7]])\n",
    "b = np.matrix([[1],[2],[3]])\n",
    "display(sym.Matrix(A))\n",
    "display(sym.Matrix(b))"
   ]
  },
  {
   "cell_type": "markdown",
   "metadata": {},
   "source": [
    "&#9989; **<font color=red>DO THIS:</font>** Solve the system of equations $Ax=b$."
   ]
  },
  {
   "cell_type": "code",
   "execution_count": null,
   "metadata": {},
   "outputs": [],
   "source": [
    "#work"
   ]
  },
  {
   "cell_type": "markdown",
   "metadata": {},
   "source": [
    "\n",
    "---\n",
    "<a name=Overdefined-systems></a>\n",
    "## D. Overdefined systems\n",
    "\n",
    "We also learned solutions to overdefined systems (more equations than unknowns) often do not exist. However, we can estimate a solution using Least Squares fit.  \n",
    "\n",
    "Consider the following system of equations:\n",
    "\n",
    "$$\\begin{bmatrix}5&-2&2 \\\\ 4 & -3 &4 \\\\ 4& -6 &7 \\\\ 6 & 3 & -3\\end{bmatrix}\\begin{bmatrix}x_1\\\\x_2\\\\x_3\\end{bmatrix}=\\begin{bmatrix}1\\\\2\\\\3\\\\-1\\end{bmatrix}$$\n",
    "\n",
    "&#9989; **<font color=red>DO THIS:</font>** Solve the above using LSF. \n",
    "\n"
   ]
  },
  {
   "cell_type": "code",
   "execution_count": null,
   "metadata": {},
   "outputs": [],
   "source": [
    "#Put your answer to the above question here."
   ]
  },
  {
   "cell_type": "code",
   "execution_count": null,
   "metadata": {},
   "outputs": [],
   "source": [
    "\n",
    "\n",
    "---\n",
    "<a name=System-Properties></a>\n",
    "## 5. System Properties\n",
    "\n",
    "\n",
    "\n",
    "The above methods for solving systems of linear equations is only part of the story. We also explored ways to understand properties of linear systems.  Properties such as rank, determinate, eigenvectors and eigenvalues all provide insight into the matrices that are at the core of the systems.  \n",
    "\n",
    "One problem is that as systems get really large the computational cost of finding a solution can also become large and intractable (i.e. difficult to solve).  We use our understanding of matrix properties and \"decompositions\" to transform systems into simpler forms so that solving the problem also becomes simple. \n",
    "\n",
    "In class tomorrow we will review all of these concepts by looking at methods to solve linear systmes of the form $Ax=b$ using $QR$ decomposition.  When we solve for $Ax=b$ with QR decomposition. We have the following steps:\n",
    "+ Find the $QR$ decomposition of $A$ such that:\n",
    "    + $R$ is square upper-triangular matrix\n",
    "    + The Columns of $Q$ are orthonormal\n",
    "+ From $QRx=b$, we obtain $Rx =Q^\\top b$ \n",
    "+ Solve for $x$ using back substitution.\n",
    "\n"
   ]
  },
  {
   "cell_type": "markdown",
   "metadata": {},
   "source": [
    "&#9989; **<font color=red>DO THIS:</font>** Search for a video describing the $QR$ decomposition of a matrix. Try to pick a video that you think does a good job in a short amount of time.  "
   ]
  },
  {
   "cell_type": "code",
   "execution_count": null,
   "metadata": {},
   "outputs": [],
   "source": [
    "Put a link to the video you found here."
   ]
  },
  {
   "cell_type": "code",
   "execution_count": null,
   "metadata": {},
   "outputs": [],
   "source": []
  },
  {
   "cell_type": "markdown",
   "metadata": {},
   "source": [
    "---\n",
    "<a name=Assignment-wrap-up></a>\n",
    "## 6. Assignment wrap up\n",
    "\n",
    "\n",
    "Please fill out the form that appears when you run the code below.  **You must completely fill this out in order to receive credit for the assignment!** If you cannont load the form below please try logging in to [spartan365.msu.edu](http://spartan365.msu.edu/) and try running it again, or simply use the direct link provided below. \n",
    "\n",
    "[Direct Link to Microsoft Form](https://forms.office.com/r/n0PEF9xt59)"
   ]
  },
  {
   "cell_type": "markdown",
   "metadata": {},
   "source": [
    "&#9989; **<font color=red>QUESTION: (assignment specific)</font>**   Write the set of all possible solutions to the below system of linear equations as the sum of two vectors.\n",
    "\n",
    "$$ x + 3y -z = -3 $$\n",
    "$$ 2x -3y + 4z = 12$$\n",
    "$$ 4x + 3y + 2z = 6$$"
   ]
  },
  {
   "cell_type": "code",
   "execution_count": null,
   "metadata": {},
   "outputs": [],
   "source": [
    "from IPython.display import HTML\n",
    "HTML(\n",
    "\"\"\"\n",
    "<iframe width=\"640px\" height= \"480px\" src= \"https://forms.office.com/Pages/ResponsePage.aspx?id=MHEXIi9k2UGSEXQjetVofSS1ePbivlBPgYEBiz_zsf1UOTk3QU5VVEo1SVpKWlpaWlU4WTlDUlQwWi4u&embed=true\" frameborder= \"0\" marginwidth= \"0\" marginheight= \"0\" style= \"border: none; max-width:100%; max-height:100vh\" allowfullscreen webkitallowfullscreen mozallowfullscreen msallowfullscreen> </iframe>\n",
    "\"\"\"\n",
    ")"
   ]
  },
  {
   "cell_type": "markdown",
   "metadata": {},
   "source": [
    "\n"
   ]
  }
 ],
 "metadata": {
  "anaconda-cloud": {},
  "kernelspec": {
   "display_name": "Python 3",
   "language": "python",
   "name": "python3"
  },
  "language_info": {
   "codemirror_mode": {
    "name": "ipython",
    "version": 3
   },
   "file_extension": ".py",
   "mimetype": "text/x-python",
   "name": "python",
   "nbconvert_exporter": "python",
   "pygments_lexer": "ipython3",
   "version": "3.7.6"
  }
 },
 "nbformat": 4,
 "nbformat_minor": 1
}
